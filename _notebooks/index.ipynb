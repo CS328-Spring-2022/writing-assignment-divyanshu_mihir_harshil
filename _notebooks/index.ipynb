{
  "cells": [
    {
      "cell_type": "markdown",
      "metadata": {
        "id": "_eAGZifHBFMk"
      },
      "source": [
        "<h1><center>Insight into CO2 Emissions</center></h1>\n",
        "<h4><center>\n",
        "<a style=\"text-decoration:none\" href=\"https://author1.github.io/\">Harshil Purohit</a>, IIT Gandhinagar, <a style=\"text-decoration:none\" href=\"mailto:harshil.p>@iitgn.ac.in\">harshil.p@iitgn.ac.in</a>\n",
        "<br><br>\n",
        "<a style=\"text-decoration:none\" href=\"https://author2.github.io/\">Mihir Chauhan</a>, IIT Gandhinagar, <a style=\"text-decoration:none\" href=\"mailto:mihir.hc@iitgn.ac.in\">mihir.hc@iitgn.ac.in</a>\n",
        "<br><br>\n",
        "<a style=\"text-decoration:none\" href=\"https://divyanshu0x16.github.io/\">Divyanshu Meena</a>, IIT Gandhinagar, <a style=\"text-decoration:none\" href=\"mailto:divyanshu.m@iitgn.ac.in\">divyanshu.m@iitgn.ac.in</a>\n",
        "</center></h4>"
      ]
    },
    {
      "cell_type": "markdown",
      "metadata": {},
      "source": [
        "<center><a href=\"https://github.com/CS328-Spring-2022/writing-assignment-divyanshu_mihir_harshil\"><img src=\"https://img.shields.io/badge/Github-Writing%20Assignment-brightgreen\" alt=\"Repo\"></a></center>"
      ]
    },
    {
      "cell_type": "markdown",
      "metadata": {
        "id": "yhMkpG1-BFMt"
      },
      "source": [
        "# CO2 Emissions Dataset"
      ]
    },
    {
      "cell_type": "code",
      "execution_count": 46,
      "metadata": {
        "id": "CoOq71PGBFMu"
      },
      "outputs": [],
      "source": [
        "# Common imports\n",
        "import pandas as pd\n",
        "import numpy as np\n",
        "import matplotlib.pyplot as plt\n",
        "\n",
        "import plotly.express as px"
      ]
    },
    {
      "cell_type": "markdown",
      "metadata": {
        "id": "2Qxrbn2XBFMx"
      },
      "source": [
        "Adding mapping between country code and continents"
      ]
    },
    {
      "cell_type": "code",
      "execution_count": 47,
      "metadata": {
        "id": "MYJOl-iIBFMy"
      },
      "outputs": [],
      "source": [
        "iso_continents_df = pd.read_csv(\"./data/country-and-continent-codes-list.csv.gz\", compression=\"gzip\")\n",
        "iso_continents_df.rename(columns = {'5ecdb312191a3559cde51177f4fb3b35.csv': 'Continent'}, inplace=True)\n",
        "required_columns = ['Three_Letter_Country_Code', 'Continent']\n",
        "iso_continents_df = iso_continents_df[required_columns]\n",
        "iso_continents = dict(iso_continents_df.values)\n"
      ]
    },
    {
      "cell_type": "code",
      "execution_count": 48,
      "metadata": {
        "colab": {
          "base_uri": "https://localhost:8080/",
          "height": 0
        },
        "id": "CHOD3bCBBFMz",
        "outputId": "42230dd7-e4bc-42b1-f296-63b665e66afa"
      },
      "outputs": [
        {
          "data": {
            "text/html": [
              "<div>\n",
              "<style scoped>\n",
              "    .dataframe tbody tr th:only-of-type {\n",
              "        vertical-align: middle;\n",
              "    }\n",
              "\n",
              "    .dataframe tbody tr th {\n",
              "        vertical-align: top;\n",
              "    }\n",
              "\n",
              "    .dataframe thead th {\n",
              "        text-align: right;\n",
              "    }\n",
              "</style>\n",
              "<table border=\"1\" class=\"dataframe\">\n",
              "  <thead>\n",
              "    <tr style=\"text-align: right;\">\n",
              "      <th></th>\n",
              "      <th>iso_code</th>\n",
              "      <th>country</th>\n",
              "      <th>year</th>\n",
              "      <th>co2</th>\n",
              "      <th>co2_per_capita</th>\n",
              "      <th>trade_co2</th>\n",
              "      <th>cement_co2</th>\n",
              "      <th>cement_co2_per_capita</th>\n",
              "      <th>coal_co2</th>\n",
              "      <th>coal_co2_per_capita</th>\n",
              "      <th>...</th>\n",
              "      <th>ghg_excluding_lucf_per_capita</th>\n",
              "      <th>methane</th>\n",
              "      <th>methane_per_capita</th>\n",
              "      <th>nitrous_oxide</th>\n",
              "      <th>nitrous_oxide_per_capita</th>\n",
              "      <th>population</th>\n",
              "      <th>gdp</th>\n",
              "      <th>primary_energy_consumption</th>\n",
              "      <th>energy_per_capita</th>\n",
              "      <th>energy_per_gdp</th>\n",
              "    </tr>\n",
              "  </thead>\n",
              "  <tbody>\n",
              "    <tr>\n",
              "      <th>2238</th>\n",
              "      <td>BRB</td>\n",
              "      <td>Barbados</td>\n",
              "      <td>1931.0</td>\n",
              "      <td>0.004</td>\n",
              "      <td>0.021</td>\n",
              "      <td>NaN</td>\n",
              "      <td>NaN</td>\n",
              "      <td>NaN</td>\n",
              "      <td>NaN</td>\n",
              "      <td>NaN</td>\n",
              "      <td>...</td>\n",
              "      <td>NaN</td>\n",
              "      <td>NaN</td>\n",
              "      <td>NaN</td>\n",
              "      <td>NaN</td>\n",
              "      <td>NaN</td>\n",
              "      <td>1.760370e+05</td>\n",
              "      <td>NaN</td>\n",
              "      <td>NaN</td>\n",
              "      <td>NaN</td>\n",
              "      <td>NaN</td>\n",
              "    </tr>\n",
              "    <tr>\n",
              "      <th>24864</th>\n",
              "      <td>OWID_WRL</td>\n",
              "      <td>World</td>\n",
              "      <td>1954.0</td>\n",
              "      <td>6789.936</td>\n",
              "      <td>2.492</td>\n",
              "      <td>NaN</td>\n",
              "      <td>97.083</td>\n",
              "      <td>0.036</td>\n",
              "      <td>4039.060</td>\n",
              "      <td>1.482</td>\n",
              "      <td>...</td>\n",
              "      <td>NaN</td>\n",
              "      <td>NaN</td>\n",
              "      <td>NaN</td>\n",
              "      <td>NaN</td>\n",
              "      <td>NaN</td>\n",
              "      <td>2.724847e+09</td>\n",
              "      <td>NaN</td>\n",
              "      <td>NaN</td>\n",
              "      <td>NaN</td>\n",
              "      <td>NaN</td>\n",
              "    </tr>\n",
              "    <tr>\n",
              "      <th>16243</th>\n",
              "      <td>NaN</td>\n",
              "      <td>North America</td>\n",
              "      <td>1850.0</td>\n",
              "      <td>19.852</td>\n",
              "      <td>0.761</td>\n",
              "      <td>NaN</td>\n",
              "      <td>NaN</td>\n",
              "      <td>NaN</td>\n",
              "      <td>19.852</td>\n",
              "      <td>0.761</td>\n",
              "      <td>...</td>\n",
              "      <td>NaN</td>\n",
              "      <td>NaN</td>\n",
              "      <td>NaN</td>\n",
              "      <td>NaN</td>\n",
              "      <td>NaN</td>\n",
              "      <td>3.975763e+07</td>\n",
              "      <td>NaN</td>\n",
              "      <td>NaN</td>\n",
              "      <td>NaN</td>\n",
              "      <td>NaN</td>\n",
              "    </tr>\n",
              "    <tr>\n",
              "      <th>21044</th>\n",
              "      <td>SSD</td>\n",
              "      <td>South Sudan</td>\n",
              "      <td>2010.0</td>\n",
              "      <td>1.313</td>\n",
              "      <td>0.138</td>\n",
              "      <td>NaN</td>\n",
              "      <td>NaN</td>\n",
              "      <td>NaN</td>\n",
              "      <td>NaN</td>\n",
              "      <td>NaN</td>\n",
              "      <td>...</td>\n",
              "      <td>7.216</td>\n",
              "      <td>48.61</td>\n",
              "      <td>5.112</td>\n",
              "      <td>21.07</td>\n",
              "      <td>2.216</td>\n",
              "      <td>9.508372e+06</td>\n",
              "      <td>NaN</td>\n",
              "      <td>NaN</td>\n",
              "      <td>NaN</td>\n",
              "      <td>NaN</td>\n",
              "    </tr>\n",
              "    <tr>\n",
              "      <th>12282</th>\n",
              "      <td>KAZ</td>\n",
              "      <td>Kazakhstan</td>\n",
              "      <td>2004.0</td>\n",
              "      <td>188.547</td>\n",
              "      <td>12.364</td>\n",
              "      <td>-48.845</td>\n",
              "      <td>0.346</td>\n",
              "      <td>0.023</td>\n",
              "      <td>109.963</td>\n",
              "      <td>7.211</td>\n",
              "      <td>...</td>\n",
              "      <td>12.713</td>\n",
              "      <td>33.84</td>\n",
              "      <td>2.219</td>\n",
              "      <td>9.55</td>\n",
              "      <td>0.626</td>\n",
              "      <td>1.525002e+07</td>\n",
              "      <td>2.177132e+11</td>\n",
              "      <td>501.997</td>\n",
              "      <td>32917.829</td>\n",
              "      <td>3.691</td>\n",
              "    </tr>\n",
              "  </tbody>\n",
              "</table>\n",
              "<p>5 rows × 60 columns</p>\n",
              "</div>"
            ],
            "text/plain": [
              "       iso_code        country    year       co2  co2_per_capita  trade_co2  \\\n",
              "2238        BRB       Barbados  1931.0     0.004           0.021        NaN   \n",
              "24864  OWID_WRL          World  1954.0  6789.936           2.492        NaN   \n",
              "16243       NaN  North America  1850.0    19.852           0.761        NaN   \n",
              "21044       SSD    South Sudan  2010.0     1.313           0.138        NaN   \n",
              "12282       KAZ     Kazakhstan  2004.0   188.547          12.364    -48.845   \n",
              "\n",
              "       cement_co2  cement_co2_per_capita  coal_co2  coal_co2_per_capita  ...  \\\n",
              "2238          NaN                    NaN       NaN                  NaN  ...   \n",
              "24864      97.083                  0.036  4039.060                1.482  ...   \n",
              "16243         NaN                    NaN    19.852                0.761  ...   \n",
              "21044         NaN                    NaN       NaN                  NaN  ...   \n",
              "12282       0.346                  0.023   109.963                7.211  ...   \n",
              "\n",
              "       ghg_excluding_lucf_per_capita  methane  methane_per_capita  \\\n",
              "2238                             NaN      NaN                 NaN   \n",
              "24864                            NaN      NaN                 NaN   \n",
              "16243                            NaN      NaN                 NaN   \n",
              "21044                          7.216    48.61               5.112   \n",
              "12282                         12.713    33.84               2.219   \n",
              "\n",
              "       nitrous_oxide  nitrous_oxide_per_capita    population           gdp  \\\n",
              "2238             NaN                       NaN  1.760370e+05           NaN   \n",
              "24864            NaN                       NaN  2.724847e+09           NaN   \n",
              "16243            NaN                       NaN  3.975763e+07           NaN   \n",
              "21044          21.07                     2.216  9.508372e+06           NaN   \n",
              "12282           9.55                     0.626  1.525002e+07  2.177132e+11   \n",
              "\n",
              "       primary_energy_consumption  energy_per_capita  energy_per_gdp  \n",
              "2238                          NaN                NaN             NaN  \n",
              "24864                         NaN                NaN             NaN  \n",
              "16243                         NaN                NaN             NaN  \n",
              "21044                         NaN                NaN             NaN  \n",
              "12282                     501.997          32917.829           3.691  \n",
              "\n",
              "[5 rows x 60 columns]"
            ]
          },
          "execution_count": 48,
          "metadata": {},
          "output_type": "execute_result"
        }
      ],
      "source": [
        "co2_df = pd.read_csv(\"./data/owid-co2-data.csv.gz\", compression=\"gzip\")\n",
        "co2_df.rename(columns = {'286b262ed4f75089c2a23c4ed4782e1f.csv': 'iso_code'}, inplace=True)\n",
        "co2_df.sample(5)"
      ]
    },
    {
      "cell_type": "code",
      "execution_count": 49,
      "metadata": {
        "id": "VzsKnjdNBFM4"
      },
      "outputs": [],
      "source": [
        "required_columns = ['iso_code', 'country', 'co2_per_capita', \"year\", \"co2\"]\n",
        "globe_df = co2_df[required_columns]\n",
        "\n",
        "globe_df = globe_df.dropna()\n",
        "globe_df[\"year\"] = globe_df[\"year\"].astype(\"int\")\n",
        "# globe_df.sample(5)"
      ]
    },
    {
      "cell_type": "markdown",
      "metadata": {},
      "source": [
        "Carbon Dioxide has been a significant cause of pollution and the primary driver of global climate change. It is commonly acknowledged that to avoid the effects of climate change; the world must reduce emissions as soon as possible. But, how this responsibility is shared between regions, countries, and individuals is a question we need to look into. \n",
        "\n",
        "The different metrics related to CO2 emissions, such as Net CO2 emissions, CO2 emissions per person, and CO2 emissions from various resources, each tell a different story. We also decided to look into the effects of economic policies and natural resource distribution on CO2 emissions.\n",
        "\n",
        "Carbon dioxide emissions are measured in a million tonnes in all of the plots shown below. CO2 per unit of energy is measured in kilograms per kilowatt-hour. Carbon dioxide produced from specific sources such as coal, gas, cement, flaring, etc., is also measured in a million tonnes. CO2 per capita is measured in a million tonnes per person. "
      ]
    },
    {
      "cell_type": "markdown",
      "metadata": {},
      "source": [
        "# CO2 Emissions vs Time"
      ]
    },
    {
      "cell_type": "code",
      "execution_count": 50,
      "metadata": {
        "id": "kJcgWFDxBFM5"
      },
      "outputs": [],
      "source": [
        "globe_df['continent'] = globe_df['iso_code'].map(iso_continents)\n",
        "globe_df_curr = globe_df[globe_df.year == 2019]\n",
        "globe_df = globe_df.iloc[np.where(globe_df['continent'].notnull())[0]] #Remove values where continent is NaN\n",
        "globe_df_curr = globe_df_curr.iloc[np.where(globe_df_curr['continent'].notnull())[0]]\n",
        "globe_df = globe_df.sort_values('year')"
      ]
    },
    {
      "cell_type": "code",
      "execution_count": 51,
      "metadata": {
        "colab": {
          "base_uri": "https://localhost:8080/",
          "height": 0
        },
        "id": "0rESoYSXEbWd",
        "outputId": "16ebdc8f-7bb9-4951-bf02-0160574fd8f2"
      },
      "outputs": [
        {
          "data": {
            "application/vnd.plotly.v1+json": {
              "config": {
                "plotlyServerURL": "https://plot.ly"
              },
              "data": [
                {
                  "geo": "geo",
                  "hovertemplate": "<b>%{hovertext}</b><br><br>continent=Asia<br>co2_per_capita=%{marker.size}<br>iso_code=%{location}<extra></extra>",
                  "hovertext": [
                    "Afghanistan",
                    "Armenia",
                    "Azerbaijan",
                    "Bahrain",
                    "Bangladesh",
                    "Bhutan",
                    "Brunei",
                    "Cambodia",
                    "China",
                    "Cyprus",
                    "Georgia",
                    "Hong Kong",
                    "India",
                    "Indonesia",
                    "Iran",
                    "Iraq",
                    "Israel",
                    "Japan",
                    "Jordan",
                    "Kazakhstan",
                    "Kuwait",
                    "Kyrgyzstan",
                    "Laos",
                    "Lebanon",
                    "Malaysia",
                    "Maldives",
                    "Mongolia",
                    "Myanmar",
                    "Nepal",
                    "North Korea",
                    "Oman",
                    "Pakistan",
                    "Palestine",
                    "Philippines",
                    "Qatar",
                    "Russia",
                    "Saudi Arabia",
                    "Singapore",
                    "South Korea",
                    "Sri Lanka",
                    "Syria",
                    "Taiwan",
                    "Tajikistan",
                    "Thailand",
                    "Timor",
                    "Turkey",
                    "Turkmenistan",
                    "United Arab Emirates",
                    "Uzbekistan",
                    "Vietnam",
                    "Yemen"
                  ],
                  "legendgroup": "Asia",
                  "locations": [
                    "AFG",
                    "ARM",
                    "AZE",
                    "BHR",
                    "BGD",
                    "BTN",
                    "BRN",
                    "KHM",
                    "CHN",
                    "CYP",
                    "GEO",
                    "HKG",
                    "IND",
                    "IDN",
                    "IRN",
                    "IRQ",
                    "ISR",
                    "JPN",
                    "JOR",
                    "KAZ",
                    "KWT",
                    "KGZ",
                    "LAO",
                    "LBN",
                    "MYS",
                    "MDV",
                    "MNG",
                    "MMR",
                    "NPL",
                    "PRK",
                    "OMN",
                    "PAK",
                    "PSE",
                    "PHL",
                    "QAT",
                    "RUS",
                    "SAU",
                    "SGP",
                    "KOR",
                    "LKA",
                    "SYR",
                    "TWN",
                    "TJK",
                    "THA",
                    "TLS",
                    "TUR",
                    "TKM",
                    "ARE",
                    "UZB",
                    "VNM",
                    "YEM"
                  ],
                  "marker": {
                    "color": "#636efa",
                    "size": [
                      0.319,
                      1.869,
                      3.8539999999999996,
                      20.984,
                      0.578,
                      2.526,
                      22.982,
                      0.93,
                      7.316,
                      6.124,
                      2.622,
                      5.62,
                      1.922,
                      2.441,
                      8.845,
                      5.672999999999999,
                      7.324,
                      8.718,
                      2.549,
                      15.949000000000002,
                      22.974,
                      1.7169999999999999,
                      4.7330000000000005,
                      3.888,
                      8.722000000000001,
                      3.3789999999999996,
                      27.5,
                      0.667,
                      0.593,
                      1.145,
                      12.212,
                      1.082,
                      0.599,
                      1.3559999999999999,
                      40.619,
                      11.513,
                      18.163,
                      7.874,
                      12.65,
                      1.07,
                      1.8159999999999998,
                      11.581,
                      0.9259999999999999,
                      3.9010000000000002,
                      0.406,
                      4.787,
                      12.844000000000001,
                      15.780999999999999,
                      3.4619999999999997,
                      2.699,
                      0.344
                    ],
                    "sizemode": "area",
                    "sizeref": 0.1015475,
                    "symbol": "circle"
                  },
                  "mode": "markers",
                  "name": "Asia",
                  "showlegend": true,
                  "type": "scattergeo"
                },
                {
                  "geo": "geo",
                  "hovertemplate": "<b>%{hovertext}</b><br><br>continent=Europe<br>co2_per_capita=%{marker.size}<br>iso_code=%{location}<extra></extra>",
                  "hovertext": [
                    "Albania",
                    "Andorra",
                    "Austria",
                    "Belarus",
                    "Belgium",
                    "Bosnia and Herzegovina",
                    "Bulgaria",
                    "Croatia",
                    "Czechia",
                    "Denmark",
                    "Estonia",
                    "Faeroe Islands",
                    "Finland",
                    "France",
                    "Germany",
                    "Greece",
                    "Hungary",
                    "Iceland",
                    "Ireland",
                    "Italy",
                    "Latvia",
                    "Liechtenstein",
                    "Lithuania",
                    "Luxembourg",
                    "Malta",
                    "Moldova",
                    "Montenegro",
                    "Netherlands",
                    "North Macedonia",
                    "Norway",
                    "Poland",
                    "Portugal",
                    "Romania",
                    "Serbia",
                    "Slovakia",
                    "Slovenia",
                    "Spain",
                    "Sweden",
                    "Switzerland",
                    "Ukraine",
                    "United Kingdom"
                  ],
                  "legendgroup": "Europe",
                  "locations": [
                    "ALB",
                    "AND",
                    "AUT",
                    "BLR",
                    "BEL",
                    "BIH",
                    "BGR",
                    "HRV",
                    "CZE",
                    "DNK",
                    "EST",
                    "FRO",
                    "FIN",
                    "FRA",
                    "DEU",
                    "GRC",
                    "HUN",
                    "ISL",
                    "IRL",
                    "ITA",
                    "LVA",
                    "LIE",
                    "LTU",
                    "LUX",
                    "MLT",
                    "MDA",
                    "MNE",
                    "NLD",
                    "MKD",
                    "NOR",
                    "POL",
                    "PRT",
                    "ROU",
                    "SRB",
                    "SVK",
                    "SVN",
                    "ESP",
                    "SWE",
                    "CHE",
                    "UKR",
                    "GBR"
                  ],
                  "marker": {
                    "color": "#EF553B",
                    "size": [
                      1.6880000000000002,
                      6.505,
                      7.5889999999999995,
                      6.456,
                      8.644,
                      7.527,
                      6.032,
                      4.303999999999999,
                      9.431000000000001,
                      5.353,
                      9.339,
                      15.120999999999999,
                      7.691,
                      4.851,
                      8.517999999999999,
                      6.276,
                      5.0680000000000005,
                      10.472999999999999,
                      7.6339999999999995,
                      5.611000000000001,
                      4.011,
                      3.903,
                      5.045,
                      15.838,
                      3.79,
                      1.275,
                      4.212,
                      8.984,
                      3.8280000000000003,
                      7.968999999999999,
                      8.433,
                      4.658,
                      3.865,
                      5.624,
                      6.189,
                      6.7379999999999995,
                      5.381,
                      4.079,
                      4.277,
                      5.059,
                      5.4639999999999995
                    ],
                    "sizemode": "area",
                    "sizeref": 0.1015475,
                    "symbol": "circle"
                  },
                  "mode": "markers",
                  "name": "Europe",
                  "showlegend": true,
                  "type": "scattergeo"
                },
                {
                  "geo": "geo",
                  "hovertemplate": "<b>%{hovertext}</b><br><br>continent=Africa<br>co2_per_capita=%{marker.size}<br>iso_code=%{location}<extra></extra>",
                  "hovertext": [
                    "Algeria",
                    "Angola",
                    "Benin",
                    "Botswana",
                    "Burkina Faso",
                    "Burundi",
                    "Cameroon",
                    "Cape Verde",
                    "Central African Republic",
                    "Chad",
                    "Comoros",
                    "Congo",
                    "Cote d'Ivoire",
                    "Democratic Republic of Congo",
                    "Djibouti",
                    "Egypt",
                    "Equatorial Guinea",
                    "Eritrea",
                    "Eswatini",
                    "Ethiopia",
                    "Gabon",
                    "Gambia",
                    "Ghana",
                    "Guinea",
                    "Guinea-Bissau",
                    "Kenya",
                    "Lesotho",
                    "Liberia",
                    "Libya",
                    "Madagascar",
                    "Malawi",
                    "Mali",
                    "Mauritania",
                    "Mauritius",
                    "Mayotte",
                    "Morocco",
                    "Mozambique",
                    "Namibia",
                    "Niger",
                    "Nigeria",
                    "Rwanda",
                    "Saint Helena",
                    "Sao Tome and Principe",
                    "Senegal",
                    "Seychelles",
                    "Sierra Leone",
                    "Somalia",
                    "South Africa",
                    "South Sudan",
                    "Sudan",
                    "Tanzania",
                    "Togo",
                    "Tunisia",
                    "Uganda",
                    "Zambia",
                    "Zimbabwe"
                  ],
                  "legendgroup": "Africa",
                  "locations": [
                    "DZA",
                    "AGO",
                    "BEN",
                    "BWA",
                    "BFA",
                    "BDI",
                    "CMR",
                    "CPV",
                    "CAF",
                    "TCD",
                    "COM",
                    "COG",
                    "CIV",
                    "COD",
                    "DJI",
                    "EGY",
                    "GNQ",
                    "ERI",
                    "SWZ",
                    "ETH",
                    "GAB",
                    "GMB",
                    "GHA",
                    "GIN",
                    "GNB",
                    "KEN",
                    "LSO",
                    "LBR",
                    "LBY",
                    "MDG",
                    "MWI",
                    "MLI",
                    "MRT",
                    "MUS",
                    "MYT",
                    "MAR",
                    "MOZ",
                    "NAM",
                    "NER",
                    "NGA",
                    "RWA",
                    "SHN",
                    "STP",
                    "SEN",
                    "SYC",
                    "SLE",
                    "SOM",
                    "ZAF",
                    "SSD",
                    "SDN",
                    "TZA",
                    "TGO",
                    "TUN",
                    "UGA",
                    "ZMB",
                    "ZWE"
                  ],
                  "marker": {
                    "color": "#00cc96",
                    "size": [
                      3.8710000000000004,
                      0.738,
                      0.62,
                      3.0060000000000002,
                      0.213,
                      0.061,
                      0.28600000000000003,
                      1.095,
                      0.044000000000000004,
                      0.063,
                      0.359,
                      0.612,
                      0.408,
                      0.031,
                      0.413,
                      2.25,
                      7.574,
                      0.239,
                      0.882,
                      0.146,
                      2.066,
                      0.233,
                      0.556,
                      0.29100000000000004,
                      0.16399999999999998,
                      0.349,
                      1.092,
                      0.222,
                      8.043,
                      0.15,
                      0.085,
                      0.188,
                      0.8170000000000001,
                      3.448,
                      1.148,
                      1.87,
                      0.24,
                      1.636,
                      0.08,
                      0.647,
                      0.094,
                      1.77,
                      0.5870000000000001,
                      0.691,
                      5.945,
                      0.12300000000000001,
                      0.043,
                      8.127,
                      0.126,
                      0.515,
                      0.20800000000000002,
                      0.285,
                      2.5660000000000003,
                      0.129,
                      0.395,
                      0.748
                    ],
                    "sizemode": "area",
                    "sizeref": 0.1015475,
                    "symbol": "circle"
                  },
                  "mode": "markers",
                  "name": "Africa",
                  "showlegend": true,
                  "type": "scattergeo"
                },
                {
                  "geo": "geo",
                  "hovertemplate": "<b>%{hovertext}</b><br><br>continent=North America<br>co2_per_capita=%{marker.size}<br>iso_code=%{location}<extra></extra>",
                  "hovertext": [
                    "Anguilla",
                    "Antigua and Barbuda",
                    "Aruba",
                    "Bahamas",
                    "Barbados",
                    "Belize",
                    "Bermuda",
                    "Bonaire Sint Eustatius and Saba",
                    "British Virgin Islands",
                    "Canada",
                    "Costa Rica",
                    "Cuba",
                    "Curacao",
                    "Dominica",
                    "Dominican Republic",
                    "El Salvador",
                    "Greenland",
                    "Grenada",
                    "Guadeloupe",
                    "Guatemala",
                    "Haiti",
                    "Honduras",
                    "Jamaica",
                    "Martinique",
                    "Mexico",
                    "Montserrat",
                    "Nicaragua",
                    "Panama",
                    "Saint Kitts and Nevis",
                    "Saint Lucia",
                    "Saint Pierre and Miquelon",
                    "Saint Vincent and the Grenadines",
                    "Sint Maarten (Dutch part)",
                    "Trinidad and Tobago",
                    "Turks and Caicos Islands",
                    "United States"
                  ],
                  "legendgroup": "North America",
                  "locations": [
                    "AIA",
                    "ATG",
                    "ABW",
                    "BHS",
                    "BRB",
                    "BLZ",
                    "BMU",
                    "BES",
                    "VGB",
                    "CAN",
                    "CRI",
                    "CUB",
                    "CUW",
                    "DMA",
                    "DOM",
                    "SLV",
                    "GRL",
                    "GRD",
                    "GLP",
                    "GTM",
                    "HTI",
                    "HND",
                    "JAM",
                    "MTQ",
                    "MEX",
                    "MSR",
                    "NIC",
                    "PAN",
                    "KNA",
                    "LCA",
                    "SPM",
                    "VCT",
                    "SXM",
                    "TTO",
                    "TCA",
                    "USA"
                  ],
                  "marker": {
                    "color": "#ab63fa",
                    "size": [
                      9.378,
                      5.008,
                      8.006,
                      6.772,
                      4.234,
                      1.6869999999999998,
                      11.165999999999999,
                      13.075999999999999,
                      5.239,
                      15.567,
                      1.7469999999999999,
                      1.9869999999999999,
                      23.014,
                      2.191,
                      2.563,
                      1.062,
                      9.771,
                      2.967,
                      6.404,
                      1.248,
                      0.292,
                      1.107,
                      2.7289999999999996,
                      6.252999999999999,
                      3.4139999999999997,
                      5.732,
                      0.867,
                      2.895,
                      4.535,
                      2.72,
                      9.83,
                      2.134,
                      16.62,
                      28.945999999999998,
                      5.992999999999999,
                      15.972000000000001
                    ],
                    "sizemode": "area",
                    "sizeref": 0.1015475,
                    "symbol": "circle"
                  },
                  "mode": "markers",
                  "name": "North America",
                  "showlegend": true,
                  "type": "scattergeo"
                },
                {
                  "geo": "geo",
                  "hovertemplate": "<b>%{hovertext}</b><br><br>continent=South America<br>co2_per_capita=%{marker.size}<br>iso_code=%{location}<extra></extra>",
                  "hovertext": [
                    "Argentina",
                    "Bolivia",
                    "Brazil",
                    "Chile",
                    "Colombia",
                    "Ecuador",
                    "French Guiana",
                    "Guyana",
                    "Paraguay",
                    "Peru",
                    "Suriname",
                    "Uruguay",
                    "Venezuela"
                  ],
                  "legendgroup": "South America",
                  "locations": [
                    "ARG",
                    "BOL",
                    "BRA",
                    "CHL",
                    "COL",
                    "ECU",
                    "GUF",
                    "GUY",
                    "PRY",
                    "PER",
                    "SUR",
                    "URY",
                    "VEN"
                  ],
                  "marker": {
                    "color": "#FFA15A",
                    "size": [
                      3.742,
                      2.0709999999999997,
                      2.302,
                      4.545,
                      1.796,
                      2.116,
                      2.504,
                      3.177,
                      1.21,
                      1.6909999999999998,
                      4.335,
                      1.902,
                      3.478
                    ],
                    "sizemode": "area",
                    "sizeref": 0.1015475,
                    "symbol": "circle"
                  },
                  "mode": "markers",
                  "name": "South America",
                  "showlegend": true,
                  "type": "scattergeo"
                },
                {
                  "geo": "geo",
                  "hovertemplate": "<b>%{hovertext}</b><br><br>continent=Oceania<br>co2_per_capita=%{marker.size}<br>iso_code=%{location}<extra></extra>",
                  "hovertext": [
                    "Australia",
                    "Cook Islands",
                    "Fiji",
                    "French Polynesia",
                    "Kiribati",
                    "Marshall Islands",
                    "Nauru",
                    "New Caledonia",
                    "New Zealand",
                    "Niue",
                    "Palau",
                    "Papua New Guinea",
                    "Samoa",
                    "Solomon Islands",
                    "Tonga",
                    "Tuvalu",
                    "Vanuatu"
                  ],
                  "legendgroup": "Oceania",
                  "locations": [
                    "AUS",
                    "COK",
                    "FJI",
                    "PYF",
                    "KIR",
                    "MHL",
                    "NRU",
                    "NCL",
                    "NZL",
                    "NIU",
                    "PLW",
                    "PNG",
                    "WSM",
                    "SLB",
                    "TON",
                    "TUV",
                    "VUT"
                  ],
                  "marker": {
                    "color": "#19d3f3",
                    "size": [
                      16.447,
                      4.52,
                      1.564,
                      2.9619999999999997,
                      0.578,
                      2.57,
                      5.263,
                      30.791,
                      7.8389999999999995,
                      7.02,
                      12.169,
                      0.754,
                      1.246,
                      0.445,
                      1.3730000000000002,
                      0.648,
                      0.604
                    ],
                    "sizemode": "area",
                    "sizeref": 0.1015475,
                    "symbol": "circle"
                  },
                  "mode": "markers",
                  "name": "Oceania",
                  "showlegend": true,
                  "type": "scattergeo"
                }
              ],
              "layout": {
                "geo": {
                  "center": {},
                  "domain": {
                    "x": [
                      0,
                      1
                    ],
                    "y": [
                      0,
                      1
                    ]
                  },
                  "projection": {
                    "type": "natural earth"
                  }
                },
                "legend": {
                  "itemsizing": "constant",
                  "title": {
                    "text": "Continents"
                  },
                  "tracegroupgap": 0
                },
                "margin": {
                  "t": 60
                },
                "template": {
                  "data": {
                    "bar": [
                      {
                        "error_x": {
                          "color": "#f2f5fa"
                        },
                        "error_y": {
                          "color": "#f2f5fa"
                        },
                        "marker": {
                          "line": {
                            "color": "rgb(17,17,17)",
                            "width": 0.5
                          },
                          "pattern": {
                            "fillmode": "overlay",
                            "size": 10,
                            "solidity": 0.2
                          }
                        },
                        "type": "bar"
                      }
                    ],
                    "barpolar": [
                      {
                        "marker": {
                          "line": {
                            "color": "rgb(17,17,17)",
                            "width": 0.5
                          },
                          "pattern": {
                            "fillmode": "overlay",
                            "size": 10,
                            "solidity": 0.2
                          }
                        },
                        "type": "barpolar"
                      }
                    ],
                    "carpet": [
                      {
                        "aaxis": {
                          "endlinecolor": "#A2B1C6",
                          "gridcolor": "#506784",
                          "linecolor": "#506784",
                          "minorgridcolor": "#506784",
                          "startlinecolor": "#A2B1C6"
                        },
                        "baxis": {
                          "endlinecolor": "#A2B1C6",
                          "gridcolor": "#506784",
                          "linecolor": "#506784",
                          "minorgridcolor": "#506784",
                          "startlinecolor": "#A2B1C6"
                        },
                        "type": "carpet"
                      }
                    ],
                    "choropleth": [
                      {
                        "colorbar": {
                          "outlinewidth": 0,
                          "ticks": ""
                        },
                        "type": "choropleth"
                      }
                    ],
                    "contour": [
                      {
                        "colorbar": {
                          "outlinewidth": 0,
                          "ticks": ""
                        },
                        "colorscale": [
                          [
                            0,
                            "#0d0887"
                          ],
                          [
                            0.1111111111111111,
                            "#46039f"
                          ],
                          [
                            0.2222222222222222,
                            "#7201a8"
                          ],
                          [
                            0.3333333333333333,
                            "#9c179e"
                          ],
                          [
                            0.4444444444444444,
                            "#bd3786"
                          ],
                          [
                            0.5555555555555556,
                            "#d8576b"
                          ],
                          [
                            0.6666666666666666,
                            "#ed7953"
                          ],
                          [
                            0.7777777777777778,
                            "#fb9f3a"
                          ],
                          [
                            0.8888888888888888,
                            "#fdca26"
                          ],
                          [
                            1,
                            "#f0f921"
                          ]
                        ],
                        "type": "contour"
                      }
                    ],
                    "contourcarpet": [
                      {
                        "colorbar": {
                          "outlinewidth": 0,
                          "ticks": ""
                        },
                        "type": "contourcarpet"
                      }
                    ],
                    "heatmap": [
                      {
                        "colorbar": {
                          "outlinewidth": 0,
                          "ticks": ""
                        },
                        "colorscale": [
                          [
                            0,
                            "#0d0887"
                          ],
                          [
                            0.1111111111111111,
                            "#46039f"
                          ],
                          [
                            0.2222222222222222,
                            "#7201a8"
                          ],
                          [
                            0.3333333333333333,
                            "#9c179e"
                          ],
                          [
                            0.4444444444444444,
                            "#bd3786"
                          ],
                          [
                            0.5555555555555556,
                            "#d8576b"
                          ],
                          [
                            0.6666666666666666,
                            "#ed7953"
                          ],
                          [
                            0.7777777777777778,
                            "#fb9f3a"
                          ],
                          [
                            0.8888888888888888,
                            "#fdca26"
                          ],
                          [
                            1,
                            "#f0f921"
                          ]
                        ],
                        "type": "heatmap"
                      }
                    ],
                    "heatmapgl": [
                      {
                        "colorbar": {
                          "outlinewidth": 0,
                          "ticks": ""
                        },
                        "colorscale": [
                          [
                            0,
                            "#0d0887"
                          ],
                          [
                            0.1111111111111111,
                            "#46039f"
                          ],
                          [
                            0.2222222222222222,
                            "#7201a8"
                          ],
                          [
                            0.3333333333333333,
                            "#9c179e"
                          ],
                          [
                            0.4444444444444444,
                            "#bd3786"
                          ],
                          [
                            0.5555555555555556,
                            "#d8576b"
                          ],
                          [
                            0.6666666666666666,
                            "#ed7953"
                          ],
                          [
                            0.7777777777777778,
                            "#fb9f3a"
                          ],
                          [
                            0.8888888888888888,
                            "#fdca26"
                          ],
                          [
                            1,
                            "#f0f921"
                          ]
                        ],
                        "type": "heatmapgl"
                      }
                    ],
                    "histogram": [
                      {
                        "marker": {
                          "pattern": {
                            "fillmode": "overlay",
                            "size": 10,
                            "solidity": 0.2
                          }
                        },
                        "type": "histogram"
                      }
                    ],
                    "histogram2d": [
                      {
                        "colorbar": {
                          "outlinewidth": 0,
                          "ticks": ""
                        },
                        "colorscale": [
                          [
                            0,
                            "#0d0887"
                          ],
                          [
                            0.1111111111111111,
                            "#46039f"
                          ],
                          [
                            0.2222222222222222,
                            "#7201a8"
                          ],
                          [
                            0.3333333333333333,
                            "#9c179e"
                          ],
                          [
                            0.4444444444444444,
                            "#bd3786"
                          ],
                          [
                            0.5555555555555556,
                            "#d8576b"
                          ],
                          [
                            0.6666666666666666,
                            "#ed7953"
                          ],
                          [
                            0.7777777777777778,
                            "#fb9f3a"
                          ],
                          [
                            0.8888888888888888,
                            "#fdca26"
                          ],
                          [
                            1,
                            "#f0f921"
                          ]
                        ],
                        "type": "histogram2d"
                      }
                    ],
                    "histogram2dcontour": [
                      {
                        "colorbar": {
                          "outlinewidth": 0,
                          "ticks": ""
                        },
                        "colorscale": [
                          [
                            0,
                            "#0d0887"
                          ],
                          [
                            0.1111111111111111,
                            "#46039f"
                          ],
                          [
                            0.2222222222222222,
                            "#7201a8"
                          ],
                          [
                            0.3333333333333333,
                            "#9c179e"
                          ],
                          [
                            0.4444444444444444,
                            "#bd3786"
                          ],
                          [
                            0.5555555555555556,
                            "#d8576b"
                          ],
                          [
                            0.6666666666666666,
                            "#ed7953"
                          ],
                          [
                            0.7777777777777778,
                            "#fb9f3a"
                          ],
                          [
                            0.8888888888888888,
                            "#fdca26"
                          ],
                          [
                            1,
                            "#f0f921"
                          ]
                        ],
                        "type": "histogram2dcontour"
                      }
                    ],
                    "mesh3d": [
                      {
                        "colorbar": {
                          "outlinewidth": 0,
                          "ticks": ""
                        },
                        "type": "mesh3d"
                      }
                    ],
                    "parcoords": [
                      {
                        "line": {
                          "colorbar": {
                            "outlinewidth": 0,
                            "ticks": ""
                          }
                        },
                        "type": "parcoords"
                      }
                    ],
                    "pie": [
                      {
                        "automargin": true,
                        "type": "pie"
                      }
                    ],
                    "scatter": [
                      {
                        "marker": {
                          "line": {
                            "color": "#283442"
                          }
                        },
                        "type": "scatter"
                      }
                    ],
                    "scatter3d": [
                      {
                        "line": {
                          "colorbar": {
                            "outlinewidth": 0,
                            "ticks": ""
                          }
                        },
                        "marker": {
                          "colorbar": {
                            "outlinewidth": 0,
                            "ticks": ""
                          }
                        },
                        "type": "scatter3d"
                      }
                    ],
                    "scattercarpet": [
                      {
                        "marker": {
                          "colorbar": {
                            "outlinewidth": 0,
                            "ticks": ""
                          }
                        },
                        "type": "scattercarpet"
                      }
                    ],
                    "scattergeo": [
                      {
                        "marker": {
                          "colorbar": {
                            "outlinewidth": 0,
                            "ticks": ""
                          }
                        },
                        "type": "scattergeo"
                      }
                    ],
                    "scattergl": [
                      {
                        "marker": {
                          "line": {
                            "color": "#283442"
                          }
                        },
                        "type": "scattergl"
                      }
                    ],
                    "scattermapbox": [
                      {
                        "marker": {
                          "colorbar": {
                            "outlinewidth": 0,
                            "ticks": ""
                          }
                        },
                        "type": "scattermapbox"
                      }
                    ],
                    "scatterpolar": [
                      {
                        "marker": {
                          "colorbar": {
                            "outlinewidth": 0,
                            "ticks": ""
                          }
                        },
                        "type": "scatterpolar"
                      }
                    ],
                    "scatterpolargl": [
                      {
                        "marker": {
                          "colorbar": {
                            "outlinewidth": 0,
                            "ticks": ""
                          }
                        },
                        "type": "scatterpolargl"
                      }
                    ],
                    "scatterternary": [
                      {
                        "marker": {
                          "colorbar": {
                            "outlinewidth": 0,
                            "ticks": ""
                          }
                        },
                        "type": "scatterternary"
                      }
                    ],
                    "surface": [
                      {
                        "colorbar": {
                          "outlinewidth": 0,
                          "ticks": ""
                        },
                        "colorscale": [
                          [
                            0,
                            "#0d0887"
                          ],
                          [
                            0.1111111111111111,
                            "#46039f"
                          ],
                          [
                            0.2222222222222222,
                            "#7201a8"
                          ],
                          [
                            0.3333333333333333,
                            "#9c179e"
                          ],
                          [
                            0.4444444444444444,
                            "#bd3786"
                          ],
                          [
                            0.5555555555555556,
                            "#d8576b"
                          ],
                          [
                            0.6666666666666666,
                            "#ed7953"
                          ],
                          [
                            0.7777777777777778,
                            "#fb9f3a"
                          ],
                          [
                            0.8888888888888888,
                            "#fdca26"
                          ],
                          [
                            1,
                            "#f0f921"
                          ]
                        ],
                        "type": "surface"
                      }
                    ],
                    "table": [
                      {
                        "cells": {
                          "fill": {
                            "color": "#506784"
                          },
                          "line": {
                            "color": "rgb(17,17,17)"
                          }
                        },
                        "header": {
                          "fill": {
                            "color": "#2a3f5f"
                          },
                          "line": {
                            "color": "rgb(17,17,17)"
                          }
                        },
                        "type": "table"
                      }
                    ]
                  },
                  "layout": {
                    "annotationdefaults": {
                      "arrowcolor": "#f2f5fa",
                      "arrowhead": 0,
                      "arrowwidth": 1
                    },
                    "autotypenumbers": "strict",
                    "coloraxis": {
                      "colorbar": {
                        "outlinewidth": 0,
                        "ticks": ""
                      }
                    },
                    "colorscale": {
                      "diverging": [
                        [
                          0,
                          "#8e0152"
                        ],
                        [
                          0.1,
                          "#c51b7d"
                        ],
                        [
                          0.2,
                          "#de77ae"
                        ],
                        [
                          0.3,
                          "#f1b6da"
                        ],
                        [
                          0.4,
                          "#fde0ef"
                        ],
                        [
                          0.5,
                          "#f7f7f7"
                        ],
                        [
                          0.6,
                          "#e6f5d0"
                        ],
                        [
                          0.7,
                          "#b8e186"
                        ],
                        [
                          0.8,
                          "#7fbc41"
                        ],
                        [
                          0.9,
                          "#4d9221"
                        ],
                        [
                          1,
                          "#276419"
                        ]
                      ],
                      "sequential": [
                        [
                          0,
                          "#0d0887"
                        ],
                        [
                          0.1111111111111111,
                          "#46039f"
                        ],
                        [
                          0.2222222222222222,
                          "#7201a8"
                        ],
                        [
                          0.3333333333333333,
                          "#9c179e"
                        ],
                        [
                          0.4444444444444444,
                          "#bd3786"
                        ],
                        [
                          0.5555555555555556,
                          "#d8576b"
                        ],
                        [
                          0.6666666666666666,
                          "#ed7953"
                        ],
                        [
                          0.7777777777777778,
                          "#fb9f3a"
                        ],
                        [
                          0.8888888888888888,
                          "#fdca26"
                        ],
                        [
                          1,
                          "#f0f921"
                        ]
                      ],
                      "sequentialminus": [
                        [
                          0,
                          "#0d0887"
                        ],
                        [
                          0.1111111111111111,
                          "#46039f"
                        ],
                        [
                          0.2222222222222222,
                          "#7201a8"
                        ],
                        [
                          0.3333333333333333,
                          "#9c179e"
                        ],
                        [
                          0.4444444444444444,
                          "#bd3786"
                        ],
                        [
                          0.5555555555555556,
                          "#d8576b"
                        ],
                        [
                          0.6666666666666666,
                          "#ed7953"
                        ],
                        [
                          0.7777777777777778,
                          "#fb9f3a"
                        ],
                        [
                          0.8888888888888888,
                          "#fdca26"
                        ],
                        [
                          1,
                          "#f0f921"
                        ]
                      ]
                    },
                    "colorway": [
                      "#636efa",
                      "#EF553B",
                      "#00cc96",
                      "#ab63fa",
                      "#FFA15A",
                      "#19d3f3",
                      "#FF6692",
                      "#B6E880",
                      "#FF97FF",
                      "#FECB52"
                    ],
                    "font": {
                      "color": "#f2f5fa"
                    },
                    "geo": {
                      "bgcolor": "rgb(17,17,17)",
                      "lakecolor": "rgb(17,17,17)",
                      "landcolor": "rgb(17,17,17)",
                      "showlakes": true,
                      "showland": true,
                      "subunitcolor": "#506784"
                    },
                    "hoverlabel": {
                      "align": "left"
                    },
                    "hovermode": "closest",
                    "mapbox": {
                      "style": "dark"
                    },
                    "paper_bgcolor": "rgb(17,17,17)",
                    "plot_bgcolor": "rgb(17,17,17)",
                    "polar": {
                      "angularaxis": {
                        "gridcolor": "#506784",
                        "linecolor": "#506784",
                        "ticks": ""
                      },
                      "bgcolor": "rgb(17,17,17)",
                      "radialaxis": {
                        "gridcolor": "#506784",
                        "linecolor": "#506784",
                        "ticks": ""
                      }
                    },
                    "scene": {
                      "xaxis": {
                        "backgroundcolor": "rgb(17,17,17)",
                        "gridcolor": "#506784",
                        "gridwidth": 2,
                        "linecolor": "#506784",
                        "showbackground": true,
                        "ticks": "",
                        "zerolinecolor": "#C8D4E3"
                      },
                      "yaxis": {
                        "backgroundcolor": "rgb(17,17,17)",
                        "gridcolor": "#506784",
                        "gridwidth": 2,
                        "linecolor": "#506784",
                        "showbackground": true,
                        "ticks": "",
                        "zerolinecolor": "#C8D4E3"
                      },
                      "zaxis": {
                        "backgroundcolor": "rgb(17,17,17)",
                        "gridcolor": "#506784",
                        "gridwidth": 2,
                        "linecolor": "#506784",
                        "showbackground": true,
                        "ticks": "",
                        "zerolinecolor": "#C8D4E3"
                      }
                    },
                    "shapedefaults": {
                      "line": {
                        "color": "#f2f5fa"
                      }
                    },
                    "sliderdefaults": {
                      "bgcolor": "#C8D4E3",
                      "bordercolor": "rgb(17,17,17)",
                      "borderwidth": 1,
                      "tickwidth": 0
                    },
                    "ternary": {
                      "aaxis": {
                        "gridcolor": "#506784",
                        "linecolor": "#506784",
                        "ticks": ""
                      },
                      "baxis": {
                        "gridcolor": "#506784",
                        "linecolor": "#506784",
                        "ticks": ""
                      },
                      "bgcolor": "rgb(17,17,17)",
                      "caxis": {
                        "gridcolor": "#506784",
                        "linecolor": "#506784",
                        "ticks": ""
                      }
                    },
                    "title": {
                      "x": 0.05
                    },
                    "updatemenudefaults": {
                      "bgcolor": "#506784",
                      "borderwidth": 0
                    },
                    "xaxis": {
                      "automargin": true,
                      "gridcolor": "#283442",
                      "linecolor": "#506784",
                      "ticks": "",
                      "title": {
                        "standoff": 15
                      },
                      "zerolinecolor": "#283442",
                      "zerolinewidth": 2
                    },
                    "yaxis": {
                      "automargin": true,
                      "gridcolor": "#283442",
                      "linecolor": "#506784",
                      "ticks": "",
                      "title": {
                        "standoff": 15
                      },
                      "zerolinecolor": "#283442",
                      "zerolinewidth": 2
                    }
                  }
                },
                "title": {
                  "text": "CO2 Emissions Per Capita in 2019"
                }
              }
            }
          },
          "metadata": {},
          "output_type": "display_data"
        }
      ],
      "source": [
        "fig = px.scatter_geo(globe_df_curr, locations=\"iso_code\", color=\"continent\",\n",
        "                     hover_name=\"country\", size=\"co2_per_capita\",\n",
        "                     projection=\"natural earth\", template=\"plotly_dark\")\n",
        "fig.update_layout(title='CO2 Emissions Per Capita in 2019', legend_title='Continents')\n",
        "fig.show()"
      ]
    },
    {
      "cell_type": "code",
      "execution_count": 52,
      "metadata": {
        "colab": {
          "base_uri": "https://localhost:8080/",
          "height": 0
        },
        "id": "_-VxAeZXKKBj",
        "outputId": "f0615430-f4d2-4dcd-88c9-17610eb97dcd"
      },
      "outputs": [
        {
          "data": {
            "application/vnd.plotly.v1+json": {
              "config": {
                "plotlyServerURL": "https://plot.ly"
              },
              "data": [
                {
                  "geo": "geo",
                  "hovertemplate": "<b>%{hovertext}</b><br><br>continent=Asia<br>co2=%{marker.size}<br>iso_code=%{location}<extra></extra>",
                  "hovertext": [
                    "Afghanistan",
                    "Armenia",
                    "Azerbaijan",
                    "Bahrain",
                    "Bangladesh",
                    "Bhutan",
                    "Brunei",
                    "Cambodia",
                    "China",
                    "Cyprus",
                    "Georgia",
                    "Hong Kong",
                    "India",
                    "Indonesia",
                    "Iran",
                    "Iraq",
                    "Israel",
                    "Japan",
                    "Jordan",
                    "Kazakhstan",
                    "Kuwait",
                    "Kyrgyzstan",
                    "Laos",
                    "Lebanon",
                    "Malaysia",
                    "Maldives",
                    "Mongolia",
                    "Myanmar",
                    "Nepal",
                    "North Korea",
                    "Oman",
                    "Pakistan",
                    "Palestine",
                    "Philippines",
                    "Qatar",
                    "Russia",
                    "Saudi Arabia",
                    "Singapore",
                    "South Korea",
                    "Sri Lanka",
                    "Syria",
                    "Taiwan",
                    "Tajikistan",
                    "Thailand",
                    "Timor",
                    "Turkey",
                    "Turkmenistan",
                    "United Arab Emirates",
                    "Uzbekistan",
                    "Vietnam",
                    "Yemen"
                  ],
                  "legendgroup": "Asia",
                  "locations": [
                    "AFG",
                    "ARM",
                    "AZE",
                    "BHR",
                    "BGD",
                    "BTN",
                    "BRN",
                    "KHM",
                    "CHN",
                    "CYP",
                    "GEO",
                    "HKG",
                    "IND",
                    "IDN",
                    "IRN",
                    "IRQ",
                    "ISR",
                    "JPN",
                    "JOR",
                    "KAZ",
                    "KWT",
                    "KGZ",
                    "LAO",
                    "LBN",
                    "MYS",
                    "MDV",
                    "MNG",
                    "MMR",
                    "NPL",
                    "PRK",
                    "OMN",
                    "PAK",
                    "PSE",
                    "PHL",
                    "QAT",
                    "RUS",
                    "SAU",
                    "SGP",
                    "KOR",
                    "LKA",
                    "SYR",
                    "TWN",
                    "TJK",
                    "THA",
                    "TLS",
                    "TUR",
                    "TKM",
                    "ARE",
                    "UZB",
                    "VNM",
                    "YEM"
                  ],
                  "marker": {
                    "color": "#636efa",
                    "size": [
                      12.147,
                      5.529,
                      38.725,
                      34.439,
                      94.215,
                      1.9269999999999998,
                      9.958,
                      15.329,
                      10489.989,
                      7.34,
                      10.48,
                      41.788999999999994,
                      2625.968,
                      660.5939999999999,
                      733.3660000000001,
                      222.99099999999999,
                      62.394,
                      1105.9289999999999,
                      25.745,
                      295.869,
                      96.65100000000001,
                      11.017999999999999,
                      33.931999999999995,
                      26.658,
                      278.659,
                      1.794,
                      88.691,
                      36.047,
                      16.967,
                      29.379,
                      60.757,
                      234.28900000000002,
                      2.986,
                      146.615,
                      115.037,
                      1679.4489999999998,
                      622.413,
                      45.705,
                      648.025,
                      22.825,
                      31.009,
                      275.33299999999997,
                      8.634,
                      271.625,
                      0.525,
                      399.345,
                      76.319,
                      154.186,
                      114.199,
                      260.312,
                      10.02
                    ],
                    "sizemode": "area",
                    "sizeref": 26.2249725,
                    "symbol": "circle"
                  },
                  "mode": "markers",
                  "name": "Asia",
                  "showlegend": true,
                  "type": "scattergeo"
                },
                {
                  "geo": "geo",
                  "hovertemplate": "<b>%{hovertext}</b><br><br>continent=Europe<br>co2=%{marker.size}<br>iso_code=%{location}<extra></extra>",
                  "hovertext": [
                    "Albania",
                    "Andorra",
                    "Austria",
                    "Belarus",
                    "Belgium",
                    "Bosnia and Herzegovina",
                    "Bulgaria",
                    "Croatia",
                    "Czechia",
                    "Denmark",
                    "Estonia",
                    "Faeroe Islands",
                    "Finland",
                    "France",
                    "Germany",
                    "Greece",
                    "Hungary",
                    "Iceland",
                    "Ireland",
                    "Italy",
                    "Latvia",
                    "Liechtenstein",
                    "Lithuania",
                    "Luxembourg",
                    "Malta",
                    "Moldova",
                    "Montenegro",
                    "Netherlands",
                    "North Macedonia",
                    "Norway",
                    "Poland",
                    "Portugal",
                    "Romania",
                    "Serbia",
                    "Slovakia",
                    "Slovenia",
                    "Spain",
                    "Sweden",
                    "Switzerland",
                    "Ukraine",
                    "United Kingdom"
                  ],
                  "legendgroup": "Europe",
                  "locations": [
                    "ALB",
                    "AND",
                    "AUT",
                    "BLR",
                    "BEL",
                    "BIH",
                    "BGR",
                    "HRV",
                    "CZE",
                    "DNK",
                    "EST",
                    "FRO",
                    "FIN",
                    "FRA",
                    "DEU",
                    "GRC",
                    "HUN",
                    "ISL",
                    "IRL",
                    "ITA",
                    "LVA",
                    "LIE",
                    "LTU",
                    "LUX",
                    "MLT",
                    "MDA",
                    "MNE",
                    "NLD",
                    "MKD",
                    "NOR",
                    "POL",
                    "PRT",
                    "ROU",
                    "SRB",
                    "SVK",
                    "SVN",
                    "ESP",
                    "SWE",
                    "CHE",
                    "UKR",
                    "GBR"
                  ],
                  "marker": {
                    "color": "#EF553B",
                    "size": [
                      4.863,
                      0.502,
                      67.962,
                      61.022,
                      99.74600000000001,
                      24.846999999999998,
                      42.223,
                      17.779,
                      100.81200000000001,
                      30.897,
                      12.38,
                      0.736,
                      42.54600000000001,
                      315.931,
                      711.428,
                      65.736,
                      49.08,
                      3.551,
                      37.275,
                      339.772,
                      7.648,
                      0.14800000000000002,
                      13.923,
                      9.752,
                      1.669,
                      5.156000000000001,
                      2.645,
                      153.6,
                      7.975,
                      42.865,
                      319.52099999999996,
                      47.629,
                      74.846,
                      49.338,
                      33.773,
                      14.005999999999998,
                      251.498,
                      40.937,
                      36.742,
                      222.579,
                      369.01
                    ],
                    "sizemode": "area",
                    "sizeref": 26.2249725,
                    "symbol": "circle"
                  },
                  "mode": "markers",
                  "name": "Europe",
                  "showlegend": true,
                  "type": "scattergeo"
                },
                {
                  "geo": "geo",
                  "hovertemplate": "<b>%{hovertext}</b><br><br>continent=Africa<br>co2=%{marker.size}<br>iso_code=%{location}<extra></extra>",
                  "hovertext": [
                    "Algeria",
                    "Angola",
                    "Benin",
                    "Botswana",
                    "Burkina Faso",
                    "Burundi",
                    "Cameroon",
                    "Cape Verde",
                    "Central African Republic",
                    "Chad",
                    "Comoros",
                    "Congo",
                    "Cote d'Ivoire",
                    "Democratic Republic of Congo",
                    "Djibouti",
                    "Egypt",
                    "Equatorial Guinea",
                    "Eritrea",
                    "Eswatini",
                    "Ethiopia",
                    "Gabon",
                    "Gambia",
                    "Ghana",
                    "Guinea",
                    "Guinea-Bissau",
                    "Kenya",
                    "Lesotho",
                    "Liberia",
                    "Libya",
                    "Madagascar",
                    "Malawi",
                    "Mali",
                    "Mauritania",
                    "Mauritius",
                    "Mayotte",
                    "Morocco",
                    "Mozambique",
                    "Namibia",
                    "Niger",
                    "Nigeria",
                    "Rwanda",
                    "Saint Helena",
                    "Sao Tome and Principe",
                    "Senegal",
                    "Seychelles",
                    "Sierra Leone",
                    "Somalia",
                    "South Africa",
                    "South Sudan",
                    "Sudan",
                    "Tanzania",
                    "Togo",
                    "Tunisia",
                    "Uganda",
                    "Zambia",
                    "Zimbabwe"
                  ],
                  "legendgroup": "Africa",
                  "locations": [
                    "DZA",
                    "AGO",
                    "BEN",
                    "BWA",
                    "BFA",
                    "BDI",
                    "CMR",
                    "CPV",
                    "CAF",
                    "TCD",
                    "COM",
                    "COG",
                    "CIV",
                    "COD",
                    "DJI",
                    "EGY",
                    "GNQ",
                    "ERI",
                    "SWZ",
                    "ETH",
                    "GAB",
                    "GMB",
                    "GHA",
                    "GIN",
                    "GNB",
                    "KEN",
                    "LSO",
                    "LBR",
                    "LBY",
                    "MDG",
                    "MWI",
                    "MLI",
                    "MRT",
                    "MUS",
                    "MYT",
                    "MAR",
                    "MOZ",
                    "NAM",
                    "NER",
                    "NGA",
                    "RWA",
                    "SHN",
                    "STP",
                    "SEN",
                    "SYC",
                    "SLE",
                    "SOM",
                    "ZAF",
                    "SSD",
                    "SDN",
                    "TZA",
                    "TGO",
                    "TUN",
                    "UGA",
                    "ZMB",
                    "ZWE"
                  ],
                  "marker": {
                    "color": "#00cc96",
                    "size": [
                      166.642,
                      23.487,
                      7.315,
                      6.925,
                      4.336,
                      0.7040000000000001,
                      7.398,
                      0.602,
                      0.21,
                      1.005,
                      0.306,
                      3.2910000000000004,
                      10.48,
                      2.6889999999999996,
                      0.402,
                      225.882,
                      10.27,
                      0.835,
                      1.013,
                      16.371,
                      4.488,
                      0.547,
                      16.918,
                      3.717,
                      0.314,
                      18.347,
                      2.3209999999999997,
                      1.093,
                      54.50899999999999,
                      4.05,
                      1.588,
                      3.688,
                      3.698,
                      4.378,
                      0.306,
                      68.217,
                      7.287999999999999,
                      4.082,
                      1.8530000000000002,
                      130.10399999999998,
                      1.187,
                      0.011000000000000001,
                      0.126,
                      11.265999999999998,
                      0.581,
                      0.961,
                      0.665,
                      475.923,
                      1.395,
                      22.031,
                      12.043,
                      2.305,
                      30.011,
                      5.721,
                      7.047000000000001,
                      10.949000000000002
                    ],
                    "sizemode": "area",
                    "sizeref": 26.2249725,
                    "symbol": "circle"
                  },
                  "mode": "markers",
                  "name": "Africa",
                  "showlegend": true,
                  "type": "scattergeo"
                },
                {
                  "geo": "geo",
                  "hovertemplate": "<b>%{hovertext}</b><br><br>continent=North America<br>co2=%{marker.size}<br>iso_code=%{location}<extra></extra>",
                  "hovertext": [
                    "Anguilla",
                    "Antigua and Barbuda",
                    "Aruba",
                    "Bahamas",
                    "Barbados",
                    "Belize",
                    "Bermuda",
                    "Bonaire Sint Eustatius and Saba",
                    "British Virgin Islands",
                    "Canada",
                    "Costa Rica",
                    "Cuba",
                    "Curacao",
                    "Dominica",
                    "Dominican Republic",
                    "El Salvador",
                    "Greenland",
                    "Grenada",
                    "Guadeloupe",
                    "Guatemala",
                    "Haiti",
                    "Honduras",
                    "Jamaica",
                    "Martinique",
                    "Mexico",
                    "Montserrat",
                    "Nicaragua",
                    "Panama",
                    "Saint Kitts and Nevis",
                    "Saint Lucia",
                    "Saint Pierre and Miquelon",
                    "Saint Vincent and the Grenadines",
                    "Sint Maarten (Dutch part)",
                    "Trinidad and Tobago",
                    "Turks and Caicos Islands",
                    "United States"
                  ],
                  "legendgroup": "North America",
                  "locations": [
                    "AIA",
                    "ATG",
                    "ABW",
                    "BHS",
                    "BRB",
                    "BLZ",
                    "BMU",
                    "BES",
                    "VGB",
                    "CAN",
                    "CRI",
                    "CUB",
                    "CUW",
                    "DMA",
                    "DOM",
                    "SLV",
                    "GRL",
                    "GRD",
                    "GLP",
                    "GTM",
                    "HTI",
                    "HND",
                    "JAM",
                    "MTQ",
                    "MEX",
                    "MSR",
                    "NIC",
                    "PAN",
                    "KNA",
                    "LCA",
                    "SPM",
                    "VCT",
                    "SXM",
                    "TTO",
                    "TCA",
                    "USA"
                  ],
                  "marker": {
                    "color": "#ab63fa",
                    "size": [
                      0.139,
                      0.486,
                      0.851,
                      2.638,
                      1.215,
                      0.6579999999999999,
                      0.698,
                      0.34,
                      0.157,
                      582.39,
                      8.818,
                      22.525,
                      3.761,
                      0.157,
                      27.52,
                      6.853,
                      0.5539999999999999,
                      0.332,
                      2.562,
                      21.934,
                      3.2889999999999997,
                      10.789000000000001,
                      8.045,
                      2.3480000000000003,
                      435.51199999999994,
                      0.028999999999999998,
                      5.672999999999999,
                      12.294,
                      0.24,
                      0.49700000000000005,
                      0.057,
                      0.23600000000000002,
                      0.705,
                      40.378,
                      0.22899999999999998,
                      5255.816
                    ],
                    "sizemode": "area",
                    "sizeref": 26.2249725,
                    "symbol": "circle"
                  },
                  "mode": "markers",
                  "name": "North America",
                  "showlegend": true,
                  "type": "scattergeo"
                },
                {
                  "geo": "geo",
                  "hovertemplate": "<b>%{hovertext}</b><br><br>continent=South America<br>co2=%{marker.size}<br>iso_code=%{location}<extra></extra>",
                  "hovertext": [
                    "Argentina",
                    "Bolivia",
                    "Brazil",
                    "Chile",
                    "Colombia",
                    "Ecuador",
                    "French Guiana",
                    "Guyana",
                    "Paraguay",
                    "Peru",
                    "Suriname",
                    "Uruguay",
                    "Venezuela"
                  ],
                  "legendgroup": "South America",
                  "locations": [
                    "ARG",
                    "BOL",
                    "BRA",
                    "CHL",
                    "COL",
                    "ECU",
                    "GUF",
                    "GUY",
                    "PRY",
                    "PER",
                    "SUR",
                    "URY",
                    "VEN"
                  ],
                  "marker": {
                    "color": "#FFA15A",
                    "size": [
                      167.56599999999997,
                      23.848000000000003,
                      485.793,
                      86.12899999999999,
                      90.419,
                      36.758,
                      0.728,
                      2.487,
                      8.525,
                      54.978,
                      2.52,
                      6.584,
                      99.175
                    ],
                    "sizemode": "area",
                    "sizeref": 26.2249725,
                    "symbol": "circle"
                  },
                  "mode": "markers",
                  "name": "South America",
                  "showlegend": true,
                  "type": "scattergeo"
                },
                {
                  "geo": "geo",
                  "hovertemplate": "<b>%{hovertext}</b><br><br>continent=Oceania<br>co2=%{marker.size}<br>iso_code=%{location}<extra></extra>",
                  "hovertext": [
                    "Australia",
                    "Cook Islands",
                    "Fiji",
                    "French Polynesia",
                    "Kiribati",
                    "Marshall Islands",
                    "Nauru",
                    "New Caledonia",
                    "New Zealand",
                    "Niue",
                    "Palau",
                    "Papua New Guinea",
                    "Samoa",
                    "Solomon Islands",
                    "Tonga",
                    "Tuvalu",
                    "Vanuatu"
                  ],
                  "legendgroup": "Oceania",
                  "locations": [
                    "AUS",
                    "COK",
                    "FJI",
                    "PYF",
                    "KIR",
                    "MHL",
                    "NRU",
                    "NCL",
                    "NZL",
                    "NIU",
                    "PLW",
                    "PNG",
                    "WSM",
                    "SLB",
                    "TON",
                    "TUV",
                    "VUT"
                  ],
                  "marker": {
                    "color": "#19d3f3",
                    "size": [
                      414.517,
                      0.079,
                      1.392,
                      0.8270000000000001,
                      0.068,
                      0.151,
                      0.057,
                      8.706,
                      37.495,
                      0.011000000000000001,
                      0.21899999999999997,
                      6.617999999999999,
                      0.245,
                      0.298,
                      0.14400000000000002,
                      0.008,
                      0.18100000000000002
                    ],
                    "sizemode": "area",
                    "sizeref": 26.2249725,
                    "symbol": "circle"
                  },
                  "mode": "markers",
                  "name": "Oceania",
                  "showlegend": true,
                  "type": "scattergeo"
                }
              ],
              "layout": {
                "geo": {
                  "center": {},
                  "domain": {
                    "x": [
                      0,
                      1
                    ],
                    "y": [
                      0,
                      1
                    ]
                  },
                  "projection": {
                    "type": "natural earth"
                  }
                },
                "legend": {
                  "itemsizing": "constant",
                  "title": {
                    "text": "Continents"
                  },
                  "tracegroupgap": 0
                },
                "margin": {
                  "t": 60
                },
                "template": {
                  "data": {
                    "bar": [
                      {
                        "error_x": {
                          "color": "#f2f5fa"
                        },
                        "error_y": {
                          "color": "#f2f5fa"
                        },
                        "marker": {
                          "line": {
                            "color": "rgb(17,17,17)",
                            "width": 0.5
                          },
                          "pattern": {
                            "fillmode": "overlay",
                            "size": 10,
                            "solidity": 0.2
                          }
                        },
                        "type": "bar"
                      }
                    ],
                    "barpolar": [
                      {
                        "marker": {
                          "line": {
                            "color": "rgb(17,17,17)",
                            "width": 0.5
                          },
                          "pattern": {
                            "fillmode": "overlay",
                            "size": 10,
                            "solidity": 0.2
                          }
                        },
                        "type": "barpolar"
                      }
                    ],
                    "carpet": [
                      {
                        "aaxis": {
                          "endlinecolor": "#A2B1C6",
                          "gridcolor": "#506784",
                          "linecolor": "#506784",
                          "minorgridcolor": "#506784",
                          "startlinecolor": "#A2B1C6"
                        },
                        "baxis": {
                          "endlinecolor": "#A2B1C6",
                          "gridcolor": "#506784",
                          "linecolor": "#506784",
                          "minorgridcolor": "#506784",
                          "startlinecolor": "#A2B1C6"
                        },
                        "type": "carpet"
                      }
                    ],
                    "choropleth": [
                      {
                        "colorbar": {
                          "outlinewidth": 0,
                          "ticks": ""
                        },
                        "type": "choropleth"
                      }
                    ],
                    "contour": [
                      {
                        "colorbar": {
                          "outlinewidth": 0,
                          "ticks": ""
                        },
                        "colorscale": [
                          [
                            0,
                            "#0d0887"
                          ],
                          [
                            0.1111111111111111,
                            "#46039f"
                          ],
                          [
                            0.2222222222222222,
                            "#7201a8"
                          ],
                          [
                            0.3333333333333333,
                            "#9c179e"
                          ],
                          [
                            0.4444444444444444,
                            "#bd3786"
                          ],
                          [
                            0.5555555555555556,
                            "#d8576b"
                          ],
                          [
                            0.6666666666666666,
                            "#ed7953"
                          ],
                          [
                            0.7777777777777778,
                            "#fb9f3a"
                          ],
                          [
                            0.8888888888888888,
                            "#fdca26"
                          ],
                          [
                            1,
                            "#f0f921"
                          ]
                        ],
                        "type": "contour"
                      }
                    ],
                    "contourcarpet": [
                      {
                        "colorbar": {
                          "outlinewidth": 0,
                          "ticks": ""
                        },
                        "type": "contourcarpet"
                      }
                    ],
                    "heatmap": [
                      {
                        "colorbar": {
                          "outlinewidth": 0,
                          "ticks": ""
                        },
                        "colorscale": [
                          [
                            0,
                            "#0d0887"
                          ],
                          [
                            0.1111111111111111,
                            "#46039f"
                          ],
                          [
                            0.2222222222222222,
                            "#7201a8"
                          ],
                          [
                            0.3333333333333333,
                            "#9c179e"
                          ],
                          [
                            0.4444444444444444,
                            "#bd3786"
                          ],
                          [
                            0.5555555555555556,
                            "#d8576b"
                          ],
                          [
                            0.6666666666666666,
                            "#ed7953"
                          ],
                          [
                            0.7777777777777778,
                            "#fb9f3a"
                          ],
                          [
                            0.8888888888888888,
                            "#fdca26"
                          ],
                          [
                            1,
                            "#f0f921"
                          ]
                        ],
                        "type": "heatmap"
                      }
                    ],
                    "heatmapgl": [
                      {
                        "colorbar": {
                          "outlinewidth": 0,
                          "ticks": ""
                        },
                        "colorscale": [
                          [
                            0,
                            "#0d0887"
                          ],
                          [
                            0.1111111111111111,
                            "#46039f"
                          ],
                          [
                            0.2222222222222222,
                            "#7201a8"
                          ],
                          [
                            0.3333333333333333,
                            "#9c179e"
                          ],
                          [
                            0.4444444444444444,
                            "#bd3786"
                          ],
                          [
                            0.5555555555555556,
                            "#d8576b"
                          ],
                          [
                            0.6666666666666666,
                            "#ed7953"
                          ],
                          [
                            0.7777777777777778,
                            "#fb9f3a"
                          ],
                          [
                            0.8888888888888888,
                            "#fdca26"
                          ],
                          [
                            1,
                            "#f0f921"
                          ]
                        ],
                        "type": "heatmapgl"
                      }
                    ],
                    "histogram": [
                      {
                        "marker": {
                          "pattern": {
                            "fillmode": "overlay",
                            "size": 10,
                            "solidity": 0.2
                          }
                        },
                        "type": "histogram"
                      }
                    ],
                    "histogram2d": [
                      {
                        "colorbar": {
                          "outlinewidth": 0,
                          "ticks": ""
                        },
                        "colorscale": [
                          [
                            0,
                            "#0d0887"
                          ],
                          [
                            0.1111111111111111,
                            "#46039f"
                          ],
                          [
                            0.2222222222222222,
                            "#7201a8"
                          ],
                          [
                            0.3333333333333333,
                            "#9c179e"
                          ],
                          [
                            0.4444444444444444,
                            "#bd3786"
                          ],
                          [
                            0.5555555555555556,
                            "#d8576b"
                          ],
                          [
                            0.6666666666666666,
                            "#ed7953"
                          ],
                          [
                            0.7777777777777778,
                            "#fb9f3a"
                          ],
                          [
                            0.8888888888888888,
                            "#fdca26"
                          ],
                          [
                            1,
                            "#f0f921"
                          ]
                        ],
                        "type": "histogram2d"
                      }
                    ],
                    "histogram2dcontour": [
                      {
                        "colorbar": {
                          "outlinewidth": 0,
                          "ticks": ""
                        },
                        "colorscale": [
                          [
                            0,
                            "#0d0887"
                          ],
                          [
                            0.1111111111111111,
                            "#46039f"
                          ],
                          [
                            0.2222222222222222,
                            "#7201a8"
                          ],
                          [
                            0.3333333333333333,
                            "#9c179e"
                          ],
                          [
                            0.4444444444444444,
                            "#bd3786"
                          ],
                          [
                            0.5555555555555556,
                            "#d8576b"
                          ],
                          [
                            0.6666666666666666,
                            "#ed7953"
                          ],
                          [
                            0.7777777777777778,
                            "#fb9f3a"
                          ],
                          [
                            0.8888888888888888,
                            "#fdca26"
                          ],
                          [
                            1,
                            "#f0f921"
                          ]
                        ],
                        "type": "histogram2dcontour"
                      }
                    ],
                    "mesh3d": [
                      {
                        "colorbar": {
                          "outlinewidth": 0,
                          "ticks": ""
                        },
                        "type": "mesh3d"
                      }
                    ],
                    "parcoords": [
                      {
                        "line": {
                          "colorbar": {
                            "outlinewidth": 0,
                            "ticks": ""
                          }
                        },
                        "type": "parcoords"
                      }
                    ],
                    "pie": [
                      {
                        "automargin": true,
                        "type": "pie"
                      }
                    ],
                    "scatter": [
                      {
                        "marker": {
                          "line": {
                            "color": "#283442"
                          }
                        },
                        "type": "scatter"
                      }
                    ],
                    "scatter3d": [
                      {
                        "line": {
                          "colorbar": {
                            "outlinewidth": 0,
                            "ticks": ""
                          }
                        },
                        "marker": {
                          "colorbar": {
                            "outlinewidth": 0,
                            "ticks": ""
                          }
                        },
                        "type": "scatter3d"
                      }
                    ],
                    "scattercarpet": [
                      {
                        "marker": {
                          "colorbar": {
                            "outlinewidth": 0,
                            "ticks": ""
                          }
                        },
                        "type": "scattercarpet"
                      }
                    ],
                    "scattergeo": [
                      {
                        "marker": {
                          "colorbar": {
                            "outlinewidth": 0,
                            "ticks": ""
                          }
                        },
                        "type": "scattergeo"
                      }
                    ],
                    "scattergl": [
                      {
                        "marker": {
                          "line": {
                            "color": "#283442"
                          }
                        },
                        "type": "scattergl"
                      }
                    ],
                    "scattermapbox": [
                      {
                        "marker": {
                          "colorbar": {
                            "outlinewidth": 0,
                            "ticks": ""
                          }
                        },
                        "type": "scattermapbox"
                      }
                    ],
                    "scatterpolar": [
                      {
                        "marker": {
                          "colorbar": {
                            "outlinewidth": 0,
                            "ticks": ""
                          }
                        },
                        "type": "scatterpolar"
                      }
                    ],
                    "scatterpolargl": [
                      {
                        "marker": {
                          "colorbar": {
                            "outlinewidth": 0,
                            "ticks": ""
                          }
                        },
                        "type": "scatterpolargl"
                      }
                    ],
                    "scatterternary": [
                      {
                        "marker": {
                          "colorbar": {
                            "outlinewidth": 0,
                            "ticks": ""
                          }
                        },
                        "type": "scatterternary"
                      }
                    ],
                    "surface": [
                      {
                        "colorbar": {
                          "outlinewidth": 0,
                          "ticks": ""
                        },
                        "colorscale": [
                          [
                            0,
                            "#0d0887"
                          ],
                          [
                            0.1111111111111111,
                            "#46039f"
                          ],
                          [
                            0.2222222222222222,
                            "#7201a8"
                          ],
                          [
                            0.3333333333333333,
                            "#9c179e"
                          ],
                          [
                            0.4444444444444444,
                            "#bd3786"
                          ],
                          [
                            0.5555555555555556,
                            "#d8576b"
                          ],
                          [
                            0.6666666666666666,
                            "#ed7953"
                          ],
                          [
                            0.7777777777777778,
                            "#fb9f3a"
                          ],
                          [
                            0.8888888888888888,
                            "#fdca26"
                          ],
                          [
                            1,
                            "#f0f921"
                          ]
                        ],
                        "type": "surface"
                      }
                    ],
                    "table": [
                      {
                        "cells": {
                          "fill": {
                            "color": "#506784"
                          },
                          "line": {
                            "color": "rgb(17,17,17)"
                          }
                        },
                        "header": {
                          "fill": {
                            "color": "#2a3f5f"
                          },
                          "line": {
                            "color": "rgb(17,17,17)"
                          }
                        },
                        "type": "table"
                      }
                    ]
                  },
                  "layout": {
                    "annotationdefaults": {
                      "arrowcolor": "#f2f5fa",
                      "arrowhead": 0,
                      "arrowwidth": 1
                    },
                    "autotypenumbers": "strict",
                    "coloraxis": {
                      "colorbar": {
                        "outlinewidth": 0,
                        "ticks": ""
                      }
                    },
                    "colorscale": {
                      "diverging": [
                        [
                          0,
                          "#8e0152"
                        ],
                        [
                          0.1,
                          "#c51b7d"
                        ],
                        [
                          0.2,
                          "#de77ae"
                        ],
                        [
                          0.3,
                          "#f1b6da"
                        ],
                        [
                          0.4,
                          "#fde0ef"
                        ],
                        [
                          0.5,
                          "#f7f7f7"
                        ],
                        [
                          0.6,
                          "#e6f5d0"
                        ],
                        [
                          0.7,
                          "#b8e186"
                        ],
                        [
                          0.8,
                          "#7fbc41"
                        ],
                        [
                          0.9,
                          "#4d9221"
                        ],
                        [
                          1,
                          "#276419"
                        ]
                      ],
                      "sequential": [
                        [
                          0,
                          "#0d0887"
                        ],
                        [
                          0.1111111111111111,
                          "#46039f"
                        ],
                        [
                          0.2222222222222222,
                          "#7201a8"
                        ],
                        [
                          0.3333333333333333,
                          "#9c179e"
                        ],
                        [
                          0.4444444444444444,
                          "#bd3786"
                        ],
                        [
                          0.5555555555555556,
                          "#d8576b"
                        ],
                        [
                          0.6666666666666666,
                          "#ed7953"
                        ],
                        [
                          0.7777777777777778,
                          "#fb9f3a"
                        ],
                        [
                          0.8888888888888888,
                          "#fdca26"
                        ],
                        [
                          1,
                          "#f0f921"
                        ]
                      ],
                      "sequentialminus": [
                        [
                          0,
                          "#0d0887"
                        ],
                        [
                          0.1111111111111111,
                          "#46039f"
                        ],
                        [
                          0.2222222222222222,
                          "#7201a8"
                        ],
                        [
                          0.3333333333333333,
                          "#9c179e"
                        ],
                        [
                          0.4444444444444444,
                          "#bd3786"
                        ],
                        [
                          0.5555555555555556,
                          "#d8576b"
                        ],
                        [
                          0.6666666666666666,
                          "#ed7953"
                        ],
                        [
                          0.7777777777777778,
                          "#fb9f3a"
                        ],
                        [
                          0.8888888888888888,
                          "#fdca26"
                        ],
                        [
                          1,
                          "#f0f921"
                        ]
                      ]
                    },
                    "colorway": [
                      "#636efa",
                      "#EF553B",
                      "#00cc96",
                      "#ab63fa",
                      "#FFA15A",
                      "#19d3f3",
                      "#FF6692",
                      "#B6E880",
                      "#FF97FF",
                      "#FECB52"
                    ],
                    "font": {
                      "color": "#f2f5fa"
                    },
                    "geo": {
                      "bgcolor": "rgb(17,17,17)",
                      "lakecolor": "rgb(17,17,17)",
                      "landcolor": "rgb(17,17,17)",
                      "showlakes": true,
                      "showland": true,
                      "subunitcolor": "#506784"
                    },
                    "hoverlabel": {
                      "align": "left"
                    },
                    "hovermode": "closest",
                    "mapbox": {
                      "style": "dark"
                    },
                    "paper_bgcolor": "rgb(17,17,17)",
                    "plot_bgcolor": "rgb(17,17,17)",
                    "polar": {
                      "angularaxis": {
                        "gridcolor": "#506784",
                        "linecolor": "#506784",
                        "ticks": ""
                      },
                      "bgcolor": "rgb(17,17,17)",
                      "radialaxis": {
                        "gridcolor": "#506784",
                        "linecolor": "#506784",
                        "ticks": ""
                      }
                    },
                    "scene": {
                      "xaxis": {
                        "backgroundcolor": "rgb(17,17,17)",
                        "gridcolor": "#506784",
                        "gridwidth": 2,
                        "linecolor": "#506784",
                        "showbackground": true,
                        "ticks": "",
                        "zerolinecolor": "#C8D4E3"
                      },
                      "yaxis": {
                        "backgroundcolor": "rgb(17,17,17)",
                        "gridcolor": "#506784",
                        "gridwidth": 2,
                        "linecolor": "#506784",
                        "showbackground": true,
                        "ticks": "",
                        "zerolinecolor": "#C8D4E3"
                      },
                      "zaxis": {
                        "backgroundcolor": "rgb(17,17,17)",
                        "gridcolor": "#506784",
                        "gridwidth": 2,
                        "linecolor": "#506784",
                        "showbackground": true,
                        "ticks": "",
                        "zerolinecolor": "#C8D4E3"
                      }
                    },
                    "shapedefaults": {
                      "line": {
                        "color": "#f2f5fa"
                      }
                    },
                    "sliderdefaults": {
                      "bgcolor": "#C8D4E3",
                      "bordercolor": "rgb(17,17,17)",
                      "borderwidth": 1,
                      "tickwidth": 0
                    },
                    "ternary": {
                      "aaxis": {
                        "gridcolor": "#506784",
                        "linecolor": "#506784",
                        "ticks": ""
                      },
                      "baxis": {
                        "gridcolor": "#506784",
                        "linecolor": "#506784",
                        "ticks": ""
                      },
                      "bgcolor": "rgb(17,17,17)",
                      "caxis": {
                        "gridcolor": "#506784",
                        "linecolor": "#506784",
                        "ticks": ""
                      }
                    },
                    "title": {
                      "x": 0.05
                    },
                    "updatemenudefaults": {
                      "bgcolor": "#506784",
                      "borderwidth": 0
                    },
                    "xaxis": {
                      "automargin": true,
                      "gridcolor": "#283442",
                      "linecolor": "#506784",
                      "ticks": "",
                      "title": {
                        "standoff": 15
                      },
                      "zerolinecolor": "#283442",
                      "zerolinewidth": 2
                    },
                    "yaxis": {
                      "automargin": true,
                      "gridcolor": "#283442",
                      "linecolor": "#506784",
                      "ticks": "",
                      "title": {
                        "standoff": 15
                      },
                      "zerolinecolor": "#283442",
                      "zerolinewidth": 2
                    }
                  }
                },
                "title": {
                  "text": "CO2 Emissions in 2019"
                }
              }
            }
          },
          "metadata": {},
          "output_type": "display_data"
        }
      ],
      "source": [
        "fig = px.scatter_geo(globe_df_curr, locations=\"iso_code\", color=\"continent\",\n",
        "                     hover_name=\"country\", size=\"co2\",\n",
        "                     projection=\"natural earth\", template=\"plotly_dark\")\n",
        "fig.update_layout(title='CO2 Emissions in 2019', legend_title='Continents')\n",
        "fig.show()"
      ]
    },
    {
      "cell_type": "code",
      "execution_count": 53,
      "metadata": {},
      "outputs": [
        {
          "data": {
            "application/vnd.plotly.v1+json": {
              "config": {
                "plotlyServerURL": "https://plot.ly"
              },
              "data": [
                {
                  "hovertemplate": "country=United Kingdom<br>year=%{x}<br>co2=%{y}<extra></extra>",
                  "legendgroup": "United Kingdom",
                  "line": {
                    "color": "#636efa",
                    "dash": "solid"
                  },
                  "marker": {
                    "symbol": "circle"
                  },
                  "mode": "lines",
                  "name": "United Kingdom",
                  "showlegend": true,
                  "type": "scattergl",
                  "x": [
                    1801,
                    1802,
                    1803,
                    1804,
                    1805,
                    1806,
                    1807,
                    1808,
                    1809,
                    1810,
                    1811,
                    1812,
                    1813,
                    1814,
                    1815,
                    1816,
                    1817,
                    1818,
                    1819,
                    1820,
                    1821,
                    1822,
                    1823,
                    1824,
                    1825,
                    1826,
                    1827,
                    1828,
                    1829,
                    1830,
                    1831,
                    1832,
                    1833,
                    1834,
                    1835,
                    1836,
                    1837,
                    1838,
                    1839,
                    1840,
                    1841,
                    1842,
                    1843,
                    1844,
                    1845,
                    1846,
                    1847,
                    1848,
                    1849,
                    1850,
                    1851,
                    1852,
                    1853,
                    1854,
                    1855,
                    1856,
                    1857,
                    1858,
                    1859,
                    1860,
                    1861,
                    1862,
                    1863,
                    1864,
                    1865,
                    1866,
                    1867,
                    1868,
                    1869,
                    1870,
                    1871,
                    1872,
                    1873,
                    1874,
                    1875,
                    1876,
                    1877,
                    1878,
                    1879,
                    1880,
                    1881,
                    1882,
                    1883,
                    1884,
                    1885,
                    1886,
                    1887,
                    1888,
                    1889,
                    1890,
                    1891,
                    1892,
                    1893,
                    1894,
                    1895,
                    1896,
                    1897,
                    1898,
                    1899,
                    1900,
                    1901,
                    1902,
                    1903,
                    1904,
                    1905,
                    1906,
                    1907,
                    1908,
                    1909,
                    1910,
                    1911,
                    1912,
                    1913,
                    1914,
                    1915,
                    1916,
                    1917,
                    1918,
                    1919,
                    1920,
                    1921,
                    1922,
                    1923,
                    1924,
                    1925,
                    1926,
                    1927,
                    1928,
                    1929,
                    1930,
                    1931,
                    1932,
                    1933,
                    1934,
                    1935,
                    1936,
                    1937,
                    1938,
                    1939,
                    1940,
                    1941,
                    1942,
                    1943,
                    1944,
                    1945,
                    1946,
                    1947,
                    1948,
                    1949,
                    1950,
                    1951,
                    1952,
                    1953,
                    1954,
                    1955,
                    1956,
                    1957,
                    1958,
                    1959,
                    1960,
                    1961,
                    1962,
                    1963,
                    1964,
                    1965,
                    1966,
                    1967,
                    1968,
                    1969,
                    1970,
                    1971,
                    1972,
                    1973,
                    1974,
                    1975,
                    1976,
                    1977,
                    1978,
                    1979,
                    1980,
                    1981,
                    1982,
                    1983,
                    1984,
                    1985,
                    1986,
                    1987,
                    1988,
                    1989,
                    1990,
                    1991,
                    1992,
                    1993,
                    1994,
                    1995,
                    1996,
                    1997,
                    1998,
                    1999,
                    2000,
                    2001,
                    2002,
                    2003,
                    2004,
                    2005,
                    2006,
                    2007,
                    2008,
                    2009,
                    2010,
                    2011,
                    2012,
                    2013,
                    2014,
                    2015,
                    2016,
                    2017,
                    2018,
                    2019,
                    2020
                  ],
                  "xaxis": "x",
                  "y": [
                    26.711,
                    26.85,
                    30.191,
                    30.331,
                    31.463,
                    33.251,
                    33.258,
                    33.269,
                    33.28,
                    33.291,
                    35.563,
                    36.937,
                    37.376,
                    38.086999999999996,
                    38.923,
                    41.43600000000001,
                    41.923,
                    42.022,
                    42.338,
                    42.528,
                    42.872,
                    44.521,
                    46.873999999999995,
                    49.083,
                    49.592,
                    50.146,
                    52.23,
                    52.589,
                    53.336999999999996,
                    67.865,
                    65.765,
                    65.589,
                    65.494,
                    65.538,
                    65.263,
                    76.446,
                    73.771,
                    75.812,
                    77.779,
                    80.96,
                    81.839,
                    85.37100000000001,
                    89.094,
                    93.47200000000001,
                    99.98700000000001,
                    95.693,
                    103.54799999999999,
                    109.286,
                    116.006,
                    122.605,
                    116.654,
                    116.24,
                    115.59899999999999,
                    139.30200000000002,
                    130.442,
                    140.375,
                    137.862,
                    135.114,
                    150.011,
                    167.95,
                    175.048,
                    169.47099999999998,
                    180.225,
                    193.91,
                    205.488,
                    211.732,
                    217.37400000000002,
                    213.21900000000002,
                    223.706,
                    228.49400000000003,
                    242.037,
                    254.989,
                    264.658,
                    257.187,
                    271.488,
                    271.019,
                    275.899,
                    270.975,
                    272.64599999999996,
                    297.125,
                    312.312,
                    314.965,
                    327.73,
                    319.098,
                    315.291,
                    312.42900000000003,
                    320.442,
                    333.168,
                    345.024,
                    353.023,
                    360.472,
                    353.00800000000004,
                    316.211,
                    362.102,
                    365.55,
                    375.981,
                    385.969,
                    386.87800000000004,
                    414.55199999999996,
                    419.741,
                    410.70099999999996,
                    426.64,
                    429.985,
                    431.99300000000005,
                    437.67199999999997,
                    453.35,
                    473.56800000000004,
                    461.964,
                    466.086,
                    469.73199999999997,
                    481.351,
                    455.88599999999997,
                    498.32199999999995,
                    483.18300000000005,
                    489.481,
                    507.07199999999995,
                    501.16900000000004,
                    466.849,
                    456.131,
                    470.751,
                    319.805,
                    428.223,
                    454.89300000000003,
                    475.983,
                    449.657,
                    246.37099999999998,
                    466.735,
                    437.64,
                    460.67400000000004,
                    441.074,
                    412.212,
                    395.9,
                    392.155,
                    423.204,
                    429.10699999999997,
                    453.796,
                    468.131,
                    448.94,
                    452.45599999999996,
                    475.144,
                    469.652,
                    468.9,
                    454.82,
                    442.025,
                    417.624,
                    436.12800000000004,
                    461.269,
                    475.56300000000005,
                    485.10900000000004,
                    500.792,
                    545.253,
                    528.706,
                    540.211,
                    553.01,
                    576.952,
                    574.3240000000001,
                    570.714,
                    556.316,
                    546.606,
                    584.02,
                    588.615,
                    592.931,
                    603.386,
                    607.866,
                    622.112,
                    618.075,
                    592.057,
                    606.488,
                    628.383,
                    652.577,
                    660.388,
                    648.026,
                    659.577,
                    617.184,
                    603.247,
                    598.526,
                    604.362,
                    604.714,
                    644.513,
                    579.035,
                    560.554,
                    548.24,
                    545.485,
                    529.1080000000001,
                    559.627,
                    568.554,
                    571.668,
                    570.294,
                    581.576,
                    600.344,
                    608.431,
                    592.884,
                    578.635,
                    574.641,
                    566.568,
                    588.188,
                    562.3330000000001,
                    567.6,
                    561.109,
                    567.585,
                    576.314,
                    560.066,
                    571.472,
                    572.904,
                    569.962,
                    567.572,
                    559.236,
                    544.498,
                    493.895,
                    511.63199999999995,
                    469.454,
                    487.517,
                    477.38699999999994,
                    438.541,
                    422.34,
                    399.337,
                    387.565,
                    381.89,
                    369.01,
                    329.579
                  ],
                  "yaxis": "y"
                },
                {
                  "hovertemplate": "country=Europe<br>year=%{x}<br>co2=%{y}<extra></extra>",
                  "legendgroup": "Europe",
                  "line": {
                    "color": "#EF553B",
                    "dash": "solid"
                  },
                  "marker": {
                    "symbol": "circle"
                  },
                  "mode": "lines",
                  "name": "Europe",
                  "showlegend": true,
                  "type": "scattergl",
                  "x": [
                    1801,
                    1802,
                    1803,
                    1804,
                    1805,
                    1806,
                    1807,
                    1808,
                    1809,
                    1810,
                    1811,
                    1812,
                    1813,
                    1814,
                    1815,
                    1816,
                    1817,
                    1818,
                    1819,
                    1820,
                    1821,
                    1822,
                    1823,
                    1824,
                    1825,
                    1826,
                    1827,
                    1828,
                    1829,
                    1830,
                    1831,
                    1832,
                    1833,
                    1834,
                    1835,
                    1836,
                    1837,
                    1838,
                    1839,
                    1840,
                    1841,
                    1842,
                    1843,
                    1844,
                    1845,
                    1846,
                    1847,
                    1848,
                    1849,
                    1850,
                    1851,
                    1852,
                    1853,
                    1854,
                    1855,
                    1856,
                    1857,
                    1858,
                    1859,
                    1860,
                    1861,
                    1862,
                    1863,
                    1864,
                    1865,
                    1866,
                    1867,
                    1868,
                    1869,
                    1870,
                    1871,
                    1872,
                    1873,
                    1874,
                    1875,
                    1876,
                    1877,
                    1878,
                    1879,
                    1880,
                    1881,
                    1882,
                    1883,
                    1884,
                    1885,
                    1886,
                    1887,
                    1888,
                    1889,
                    1890,
                    1891,
                    1892,
                    1893,
                    1894,
                    1895,
                    1896,
                    1897,
                    1898,
                    1899,
                    1900,
                    1901,
                    1902,
                    1903,
                    1904,
                    1905,
                    1906,
                    1907,
                    1908,
                    1909,
                    1910,
                    1911,
                    1912,
                    1913,
                    1914,
                    1915,
                    1916,
                    1917,
                    1918,
                    1919,
                    1920,
                    1921,
                    1922,
                    1923,
                    1924,
                    1925,
                    1926,
                    1927,
                    1928,
                    1929,
                    1930,
                    1931,
                    1932,
                    1933,
                    1934,
                    1935,
                    1936,
                    1937,
                    1938,
                    1939,
                    1940,
                    1941,
                    1942,
                    1943,
                    1944,
                    1945,
                    1946,
                    1947,
                    1948,
                    1949,
                    1950,
                    1951,
                    1952,
                    1953,
                    1954,
                    1955,
                    1956,
                    1957,
                    1958,
                    1959,
                    1960,
                    1961,
                    1962,
                    1963,
                    1964,
                    1965,
                    1966,
                    1967,
                    1968,
                    1969,
                    1970,
                    1971,
                    1972,
                    1973,
                    1974,
                    1975,
                    1976,
                    1977,
                    1978,
                    1979,
                    1980,
                    1981,
                    1982,
                    1983,
                    1984,
                    1985,
                    1986,
                    1987,
                    1988,
                    1989,
                    1990,
                    1991,
                    1992,
                    1993,
                    1994,
                    1995,
                    1996,
                    1997,
                    1998,
                    1999,
                    2000,
                    2001,
                    2002,
                    2003,
                    2004,
                    2005,
                    2006,
                    2007,
                    2008,
                    2009,
                    2010,
                    2011,
                    2012,
                    2013,
                    2014,
                    2015,
                    2016,
                    2017,
                    2018,
                    2019,
                    2020
                  ],
                  "xaxis": "x",
                  "y": [
                    27.689,
                    36.49,
                    31.188000000000002,
                    33.973,
                    33.075,
                    34.709,
                    36.493,
                    34.669000000000004,
                    34.683,
                    36.959,
                    39.132,
                    40.52,
                    40.696,
                    41.56399999999999,
                    42.883,
                    46.998000000000005,
                    48.708999999999996,
                    48.858999999999995,
                    49.181999999999995,
                    49.893,
                    50.604,
                    52.597,
                    55.645,
                    57.506,
                    59.617,
                    60.101000000000006,
                    64.464,
                    65.04,
                    64.596,
                    87.029,
                    82.258,
                    82.083,
                    83.273,
                    85.1,
                    86.126,
                    100.042,
                    99.382,
                    103.01,
                    106.09100000000001,
                    113.053,
                    116.402,
                    122.583,
                    125.085,
                    132.113,
                    144.003,
                    145.058,
                    157.299,
                    156.991,
                    165.243,
                    177.03,
                    174.102,
                    180.676,
                    186.945,
                    221.855,
                    221.81,
                    237.075,
                    238.618,
                    241.801,
                    254.97299999999998,
                    281.812,
                    300.478,
                    305.04,
                    321.23,
                    346.62699999999995,
                    371.214,
                    383.59,
                    401.82099999999997,
                    406.19199999999995,
                    425.356,
                    431.41,
                    459.74199999999996,
                    496.532,
                    522.498,
                    484.545,
                    534.636,
                    547.124,
                    545.931,
                    551.744,
                    569.566,
                    640.7180000000001,
                    657.7489999999999,
                    680.173,
                    718.737,
                    714.1139999999999,
                    716.627,
                    715.953,
                    743.2510000000001,
                    787.4689999999999,
                    824.518,
                    862.528,
                    892.962,
                    879.268,
                    854.818,
                    927.8539999999999,
                    952.554,
                    996.091,
                    1045.58,
                    1079.0710000000001,
                    1149.406,
                    1205.634,
                    1195.1019999999999,
                    1195.9669999999999,
                    1245.0510000000002,
                    1268.305,
                    1305.576,
                    1347.296,
                    1492.693,
                    1517.106,
                    1518.711,
                    1538.4920000000002,
                    1573.985,
                    1632.356,
                    1767.217,
                    1573.793,
                    1492.7060000000001,
                    1561.015,
                    1533.267,
                    1394.0539999999999,
                    1183.761,
                    1373.671,
                    1253.115,
                    1397.865,
                    1335.6729999999998,
                    1541.491,
                    1526.763,
                    1308.385,
                    1670.139,
                    1676.785,
                    1820.2420000000002,
                    1721.1689999999999,
                    1606.566,
                    1492.846,
                    1537.1760000000002,
                    1682.142,
                    1766.8029999999999,
                    1876.495,
                    2036.5829999999999,
                    2045.975,
                    2094.155,
                    2227.7960000000003,
                    2142.812,
                    1996.335,
                    2002.95,
                    1889.2579999999998,
                    1233.343,
                    1656.559,
                    1907.211,
                    2055.5229999999997,
                    2242.201,
                    2382.639,
                    2629.48,
                    2713.203,
                    2790.667,
                    2969.1209999999996,
                    3232.6620000000003,
                    3444.1079999999997,
                    3592.022,
                    3630.382,
                    3711.8309999999997,
                    3961.923,
                    4106.401,
                    4333.286,
                    4607.005999999999,
                    4836.005,
                    4978.52,
                    5149.149,
                    5262.923000000001,
                    5508.267,
                    5808.331,
                    6090.346,
                    6312.7480000000005,
                    6541.129,
                    6833.579000000001,
                    6851.164000000001,
                    6889.733,
                    7264.647,
                    7320.281,
                    7552.39,
                    7732.355,
                    7735.701,
                    7453.972,
                    7394.331,
                    7400.814,
                    7451.776,
                    7775.661,
                    7788.33,
                    7812.7480000000005,
                    7846.139,
                    7813.968000000001,
                    8015.589,
                    7714.3859999999995,
                    7078.818,
                    6791.984,
                    6433.785,
                    6415.241,
                    6464.354,
                    6258.128000000001,
                    6232.187,
                    6147.589,
                    6149.034000000001,
                    6275.941,
                    6241.656,
                    6387.840999999999,
                    6419.130999999999,
                    6410.33,
                    6509.434,
                    6457.352,
                    6384.571999999999,
                    5871.170999999999,
                    6098.535,
                    6023.668000000001,
                    5972.232,
                    5815.575,
                    5589.757,
                    5594.384,
                    5590.253000000001,
                    5620.307,
                    5593.057,
                    5430.2390000000005,
                    4946.034000000001
                  ],
                  "yaxis": "y"
                },
                {
                  "hovertemplate": "country=World<br>year=%{x}<br>co2=%{y}<extra></extra>",
                  "legendgroup": "World",
                  "line": {
                    "color": "#00cc96",
                    "dash": "solid"
                  },
                  "marker": {
                    "symbol": "circle"
                  },
                  "mode": "lines",
                  "name": "World",
                  "showlegend": true,
                  "type": "scattergl",
                  "x": [
                    1801,
                    1802,
                    1803,
                    1804,
                    1805,
                    1806,
                    1807,
                    1808,
                    1809,
                    1810,
                    1811,
                    1812,
                    1813,
                    1814,
                    1815,
                    1816,
                    1817,
                    1818,
                    1819,
                    1820,
                    1821,
                    1822,
                    1823,
                    1824,
                    1825,
                    1826,
                    1827,
                    1828,
                    1829,
                    1830,
                    1831,
                    1832,
                    1833,
                    1834,
                    1835,
                    1836,
                    1837,
                    1838,
                    1839,
                    1840,
                    1841,
                    1842,
                    1843,
                    1844,
                    1845,
                    1846,
                    1847,
                    1848,
                    1849,
                    1850,
                    1851,
                    1852,
                    1853,
                    1854,
                    1855,
                    1856,
                    1857,
                    1858,
                    1859,
                    1860,
                    1861,
                    1862,
                    1863,
                    1864,
                    1865,
                    1866,
                    1867,
                    1868,
                    1869,
                    1870,
                    1871,
                    1872,
                    1873,
                    1874,
                    1875,
                    1876,
                    1877,
                    1878,
                    1879,
                    1880,
                    1881,
                    1882,
                    1883,
                    1884,
                    1885,
                    1886,
                    1887,
                    1888,
                    1889,
                    1890,
                    1891,
                    1892,
                    1893,
                    1894,
                    1895,
                    1896,
                    1897,
                    1898,
                    1899,
                    1900,
                    1901,
                    1902,
                    1903,
                    1904,
                    1905,
                    1906,
                    1907,
                    1908,
                    1909,
                    1910,
                    1911,
                    1912,
                    1913,
                    1914,
                    1915,
                    1916,
                    1917,
                    1918,
                    1919,
                    1920,
                    1921,
                    1922,
                    1923,
                    1924,
                    1925,
                    1926,
                    1927,
                    1928,
                    1929,
                    1930,
                    1931,
                    1932,
                    1933,
                    1934,
                    1935,
                    1936,
                    1937,
                    1938,
                    1939,
                    1940,
                    1941,
                    1942,
                    1943,
                    1944,
                    1945,
                    1946,
                    1947,
                    1948,
                    1949,
                    1950,
                    1951,
                    1952,
                    1953,
                    1954,
                    1955,
                    1956,
                    1957,
                    1958,
                    1959,
                    1960,
                    1961,
                    1962,
                    1963,
                    1964,
                    1965,
                    1966,
                    1967,
                    1968,
                    1969,
                    1970,
                    1971,
                    1972,
                    1973,
                    1974,
                    1975,
                    1976,
                    1977,
                    1978,
                    1979,
                    1980,
                    1981,
                    1982,
                    1983,
                    1984,
                    1985,
                    1986,
                    1987,
                    1988,
                    1989,
                    1990,
                    1991,
                    1992,
                    1993,
                    1994,
                    1995,
                    1996,
                    1997,
                    1998,
                    1999,
                    2000,
                    2001,
                    2002,
                    2003,
                    2004,
                    2005,
                    2006,
                    2007,
                    2008,
                    2009,
                    2010,
                    2011,
                    2012,
                    2013,
                    2014,
                    2015,
                    2016,
                    2017,
                    2018,
                    2019,
                    2020
                  ],
                  "xaxis": "x",
                  "y": [
                    27.96,
                    36.783,
                    31.488000000000003,
                    34.31,
                    33.419000000000004,
                    35.046,
                    36.874,
                    35.064,
                    35.09,
                    37.38,
                    39.582,
                    41.007,
                    41.22,
                    42.129,
                    43.488,
                    47.665,
                    49.431000000000004,
                    49.644,
                    49.948,
                    50.688,
                    51.435,
                    53.465,
                    56.55,
                    58.525,
                    60.756,
                    61.42,
                    65.915,
                    66.637,
                    66.395,
                    89.12299999999999,
                    84.52799999999999,
                    85.111,
                    86.807,
                    88.486,
                    90.446,
                    104.77600000000001,
                    104.691,
                    108.044,
                    111.613,
                    118.93,
                    122.619,
                    129.504,
                    132.85299999999998,
                    141.423,
                    155.211,
                    157.79399999999998,
                    172.40200000000002,
                    173.81599999999997,
                    183.511,
                    196.896,
                    198.805,
                    207.551,
                    217.209,
                    255.139,
                    260.166,
                    277.29200000000003,
                    279.889,
                    284.172,
                    301.313,
                    330.642,
                    347.735,
                    354.05699999999996,
                    377.86,
                    407.091,
                    432.30800000000005,
                    445.971,
                    477.815,
                    490.75199999999995,
                    521.131,
                    532.5369999999999,
                    566.143,
                    626.372,
                    665.419,
                    622.997,
                    675.799,
                    685.553,
                    699.0989999999999,
                    704.382,
                    754.87,
                    853.707,
                    882.4069999999999,
                    931.925,
                    991.0360000000001,
                    1002.178,
                    1009.675,
                    1025.479,
                    1076.762,
                    1192.276,
                    1191.8039999999999,
                    1298.464,
                    1358.88,
                    1370.095,
                    1353.675,
                    1400.865,
                    1485.281,
                    1533.711,
                    1606.3110000000001,
                    1694.277,
                    1850.906,
                    1952.225,
                    2016.761,
                    2067.798,
                    2256.077,
                    2281.8579999999997,
                    2429.631,
                    2551.87,
                    2885.281,
                    2776.4320000000002,
                    2887.083,
                    3027.5890000000004,
                    3082.462,
                    3228.3320000000003,
                    3492.4109999999996,
                    3168.341,
                    3125.0890000000004,
                    3373.1540000000005,
                    3527.7259999999997,
                    3479.1859999999997,
                    3014.8740000000003,
                    3507.598,
                    3076.038,
                    3226.445,
                    3661.0809999999997,
                    3672.3990000000003,
                    3712.868,
                    3645.19,
                    3981.433,
                    3962.553,
                    4255.151,
                    3923.058,
                    3505.272,
                    3159.133,
                    3326.454,
                    3617.658,
                    3796.0879999999997,
                    4170.5740000000005,
                    4458.901,
                    4195.2429999999995,
                    4438.144,
                    4849.927,
                    4959.186,
                    4939.725,
                    5023.251,
                    5105.437,
                    4244.738,
                    4633.477,
                    5130.185,
                    5401.115,
                    5243.103,
                    6003.238,
                    6379.755999999999,
                    6465.694,
                    6647.728,
                    6789.936,
                    7443.206999999999,
                    7924.210999999999,
                    8185.524,
                    8417.6,
                    8856.189,
                    9386.934000000001,
                    9417.463,
                    9750.056999999999,
                    10271.524,
                    10828.858,
                    11317.233,
                    11865.861,
                    12243.046,
                    12909.913,
                    13766.571000000002,
                    14897.567,
                    15498.267,
                    16221.152,
                    17078.792,
                    17009.593999999997,
                    17046.497,
                    17983.973,
                    18494.531000000003,
                    19067.767,
                    19610.018,
                    19492.613999999998,
                    19026.91,
                    18875.76,
                    18998.032,
                    19656.717,
                    20317.484,
                    20619.624,
                    21266.195,
                    22101.398999999998,
                    22406.833,
                    22749.574,
                    23238.102000000003,
                    22569.624,
                    22803.495,
                    22964.583,
                    23453.944,
                    24154.961,
                    24300.55,
                    24206.271,
                    24518.962000000003,
                    25234.207000000002,
                    25451.054,
                    26039.191000000003,
                    27366.722999999998,
                    28627.533,
                    29602.777000000002,
                    30583.53,
                    31493.742000000002,
                    32069.444,
                    31607.042,
                    33343.3,
                    34468.451,
                    34974.075,
                    35283.025,
                    35534.443,
                    35496.406,
                    35452.459,
                    35925.738,
                    36646.14,
                    36702.503,
                    34807.259
                  ],
                  "yaxis": "y"
                },
                {
                  "hovertemplate": "country=United States<br>year=%{x}<br>co2=%{y}<extra></extra>",
                  "legendgroup": "United States",
                  "line": {
                    "color": "#ab63fa",
                    "dash": "solid"
                  },
                  "marker": {
                    "symbol": "circle"
                  },
                  "mode": "lines",
                  "name": "United States",
                  "showlegend": true,
                  "type": "scattergl",
                  "x": [
                    1801,
                    1802,
                    1803,
                    1804,
                    1805,
                    1806,
                    1807,
                    1808,
                    1809,
                    1810,
                    1811,
                    1812,
                    1813,
                    1814,
                    1815,
                    1816,
                    1817,
                    1818,
                    1819,
                    1820,
                    1821,
                    1822,
                    1823,
                    1824,
                    1825,
                    1826,
                    1827,
                    1828,
                    1829,
                    1830,
                    1831,
                    1832,
                    1833,
                    1834,
                    1835,
                    1836,
                    1837,
                    1838,
                    1839,
                    1840,
                    1841,
                    1842,
                    1843,
                    1844,
                    1845,
                    1846,
                    1847,
                    1848,
                    1849,
                    1850,
                    1851,
                    1852,
                    1853,
                    1854,
                    1855,
                    1856,
                    1857,
                    1858,
                    1859,
                    1860,
                    1861,
                    1862,
                    1863,
                    1864,
                    1865,
                    1866,
                    1867,
                    1868,
                    1869,
                    1870,
                    1871,
                    1872,
                    1873,
                    1874,
                    1875,
                    1876,
                    1877,
                    1878,
                    1879,
                    1880,
                    1881,
                    1882,
                    1883,
                    1884,
                    1885,
                    1886,
                    1887,
                    1888,
                    1889,
                    1890,
                    1891,
                    1892,
                    1893,
                    1894,
                    1895,
                    1896,
                    1897,
                    1898,
                    1899,
                    1900,
                    1901,
                    1902,
                    1903,
                    1904,
                    1905,
                    1906,
                    1907,
                    1908,
                    1909,
                    1910,
                    1911,
                    1912,
                    1913,
                    1914,
                    1915,
                    1916,
                    1917,
                    1918,
                    1919,
                    1920,
                    1921,
                    1922,
                    1923,
                    1924,
                    1925,
                    1926,
                    1927,
                    1928,
                    1929,
                    1930,
                    1931,
                    1932,
                    1933,
                    1934,
                    1935,
                    1936,
                    1937,
                    1938,
                    1939,
                    1940,
                    1941,
                    1942,
                    1943,
                    1944,
                    1945,
                    1946,
                    1947,
                    1948,
                    1949,
                    1950,
                    1951,
                    1952,
                    1953,
                    1954,
                    1955,
                    1956,
                    1957,
                    1958,
                    1959,
                    1960,
                    1961,
                    1962,
                    1963,
                    1964,
                    1965,
                    1966,
                    1967,
                    1968,
                    1969,
                    1970,
                    1971,
                    1972,
                    1973,
                    1974,
                    1975,
                    1976,
                    1977,
                    1978,
                    1979,
                    1980,
                    1981,
                    1982,
                    1983,
                    1984,
                    1985,
                    1986,
                    1987,
                    1988,
                    1989,
                    1990,
                    1991,
                    1992,
                    1993,
                    1994,
                    1995,
                    1996,
                    1997,
                    1998,
                    1999,
                    2000,
                    2001,
                    2002,
                    2003,
                    2004,
                    2005,
                    2006,
                    2007,
                    2008,
                    2009,
                    2010,
                    2011,
                    2012,
                    2013,
                    2014,
                    2015,
                    2016,
                    2017,
                    2018,
                    2019,
                    2020
                  ],
                  "xaxis": "x",
                  "y": [
                    0.267,
                    0.289,
                    0.297,
                    0.33299999999999996,
                    0.341,
                    0.33299999999999996,
                    0.377,
                    0.392,
                    0.40299999999999997,
                    0.418,
                    0.447,
                    0.484,
                    0.52,
                    0.561,
                    0.601,
                    0.6629999999999999,
                    0.718,
                    0.78,
                    0.762,
                    0.7909999999999999,
                    0.828,
                    0.865,
                    0.9009999999999999,
                    1.015,
                    1.136,
                    1.315,
                    1.4469999999999998,
                    1.594,
                    1.795,
                    2.088,
                    2.2640000000000002,
                    3.023,
                    3.528,
                    3.3819999999999997,
                    4.316,
                    4.73,
                    5.305,
                    5.031000000000001,
                    5.518,
                    5.872999999999999,
                    6.2139999999999995,
                    6.917999999999999,
                    7.763999999999999,
                    9.307,
                    11.205,
                    12.71,
                    15.07,
                    16.785,
                    18.221,
                    19.793,
                    24.633000000000003,
                    26.791,
                    30.162,
                    33.159,
                    38.161,
                    40.037,
                    41.055,
                    41.648999999999994,
                    45.32,
                    47.438,
                    45.678999999999995,
                    47.449,
                    54.81,
                    58.657,
                    58.821999999999996,
                    59.232,
                    72.866,
                    82.352,
                    93.696,
                    98.62,
                    103.021,
                    126.305,
                    139.507,
                    134.297,
                    135.748,
                    132.82,
                    147.17600000000002,
                    143.904,
                    175.46900000000002,
                    198.68400000000003,
                    210.19299999999998,
                    235.394,
                    253.88299999999998,
                    267.59,
                    272.16200000000003,
                    287.46299999999997,
                    307.381,
                    373.875,
                    335.542,
                    401.74699999999996,
                    427.425,
                    450.449,
                    454.095,
                    425.05,
                    479.94800000000004,
                    480.88199999999995,
                    500.287,
                    545.321,
                    625.534,
                    662.738,
                    721.528,
                    764.4960000000001,
                    894.4069999999999,
                    882.058,
                    986.482,
                    1035.471,
                    1203.861,
                    1052.813,
                    1165.7060000000001,
                    1271.5819999999999,
                    1258.667,
                    1343.565,
                    1442.5420000000001,
                    1317.98,
                    1367.6970000000001,
                    1518.981,
                    1670.971,
                    1747.7179999999998,
                    1479.1589999999999,
                    1738.246,
                    1423.6689999999999,
                    1435.7579999999998,
                    1896.736,
                    1698.32,
                    1758.098,
                    1905.9589999999998,
                    1862.746,
                    1830.87,
                    1963.414,
                    1744.828,
                    1484.8929999999998,
                    1257.7730000000001,
                    1348.842,
                    1436.1960000000001,
                    1492.28,
                    1713.35,
                    1792.546,
                    1515.693,
                    1670.854,
                    1874.914,
                    2043.496,
                    2198.166,
                    2271.985,
                    2444.854,
                    2359.495,
                    2257.404,
                    2485.752,
                    2582.445,
                    2164.7470000000003,
                    2541.361,
                    2618.576,
                    2551.0820000000003,
                    2612.826,
                    2489.314,
                    2728.348,
                    2859.82,
                    2835.6059999999998,
                    2746.937,
                    2831.737,
                    2897.138,
                    2886.696,
                    2993.718,
                    3126.2940000000003,
                    3264.111,
                    3399.342,
                    3571.2090000000003,
                    3705.2540000000004,
                    3840.702,
                    4034.926,
                    4339.471,
                    4365.247,
                    4572.791,
                    4784.823,
                    4620.82,
                    4478.038,
                    4747.563,
                    4889.398,
                    4941.142,
                    5008.359,
                    4808.295999999999,
                    4686.1720000000005,
                    4447.08,
                    4429.187,
                    4661.920999999999,
                    4652.383,
                    4663.165,
                    4825.445,
                    5050.268,
                    5131.927,
                    5113.455,
                    5057.931,
                    5167.481,
                    5267.343000000001,
                    5358.8240000000005,
                    5421.5019999999995,
                    5610.581999999999,
                    5686.465,
                    5731.05,
                    5804.669,
                    6010.508000000001,
                    5904.882,
                    5946.771,
                    6011.8369999999995,
                    6114.007,
                    6134.521,
                    6051.668000000001,
                    6131.004,
                    5914.078,
                    5478.21,
                    5675.786,
                    5540.173000000001,
                    5338.698,
                    5474.257,
                    5522.807,
                    5371.771,
                    5248.024,
                    5207.751,
                    5375.491,
                    5255.816,
                    4712.771
                  ],
                  "yaxis": "y"
                },
                {
                  "hovertemplate": "country=Russia<br>year=%{x}<br>co2=%{y}<extra></extra>",
                  "legendgroup": "Russia",
                  "line": {
                    "color": "#FFA15A",
                    "dash": "solid"
                  },
                  "marker": {
                    "symbol": "circle"
                  },
                  "mode": "lines",
                  "name": "Russia",
                  "showlegend": true,
                  "type": "scattergl",
                  "x": [
                    1830,
                    1831,
                    1832,
                    1833,
                    1834,
                    1835,
                    1836,
                    1837,
                    1838,
                    1839,
                    1840,
                    1841,
                    1842,
                    1843,
                    1844,
                    1845,
                    1846,
                    1847,
                    1848,
                    1849,
                    1850,
                    1851,
                    1852,
                    1853,
                    1854,
                    1855,
                    1856,
                    1857,
                    1858,
                    1859,
                    1860,
                    1861,
                    1862,
                    1863,
                    1864,
                    1865,
                    1866,
                    1867,
                    1868,
                    1869,
                    1870,
                    1871,
                    1872,
                    1873,
                    1874,
                    1875,
                    1876,
                    1877,
                    1878,
                    1879,
                    1880,
                    1881,
                    1882,
                    1883,
                    1884,
                    1885,
                    1886,
                    1887,
                    1888,
                    1889,
                    1890,
                    1891,
                    1892,
                    1893,
                    1894,
                    1895,
                    1896,
                    1897,
                    1898,
                    1899,
                    1900,
                    1901,
                    1902,
                    1903,
                    1904,
                    1905,
                    1906,
                    1907,
                    1908,
                    1909,
                    1910,
                    1911,
                    1912,
                    1913,
                    1914,
                    1915,
                    1916,
                    1917,
                    1918,
                    1919,
                    1920,
                    1921,
                    1922,
                    1923,
                    1924,
                    1925,
                    1926,
                    1927,
                    1928,
                    1929,
                    1930,
                    1931,
                    1932,
                    1933,
                    1934,
                    1935,
                    1936,
                    1937,
                    1938,
                    1939,
                    1940,
                    1941,
                    1942,
                    1943,
                    1944,
                    1945,
                    1946,
                    1947,
                    1948,
                    1949,
                    1950,
                    1951,
                    1952,
                    1953,
                    1954,
                    1955,
                    1956,
                    1957,
                    1958,
                    1959,
                    1960,
                    1961,
                    1962,
                    1963,
                    1964,
                    1965,
                    1966,
                    1967,
                    1968,
                    1969,
                    1970,
                    1971,
                    1972,
                    1973,
                    1974,
                    1975,
                    1976,
                    1977,
                    1978,
                    1979,
                    1980,
                    1981,
                    1982,
                    1983,
                    1984,
                    1985,
                    1986,
                    1987,
                    1988,
                    1989,
                    1990,
                    1991,
                    1992,
                    1993,
                    1994,
                    1995,
                    1996,
                    1997,
                    1998,
                    1999,
                    2000,
                    2001,
                    2002,
                    2003,
                    2004,
                    2005,
                    2006,
                    2007,
                    2008,
                    2009,
                    2010,
                    2011,
                    2012,
                    2013,
                    2014,
                    2015,
                    2016,
                    2017,
                    2018,
                    2019,
                    2020
                  ],
                  "xaxis": "x",
                  "y": [
                    0.011000000000000001,
                    0.013000000000000001,
                    0.009000000000000001,
                    0.011000000000000001,
                    null,
                    null,
                    null,
                    null,
                    null,
                    null,
                    null,
                    null,
                    null,
                    null,
                    null,
                    null,
                    null,
                    null,
                    null,
                    null,
                    0.069,
                    null,
                    null,
                    null,
                    null,
                    0.21,
                    null,
                    null,
                    0.295,
                    0.313,
                    0.414,
                    0.525,
                    0.474,
                    0.496,
                    0.557,
                    0.532,
                    1.681,
                    1.929,
                    1.605,
                    2.177,
                    2.363,
                    3.19,
                    3.275,
                    3.074,
                    3.7310000000000003,
                    4.294,
                    5.332000000000001,
                    5.441,
                    7.111000000000001,
                    7.297000000000001,
                    8.56,
                    9.016,
                    9.496,
                    10.808,
                    10.974,
                    11.953,
                    12.259,
                    12.972000000000001,
                    13.530999999999999,
                    14.613,
                    16.549,
                    18.221,
                    19.288,
                    22.607,
                    23.025,
                    26.456999999999997,
                    26.933000000000003,
                    31.14,
                    34.925,
                    40.515,
                    45.896,
                    47.119,
                    45.50899999999999,
                    44.516999999999996,
                    49.528999999999996,
                    44.211000000000006,
                    50.427,
                    56.483000000000004,
                    56.83,
                    59.99100000000001,
                    58.833,
                    60.997,
                    69.096,
                    75.06,
                    67.743,
                    62.178999999999995,
                    66.27199999999999,
                    60.992,
                    24.324,
                    20.776,
                    18.945999999999998,
                    20.546,
                    25.057,
                    27.679000000000002,
                    32.977,
                    32.548,
                    47.159,
                    58.632,
                    65.135,
                    70.146,
                    95.35700000000001,
                    114.559,
                    129.075,
                    144.255,
                    174.49400000000003,
                    197.517,
                    226.49099999999999,
                    231.59599999999998,
                    244.43900000000002,
                    247.437,
                    296.644,
                    260.60900000000004,
                    141.681,
                    147.86700000000002,
                    214.43400000000003,
                    227.02200000000002,
                    255.13299999999998,
                    307.221,
                    326.913,
                    371.61699999999996,
                    414.228,
                    448.93,
                    480.735,
                    508.591,
                    555.4590000000001,
                    629.836,
                    690.554,
                    755.682,
                    806.6030000000001,
                    848.035,
                    882.927,
                    910.5419999999999,
                    955.6669999999999,
                    1024.911,
                    1090.02,
                    1156.312,
                    1221.123,
                    1276.867,
                    1312.749,
                    1367.141,
                    1437.871,
                    1525.874,
                    1605.411,
                    1673.2089999999998,
                    1736.921,
                    1825.755,
                    1896.0729999999999,
                    1960.565,
                    2027.894,
                    2044.713,
                    2125.165,
                    2084.698,
                    2124.002,
                    2154.129,
                    2173.259,
                    2343.7960000000003,
                    2344.124,
                    2355.475,
                    2430.947,
                    2400.308,
                    2525.518,
                    2396.205,
                    1957.886,
                    1859.6789999999999,
                    1641.616,
                    1613.141,
                    1580.376,
                    1475.36,
                    1458.368,
                    1486.3010000000002,
                    1471.259,
                    1507.707,
                    1495.694,
                    1525.6070000000002,
                    1530.694,
                    1547.599,
                    1606.5420000000001,
                    1604.549,
                    1636.9229999999998,
                    1528.961,
                    1613.1129999999998,
                    1665.207,
                    1680.104,
                    1619.42,
                    1622.589,
                    1623.1,
                    1618.599,
                    1646.457,
                    1691.6470000000002,
                    1679.4489999999998,
                    1577.136
                  ],
                  "yaxis": "y"
                },
                {
                  "hovertemplate": "country=India<br>year=%{x}<br>co2=%{y}<extra></extra>",
                  "legendgroup": "India",
                  "line": {
                    "color": "#19d3f3",
                    "dash": "solid"
                  },
                  "marker": {
                    "symbol": "circle"
                  },
                  "mode": "lines",
                  "name": "India",
                  "showlegend": true,
                  "type": "scattergl",
                  "x": [
                    1858,
                    1859,
                    1860,
                    1861,
                    1862,
                    1863,
                    1864,
                    1865,
                    1866,
                    1867,
                    1868,
                    1869,
                    1870,
                    1871,
                    1872,
                    1873,
                    1874,
                    1875,
                    1876,
                    1877,
                    1878,
                    1879,
                    1880,
                    1881,
                    1882,
                    1883,
                    1884,
                    1885,
                    1886,
                    1887,
                    1888,
                    1889,
                    1890,
                    1891,
                    1892,
                    1893,
                    1894,
                    1895,
                    1896,
                    1897,
                    1898,
                    1899,
                    1900,
                    1901,
                    1902,
                    1903,
                    1904,
                    1905,
                    1906,
                    1907,
                    1908,
                    1909,
                    1910,
                    1911,
                    1912,
                    1913,
                    1914,
                    1915,
                    1916,
                    1917,
                    1918,
                    1919,
                    1920,
                    1921,
                    1922,
                    1923,
                    1924,
                    1925,
                    1926,
                    1927,
                    1928,
                    1929,
                    1930,
                    1931,
                    1932,
                    1933,
                    1934,
                    1935,
                    1936,
                    1937,
                    1938,
                    1939,
                    1940,
                    1941,
                    1942,
                    1943,
                    1944,
                    1945,
                    1946,
                    1947,
                    1948,
                    1949,
                    1950,
                    1951,
                    1952,
                    1953,
                    1954,
                    1955,
                    1956,
                    1957,
                    1958,
                    1959,
                    1960,
                    1961,
                    1962,
                    1963,
                    1964,
                    1965,
                    1966,
                    1967,
                    1968,
                    1969,
                    1970,
                    1971,
                    1972,
                    1973,
                    1974,
                    1975,
                    1976,
                    1977,
                    1978,
                    1979,
                    1980,
                    1981,
                    1982,
                    1983,
                    1984,
                    1985,
                    1986,
                    1987,
                    1988,
                    1989,
                    1990,
                    1991,
                    1992,
                    1993,
                    1994,
                    1995,
                    1996,
                    1997,
                    1998,
                    1999,
                    2000,
                    2001,
                    2002,
                    2003,
                    2004,
                    2005,
                    2006,
                    2007,
                    2008,
                    2009,
                    2010,
                    2011,
                    2012,
                    2013,
                    2014,
                    2015,
                    2016,
                    2017,
                    2018,
                    2019,
                    2020
                  ],
                  "xaxis": "x",
                  "y": [
                    0.395,
                    0.637,
                    0.644,
                    0.498,
                    0.551,
                    0.611,
                    0.578,
                    0.568,
                    0.6409999999999999,
                    null,
                    null,
                    null,
                    null,
                    null,
                    null,
                    null,
                    null,
                    null,
                    null,
                    null,
                    1.7690000000000001,
                    1.6869999999999998,
                    1.889,
                    1.8419999999999999,
                    2.199,
                    2.444,
                    2.733,
                    2.463,
                    2.7760000000000002,
                    3.07,
                    3.4139999999999997,
                    4.027,
                    4.437,
                    4.7780000000000005,
                    5.254,
                    5.55,
                    5.624,
                    7.042999999999999,
                    7.617999999999999,
                    8.263,
                    9.137,
                    10.067,
                    11.945,
                    13.196,
                    14.534,
                    14.821,
                    16.581,
                    16.952,
                    19.574,
                    21.8,
                    24.94,
                    24.171999999999997,
                    23.517,
                    24.814,
                    28.558000000000003,
                    31.506999999999998,
                    31.739,
                    33.184,
                    33.56,
                    35.065,
                    39.411,
                    43.031000000000006,
                    34.913000000000004,
                    37.553000000000004,
                    36.951,
                    38.021,
                    40.68,
                    40.137,
                    39.995,
                    41.93899999999999,
                    40.129,
                    41.766000000000005,
                    42.458999999999996,
                    38.905,
                    36.179,
                    35.516,
                    39.666,
                    41.45,
                    40.741,
                    45.129,
                    50.45,
                    49.381,
                    52.382,
                    53.653999999999996,
                    53.603,
                    46.708,
                    47.761,
                    52.946000000000005,
                    52.297,
                    53.254,
                    53.278,
                    56.265,
                    61.177,
                    64.1,
                    67.509,
                    68.789,
                    72.5,
                    78.87899999999999,
                    81.749,
                    91.73899999999999,
                    95.92399999999999,
                    101.561,
                    111.45,
                    120.539,
                    132.72899999999998,
                    142.601,
                    139.639,
                    153.868,
                    159.54,
                    159.726,
                    174.24599999999998,
                    177.58900000000003,
                    181.899,
                    192.145,
                    203.227,
                    209.291,
                    216.06099999999998,
                    234.43900000000002,
                    244.99,
                    259.215,
                    263.39799999999997,
                    276.54200000000003,
                    291.992,
                    315.26599999999996,
                    325.684,
                    352.53,
                    361.889,
                    397.95300000000003,
                    426.699,
                    455.759,
                    492.144,
                    541.135,
                    578.518,
                    615.925,
                    656.033,
                    677.916,
                    716.918,
                    762.1210000000001,
                    825.919,
                    859.686,
                    877.698,
                    951.7489999999999,
                    978.919,
                    992.56,
                    1023.0269999999999,
                    1059.616,
                    1125.471,
                    1185.953,
                    1259.744,
                    1358.152,
                    1462.815,
                    1612.817,
                    1677.888,
                    1780.13,
                    1963.586,
                    2036.9370000000001,
                    2185.856,
                    2268.567,
                    2382.223,
                    2433.856,
                    2599.806,
                    2625.968,
                    2441.792
                  ],
                  "yaxis": "y"
                },
                {
                  "hovertemplate": "country=China<br>year=%{x}<br>co2=%{y}<extra></extra>",
                  "legendgroup": "China",
                  "line": {
                    "color": "#FF6692",
                    "dash": "solid"
                  },
                  "marker": {
                    "symbol": "circle"
                  },
                  "mode": "lines",
                  "name": "China",
                  "showlegend": true,
                  "type": "scattergl",
                  "x": [
                    1899,
                    1900,
                    1901,
                    1902,
                    1903,
                    1904,
                    1905,
                    1906,
                    1907,
                    1908,
                    1909,
                    1910,
                    1911,
                    1912,
                    1913,
                    1914,
                    1915,
                    1916,
                    1917,
                    1918,
                    1919,
                    1920,
                    1921,
                    1922,
                    1923,
                    1924,
                    1925,
                    1926,
                    1927,
                    1928,
                    1929,
                    1930,
                    1931,
                    1932,
                    1933,
                    1934,
                    1935,
                    1936,
                    1937,
                    1938,
                    1939,
                    1940,
                    1941,
                    1942,
                    1943,
                    1944,
                    1945,
                    1946,
                    1947,
                    1948,
                    1949,
                    1950,
                    1951,
                    1952,
                    1953,
                    1954,
                    1955,
                    1956,
                    1957,
                    1958,
                    1959,
                    1960,
                    1961,
                    1962,
                    1963,
                    1964,
                    1965,
                    1966,
                    1967,
                    1968,
                    1969,
                    1970,
                    1971,
                    1972,
                    1973,
                    1974,
                    1975,
                    1976,
                    1977,
                    1978,
                    1979,
                    1980,
                    1981,
                    1982,
                    1983,
                    1984,
                    1985,
                    1986,
                    1987,
                    1988,
                    1989,
                    1990,
                    1991,
                    1992,
                    1993,
                    1994,
                    1995,
                    1996,
                    1997,
                    1998,
                    1999,
                    2000,
                    2001,
                    2002,
                    2003,
                    2004,
                    2005,
                    2006,
                    2007,
                    2008,
                    2009,
                    2010,
                    2011,
                    2012,
                    2013,
                    2014,
                    2015,
                    2016,
                    2017,
                    2018,
                    2019,
                    2020
                  ],
                  "xaxis": "x",
                  "y": [
                    0.095,
                    null,
                    null,
                    0.095,
                    1.964,
                    2.088,
                    2.2969999999999997,
                    17.111,
                    16.84,
                    22.730999999999998,
                    20.837,
                    18.749000000000002,
                    27.846,
                    9.787,
                    10.758,
                    15.107000000000001,
                    16.089000000000002,
                    17.965,
                    19.852,
                    21.041999999999998,
                    24.256,
                    26.769000000000002,
                    25.289,
                    26.634,
                    32.152,
                    35.094,
                    33.221,
                    29.59,
                    33.525999999999996,
                    34.108000000000004,
                    35.804,
                    37.908,
                    40.241,
                    38.585,
                    42.193999999999996,
                    49.254,
                    57.597,
                    64.955,
                    60.49100000000001,
                    55.303000000000004,
                    67.113,
                    86.04700000000001,
                    107.51799999999999,
                    113.741,
                    97.179,
                    97.76899999999999,
                    50.347,
                    31.259,
                    33.553000000000004,
                    23.836,
                    59.36,
                    78.835,
                    102.115,
                    127.999,
                    133.783,
                    160.877,
                    190.521,
                    215.824,
                    255.785,
                    524.617,
                    720.1519999999999,
                    798.8,
                    570.63,
                    459.61800000000005,
                    456.779,
                    460.63699999999994,
                    500.286,
                    549.4590000000001,
                    460.226,
                    495.50699999999995,
                    607.683,
                    807.953,
                    909.21,
                    968.6460000000001,
                    1008.293,
                    1028.1,
                    1183.215,
                    1226.421,
                    1340.8310000000001,
                    1492.7779999999998,
                    1525.661,
                    1494.496,
                    1476.4879999999998,
                    1606.585,
                    1694.217,
                    1844.828,
                    1998.0829999999999,
                    2104.2129999999997,
                    2257.739,
                    2425.894,
                    2463.654,
                    2484.855,
                    2606.096,
                    2730.788,
                    2921.651,
                    3100.002,
                    3357.909,
                    3503.2340000000004,
                    3510.1690000000003,
                    3360.455,
                    3350.34,
                    3439.152,
                    3514.934,
                    3872.595,
                    4545.014,
                    5223.755,
                    5876.555,
                    6488.804,
                    6978.611999999999,
                    7496.831999999999,
                    7886.533,
                    8616.653,
                    9528.556,
                    9775.622,
                    9952.744,
                    9985.583,
                    9848.42,
                    9720.444,
                    9920.459,
                    10289.99,
                    10489.989,
                    10667.886999999999
                  ],
                  "yaxis": "y"
                }
              ],
              "layout": {
                "legend": {
                  "title": {
                    "text": "Countries"
                  },
                  "tracegroupgap": 0
                },
                "template": {
                  "data": {
                    "bar": [
                      {
                        "error_x": {
                          "color": "#f2f5fa"
                        },
                        "error_y": {
                          "color": "#f2f5fa"
                        },
                        "marker": {
                          "line": {
                            "color": "rgb(17,17,17)",
                            "width": 0.5
                          },
                          "pattern": {
                            "fillmode": "overlay",
                            "size": 10,
                            "solidity": 0.2
                          }
                        },
                        "type": "bar"
                      }
                    ],
                    "barpolar": [
                      {
                        "marker": {
                          "line": {
                            "color": "rgb(17,17,17)",
                            "width": 0.5
                          },
                          "pattern": {
                            "fillmode": "overlay",
                            "size": 10,
                            "solidity": 0.2
                          }
                        },
                        "type": "barpolar"
                      }
                    ],
                    "carpet": [
                      {
                        "aaxis": {
                          "endlinecolor": "#A2B1C6",
                          "gridcolor": "#506784",
                          "linecolor": "#506784",
                          "minorgridcolor": "#506784",
                          "startlinecolor": "#A2B1C6"
                        },
                        "baxis": {
                          "endlinecolor": "#A2B1C6",
                          "gridcolor": "#506784",
                          "linecolor": "#506784",
                          "minorgridcolor": "#506784",
                          "startlinecolor": "#A2B1C6"
                        },
                        "type": "carpet"
                      }
                    ],
                    "choropleth": [
                      {
                        "colorbar": {
                          "outlinewidth": 0,
                          "ticks": ""
                        },
                        "type": "choropleth"
                      }
                    ],
                    "contour": [
                      {
                        "colorbar": {
                          "outlinewidth": 0,
                          "ticks": ""
                        },
                        "colorscale": [
                          [
                            0,
                            "#0d0887"
                          ],
                          [
                            0.1111111111111111,
                            "#46039f"
                          ],
                          [
                            0.2222222222222222,
                            "#7201a8"
                          ],
                          [
                            0.3333333333333333,
                            "#9c179e"
                          ],
                          [
                            0.4444444444444444,
                            "#bd3786"
                          ],
                          [
                            0.5555555555555556,
                            "#d8576b"
                          ],
                          [
                            0.6666666666666666,
                            "#ed7953"
                          ],
                          [
                            0.7777777777777778,
                            "#fb9f3a"
                          ],
                          [
                            0.8888888888888888,
                            "#fdca26"
                          ],
                          [
                            1,
                            "#f0f921"
                          ]
                        ],
                        "type": "contour"
                      }
                    ],
                    "contourcarpet": [
                      {
                        "colorbar": {
                          "outlinewidth": 0,
                          "ticks": ""
                        },
                        "type": "contourcarpet"
                      }
                    ],
                    "heatmap": [
                      {
                        "colorbar": {
                          "outlinewidth": 0,
                          "ticks": ""
                        },
                        "colorscale": [
                          [
                            0,
                            "#0d0887"
                          ],
                          [
                            0.1111111111111111,
                            "#46039f"
                          ],
                          [
                            0.2222222222222222,
                            "#7201a8"
                          ],
                          [
                            0.3333333333333333,
                            "#9c179e"
                          ],
                          [
                            0.4444444444444444,
                            "#bd3786"
                          ],
                          [
                            0.5555555555555556,
                            "#d8576b"
                          ],
                          [
                            0.6666666666666666,
                            "#ed7953"
                          ],
                          [
                            0.7777777777777778,
                            "#fb9f3a"
                          ],
                          [
                            0.8888888888888888,
                            "#fdca26"
                          ],
                          [
                            1,
                            "#f0f921"
                          ]
                        ],
                        "type": "heatmap"
                      }
                    ],
                    "heatmapgl": [
                      {
                        "colorbar": {
                          "outlinewidth": 0,
                          "ticks": ""
                        },
                        "colorscale": [
                          [
                            0,
                            "#0d0887"
                          ],
                          [
                            0.1111111111111111,
                            "#46039f"
                          ],
                          [
                            0.2222222222222222,
                            "#7201a8"
                          ],
                          [
                            0.3333333333333333,
                            "#9c179e"
                          ],
                          [
                            0.4444444444444444,
                            "#bd3786"
                          ],
                          [
                            0.5555555555555556,
                            "#d8576b"
                          ],
                          [
                            0.6666666666666666,
                            "#ed7953"
                          ],
                          [
                            0.7777777777777778,
                            "#fb9f3a"
                          ],
                          [
                            0.8888888888888888,
                            "#fdca26"
                          ],
                          [
                            1,
                            "#f0f921"
                          ]
                        ],
                        "type": "heatmapgl"
                      }
                    ],
                    "histogram": [
                      {
                        "marker": {
                          "pattern": {
                            "fillmode": "overlay",
                            "size": 10,
                            "solidity": 0.2
                          }
                        },
                        "type": "histogram"
                      }
                    ],
                    "histogram2d": [
                      {
                        "colorbar": {
                          "outlinewidth": 0,
                          "ticks": ""
                        },
                        "colorscale": [
                          [
                            0,
                            "#0d0887"
                          ],
                          [
                            0.1111111111111111,
                            "#46039f"
                          ],
                          [
                            0.2222222222222222,
                            "#7201a8"
                          ],
                          [
                            0.3333333333333333,
                            "#9c179e"
                          ],
                          [
                            0.4444444444444444,
                            "#bd3786"
                          ],
                          [
                            0.5555555555555556,
                            "#d8576b"
                          ],
                          [
                            0.6666666666666666,
                            "#ed7953"
                          ],
                          [
                            0.7777777777777778,
                            "#fb9f3a"
                          ],
                          [
                            0.8888888888888888,
                            "#fdca26"
                          ],
                          [
                            1,
                            "#f0f921"
                          ]
                        ],
                        "type": "histogram2d"
                      }
                    ],
                    "histogram2dcontour": [
                      {
                        "colorbar": {
                          "outlinewidth": 0,
                          "ticks": ""
                        },
                        "colorscale": [
                          [
                            0,
                            "#0d0887"
                          ],
                          [
                            0.1111111111111111,
                            "#46039f"
                          ],
                          [
                            0.2222222222222222,
                            "#7201a8"
                          ],
                          [
                            0.3333333333333333,
                            "#9c179e"
                          ],
                          [
                            0.4444444444444444,
                            "#bd3786"
                          ],
                          [
                            0.5555555555555556,
                            "#d8576b"
                          ],
                          [
                            0.6666666666666666,
                            "#ed7953"
                          ],
                          [
                            0.7777777777777778,
                            "#fb9f3a"
                          ],
                          [
                            0.8888888888888888,
                            "#fdca26"
                          ],
                          [
                            1,
                            "#f0f921"
                          ]
                        ],
                        "type": "histogram2dcontour"
                      }
                    ],
                    "mesh3d": [
                      {
                        "colorbar": {
                          "outlinewidth": 0,
                          "ticks": ""
                        },
                        "type": "mesh3d"
                      }
                    ],
                    "parcoords": [
                      {
                        "line": {
                          "colorbar": {
                            "outlinewidth": 0,
                            "ticks": ""
                          }
                        },
                        "type": "parcoords"
                      }
                    ],
                    "pie": [
                      {
                        "automargin": true,
                        "type": "pie"
                      }
                    ],
                    "scatter": [
                      {
                        "marker": {
                          "line": {
                            "color": "#283442"
                          }
                        },
                        "type": "scatter"
                      }
                    ],
                    "scatter3d": [
                      {
                        "line": {
                          "colorbar": {
                            "outlinewidth": 0,
                            "ticks": ""
                          }
                        },
                        "marker": {
                          "colorbar": {
                            "outlinewidth": 0,
                            "ticks": ""
                          }
                        },
                        "type": "scatter3d"
                      }
                    ],
                    "scattercarpet": [
                      {
                        "marker": {
                          "colorbar": {
                            "outlinewidth": 0,
                            "ticks": ""
                          }
                        },
                        "type": "scattercarpet"
                      }
                    ],
                    "scattergeo": [
                      {
                        "marker": {
                          "colorbar": {
                            "outlinewidth": 0,
                            "ticks": ""
                          }
                        },
                        "type": "scattergeo"
                      }
                    ],
                    "scattergl": [
                      {
                        "marker": {
                          "line": {
                            "color": "#283442"
                          }
                        },
                        "type": "scattergl"
                      }
                    ],
                    "scattermapbox": [
                      {
                        "marker": {
                          "colorbar": {
                            "outlinewidth": 0,
                            "ticks": ""
                          }
                        },
                        "type": "scattermapbox"
                      }
                    ],
                    "scatterpolar": [
                      {
                        "marker": {
                          "colorbar": {
                            "outlinewidth": 0,
                            "ticks": ""
                          }
                        },
                        "type": "scatterpolar"
                      }
                    ],
                    "scatterpolargl": [
                      {
                        "marker": {
                          "colorbar": {
                            "outlinewidth": 0,
                            "ticks": ""
                          }
                        },
                        "type": "scatterpolargl"
                      }
                    ],
                    "scatterternary": [
                      {
                        "marker": {
                          "colorbar": {
                            "outlinewidth": 0,
                            "ticks": ""
                          }
                        },
                        "type": "scatterternary"
                      }
                    ],
                    "surface": [
                      {
                        "colorbar": {
                          "outlinewidth": 0,
                          "ticks": ""
                        },
                        "colorscale": [
                          [
                            0,
                            "#0d0887"
                          ],
                          [
                            0.1111111111111111,
                            "#46039f"
                          ],
                          [
                            0.2222222222222222,
                            "#7201a8"
                          ],
                          [
                            0.3333333333333333,
                            "#9c179e"
                          ],
                          [
                            0.4444444444444444,
                            "#bd3786"
                          ],
                          [
                            0.5555555555555556,
                            "#d8576b"
                          ],
                          [
                            0.6666666666666666,
                            "#ed7953"
                          ],
                          [
                            0.7777777777777778,
                            "#fb9f3a"
                          ],
                          [
                            0.8888888888888888,
                            "#fdca26"
                          ],
                          [
                            1,
                            "#f0f921"
                          ]
                        ],
                        "type": "surface"
                      }
                    ],
                    "table": [
                      {
                        "cells": {
                          "fill": {
                            "color": "#506784"
                          },
                          "line": {
                            "color": "rgb(17,17,17)"
                          }
                        },
                        "header": {
                          "fill": {
                            "color": "#2a3f5f"
                          },
                          "line": {
                            "color": "rgb(17,17,17)"
                          }
                        },
                        "type": "table"
                      }
                    ]
                  },
                  "layout": {
                    "annotationdefaults": {
                      "arrowcolor": "#f2f5fa",
                      "arrowhead": 0,
                      "arrowwidth": 1
                    },
                    "autotypenumbers": "strict",
                    "coloraxis": {
                      "colorbar": {
                        "outlinewidth": 0,
                        "ticks": ""
                      }
                    },
                    "colorscale": {
                      "diverging": [
                        [
                          0,
                          "#8e0152"
                        ],
                        [
                          0.1,
                          "#c51b7d"
                        ],
                        [
                          0.2,
                          "#de77ae"
                        ],
                        [
                          0.3,
                          "#f1b6da"
                        ],
                        [
                          0.4,
                          "#fde0ef"
                        ],
                        [
                          0.5,
                          "#f7f7f7"
                        ],
                        [
                          0.6,
                          "#e6f5d0"
                        ],
                        [
                          0.7,
                          "#b8e186"
                        ],
                        [
                          0.8,
                          "#7fbc41"
                        ],
                        [
                          0.9,
                          "#4d9221"
                        ],
                        [
                          1,
                          "#276419"
                        ]
                      ],
                      "sequential": [
                        [
                          0,
                          "#0d0887"
                        ],
                        [
                          0.1111111111111111,
                          "#46039f"
                        ],
                        [
                          0.2222222222222222,
                          "#7201a8"
                        ],
                        [
                          0.3333333333333333,
                          "#9c179e"
                        ],
                        [
                          0.4444444444444444,
                          "#bd3786"
                        ],
                        [
                          0.5555555555555556,
                          "#d8576b"
                        ],
                        [
                          0.6666666666666666,
                          "#ed7953"
                        ],
                        [
                          0.7777777777777778,
                          "#fb9f3a"
                        ],
                        [
                          0.8888888888888888,
                          "#fdca26"
                        ],
                        [
                          1,
                          "#f0f921"
                        ]
                      ],
                      "sequentialminus": [
                        [
                          0,
                          "#0d0887"
                        ],
                        [
                          0.1111111111111111,
                          "#46039f"
                        ],
                        [
                          0.2222222222222222,
                          "#7201a8"
                        ],
                        [
                          0.3333333333333333,
                          "#9c179e"
                        ],
                        [
                          0.4444444444444444,
                          "#bd3786"
                        ],
                        [
                          0.5555555555555556,
                          "#d8576b"
                        ],
                        [
                          0.6666666666666666,
                          "#ed7953"
                        ],
                        [
                          0.7777777777777778,
                          "#fb9f3a"
                        ],
                        [
                          0.8888888888888888,
                          "#fdca26"
                        ],
                        [
                          1,
                          "#f0f921"
                        ]
                      ]
                    },
                    "colorway": [
                      "#636efa",
                      "#EF553B",
                      "#00cc96",
                      "#ab63fa",
                      "#FFA15A",
                      "#19d3f3",
                      "#FF6692",
                      "#B6E880",
                      "#FF97FF",
                      "#FECB52"
                    ],
                    "font": {
                      "color": "#f2f5fa"
                    },
                    "geo": {
                      "bgcolor": "rgb(17,17,17)",
                      "lakecolor": "rgb(17,17,17)",
                      "landcolor": "rgb(17,17,17)",
                      "showlakes": true,
                      "showland": true,
                      "subunitcolor": "#506784"
                    },
                    "hoverlabel": {
                      "align": "left"
                    },
                    "hovermode": "closest",
                    "mapbox": {
                      "style": "dark"
                    },
                    "paper_bgcolor": "rgb(17,17,17)",
                    "plot_bgcolor": "rgb(17,17,17)",
                    "polar": {
                      "angularaxis": {
                        "gridcolor": "#506784",
                        "linecolor": "#506784",
                        "ticks": ""
                      },
                      "bgcolor": "rgb(17,17,17)",
                      "radialaxis": {
                        "gridcolor": "#506784",
                        "linecolor": "#506784",
                        "ticks": ""
                      }
                    },
                    "scene": {
                      "xaxis": {
                        "backgroundcolor": "rgb(17,17,17)",
                        "gridcolor": "#506784",
                        "gridwidth": 2,
                        "linecolor": "#506784",
                        "showbackground": true,
                        "ticks": "",
                        "zerolinecolor": "#C8D4E3"
                      },
                      "yaxis": {
                        "backgroundcolor": "rgb(17,17,17)",
                        "gridcolor": "#506784",
                        "gridwidth": 2,
                        "linecolor": "#506784",
                        "showbackground": true,
                        "ticks": "",
                        "zerolinecolor": "#C8D4E3"
                      },
                      "zaxis": {
                        "backgroundcolor": "rgb(17,17,17)",
                        "gridcolor": "#506784",
                        "gridwidth": 2,
                        "linecolor": "#506784",
                        "showbackground": true,
                        "ticks": "",
                        "zerolinecolor": "#C8D4E3"
                      }
                    },
                    "shapedefaults": {
                      "line": {
                        "color": "#f2f5fa"
                      }
                    },
                    "sliderdefaults": {
                      "bgcolor": "#C8D4E3",
                      "bordercolor": "rgb(17,17,17)",
                      "borderwidth": 1,
                      "tickwidth": 0
                    },
                    "ternary": {
                      "aaxis": {
                        "gridcolor": "#506784",
                        "linecolor": "#506784",
                        "ticks": ""
                      },
                      "baxis": {
                        "gridcolor": "#506784",
                        "linecolor": "#506784",
                        "ticks": ""
                      },
                      "bgcolor": "rgb(17,17,17)",
                      "caxis": {
                        "gridcolor": "#506784",
                        "linecolor": "#506784",
                        "ticks": ""
                      }
                    },
                    "title": {
                      "x": 0.05
                    },
                    "updatemenudefaults": {
                      "bgcolor": "#506784",
                      "borderwidth": 0
                    },
                    "xaxis": {
                      "automargin": true,
                      "gridcolor": "#283442",
                      "linecolor": "#506784",
                      "ticks": "",
                      "title": {
                        "standoff": 15
                      },
                      "zerolinecolor": "#283442",
                      "zerolinewidth": 2
                    },
                    "yaxis": {
                      "automargin": true,
                      "gridcolor": "#283442",
                      "linecolor": "#506784",
                      "ticks": "",
                      "title": {
                        "standoff": 15
                      },
                      "zerolinecolor": "#283442",
                      "zerolinewidth": 2
                    }
                  }
                },
                "title": {
                  "text": "CO2 Emissions vs Time"
                },
                "xaxis": {
                  "anchor": "y",
                  "domain": [
                    0,
                    1
                  ],
                  "title": {
                    "text": "Year"
                  }
                },
                "yaxis": {
                  "anchor": "x",
                  "domain": [
                    0,
                    1
                  ],
                  "title": {
                    "text": "CO2 Emissions"
                  }
                }
              }
            }
          },
          "metadata": {},
          "output_type": "display_data"
        }
      ],
      "source": [
        "time_df = co2_df[co2_df['country'].isin(['United Kingdom', 'United States', 'China', 'India', 'Russia', 'World'])]\n",
        "\n",
        "\n",
        "time_df = time_df[['co2', 'year', 'country']]\n",
        "\n",
        "#Add Europe\n",
        "europe_data = co2_df[co2_df['country'] == 'Europe'][['co2', 'year', 'country']]\n",
        "time_df = pd.concat([time_df, europe_data])\n",
        "\n",
        "time_df = time_df.sort_values(\"year\")\n",
        "time_df = time_df[time_df['year'] > 1800]\n",
        "\n",
        "\n",
        "fig = px.line(time_df, x='year', y = 'co2', color='country', title='CO2 Emissions vs Time')\n",
        "fig.update_layout(xaxis_title=\"Year\", template=\"plotly_dark\",yaxis_title=\"CO2 Emissions\", legend_title='Countries')\n",
        "fig.show()"
      ]
    },
    {
      "cell_type": "code",
      "execution_count": 54,
      "metadata": {},
      "outputs": [
        {
          "data": {
            "application/vnd.plotly.v1+json": {
              "config": {
                "plotlyServerURL": "https://plot.ly"
              },
              "data": [
                {
                  "hovertemplate": "country=United Kingdom<br>year=%{x}<br>co2_per_capita=%{y}<extra></extra>",
                  "legendgroup": "United Kingdom",
                  "line": {
                    "color": "#636efa",
                    "dash": "solid"
                  },
                  "marker": {
                    "symbol": "circle"
                  },
                  "mode": "lines",
                  "name": "United Kingdom",
                  "showlegend": true,
                  "type": "scattergl",
                  "x": [
                    1801,
                    1802,
                    1803,
                    1804,
                    1805,
                    1806,
                    1807,
                    1808,
                    1809,
                    1810,
                    1811,
                    1812,
                    1813,
                    1814,
                    1815,
                    1816,
                    1817,
                    1818,
                    1819,
                    1820,
                    1821,
                    1822,
                    1823,
                    1824,
                    1825,
                    1826,
                    1827,
                    1828,
                    1829,
                    1830,
                    1831,
                    1832,
                    1833,
                    1834,
                    1835,
                    1836,
                    1837,
                    1838,
                    1839,
                    1840,
                    1841,
                    1842,
                    1843,
                    1844,
                    1845,
                    1846,
                    1847,
                    1848,
                    1849,
                    1850,
                    1851,
                    1852,
                    1853,
                    1854,
                    1855,
                    1856,
                    1857,
                    1858,
                    1859,
                    1860,
                    1861,
                    1862,
                    1863,
                    1864,
                    1865,
                    1866,
                    1867,
                    1868,
                    1869,
                    1870,
                    1871,
                    1872,
                    1873,
                    1874,
                    1875,
                    1876,
                    1877,
                    1878,
                    1879,
                    1880,
                    1881,
                    1882,
                    1883,
                    1884,
                    1885,
                    1886,
                    1887,
                    1888,
                    1889,
                    1890,
                    1891,
                    1892,
                    1893,
                    1894,
                    1895,
                    1896,
                    1897,
                    1898,
                    1899,
                    1900,
                    1901,
                    1902,
                    1903,
                    1904,
                    1905,
                    1906,
                    1907,
                    1908,
                    1909,
                    1910,
                    1911,
                    1912,
                    1913,
                    1914,
                    1915,
                    1916,
                    1917,
                    1918,
                    1919,
                    1920,
                    1921,
                    1922,
                    1923,
                    1924,
                    1925,
                    1926,
                    1927,
                    1928,
                    1929,
                    1930,
                    1931,
                    1932,
                    1933,
                    1934,
                    1935,
                    1936,
                    1937,
                    1938,
                    1939,
                    1940,
                    1941,
                    1942,
                    1943,
                    1944,
                    1945,
                    1946,
                    1947,
                    1948,
                    1949,
                    1950,
                    1951,
                    1952,
                    1953,
                    1954,
                    1955,
                    1956,
                    1957,
                    1958,
                    1959,
                    1960,
                    1961,
                    1962,
                    1963,
                    1964,
                    1965,
                    1966,
                    1967,
                    1968,
                    1969,
                    1970,
                    1971,
                    1972,
                    1973,
                    1974,
                    1975,
                    1976,
                    1977,
                    1978,
                    1979,
                    1980,
                    1981,
                    1982,
                    1983,
                    1984,
                    1985,
                    1986,
                    1987,
                    1988,
                    1989,
                    1990,
                    1991,
                    1992,
                    1993,
                    1994,
                    1995,
                    1996,
                    1997,
                    1998,
                    1999,
                    2000,
                    2001,
                    2002,
                    2003,
                    2004,
                    2005,
                    2006,
                    2007,
                    2008,
                    2009,
                    2010,
                    2011,
                    2012,
                    2013,
                    2014,
                    2015,
                    2016,
                    2017,
                    2018,
                    2019,
                    2020
                  ],
                  "xaxis": "x",
                  "y": [
                    2.458,
                    2.444,
                    2.719,
                    2.7030000000000003,
                    2.7739999999999996,
                    2.9,
                    2.87,
                    2.84,
                    2.81,
                    2.701,
                    2.773,
                    2.742,
                    2.62,
                    2.521,
                    2.4330000000000003,
                    2.4459999999999997,
                    2.3369999999999997,
                    2.2119999999999997,
                    2.125,
                    2.0540000000000003,
                    2.01,
                    2.043,
                    2.124,
                    2.195,
                    2.19,
                    2.186,
                    2.248,
                    2.235,
                    2.239,
                    2.815,
                    2.698,
                    2.662,
                    2.6310000000000002,
                    2.6060000000000003,
                    2.568,
                    2.978,
                    2.844,
                    2.8930000000000002,
                    2.943,
                    3.043,
                    3.06,
                    3.182,
                    3.315,
                    3.472,
                    3.708,
                    3.543,
                    3.8280000000000003,
                    4.034,
                    4.271,
                    4.498,
                    4.261,
                    4.223,
                    4.1739999999999995,
                    4.999,
                    4.652,
                    4.975,
                    4.855,
                    4.729,
                    5.215,
                    5.797999999999999,
                    5.997000000000001,
                    5.7589999999999995,
                    6.0729999999999995,
                    6.479,
                    6.808,
                    6.956,
                    7.081,
                    6.8870000000000005,
                    7.162000000000001,
                    7.25,
                    7.608,
                    7.938,
                    8.158,
                    7.85,
                    8.204,
                    8.109,
                    8.174,
                    7.949,
                    7.922000000000001,
                    8.554,
                    8.913,
                    8.913,
                    9.2,
                    8.885,
                    8.708,
                    8.56,
                    8.709,
                    8.982000000000001,
                    9.224,
                    9.356,
                    9.469,
                    9.187999999999999,
                    8.152000000000001,
                    9.248,
                    9.248,
                    9.422,
                    9.581,
                    9.513,
                    10.097999999999999,
                    10.131,
                    9.822000000000001,
                    10.112,
                    10.101,
                    10.059,
                    10.101,
                    10.37,
                    10.737,
                    10.380999999999998,
                    10.390999999999998,
                    10.399000000000001,
                    10.591,
                    9.979,
                    10.860999999999999,
                    10.485999999999999,
                    10.577,
                    10.91,
                    10.737,
                    9.96,
                    9.703,
                    9.998,
                    6.789,
                    9.097999999999999,
                    9.684,
                    10.154,
                    9.613,
                    5.278,
                    10.019,
                    9.414,
                    9.916,
                    9.486,
                    8.846,
                    8.466000000000001,
                    8.343,
                    8.959,
                    9.038,
                    9.511000000000001,
                    9.762,
                    9.315,
                    9.343,
                    9.767000000000001,
                    9.612,
                    9.558,
                    9.235,
                    8.941,
                    8.414,
                    8.753,
                    9.222000000000001,
                    9.471,
                    9.623,
                    9.894,
                    10.775,
                    10.437999999999999,
                    10.644,
                    10.867,
                    11.299000000000001,
                    11.203,
                    11.083,
                    10.749,
                    10.502,
                    11.152000000000001,
                    11.163,
                    11.164000000000001,
                    11.277999999999999,
                    11.280999999999999,
                    11.469000000000001,
                    11.325999999999999,
                    10.790999999999999,
                    11,
                    11.349,
                    11.743,
                    11.845999999999998,
                    11.594000000000001,
                    11.777000000000001,
                    11.003,
                    10.743,
                    10.652000000000001,
                    10.753,
                    10.759,
                    11.467,
                    10.300999999999998,
                    9.971,
                    9.748,
                    9.693,
                    9.392000000000001,
                    9.92,
                    10.059,
                    10.09,
                    10.038,
                    10.208,
                    10.508,
                    10.62,
                    10.321,
                    10.045,
                    9.948,
                    9.78,
                    10.121,
                    9.644,
                    9.701,
                    9.556000000000001,
                    9.633,
                    9.748,
                    9.44,
                    9.595,
                    9.568999999999999,
                    9.454,
                    9.332,
                    9.1,
                    8.762,
                    7.861000000000001,
                    8.062000000000001,
                    7.332999999999999,
                    7.555,
                    7.346,
                    6.702999999999999,
                    6.412999999999999,
                    6.023,
                    5.808,
                    5.688,
                    5.4639999999999995,
                    4.855
                  ],
                  "yaxis": "y"
                },
                {
                  "hovertemplate": "country=Europe<br>year=%{x}<br>co2_per_capita=%{y}<extra></extra>",
                  "legendgroup": "Europe",
                  "line": {
                    "color": "#EF553B",
                    "dash": "solid"
                  },
                  "marker": {
                    "symbol": "circle"
                  },
                  "mode": "lines",
                  "name": "Europe",
                  "showlegend": true,
                  "type": "scattergl",
                  "x": [
                    1801,
                    1802,
                    1803,
                    1804,
                    1805,
                    1806,
                    1807,
                    1808,
                    1809,
                    1810,
                    1811,
                    1812,
                    1813,
                    1814,
                    1815,
                    1816,
                    1817,
                    1818,
                    1819,
                    1820,
                    1821,
                    1822,
                    1823,
                    1824,
                    1825,
                    1826,
                    1827,
                    1828,
                    1829,
                    1830,
                    1831,
                    1832,
                    1833,
                    1834,
                    1835,
                    1836,
                    1837,
                    1838,
                    1839,
                    1840,
                    1841,
                    1842,
                    1843,
                    1844,
                    1845,
                    1846,
                    1847,
                    1848,
                    1849,
                    1850,
                    1851,
                    1852,
                    1853,
                    1854,
                    1855,
                    1856,
                    1857,
                    1858,
                    1859,
                    1860,
                    1861,
                    1862,
                    1863,
                    1864,
                    1865,
                    1866,
                    1867,
                    1868,
                    1869,
                    1870,
                    1871,
                    1872,
                    1873,
                    1874,
                    1875,
                    1876,
                    1877,
                    1878,
                    1879,
                    1880,
                    1881,
                    1882,
                    1883,
                    1884,
                    1885,
                    1886,
                    1887,
                    1888,
                    1889,
                    1890,
                    1891,
                    1892,
                    1893,
                    1894,
                    1895,
                    1896,
                    1897,
                    1898,
                    1899,
                    1900,
                    1901,
                    1902,
                    1903,
                    1904,
                    1905,
                    1906,
                    1907,
                    1908,
                    1909,
                    1910,
                    1911,
                    1912,
                    1913,
                    1914,
                    1915,
                    1916,
                    1917,
                    1918,
                    1919,
                    1920,
                    1921,
                    1922,
                    1923,
                    1924,
                    1925,
                    1926,
                    1927,
                    1928,
                    1929,
                    1930,
                    1931,
                    1932,
                    1933,
                    1934,
                    1935,
                    1936,
                    1937,
                    1938,
                    1939,
                    1940,
                    1941,
                    1942,
                    1943,
                    1944,
                    1945,
                    1946,
                    1947,
                    1948,
                    1949,
                    1950,
                    1951,
                    1952,
                    1953,
                    1954,
                    1955,
                    1956,
                    1957,
                    1958,
                    1959,
                    1960,
                    1961,
                    1962,
                    1963,
                    1964,
                    1965,
                    1966,
                    1967,
                    1968,
                    1969,
                    1970,
                    1971,
                    1972,
                    1973,
                    1974,
                    1975,
                    1976,
                    1977,
                    1978,
                    1979,
                    1980,
                    1981,
                    1982,
                    1983,
                    1984,
                    1985,
                    1986,
                    1987,
                    1988,
                    1989,
                    1990,
                    1991,
                    1992,
                    1993,
                    1994,
                    1995,
                    1996,
                    1997,
                    1998,
                    1999,
                    2000,
                    2001,
                    2002,
                    2003,
                    2004,
                    2005,
                    2006,
                    2007,
                    2008,
                    2009,
                    2010,
                    2011,
                    2012,
                    2013,
                    2014,
                    2015,
                    2016,
                    2017,
                    2018,
                    2019,
                    2020
                  ],
                  "xaxis": "x",
                  "y": [
                    0.7240000000000001,
                    0.512,
                    0.7959999999999999,
                    0.491,
                    0.823,
                    0.852,
                    0.823,
                    0.83,
                    0.82,
                    0.504,
                    0.526,
                    0.537,
                    0.53,
                    0.531,
                    0.5379999999999999,
                    0.579,
                    0.588,
                    0.579,
                    0.551,
                    0.55,
                    0.551,
                    0.5660000000000001,
                    0.593,
                    0.607,
                    0.624,
                    0.623,
                    0.662,
                    0.6609999999999999,
                    0.644,
                    0.499,
                    0.467,
                    0.465,
                    0.46799999999999997,
                    0.6629999999999999,
                    0.675,
                    0.778,
                    0.767,
                    0.789,
                    0.7879999999999999,
                    0.8340000000000001,
                    0.853,
                    0.893,
                    0.897,
                    0.9420000000000001,
                    1.021,
                    1.002,
                    1.08,
                    1.11,
                    1.162,
                    0.8320000000000001,
                    1.168,
                    1.204,
                    1.238,
                    1.4609999999999999,
                    1.015,
                    1.5419999999999998,
                    1.5419999999999998,
                    1.032,
                    1.081,
                    1.024,
                    1.084,
                    1.092,
                    1.1420000000000001,
                    1.2229999999999999,
                    1.3,
                    1.334,
                    1.37,
                    1.374,
                    1.4280000000000002,
                    1.4169999999999998,
                    1.499,
                    1.6059999999999999,
                    1.6769999999999998,
                    1.5430000000000001,
                    1.6880000000000002,
                    1.735,
                    1.7180000000000002,
                    1.722,
                    1.742,
                    1.9380000000000002,
                    1.956,
                    2.0380000000000003,
                    2.11,
                    2.106,
                    2.051,
                    2.0780000000000003,
                    2.14,
                    2.221,
                    2.336,
                    2.371,
                    2.435,
                    2.3480000000000003,
                    2.2640000000000002,
                    2.437,
                    2.481,
                    2.573,
                    2.678,
                    2.74,
                    2.8939999999999997,
                    3.01,
                    2.958,
                    2.9339999999999997,
                    3.0269999999999997,
                    3.057,
                    3.1189999999999998,
                    3.19,
                    3.502,
                    3.528,
                    3.505,
                    3.4930000000000003,
                    3.592,
                    3.7569999999999997,
                    3.968,
                    3.61,
                    3.4160000000000004,
                    3.5639999999999996,
                    3.4939999999999998,
                    3.1689999999999996,
                    2.617,
                    3.022,
                    2.742,
                    3.065,
                    2.906,
                    3.301,
                    3.245,
                    2.76,
                    3.4960000000000004,
                    3.484,
                    3.753,
                    3.523,
                    3.265,
                    3.012,
                    3.073,
                    3.34,
                    3.483,
                    3.6719999999999997,
                    3.958,
                    3.949,
                    4.013999999999999,
                    4.244,
                    4.176,
                    3.875,
                    3.763,
                    3.533,
                    2.2969999999999997,
                    3.0789999999999997,
                    3.534,
                    3.7910000000000004,
                    4.113,
                    4.335,
                    4.7410000000000005,
                    4.845,
                    4.934,
                    5.1979999999999995,
                    5.603,
                    5.9110000000000005,
                    6.105,
                    6.111000000000001,
                    6.188,
                    6.541,
                    6.712000000000001,
                    7.013,
                    7.3839999999999995,
                    7.68,
                    7.8389999999999995,
                    8.045,
                    8.164,
                    8.488,
                    8.892999999999999,
                    9.267000000000001,
                    9.545,
                    9.829,
                    10.206,
                    10.173,
                    10.173,
                    10.67,
                    10.697000000000001,
                    10.982999999999999,
                    11.193,
                    11.148,
                    10.696,
                    10.568,
                    10.536,
                    10.568,
                    10.984000000000002,
                    10.958,
                    10.948,
                    10.952,
                    10.868,
                    11.112,
                    10.665999999999999,
                    9.765,
                    9.353,
                    8.849,
                    8.818,
                    8.885,
                    8.605,
                    8.576,
                    8.464,
                    8.468,
                    8.64,
                    8.586,
                    8.777000000000001,
                    8.807,
                    8.781,
                    8.902000000000001,
                    8.814,
                    8.696,
                    7.981,
                    8.273,
                    8.155,
                    8.07,
                    7.845,
                    7.527,
                    7.521,
                    7.502999999999999,
                    7.532,
                    7.485,
                    7.26,
                    6.608
                  ],
                  "yaxis": "y"
                },
                {
                  "hovertemplate": "country=World<br>year=%{x}<br>co2_per_capita=%{y}<extra></extra>",
                  "legendgroup": "World",
                  "line": {
                    "color": "#00cc96",
                    "dash": "solid"
                  },
                  "marker": {
                    "symbol": "circle"
                  },
                  "mode": "lines",
                  "name": "World",
                  "showlegend": true,
                  "type": "scattergl",
                  "x": [
                    1801,
                    1802,
                    1803,
                    1804,
                    1805,
                    1806,
                    1807,
                    1808,
                    1809,
                    1810,
                    1811,
                    1812,
                    1813,
                    1814,
                    1815,
                    1816,
                    1817,
                    1818,
                    1819,
                    1820,
                    1821,
                    1822,
                    1823,
                    1824,
                    1825,
                    1826,
                    1827,
                    1828,
                    1829,
                    1830,
                    1831,
                    1832,
                    1833,
                    1834,
                    1835,
                    1836,
                    1837,
                    1838,
                    1839,
                    1840,
                    1841,
                    1842,
                    1843,
                    1844,
                    1845,
                    1846,
                    1847,
                    1848,
                    1849,
                    1850,
                    1851,
                    1852,
                    1853,
                    1854,
                    1855,
                    1856,
                    1857,
                    1858,
                    1859,
                    1860,
                    1861,
                    1862,
                    1863,
                    1864,
                    1865,
                    1866,
                    1867,
                    1868,
                    1869,
                    1870,
                    1871,
                    1872,
                    1873,
                    1874,
                    1875,
                    1876,
                    1877,
                    1878,
                    1879,
                    1880,
                    1881,
                    1882,
                    1883,
                    1884,
                    1885,
                    1886,
                    1887,
                    1888,
                    1889,
                    1890,
                    1891,
                    1892,
                    1893,
                    1894,
                    1895,
                    1896,
                    1897,
                    1898,
                    1899,
                    1900,
                    1901,
                    1902,
                    1903,
                    1904,
                    1905,
                    1906,
                    1907,
                    1908,
                    1909,
                    1910,
                    1911,
                    1912,
                    1913,
                    1914,
                    1915,
                    1916,
                    1917,
                    1918,
                    1919,
                    1920,
                    1921,
                    1922,
                    1923,
                    1924,
                    1925,
                    1926,
                    1927,
                    1928,
                    1929,
                    1930,
                    1931,
                    1932,
                    1933,
                    1934,
                    1935,
                    1936,
                    1937,
                    1938,
                    1939,
                    1940,
                    1941,
                    1942,
                    1943,
                    1944,
                    1945,
                    1946,
                    1947,
                    1948,
                    1949,
                    1950,
                    1951,
                    1952,
                    1953,
                    1954,
                    1955,
                    1956,
                    1957,
                    1958,
                    1959,
                    1960,
                    1961,
                    1962,
                    1963,
                    1964,
                    1965,
                    1966,
                    1967,
                    1968,
                    1969,
                    1970,
                    1971,
                    1972,
                    1973,
                    1974,
                    1975,
                    1976,
                    1977,
                    1978,
                    1979,
                    1980,
                    1981,
                    1982,
                    1983,
                    1984,
                    1985,
                    1986,
                    1987,
                    1988,
                    1989,
                    1990,
                    1991,
                    1992,
                    1993,
                    1994,
                    1995,
                    1996,
                    1997,
                    1998,
                    1999,
                    2000,
                    2001,
                    2002,
                    2003,
                    2004,
                    2005,
                    2006,
                    2007,
                    2008,
                    2009,
                    2010,
                    2011,
                    2012,
                    2013,
                    2014,
                    2015,
                    2016,
                    2017,
                    2018,
                    2019,
                    2020
                  ],
                  "xaxis": "x",
                  "y": [
                    0.027999999999999997,
                    0.037000000000000005,
                    0.032,
                    0.034,
                    0.033,
                    0.035,
                    0.036000000000000004,
                    0.035,
                    0.034,
                    0.037000000000000005,
                    0.038,
                    0.04,
                    0.04,
                    0.04,
                    0.040999999999999995,
                    0.045,
                    0.046,
                    0.046,
                    0.046,
                    0.046,
                    0.047,
                    0.048,
                    0.051,
                    0.052000000000000005,
                    0.054000000000000006,
                    0.054000000000000006,
                    0.057999999999999996,
                    0.057999999999999996,
                    0.057,
                    0.076,
                    0.07200000000000001,
                    0.07200000000000001,
                    0.073,
                    0.07400000000000001,
                    0.076,
                    0.087,
                    0.087,
                    0.08900000000000001,
                    0.092,
                    0.09699999999999999,
                    0.1,
                    0.105,
                    0.107,
                    0.114,
                    0.124,
                    0.126,
                    0.13699999999999998,
                    0.13699999999999998,
                    0.14400000000000002,
                    0.154,
                    0.155,
                    0.162,
                    0.16899999999999998,
                    0.198,
                    0.20199999999999999,
                    0.215,
                    0.21600000000000003,
                    0.21899999999999997,
                    0.23199999999999998,
                    0.254,
                    0.266,
                    0.27,
                    0.28800000000000003,
                    0.309,
                    0.327,
                    0.336,
                    0.359,
                    0.36700000000000005,
                    0.389,
                    0.395,
                    0.418,
                    0.46,
                    0.486,
                    0.45299999999999996,
                    0.489,
                    0.493,
                    0.5,
                    0.501,
                    0.5329999999999999,
                    0.599,
                    0.615,
                    0.645,
                    0.6809999999999999,
                    0.6829999999999999,
                    0.6829999999999999,
                    0.6890000000000001,
                    0.718,
                    0.7879999999999999,
                    0.782,
                    0.845,
                    0.879,
                    0.88,
                    0.8640000000000001,
                    0.888,
                    0.935,
                    0.9590000000000001,
                    0.998,
                    1.045,
                    1.133,
                    1.185,
                    1.216,
                    1.236,
                    1.337,
                    1.341,
                    1.416,
                    1.474,
                    1.652,
                    1.5759999999999998,
                    1.625,
                    1.6880000000000002,
                    1.7080000000000002,
                    1.776,
                    1.9080000000000001,
                    1.719,
                    1.6840000000000002,
                    1.805,
                    1.875,
                    1.8359999999999999,
                    1.579,
                    1.821,
                    1.5859999999999999,
                    1.65,
                    1.8559999999999999,
                    1.845,
                    1.849,
                    1.7990000000000002,
                    1.9480000000000002,
                    1.921,
                    2.044,
                    1.864,
                    1.652,
                    1.474,
                    1.536,
                    1.6540000000000001,
                    1.7169999999999999,
                    1.867,
                    1.976,
                    1.84,
                    1.9269999999999998,
                    2.084,
                    2.115,
                    2.09,
                    2.109,
                    2.128,
                    1.756,
                    1.903,
                    2.09,
                    2.1830000000000003,
                    2.097,
                    2.367,
                    2.469,
                    2.458,
                    2.483,
                    2.492,
                    2.6839999999999997,
                    2.8080000000000003,
                    2.8489999999999998,
                    2.877,
                    2.972,
                    3.093,
                    3.0460000000000003,
                    3.095,
                    3.199,
                    3.3080000000000003,
                    3.389,
                    3.4819999999999998,
                    3.5189999999999997,
                    3.635,
                    3.7969999999999997,
                    4.026,
                    4.105,
                    4.212,
                    4.348,
                    4.248,
                    4.178999999999999,
                    4.329,
                    4.373,
                    4.43,
                    4.477,
                    4.372,
                    4.194,
                    4.088,
                    4.043,
                    4.109,
                    4.171,
                    4.157,
                    4.209,
                    4.295,
                    4.2780000000000005,
                    4.27,
                    4.292,
                    4.104,
                    4.085,
                    4.055,
                    4.083,
                    4.147,
                    4.115,
                    4.045,
                    4.043,
                    4.107,
                    4.09,
                    4.132,
                    4.288,
                    4.43,
                    4.525,
                    4.617,
                    4.696000000000001,
                    4.724,
                    4.599,
                    4.793,
                    4.895,
                    4.908,
                    4.893,
                    4.871,
                    4.81,
                    4.75,
                    4.76,
                    4.802,
                    4.758,
                    4.465
                  ],
                  "yaxis": "y"
                },
                {
                  "hovertemplate": "country=United States<br>year=%{x}<br>co2_per_capita=%{y}<extra></extra>",
                  "legendgroup": "United States",
                  "line": {
                    "color": "#ab63fa",
                    "dash": "solid"
                  },
                  "marker": {
                    "symbol": "circle"
                  },
                  "mode": "lines",
                  "name": "United States",
                  "showlegend": true,
                  "type": "scattergl",
                  "x": [
                    1801,
                    1802,
                    1803,
                    1804,
                    1805,
                    1806,
                    1807,
                    1808,
                    1809,
                    1810,
                    1811,
                    1812,
                    1813,
                    1814,
                    1815,
                    1816,
                    1817,
                    1818,
                    1819,
                    1820,
                    1821,
                    1822,
                    1823,
                    1824,
                    1825,
                    1826,
                    1827,
                    1828,
                    1829,
                    1830,
                    1831,
                    1832,
                    1833,
                    1834,
                    1835,
                    1836,
                    1837,
                    1838,
                    1839,
                    1840,
                    1841,
                    1842,
                    1843,
                    1844,
                    1845,
                    1846,
                    1847,
                    1848,
                    1849,
                    1850,
                    1851,
                    1852,
                    1853,
                    1854,
                    1855,
                    1856,
                    1857,
                    1858,
                    1859,
                    1860,
                    1861,
                    1862,
                    1863,
                    1864,
                    1865,
                    1866,
                    1867,
                    1868,
                    1869,
                    1870,
                    1871,
                    1872,
                    1873,
                    1874,
                    1875,
                    1876,
                    1877,
                    1878,
                    1879,
                    1880,
                    1881,
                    1882,
                    1883,
                    1884,
                    1885,
                    1886,
                    1887,
                    1888,
                    1889,
                    1890,
                    1891,
                    1892,
                    1893,
                    1894,
                    1895,
                    1896,
                    1897,
                    1898,
                    1899,
                    1900,
                    1901,
                    1902,
                    1903,
                    1904,
                    1905,
                    1906,
                    1907,
                    1908,
                    1909,
                    1910,
                    1911,
                    1912,
                    1913,
                    1914,
                    1915,
                    1916,
                    1917,
                    1918,
                    1919,
                    1920,
                    1921,
                    1922,
                    1923,
                    1924,
                    1925,
                    1926,
                    1927,
                    1928,
                    1929,
                    1930,
                    1931,
                    1932,
                    1933,
                    1934,
                    1935,
                    1936,
                    1937,
                    1938,
                    1939,
                    1940,
                    1941,
                    1942,
                    1943,
                    1944,
                    1945,
                    1946,
                    1947,
                    1948,
                    1949,
                    1950,
                    1951,
                    1952,
                    1953,
                    1954,
                    1955,
                    1956,
                    1957,
                    1958,
                    1959,
                    1960,
                    1961,
                    1962,
                    1963,
                    1964,
                    1965,
                    1966,
                    1967,
                    1968,
                    1969,
                    1970,
                    1971,
                    1972,
                    1973,
                    1974,
                    1975,
                    1976,
                    1977,
                    1978,
                    1979,
                    1980,
                    1981,
                    1982,
                    1983,
                    1984,
                    1985,
                    1986,
                    1987,
                    1988,
                    1989,
                    1990,
                    1991,
                    1992,
                    1993,
                    1994,
                    1995,
                    1996,
                    1997,
                    1998,
                    1999,
                    2000,
                    2001,
                    2002,
                    2003,
                    2004,
                    2005,
                    2006,
                    2007,
                    2008,
                    2009,
                    2010,
                    2011,
                    2012,
                    2013,
                    2014,
                    2015,
                    2016,
                    2017,
                    2018,
                    2019,
                    2020
                  ],
                  "xaxis": "x",
                  "y": [
                    0.044000000000000004,
                    0.046,
                    0.047,
                    0.052000000000000005,
                    0.052000000000000005,
                    0.05,
                    0.055,
                    0.055999999999999994,
                    0.057,
                    0.057,
                    0.06,
                    0.063,
                    0.065,
                    0.068,
                    0.071,
                    0.076,
                    0.079,
                    0.083,
                    0.079,
                    0.079,
                    0.081,
                    0.08199999999999999,
                    0.083,
                    0.091,
                    0.099,
                    0.111,
                    0.11900000000000001,
                    0.127,
                    0.139,
                    0.158,
                    0.166,
                    0.21600000000000003,
                    0.245,
                    0.22899999999999998,
                    0.284,
                    0.303,
                    0.33,
                    0.304,
                    0.325,
                    0.336,
                    0.345,
                    0.373,
                    0.406,
                    0.47200000000000003,
                    0.552,
                    0.608,
                    0.6990000000000001,
                    0.755,
                    0.7959999999999999,
                    0.8390000000000001,
                    1.012,
                    1.068,
                    1.166,
                    1.2429999999999999,
                    1.3869999999999998,
                    1.412,
                    1.4040000000000001,
                    1.381,
                    1.46,
                    1.486,
                    1.393,
                    1.411,
                    1.591,
                    1.662,
                    1.6280000000000001,
                    1.6,
                    1.922,
                    2.12,
                    2.356,
                    2.421,
                    2.47,
                    2.9589999999999996,
                    3.193,
                    3.003,
                    2.966,
                    2.8360000000000003,
                    3.07,
                    2.9330000000000003,
                    3.4939999999999998,
                    3.865,
                    3.995,
                    4.371,
                    4.606,
                    4.743,
                    4.713,
                    4.864,
                    5.081,
                    6.037999999999999,
                    5.2989999999999995,
                    6.207999999999999,
                    6.468,
                    6.681,
                    6.606,
                    6.064,
                    6.716,
                    6.6,
                    6.735,
                    7.2,
                    8.099,
                    8.414,
                    8.981,
                    9.329,
                    10.698,
                    10.341,
                    11.335999999999999,
                    11.664000000000001,
                    13.292,
                    11.394,
                    12.379000000000001,
                    13.264000000000001,
                    12.911,
                    13.565999999999999,
                    14.352,
                    12.921,
                    13.212,
                    14.459000000000001,
                    15.673,
                    16.162,
                    13.485,
                    15.622,
                    12.610999999999999,
                    12.535,
                    16.32,
                    14.401,
                    14.692,
                    15.697000000000001,
                    15.119000000000002,
                    14.645,
                    15.502,
                    13.619000000000002,
                    11.475,
                    9.637,
                    10.263,
                    10.852,
                    11.197000000000001,
                    12.765999999999998,
                    13.262,
                    11.136,
                    12.173,
                    13.527000000000001,
                    14.58,
                    15.49,
                    15.79,
                    16.759,
                    15.952,
                    15.052,
                    16.348,
                    16.750999999999998,
                    13.84,
                    16.003,
                    16.277,
                    15.625,
                    15.748,
                    14.753,
                    15.892000000000001,
                    16.369,
                    15.953,
                    15.194,
                    15.408,
                    15.515999999999998,
                    15.228,
                    15.567,
                    16.038,
                    16.535,
                    17.019000000000002,
                    17.688,
                    18.172,
                    18.662,
                    19.43,
                    20.712,
                    20.651,
                    21.441,
                    22.236,
                    21.283,
                    20.44,
                    21.474,
                    21.912,
                    21.939,
                    22.03,
                    20.953000000000003,
                    20.230999999999998,
                    19.019000000000002,
                    18.765,
                    19.567,
                    19.345,
                    19.209,
                    19.692,
                    20.416,
                    20.55,
                    20.282,
                    19.871,
                    20.108,
                    20.296,
                    20.435,
                    20.445999999999998,
                    20.909000000000002,
                    20.928,
                    20.826999999999998,
                    20.839000000000002,
                    21.336,
                    20.747,
                    20.7,
                    20.744,
                    20.913,
                    20.795,
                    20.324,
                    20.395,
                    19.487000000000002,
                    17.885,
                    18.368,
                    17.781,
                    17,
                    17.302,
                    17.331,
                    16.741,
                    16.247,
                    16.02,
                    16.434,
                    15.972000000000001,
                    14.238
                  ],
                  "yaxis": "y"
                },
                {
                  "hovertemplate": "country=Russia<br>year=%{x}<br>co2_per_capita=%{y}<extra></extra>",
                  "legendgroup": "Russia",
                  "line": {
                    "color": "#FFA15A",
                    "dash": "solid"
                  },
                  "marker": {
                    "symbol": "circle"
                  },
                  "mode": "lines",
                  "name": "Russia",
                  "showlegend": true,
                  "type": "scattergl",
                  "x": [
                    1830,
                    1831,
                    1832,
                    1833,
                    1834,
                    1835,
                    1836,
                    1837,
                    1838,
                    1839,
                    1840,
                    1841,
                    1842,
                    1843,
                    1844,
                    1845,
                    1846,
                    1847,
                    1848,
                    1849,
                    1850,
                    1851,
                    1852,
                    1853,
                    1854,
                    1855,
                    1856,
                    1857,
                    1858,
                    1859,
                    1860,
                    1861,
                    1862,
                    1863,
                    1864,
                    1865,
                    1866,
                    1867,
                    1868,
                    1869,
                    1870,
                    1871,
                    1872,
                    1873,
                    1874,
                    1875,
                    1876,
                    1877,
                    1878,
                    1879,
                    1880,
                    1881,
                    1882,
                    1883,
                    1884,
                    1885,
                    1886,
                    1887,
                    1888,
                    1889,
                    1890,
                    1891,
                    1892,
                    1893,
                    1894,
                    1895,
                    1896,
                    1897,
                    1898,
                    1899,
                    1900,
                    1901,
                    1902,
                    1903,
                    1904,
                    1905,
                    1906,
                    1907,
                    1908,
                    1909,
                    1910,
                    1911,
                    1912,
                    1913,
                    1914,
                    1915,
                    1916,
                    1917,
                    1918,
                    1919,
                    1920,
                    1921,
                    1922,
                    1923,
                    1924,
                    1925,
                    1926,
                    1927,
                    1928,
                    1929,
                    1930,
                    1931,
                    1932,
                    1933,
                    1934,
                    1935,
                    1936,
                    1937,
                    1938,
                    1939,
                    1940,
                    1941,
                    1942,
                    1943,
                    1944,
                    1945,
                    1946,
                    1947,
                    1948,
                    1949,
                    1950,
                    1951,
                    1952,
                    1953,
                    1954,
                    1955,
                    1956,
                    1957,
                    1958,
                    1959,
                    1960,
                    1961,
                    1962,
                    1963,
                    1964,
                    1965,
                    1966,
                    1967,
                    1968,
                    1969,
                    1970,
                    1971,
                    1972,
                    1973,
                    1974,
                    1975,
                    1976,
                    1977,
                    1978,
                    1979,
                    1980,
                    1981,
                    1982,
                    1983,
                    1984,
                    1985,
                    1986,
                    1987,
                    1988,
                    1989,
                    1990,
                    1991,
                    1992,
                    1993,
                    1994,
                    1995,
                    1996,
                    1997,
                    1998,
                    1999,
                    2000,
                    2001,
                    2002,
                    2003,
                    2004,
                    2005,
                    2006,
                    2007,
                    2008,
                    2009,
                    2010,
                    2011,
                    2012,
                    2013,
                    2014,
                    2015,
                    2016,
                    2017,
                    2018,
                    2019,
                    2020
                  ],
                  "xaxis": "x",
                  "y": [
                    0,
                    0,
                    0,
                    0,
                    null,
                    null,
                    null,
                    null,
                    null,
                    null,
                    null,
                    null,
                    null,
                    null,
                    null,
                    null,
                    null,
                    null,
                    null,
                    null,
                    0.002,
                    null,
                    null,
                    null,
                    null,
                    0.005,
                    null,
                    null,
                    0.006999999999999999,
                    0.006999999999999999,
                    0.009000000000000001,
                    0.012,
                    0.01,
                    0.011000000000000001,
                    0.012,
                    0.011000000000000001,
                    0.035,
                    0.04,
                    0.033,
                    0.044000000000000004,
                    0.048,
                    0.064,
                    0.065,
                    0.06,
                    0.073,
                    0.083,
                    0.102,
                    0.10300000000000001,
                    0.134,
                    0.136,
                    0.158,
                    0.165,
                    0.172,
                    0.19399999999999998,
                    0.195,
                    0.21100000000000002,
                    0.214,
                    0.225,
                    0.23199999999999998,
                    0.249,
                    0.27899999999999997,
                    0.304,
                    0.319,
                    0.371,
                    0.374,
                    0.426,
                    0.43,
                    0.493,
                    0.5479999999999999,
                    0.63,
                    0.7070000000000001,
                    0.7190000000000001,
                    0.688,
                    0.667,
                    0.735,
                    0.65,
                    0.735,
                    0.816,
                    0.8140000000000001,
                    0.851,
                    0.8270000000000001,
                    0.85,
                    0.9540000000000001,
                    1.028,
                    0.919,
                    0.836,
                    0.883,
                    0.805,
                    0.318,
                    0.26899999999999996,
                    0.243,
                    0.261,
                    0.316,
                    0.34600000000000003,
                    0.408,
                    0.39899999999999997,
                    0.573,
                    0.706,
                    0.777,
                    0.8290000000000001,
                    1.117,
                    1.33,
                    1.484,
                    1.6440000000000001,
                    1.97,
                    2.21,
                    2.511,
                    2.544,
                    2.66,
                    2.668,
                    3.17,
                    2.759,
                    1.486,
                    1.537,
                    2.208,
                    2.3169999999999997,
                    2.58,
                    3.0780000000000003,
                    3.245,
                    3.656,
                    4.029,
                    4.303999999999999,
                    4.537,
                    4.721,
                    5.071000000000001,
                    5.656000000000001,
                    6.103,
                    6.5760000000000005,
                    6.916,
                    7.17,
                    7.3660000000000005,
                    7.5,
                    7.779,
                    8.251,
                    8.69,
                    9.14,
                    9.584,
                    9.961,
                    10.187000000000001,
                    10.557,
                    11.048,
                    11.663,
                    12.205,
                    12.649000000000001,
                    13.056,
                    13.645,
                    14.087,
                    14.478,
                    14.883,
                    14.91,
                    15.394,
                    14.998,
                    15.175999999999998,
                    15.284,
                    15.311,
                    16.395,
                    16.279,
                    16.241,
                    16.649,
                    16.344,
                    17.118,
                    16.191,
                    13.205,
                    12.534,
                    11.065999999999999,
                    10.883,
                    10.677,
                    9.987,
                    9.897,
                    10.117,
                    10.049,
                    10.339,
                    10.3,
                    10.55,
                    10.624,
                    10.772,
                    11.203,
                    11.2,
                    11.427,
                    10.668,
                    11.243,
                    11.588,
                    11.668,
                    11.220999999999998,
                    11.216,
                    11.195,
                    11.142000000000001,
                    11.314,
                    11.607999999999999,
                    11.513,
                    10.807
                  ],
                  "yaxis": "y"
                },
                {
                  "hovertemplate": "country=India<br>year=%{x}<br>co2_per_capita=%{y}<extra></extra>",
                  "legendgroup": "India",
                  "line": {
                    "color": "#19d3f3",
                    "dash": "solid"
                  },
                  "marker": {
                    "symbol": "circle"
                  },
                  "mode": "lines",
                  "name": "India",
                  "showlegend": true,
                  "type": "scattergl",
                  "x": [
                    1858,
                    1859,
                    1860,
                    1861,
                    1862,
                    1863,
                    1864,
                    1865,
                    1866,
                    1867,
                    1868,
                    1869,
                    1870,
                    1871,
                    1872,
                    1873,
                    1874,
                    1875,
                    1876,
                    1877,
                    1878,
                    1879,
                    1880,
                    1881,
                    1882,
                    1883,
                    1884,
                    1885,
                    1886,
                    1887,
                    1888,
                    1889,
                    1890,
                    1891,
                    1892,
                    1893,
                    1894,
                    1895,
                    1896,
                    1897,
                    1898,
                    1899,
                    1900,
                    1901,
                    1902,
                    1903,
                    1904,
                    1905,
                    1906,
                    1907,
                    1908,
                    1909,
                    1910,
                    1911,
                    1912,
                    1913,
                    1914,
                    1915,
                    1916,
                    1917,
                    1918,
                    1919,
                    1920,
                    1921,
                    1922,
                    1923,
                    1924,
                    1925,
                    1926,
                    1927,
                    1928,
                    1929,
                    1930,
                    1931,
                    1932,
                    1933,
                    1934,
                    1935,
                    1936,
                    1937,
                    1938,
                    1939,
                    1940,
                    1941,
                    1942,
                    1943,
                    1944,
                    1945,
                    1946,
                    1947,
                    1948,
                    1949,
                    1950,
                    1951,
                    1952,
                    1953,
                    1954,
                    1955,
                    1956,
                    1957,
                    1958,
                    1959,
                    1960,
                    1961,
                    1962,
                    1963,
                    1964,
                    1965,
                    1966,
                    1967,
                    1968,
                    1969,
                    1970,
                    1971,
                    1972,
                    1973,
                    1974,
                    1975,
                    1976,
                    1977,
                    1978,
                    1979,
                    1980,
                    1981,
                    1982,
                    1983,
                    1984,
                    1985,
                    1986,
                    1987,
                    1988,
                    1989,
                    1990,
                    1991,
                    1992,
                    1993,
                    1994,
                    1995,
                    1996,
                    1997,
                    1998,
                    1999,
                    2000,
                    2001,
                    2002,
                    2003,
                    2004,
                    2005,
                    2006,
                    2007,
                    2008,
                    2009,
                    2010,
                    2011,
                    2012,
                    2013,
                    2014,
                    2015,
                    2016,
                    2017,
                    2018,
                    2019,
                    2020
                  ],
                  "xaxis": "x",
                  "y": [
                    0.002,
                    0.003,
                    0.003,
                    0.002,
                    0.002,
                    0.002,
                    0.002,
                    0.002,
                    0.002,
                    null,
                    null,
                    null,
                    null,
                    null,
                    null,
                    null,
                    null,
                    null,
                    null,
                    null,
                    0.006999999999999999,
                    0.006,
                    0.006999999999999999,
                    0.006999999999999999,
                    0.008,
                    0.009000000000000001,
                    0.01,
                    0.009000000000000001,
                    0.01,
                    0.011000000000000001,
                    0.012,
                    0.013999999999999999,
                    0.016,
                    0.017,
                    0.018000000000000002,
                    0.019,
                    0.02,
                    0.024,
                    0.026000000000000002,
                    0.028999999999999998,
                    0.032,
                    0.035,
                    0.040999999999999995,
                    0.045,
                    0.049,
                    0.05,
                    0.055999999999999994,
                    0.055999999999999994,
                    0.065,
                    0.07200000000000001,
                    0.081,
                    0.078,
                    0.076,
                    0.08,
                    0.092,
                    0.10099999999999999,
                    0.102,
                    0.106,
                    0.107,
                    0.11199999999999999,
                    0.125,
                    0.136,
                    0.11,
                    0.11800000000000001,
                    0.115,
                    0.11699999999999999,
                    0.124,
                    0.121,
                    0.12,
                    0.124,
                    0.11800000000000001,
                    0.121,
                    0.122,
                    0.11,
                    0.10099999999999999,
                    0.098,
                    0.10800000000000001,
                    0.111,
                    0.10800000000000001,
                    0.11800000000000001,
                    0.13,
                    0.126,
                    0.133,
                    0.136,
                    0.136,
                    0.12,
                    0.12300000000000001,
                    0.138,
                    0.13699999999999998,
                    0.141,
                    0.142,
                    0.15,
                    0.163,
                    0.168,
                    0.174,
                    0.174,
                    0.18,
                    0.192,
                    0.196,
                    0.21600000000000003,
                    0.221,
                    0.23,
                    0.247,
                    0.262,
                    0.28300000000000003,
                    0.298,
                    0.28600000000000003,
                    0.308,
                    0.313,
                    0.307,
                    0.32799999999999996,
                    0.327,
                    0.32799999999999996,
                    0.33799999999999997,
                    0.35,
                    0.35200000000000004,
                    0.355,
                    0.376,
                    0.384,
                    0.397,
                    0.395,
                    0.405,
                    0.418,
                    0.441,
                    0.445,
                    0.47,
                    0.47200000000000003,
                    0.507,
                    0.532,
                    0.556,
                    0.588,
                    0.633,
                    0.662,
                    0.691,
                    0.722,
                    0.731,
                    0.758,
                    0.7909999999999999,
                    0.841,
                    0.8590000000000001,
                    0.861,
                    0.917,
                    0.9259999999999999,
                    0.9229999999999999,
                    0.9359999999999999,
                    0.953,
                    0.996,
                    1.033,
                    1.081,
                    1.148,
                    1.218,
                    1.324,
                    1.359,
                    1.4240000000000002,
                    1.551,
                    1.59,
                    1.6869999999999998,
                    1.732,
                    1.7990000000000002,
                    1.818,
                    1.922,
                    1.922,
                    1.7690000000000001
                  ],
                  "yaxis": "y"
                },
                {
                  "hovertemplate": "country=China<br>year=%{x}<br>co2_per_capita=%{y}<extra></extra>",
                  "legendgroup": "China",
                  "line": {
                    "color": "#FF6692",
                    "dash": "solid"
                  },
                  "marker": {
                    "symbol": "circle"
                  },
                  "mode": "lines",
                  "name": "China",
                  "showlegend": true,
                  "type": "scattergl",
                  "x": [
                    1899,
                    1900,
                    1901,
                    1902,
                    1903,
                    1904,
                    1905,
                    1906,
                    1907,
                    1908,
                    1909,
                    1910,
                    1911,
                    1912,
                    1913,
                    1914,
                    1915,
                    1916,
                    1917,
                    1918,
                    1919,
                    1920,
                    1921,
                    1922,
                    1923,
                    1924,
                    1925,
                    1926,
                    1927,
                    1928,
                    1929,
                    1930,
                    1931,
                    1932,
                    1933,
                    1934,
                    1935,
                    1936,
                    1937,
                    1938,
                    1939,
                    1940,
                    1941,
                    1942,
                    1943,
                    1944,
                    1945,
                    1946,
                    1947,
                    1948,
                    1949,
                    1950,
                    1951,
                    1952,
                    1953,
                    1954,
                    1955,
                    1956,
                    1957,
                    1958,
                    1959,
                    1960,
                    1961,
                    1962,
                    1963,
                    1964,
                    1965,
                    1966,
                    1967,
                    1968,
                    1969,
                    1970,
                    1971,
                    1972,
                    1973,
                    1974,
                    1975,
                    1976,
                    1977,
                    1978,
                    1979,
                    1980,
                    1981,
                    1982,
                    1983,
                    1984,
                    1985,
                    1986,
                    1987,
                    1988,
                    1989,
                    1990,
                    1991,
                    1992,
                    1993,
                    1994,
                    1995,
                    1996,
                    1997,
                    1998,
                    1999,
                    2000,
                    2001,
                    2002,
                    2003,
                    2004,
                    2005,
                    2006,
                    2007,
                    2008,
                    2009,
                    2010,
                    2011,
                    2012,
                    2013,
                    2014,
                    2015,
                    2016,
                    2017,
                    2018,
                    2019,
                    2020
                  ],
                  "xaxis": "x",
                  "y": [
                    0,
                    null,
                    null,
                    0,
                    0.005,
                    0.005,
                    0.006,
                    0.040999999999999995,
                    0.04,
                    0.054000000000000006,
                    0.049,
                    0.044000000000000004,
                    0.065,
                    0.022000000000000002,
                    0.024,
                    0.034,
                    0.036000000000000004,
                    0.04,
                    0.043,
                    0.045,
                    0.052000000000000005,
                    0.057,
                    0.053,
                    0.055999999999999994,
                    0.067,
                    0.073,
                    0.069,
                    0.061,
                    0.069,
                    0.07,
                    0.073,
                    0.077,
                    0.081,
                    0.078,
                    0.084,
                    0.098,
                    0.114,
                    0.128,
                    0.11800000000000001,
                    0.107,
                    0.13,
                    0.165,
                    0.205,
                    0.21600000000000003,
                    0.184,
                    0.184,
                    0.094,
                    0.057999999999999996,
                    0.062,
                    0.044000000000000004,
                    0.10800000000000001,
                    0.142,
                    0.179,
                    0.22,
                    0.226,
                    0.267,
                    0.311,
                    0.34700000000000003,
                    0.406,
                    0.8190000000000001,
                    1.1079999999999999,
                    1.21,
                    0.85,
                    0.674,
                    0.6579999999999999,
                    0.65,
                    0.691,
                    0.74,
                    0.604,
                    0.632,
                    0.754,
                    0.976,
                    1.071,
                    1.114,
                    1.1340000000000001,
                    1.1320000000000001,
                    1.2770000000000001,
                    1.301,
                    1.4,
                    1.536,
                    1.547,
                    1.494,
                    1.456,
                    1.5630000000000002,
                    1.625,
                    1.743,
                    1.858,
                    1.922,
                    2.023,
                    2.1319999999999997,
                    2.127,
                    2.1109999999999998,
                    2.185,
                    2.263,
                    2.397,
                    2.52,
                    2.7060000000000004,
                    2.799,
                    2.781,
                    2.642,
                    2.614,
                    2.665,
                    2.7060000000000004,
                    2.9619999999999997,
                    3.4560000000000004,
                    3.948,
                    4.416,
                    4.848,
                    5.185,
                    5.539,
                    5.794,
                    6.295,
                    6.922000000000001,
                    7.062,
                    7.151,
                    7.135,
                    7,
                    6.874,
                    6.981,
                    7.207999999999999,
                    7.316,
                    7.412000000000001
                  ],
                  "yaxis": "y"
                }
              ],
              "layout": {
                "legend": {
                  "title": {
                    "text": "Countries"
                  },
                  "tracegroupgap": 0
                },
                "template": {
                  "data": {
                    "bar": [
                      {
                        "error_x": {
                          "color": "#f2f5fa"
                        },
                        "error_y": {
                          "color": "#f2f5fa"
                        },
                        "marker": {
                          "line": {
                            "color": "rgb(17,17,17)",
                            "width": 0.5
                          },
                          "pattern": {
                            "fillmode": "overlay",
                            "size": 10,
                            "solidity": 0.2
                          }
                        },
                        "type": "bar"
                      }
                    ],
                    "barpolar": [
                      {
                        "marker": {
                          "line": {
                            "color": "rgb(17,17,17)",
                            "width": 0.5
                          },
                          "pattern": {
                            "fillmode": "overlay",
                            "size": 10,
                            "solidity": 0.2
                          }
                        },
                        "type": "barpolar"
                      }
                    ],
                    "carpet": [
                      {
                        "aaxis": {
                          "endlinecolor": "#A2B1C6",
                          "gridcolor": "#506784",
                          "linecolor": "#506784",
                          "minorgridcolor": "#506784",
                          "startlinecolor": "#A2B1C6"
                        },
                        "baxis": {
                          "endlinecolor": "#A2B1C6",
                          "gridcolor": "#506784",
                          "linecolor": "#506784",
                          "minorgridcolor": "#506784",
                          "startlinecolor": "#A2B1C6"
                        },
                        "type": "carpet"
                      }
                    ],
                    "choropleth": [
                      {
                        "colorbar": {
                          "outlinewidth": 0,
                          "ticks": ""
                        },
                        "type": "choropleth"
                      }
                    ],
                    "contour": [
                      {
                        "colorbar": {
                          "outlinewidth": 0,
                          "ticks": ""
                        },
                        "colorscale": [
                          [
                            0,
                            "#0d0887"
                          ],
                          [
                            0.1111111111111111,
                            "#46039f"
                          ],
                          [
                            0.2222222222222222,
                            "#7201a8"
                          ],
                          [
                            0.3333333333333333,
                            "#9c179e"
                          ],
                          [
                            0.4444444444444444,
                            "#bd3786"
                          ],
                          [
                            0.5555555555555556,
                            "#d8576b"
                          ],
                          [
                            0.6666666666666666,
                            "#ed7953"
                          ],
                          [
                            0.7777777777777778,
                            "#fb9f3a"
                          ],
                          [
                            0.8888888888888888,
                            "#fdca26"
                          ],
                          [
                            1,
                            "#f0f921"
                          ]
                        ],
                        "type": "contour"
                      }
                    ],
                    "contourcarpet": [
                      {
                        "colorbar": {
                          "outlinewidth": 0,
                          "ticks": ""
                        },
                        "type": "contourcarpet"
                      }
                    ],
                    "heatmap": [
                      {
                        "colorbar": {
                          "outlinewidth": 0,
                          "ticks": ""
                        },
                        "colorscale": [
                          [
                            0,
                            "#0d0887"
                          ],
                          [
                            0.1111111111111111,
                            "#46039f"
                          ],
                          [
                            0.2222222222222222,
                            "#7201a8"
                          ],
                          [
                            0.3333333333333333,
                            "#9c179e"
                          ],
                          [
                            0.4444444444444444,
                            "#bd3786"
                          ],
                          [
                            0.5555555555555556,
                            "#d8576b"
                          ],
                          [
                            0.6666666666666666,
                            "#ed7953"
                          ],
                          [
                            0.7777777777777778,
                            "#fb9f3a"
                          ],
                          [
                            0.8888888888888888,
                            "#fdca26"
                          ],
                          [
                            1,
                            "#f0f921"
                          ]
                        ],
                        "type": "heatmap"
                      }
                    ],
                    "heatmapgl": [
                      {
                        "colorbar": {
                          "outlinewidth": 0,
                          "ticks": ""
                        },
                        "colorscale": [
                          [
                            0,
                            "#0d0887"
                          ],
                          [
                            0.1111111111111111,
                            "#46039f"
                          ],
                          [
                            0.2222222222222222,
                            "#7201a8"
                          ],
                          [
                            0.3333333333333333,
                            "#9c179e"
                          ],
                          [
                            0.4444444444444444,
                            "#bd3786"
                          ],
                          [
                            0.5555555555555556,
                            "#d8576b"
                          ],
                          [
                            0.6666666666666666,
                            "#ed7953"
                          ],
                          [
                            0.7777777777777778,
                            "#fb9f3a"
                          ],
                          [
                            0.8888888888888888,
                            "#fdca26"
                          ],
                          [
                            1,
                            "#f0f921"
                          ]
                        ],
                        "type": "heatmapgl"
                      }
                    ],
                    "histogram": [
                      {
                        "marker": {
                          "pattern": {
                            "fillmode": "overlay",
                            "size": 10,
                            "solidity": 0.2
                          }
                        },
                        "type": "histogram"
                      }
                    ],
                    "histogram2d": [
                      {
                        "colorbar": {
                          "outlinewidth": 0,
                          "ticks": ""
                        },
                        "colorscale": [
                          [
                            0,
                            "#0d0887"
                          ],
                          [
                            0.1111111111111111,
                            "#46039f"
                          ],
                          [
                            0.2222222222222222,
                            "#7201a8"
                          ],
                          [
                            0.3333333333333333,
                            "#9c179e"
                          ],
                          [
                            0.4444444444444444,
                            "#bd3786"
                          ],
                          [
                            0.5555555555555556,
                            "#d8576b"
                          ],
                          [
                            0.6666666666666666,
                            "#ed7953"
                          ],
                          [
                            0.7777777777777778,
                            "#fb9f3a"
                          ],
                          [
                            0.8888888888888888,
                            "#fdca26"
                          ],
                          [
                            1,
                            "#f0f921"
                          ]
                        ],
                        "type": "histogram2d"
                      }
                    ],
                    "histogram2dcontour": [
                      {
                        "colorbar": {
                          "outlinewidth": 0,
                          "ticks": ""
                        },
                        "colorscale": [
                          [
                            0,
                            "#0d0887"
                          ],
                          [
                            0.1111111111111111,
                            "#46039f"
                          ],
                          [
                            0.2222222222222222,
                            "#7201a8"
                          ],
                          [
                            0.3333333333333333,
                            "#9c179e"
                          ],
                          [
                            0.4444444444444444,
                            "#bd3786"
                          ],
                          [
                            0.5555555555555556,
                            "#d8576b"
                          ],
                          [
                            0.6666666666666666,
                            "#ed7953"
                          ],
                          [
                            0.7777777777777778,
                            "#fb9f3a"
                          ],
                          [
                            0.8888888888888888,
                            "#fdca26"
                          ],
                          [
                            1,
                            "#f0f921"
                          ]
                        ],
                        "type": "histogram2dcontour"
                      }
                    ],
                    "mesh3d": [
                      {
                        "colorbar": {
                          "outlinewidth": 0,
                          "ticks": ""
                        },
                        "type": "mesh3d"
                      }
                    ],
                    "parcoords": [
                      {
                        "line": {
                          "colorbar": {
                            "outlinewidth": 0,
                            "ticks": ""
                          }
                        },
                        "type": "parcoords"
                      }
                    ],
                    "pie": [
                      {
                        "automargin": true,
                        "type": "pie"
                      }
                    ],
                    "scatter": [
                      {
                        "marker": {
                          "line": {
                            "color": "#283442"
                          }
                        },
                        "type": "scatter"
                      }
                    ],
                    "scatter3d": [
                      {
                        "line": {
                          "colorbar": {
                            "outlinewidth": 0,
                            "ticks": ""
                          }
                        },
                        "marker": {
                          "colorbar": {
                            "outlinewidth": 0,
                            "ticks": ""
                          }
                        },
                        "type": "scatter3d"
                      }
                    ],
                    "scattercarpet": [
                      {
                        "marker": {
                          "colorbar": {
                            "outlinewidth": 0,
                            "ticks": ""
                          }
                        },
                        "type": "scattercarpet"
                      }
                    ],
                    "scattergeo": [
                      {
                        "marker": {
                          "colorbar": {
                            "outlinewidth": 0,
                            "ticks": ""
                          }
                        },
                        "type": "scattergeo"
                      }
                    ],
                    "scattergl": [
                      {
                        "marker": {
                          "line": {
                            "color": "#283442"
                          }
                        },
                        "type": "scattergl"
                      }
                    ],
                    "scattermapbox": [
                      {
                        "marker": {
                          "colorbar": {
                            "outlinewidth": 0,
                            "ticks": ""
                          }
                        },
                        "type": "scattermapbox"
                      }
                    ],
                    "scatterpolar": [
                      {
                        "marker": {
                          "colorbar": {
                            "outlinewidth": 0,
                            "ticks": ""
                          }
                        },
                        "type": "scatterpolar"
                      }
                    ],
                    "scatterpolargl": [
                      {
                        "marker": {
                          "colorbar": {
                            "outlinewidth": 0,
                            "ticks": ""
                          }
                        },
                        "type": "scatterpolargl"
                      }
                    ],
                    "scatterternary": [
                      {
                        "marker": {
                          "colorbar": {
                            "outlinewidth": 0,
                            "ticks": ""
                          }
                        },
                        "type": "scatterternary"
                      }
                    ],
                    "surface": [
                      {
                        "colorbar": {
                          "outlinewidth": 0,
                          "ticks": ""
                        },
                        "colorscale": [
                          [
                            0,
                            "#0d0887"
                          ],
                          [
                            0.1111111111111111,
                            "#46039f"
                          ],
                          [
                            0.2222222222222222,
                            "#7201a8"
                          ],
                          [
                            0.3333333333333333,
                            "#9c179e"
                          ],
                          [
                            0.4444444444444444,
                            "#bd3786"
                          ],
                          [
                            0.5555555555555556,
                            "#d8576b"
                          ],
                          [
                            0.6666666666666666,
                            "#ed7953"
                          ],
                          [
                            0.7777777777777778,
                            "#fb9f3a"
                          ],
                          [
                            0.8888888888888888,
                            "#fdca26"
                          ],
                          [
                            1,
                            "#f0f921"
                          ]
                        ],
                        "type": "surface"
                      }
                    ],
                    "table": [
                      {
                        "cells": {
                          "fill": {
                            "color": "#506784"
                          },
                          "line": {
                            "color": "rgb(17,17,17)"
                          }
                        },
                        "header": {
                          "fill": {
                            "color": "#2a3f5f"
                          },
                          "line": {
                            "color": "rgb(17,17,17)"
                          }
                        },
                        "type": "table"
                      }
                    ]
                  },
                  "layout": {
                    "annotationdefaults": {
                      "arrowcolor": "#f2f5fa",
                      "arrowhead": 0,
                      "arrowwidth": 1
                    },
                    "autotypenumbers": "strict",
                    "coloraxis": {
                      "colorbar": {
                        "outlinewidth": 0,
                        "ticks": ""
                      }
                    },
                    "colorscale": {
                      "diverging": [
                        [
                          0,
                          "#8e0152"
                        ],
                        [
                          0.1,
                          "#c51b7d"
                        ],
                        [
                          0.2,
                          "#de77ae"
                        ],
                        [
                          0.3,
                          "#f1b6da"
                        ],
                        [
                          0.4,
                          "#fde0ef"
                        ],
                        [
                          0.5,
                          "#f7f7f7"
                        ],
                        [
                          0.6,
                          "#e6f5d0"
                        ],
                        [
                          0.7,
                          "#b8e186"
                        ],
                        [
                          0.8,
                          "#7fbc41"
                        ],
                        [
                          0.9,
                          "#4d9221"
                        ],
                        [
                          1,
                          "#276419"
                        ]
                      ],
                      "sequential": [
                        [
                          0,
                          "#0d0887"
                        ],
                        [
                          0.1111111111111111,
                          "#46039f"
                        ],
                        [
                          0.2222222222222222,
                          "#7201a8"
                        ],
                        [
                          0.3333333333333333,
                          "#9c179e"
                        ],
                        [
                          0.4444444444444444,
                          "#bd3786"
                        ],
                        [
                          0.5555555555555556,
                          "#d8576b"
                        ],
                        [
                          0.6666666666666666,
                          "#ed7953"
                        ],
                        [
                          0.7777777777777778,
                          "#fb9f3a"
                        ],
                        [
                          0.8888888888888888,
                          "#fdca26"
                        ],
                        [
                          1,
                          "#f0f921"
                        ]
                      ],
                      "sequentialminus": [
                        [
                          0,
                          "#0d0887"
                        ],
                        [
                          0.1111111111111111,
                          "#46039f"
                        ],
                        [
                          0.2222222222222222,
                          "#7201a8"
                        ],
                        [
                          0.3333333333333333,
                          "#9c179e"
                        ],
                        [
                          0.4444444444444444,
                          "#bd3786"
                        ],
                        [
                          0.5555555555555556,
                          "#d8576b"
                        ],
                        [
                          0.6666666666666666,
                          "#ed7953"
                        ],
                        [
                          0.7777777777777778,
                          "#fb9f3a"
                        ],
                        [
                          0.8888888888888888,
                          "#fdca26"
                        ],
                        [
                          1,
                          "#f0f921"
                        ]
                      ]
                    },
                    "colorway": [
                      "#636efa",
                      "#EF553B",
                      "#00cc96",
                      "#ab63fa",
                      "#FFA15A",
                      "#19d3f3",
                      "#FF6692",
                      "#B6E880",
                      "#FF97FF",
                      "#FECB52"
                    ],
                    "font": {
                      "color": "#f2f5fa"
                    },
                    "geo": {
                      "bgcolor": "rgb(17,17,17)",
                      "lakecolor": "rgb(17,17,17)",
                      "landcolor": "rgb(17,17,17)",
                      "showlakes": true,
                      "showland": true,
                      "subunitcolor": "#506784"
                    },
                    "hoverlabel": {
                      "align": "left"
                    },
                    "hovermode": "closest",
                    "mapbox": {
                      "style": "dark"
                    },
                    "paper_bgcolor": "rgb(17,17,17)",
                    "plot_bgcolor": "rgb(17,17,17)",
                    "polar": {
                      "angularaxis": {
                        "gridcolor": "#506784",
                        "linecolor": "#506784",
                        "ticks": ""
                      },
                      "bgcolor": "rgb(17,17,17)",
                      "radialaxis": {
                        "gridcolor": "#506784",
                        "linecolor": "#506784",
                        "ticks": ""
                      }
                    },
                    "scene": {
                      "xaxis": {
                        "backgroundcolor": "rgb(17,17,17)",
                        "gridcolor": "#506784",
                        "gridwidth": 2,
                        "linecolor": "#506784",
                        "showbackground": true,
                        "ticks": "",
                        "zerolinecolor": "#C8D4E3"
                      },
                      "yaxis": {
                        "backgroundcolor": "rgb(17,17,17)",
                        "gridcolor": "#506784",
                        "gridwidth": 2,
                        "linecolor": "#506784",
                        "showbackground": true,
                        "ticks": "",
                        "zerolinecolor": "#C8D4E3"
                      },
                      "zaxis": {
                        "backgroundcolor": "rgb(17,17,17)",
                        "gridcolor": "#506784",
                        "gridwidth": 2,
                        "linecolor": "#506784",
                        "showbackground": true,
                        "ticks": "",
                        "zerolinecolor": "#C8D4E3"
                      }
                    },
                    "shapedefaults": {
                      "line": {
                        "color": "#f2f5fa"
                      }
                    },
                    "sliderdefaults": {
                      "bgcolor": "#C8D4E3",
                      "bordercolor": "rgb(17,17,17)",
                      "borderwidth": 1,
                      "tickwidth": 0
                    },
                    "ternary": {
                      "aaxis": {
                        "gridcolor": "#506784",
                        "linecolor": "#506784",
                        "ticks": ""
                      },
                      "baxis": {
                        "gridcolor": "#506784",
                        "linecolor": "#506784",
                        "ticks": ""
                      },
                      "bgcolor": "rgb(17,17,17)",
                      "caxis": {
                        "gridcolor": "#506784",
                        "linecolor": "#506784",
                        "ticks": ""
                      }
                    },
                    "title": {
                      "x": 0.05
                    },
                    "updatemenudefaults": {
                      "bgcolor": "#506784",
                      "borderwidth": 0
                    },
                    "xaxis": {
                      "automargin": true,
                      "gridcolor": "#283442",
                      "linecolor": "#506784",
                      "ticks": "",
                      "title": {
                        "standoff": 15
                      },
                      "zerolinecolor": "#283442",
                      "zerolinewidth": 2
                    },
                    "yaxis": {
                      "automargin": true,
                      "gridcolor": "#283442",
                      "linecolor": "#506784",
                      "ticks": "",
                      "title": {
                        "standoff": 15
                      },
                      "zerolinecolor": "#283442",
                      "zerolinewidth": 2
                    }
                  }
                },
                "title": {
                  "text": "CO2 Emissions  Per Capita vs Time"
                },
                "xaxis": {
                  "anchor": "y",
                  "domain": [
                    0,
                    1
                  ],
                  "title": {
                    "text": "Year"
                  }
                },
                "yaxis": {
                  "anchor": "x",
                  "domain": [
                    0,
                    1
                  ],
                  "title": {
                    "text": "CO2 Per Capita"
                  }
                }
              }
            }
          },
          "metadata": {},
          "output_type": "display_data"
        }
      ],
      "source": [
        "time_df = co2_df[co2_df['country'].isin(['United Kingdom', 'United States', 'China', 'India', 'Russia', 'World'])]\n",
        "\n",
        "\n",
        "time_df = time_df[['co2_per_capita', 'year', 'country']]\n",
        "\n",
        "#Add Europe\n",
        "europe_data = co2_df[co2_df['country'] == 'Europe'][['co2_per_capita', 'year', 'country']]\n",
        "time_df = pd.concat([time_df, europe_data])\n",
        "\n",
        "time_df = time_df.sort_values(\"year\")\n",
        "time_df = time_df[time_df['year'] > 1800]\n",
        "\n",
        "\n",
        "fig = px.line(time_df, x='year', y = 'co2_per_capita', color='country', title='CO2 Emissions  Per Capita vs Time')\n",
        "fig.update_layout(xaxis_title=\"Year\", template=\"plotly_dark\",yaxis_title=\"CO2 Per Capita\", legend_title='Countries')\n",
        "fig.show()"
      ]
    },
    {
      "cell_type": "markdown",
      "metadata": {},
      "source": [
        "### Impact of COVID-19\n",
        " \n",
        "The Covid-19 pandemic and resulting economic crisis had an impact on global CO2.\n",
        "The global CO2 emissions declined by 5.8% in 2020. It went from 36702.503 million tonnes to 34807.259 million tonnes. It was almost 2000 million tonnes of CO2, and the largest ever decline followed the global pandemic crisis. This decline is the equivalent of removing all of the European Union's CO2 emissions. Though China was one of the very few countries where emissions increased. The United States and Europe had an apparent decline in CO2 emissions.  \n",
        "\n",
        "The 2009 economic crisis also had a similar impact on the global CO2 emission. It declined by almost 1.5% in 2009. Though the CO2 emissions quickly went up in 2010. There were around 500 million tonnes fewer emissions of CO2. We can see all major world events have impacted CO2 emissions, whether it is the end of the cold war or the end of the World War. We can spot different crisis effects on Global CO2 emissions. \n",
        "\n",
        "### Per capita CO2 emissions\n",
        "\n",
        "The CO2 emission per capita is defined as the contribution in CO2 emission of an average citizen of each country. It is calculated by dividing the country’s total emissions by its population. In bellow visualization, we can see the differences in per capita emissions worldwide. \n",
        "\n",
        "The world’s largest per capita emissions CO2 emitters are the major oil-producing countries, as these countries mostly have relatively low populations. However, these countries have relatively low total annual emissions. More populated countries with high per capita emissions have high total yearly emissions, such as the United States, Canada, and Australia. Most of the European countries have per capita emissions near the world average. Many countries in Africa, South Asia, and South America still have very low per capita CO2. The lowest per capita emission is detected in Sub-Saharan African countries.\n",
        "\n",
        "### Outsourcing CO2 Emissions\n",
        "\n",
        "If we look at the plot of CO2 emissions vs. time for rich countries such as the United States or Europe, we notice that it has been decreasing steadily in the recent year. It looks like a good sign in the fight against global warming on a surface level. On the other hand, though, emissions in countries like China and India are increasing. This raises the question of whether that is this steady decline in rich countries and growth in developing countries related to each other. \n",
        "\n",
        "The answer is yes, as ‘rich’ countries indeed are ‘outsourcing’ their climate pollution to the developing countries by shifting their factories overseas. In the plot, we can notice a sharp increase in CO2 emissions of China since the year 2000. But a significant portion of these CO2 emissions is due to making goods for exporting. In other middle-income countries, such as India, we notice a more gradual rise in emissions.  \n",
        "\n",
        "China's and other emerging economies' factories now emit more carbon pollution than the United States and Europe industries. But the per capita emissions in these economies are still below America and Europe. China and India regularly cite this gap in per capita emissions at climate talks to deflect the pressure to cut emissions. \n",
        "\n",
        "Outsourcing has made it challenging to hold countries accountable for their emissions. We can look at China and India and blame them, but at the same time, the pollution is caused due to goods that are being produced there for American demand. "
      ]
    },
    {
      "cell_type": "markdown",
      "metadata": {
        "id": "12rk0lq80jZO"
      },
      "source": [
        "# Country-Wise Pie Chart for CO2 Emission in 2019"
      ]
    },
    {
      "cell_type": "code",
      "execution_count": 55,
      "metadata": {
        "colab": {
          "base_uri": "https://localhost:8080/",
          "height": 551
        },
        "id": "jXb_hvGnU89K",
        "outputId": "94fbe9f0-d68a-495d-94ee-4869a44f917f"
      },
      "outputs": [
        {
          "data": {
            "text/html": [
              "<div>\n",
              "<style scoped>\n",
              "    .dataframe tbody tr th:only-of-type {\n",
              "        vertical-align: middle;\n",
              "    }\n",
              "\n",
              "    .dataframe tbody tr th {\n",
              "        vertical-align: top;\n",
              "    }\n",
              "\n",
              "    .dataframe thead th {\n",
              "        text-align: right;\n",
              "    }\n",
              "</style>\n",
              "<table border=\"1\" class=\"dataframe\">\n",
              "  <thead>\n",
              "    <tr style=\"text-align: right;\">\n",
              "      <th></th>\n",
              "      <th>iso_code</th>\n",
              "      <th>country</th>\n",
              "      <th>co2_per_capita</th>\n",
              "      <th>year</th>\n",
              "      <th>co2</th>\n",
              "      <th>continent</th>\n",
              "    </tr>\n",
              "  </thead>\n",
              "  <tbody>\n",
              "    <tr>\n",
              "      <th>4722</th>\n",
              "      <td>CHN</td>\n",
              "      <td>China</td>\n",
              "      <td>7.316</td>\n",
              "      <td>2019</td>\n",
              "      <td>10489.989</td>\n",
              "      <td>Asia</td>\n",
              "    </tr>\n",
              "    <tr>\n",
              "      <th>24053</th>\n",
              "      <td>USA</td>\n",
              "      <td>United States</td>\n",
              "      <td>15.972</td>\n",
              "      <td>2019</td>\n",
              "      <td>5255.816</td>\n",
              "      <td>North America</td>\n",
              "    </tr>\n",
              "    <tr>\n",
              "      <th>10976</th>\n",
              "      <td>IND</td>\n",
              "      <td>India</td>\n",
              "      <td>1.922</td>\n",
              "      <td>2019</td>\n",
              "      <td>2625.968</td>\n",
              "      <td>Asia</td>\n",
              "    </tr>\n",
              "    <tr>\n",
              "      <th>18989</th>\n",
              "      <td>RUS</td>\n",
              "      <td>Russia</td>\n",
              "      <td>11.513</td>\n",
              "      <td>2019</td>\n",
              "      <td>1679.449</td>\n",
              "      <td>Asia</td>\n",
              "    </tr>\n",
              "    <tr>\n",
              "      <th>12035</th>\n",
              "      <td>JPN</td>\n",
              "      <td>Japan</td>\n",
              "      <td>8.718</td>\n",
              "      <td>2019</td>\n",
              "      <td>1105.929</td>\n",
              "      <td>Asia</td>\n",
              "    </tr>\n",
              "    <tr>\n",
              "      <th>11294</th>\n",
              "      <td>IRN</td>\n",
              "      <td>Iran</td>\n",
              "      <td>8.845</td>\n",
              "      <td>2019</td>\n",
              "      <td>733.366</td>\n",
              "      <td>Asia</td>\n",
              "    </tr>\n",
              "    <tr>\n",
              "      <th>9589</th>\n",
              "      <td>DEU</td>\n",
              "      <td>Germany</td>\n",
              "      <td>8.518</td>\n",
              "      <td>2019</td>\n",
              "      <td>711.428</td>\n",
              "      <td>Europe</td>\n",
              "    </tr>\n",
              "    <tr>\n",
              "      <th>11108</th>\n",
              "      <td>IDN</td>\n",
              "      <td>Indonesia</td>\n",
              "      <td>2.441</td>\n",
              "      <td>2019</td>\n",
              "      <td>660.594</td>\n",
              "      <td>Asia</td>\n",
              "    </tr>\n",
              "    <tr>\n",
              "      <th>20982</th>\n",
              "      <td>KOR</td>\n",
              "      <td>South Korea</td>\n",
              "      <td>12.650</td>\n",
              "      <td>2019</td>\n",
              "      <td>648.025</td>\n",
              "      <td>Asia</td>\n",
              "    </tr>\n",
              "    <tr>\n",
              "      <th>19661</th>\n",
              "      <td>SAU</td>\n",
              "      <td>Saudi Arabia</td>\n",
              "      <td>18.163</td>\n",
              "      <td>2019</td>\n",
              "      <td>622.413</td>\n",
              "      <td>Asia</td>\n",
              "    </tr>\n",
              "    <tr>\n",
              "      <th>4279</th>\n",
              "      <td>CAN</td>\n",
              "      <td>Canada</td>\n",
              "      <td>15.567</td>\n",
              "      <td>2019</td>\n",
              "      <td>582.390</td>\n",
              "      <td>North America</td>\n",
              "    </tr>\n",
              "    <tr>\n",
              "      <th>3485</th>\n",
              "      <td>BRA</td>\n",
              "      <td>Brazil</td>\n",
              "      <td>2.302</td>\n",
              "      <td>2019</td>\n",
              "      <td>485.793</td>\n",
              "      <td>South America</td>\n",
              "    </tr>\n",
              "    <tr>\n",
              "      <th>20729</th>\n",
              "      <td>ZAF</td>\n",
              "      <td>South Africa</td>\n",
              "      <td>8.127</td>\n",
              "      <td>2019</td>\n",
              "      <td>475.923</td>\n",
              "      <td>Africa</td>\n",
              "    </tr>\n",
              "    <tr>\n",
              "      <th>14562</th>\n",
              "      <td>MEX</td>\n",
              "      <td>Mexico</td>\n",
              "      <td>3.414</td>\n",
              "      <td>2019</td>\n",
              "      <td>435.512</td>\n",
              "      <td>North America</td>\n",
              "    </tr>\n",
              "    <tr>\n",
              "      <th>1594</th>\n",
              "      <td>AUS</td>\n",
              "      <td>Australia</td>\n",
              "      <td>16.447</td>\n",
              "      <td>2019</td>\n",
              "      <td>414.517</td>\n",
              "      <td>Oceania</td>\n",
              "    </tr>\n",
              "    <tr>\n",
              "      <th>15</th>\n",
              "      <td>OTH</td>\n",
              "      <td>Other</td>\n",
              "      <td>0.000</td>\n",
              "      <td>2019</td>\n",
              "      <td>8502.505</td>\n",
              "      <td>Other</td>\n",
              "    </tr>\n",
              "  </tbody>\n",
              "</table>\n",
              "</div>"
            ],
            "text/plain": [
              "      iso_code        country  co2_per_capita  year        co2      continent\n",
              "4722       CHN          China           7.316  2019  10489.989           Asia\n",
              "24053      USA  United States          15.972  2019   5255.816  North America\n",
              "10976      IND          India           1.922  2019   2625.968           Asia\n",
              "18989      RUS         Russia          11.513  2019   1679.449           Asia\n",
              "12035      JPN          Japan           8.718  2019   1105.929           Asia\n",
              "11294      IRN           Iran           8.845  2019    733.366           Asia\n",
              "9589       DEU        Germany           8.518  2019    711.428         Europe\n",
              "11108      IDN      Indonesia           2.441  2019    660.594           Asia\n",
              "20982      KOR    South Korea          12.650  2019    648.025           Asia\n",
              "19661      SAU   Saudi Arabia          18.163  2019    622.413           Asia\n",
              "4279       CAN         Canada          15.567  2019    582.390  North America\n",
              "3485       BRA         Brazil           2.302  2019    485.793  South America\n",
              "20729      ZAF   South Africa           8.127  2019    475.923         Africa\n",
              "14562      MEX         Mexico           3.414  2019    435.512  North America\n",
              "1594       AUS      Australia          16.447  2019    414.517        Oceania\n",
              "15         OTH          Other           0.000  2019   8502.505          Other"
            ]
          },
          "execution_count": 55,
          "metadata": {},
          "output_type": "execute_result"
        }
      ],
      "source": [
        "globe_df_2019 = globe_df[globe_df[\"year\"] == 2019].sort_values(\"co2\", ascending=False)\n",
        "main_data = globe_df_2019.head(15).copy()\n",
        "\n",
        "# Add all 16-rest countries as other\n",
        "other = globe_df_2019.iloc[15:][\"co2\"]\n",
        "\n",
        "# Append row containing other data\n",
        "main_data.loc[len(main_data.index)] = [\"OTH\", \"Other\", 0, 2019, other.sum(), \"Other\"]\n",
        "main_data"
      ]
    },
    {
      "cell_type": "code",
      "execution_count": 56,
      "metadata": {
        "colab": {
          "base_uri": "https://localhost:8080/",
          "height": 542
        },
        "id": "oVl_1aYj1YBh",
        "outputId": "46229a18-87da-469d-d07c-e2cbb8ad72fc"
      },
      "outputs": [
        {
          "data": {
            "application/vnd.plotly.v1+json": {
              "config": {
                "plotlyServerURL": "https://plot.ly"
              },
              "data": [
                {
                  "domain": {
                    "x": [
                      0,
                      1
                    ],
                    "y": [
                      0,
                      1
                    ]
                  },
                  "hole": 0.3,
                  "hovertemplate": "country=%{label}<br>co2=%{value}<extra></extra>",
                  "labels": [
                    "China",
                    "United States",
                    "India",
                    "Russia",
                    "Japan",
                    "Iran",
                    "Germany",
                    "Indonesia",
                    "South Korea",
                    "Saudi Arabia",
                    "Canada",
                    "Brazil",
                    "South Africa",
                    "Mexico",
                    "Australia",
                    "Other"
                  ],
                  "legendgroup": "",
                  "name": "",
                  "showlegend": true,
                  "type": "pie",
                  "values": [
                    10489.989,
                    5255.816,
                    2625.968,
                    1679.4489999999998,
                    1105.9289999999999,
                    733.3660000000001,
                    711.428,
                    660.5939999999999,
                    648.025,
                    622.413,
                    582.39,
                    485.793,
                    475.923,
                    435.51199999999994,
                    414.517,
                    8502.505000000001
                  ]
                }
              ],
              "layout": {
                "legend": {
                  "tracegroupgap": 0
                },
                "template": {
                  "data": {
                    "bar": [
                      {
                        "error_x": {
                          "color": "#f2f5fa"
                        },
                        "error_y": {
                          "color": "#f2f5fa"
                        },
                        "marker": {
                          "line": {
                            "color": "rgb(17,17,17)",
                            "width": 0.5
                          },
                          "pattern": {
                            "fillmode": "overlay",
                            "size": 10,
                            "solidity": 0.2
                          }
                        },
                        "type": "bar"
                      }
                    ],
                    "barpolar": [
                      {
                        "marker": {
                          "line": {
                            "color": "rgb(17,17,17)",
                            "width": 0.5
                          },
                          "pattern": {
                            "fillmode": "overlay",
                            "size": 10,
                            "solidity": 0.2
                          }
                        },
                        "type": "barpolar"
                      }
                    ],
                    "carpet": [
                      {
                        "aaxis": {
                          "endlinecolor": "#A2B1C6",
                          "gridcolor": "#506784",
                          "linecolor": "#506784",
                          "minorgridcolor": "#506784",
                          "startlinecolor": "#A2B1C6"
                        },
                        "baxis": {
                          "endlinecolor": "#A2B1C6",
                          "gridcolor": "#506784",
                          "linecolor": "#506784",
                          "minorgridcolor": "#506784",
                          "startlinecolor": "#A2B1C6"
                        },
                        "type": "carpet"
                      }
                    ],
                    "choropleth": [
                      {
                        "colorbar": {
                          "outlinewidth": 0,
                          "ticks": ""
                        },
                        "type": "choropleth"
                      }
                    ],
                    "contour": [
                      {
                        "colorbar": {
                          "outlinewidth": 0,
                          "ticks": ""
                        },
                        "colorscale": [
                          [
                            0,
                            "#0d0887"
                          ],
                          [
                            0.1111111111111111,
                            "#46039f"
                          ],
                          [
                            0.2222222222222222,
                            "#7201a8"
                          ],
                          [
                            0.3333333333333333,
                            "#9c179e"
                          ],
                          [
                            0.4444444444444444,
                            "#bd3786"
                          ],
                          [
                            0.5555555555555556,
                            "#d8576b"
                          ],
                          [
                            0.6666666666666666,
                            "#ed7953"
                          ],
                          [
                            0.7777777777777778,
                            "#fb9f3a"
                          ],
                          [
                            0.8888888888888888,
                            "#fdca26"
                          ],
                          [
                            1,
                            "#f0f921"
                          ]
                        ],
                        "type": "contour"
                      }
                    ],
                    "contourcarpet": [
                      {
                        "colorbar": {
                          "outlinewidth": 0,
                          "ticks": ""
                        },
                        "type": "contourcarpet"
                      }
                    ],
                    "heatmap": [
                      {
                        "colorbar": {
                          "outlinewidth": 0,
                          "ticks": ""
                        },
                        "colorscale": [
                          [
                            0,
                            "#0d0887"
                          ],
                          [
                            0.1111111111111111,
                            "#46039f"
                          ],
                          [
                            0.2222222222222222,
                            "#7201a8"
                          ],
                          [
                            0.3333333333333333,
                            "#9c179e"
                          ],
                          [
                            0.4444444444444444,
                            "#bd3786"
                          ],
                          [
                            0.5555555555555556,
                            "#d8576b"
                          ],
                          [
                            0.6666666666666666,
                            "#ed7953"
                          ],
                          [
                            0.7777777777777778,
                            "#fb9f3a"
                          ],
                          [
                            0.8888888888888888,
                            "#fdca26"
                          ],
                          [
                            1,
                            "#f0f921"
                          ]
                        ],
                        "type": "heatmap"
                      }
                    ],
                    "heatmapgl": [
                      {
                        "colorbar": {
                          "outlinewidth": 0,
                          "ticks": ""
                        },
                        "colorscale": [
                          [
                            0,
                            "#0d0887"
                          ],
                          [
                            0.1111111111111111,
                            "#46039f"
                          ],
                          [
                            0.2222222222222222,
                            "#7201a8"
                          ],
                          [
                            0.3333333333333333,
                            "#9c179e"
                          ],
                          [
                            0.4444444444444444,
                            "#bd3786"
                          ],
                          [
                            0.5555555555555556,
                            "#d8576b"
                          ],
                          [
                            0.6666666666666666,
                            "#ed7953"
                          ],
                          [
                            0.7777777777777778,
                            "#fb9f3a"
                          ],
                          [
                            0.8888888888888888,
                            "#fdca26"
                          ],
                          [
                            1,
                            "#f0f921"
                          ]
                        ],
                        "type": "heatmapgl"
                      }
                    ],
                    "histogram": [
                      {
                        "marker": {
                          "pattern": {
                            "fillmode": "overlay",
                            "size": 10,
                            "solidity": 0.2
                          }
                        },
                        "type": "histogram"
                      }
                    ],
                    "histogram2d": [
                      {
                        "colorbar": {
                          "outlinewidth": 0,
                          "ticks": ""
                        },
                        "colorscale": [
                          [
                            0,
                            "#0d0887"
                          ],
                          [
                            0.1111111111111111,
                            "#46039f"
                          ],
                          [
                            0.2222222222222222,
                            "#7201a8"
                          ],
                          [
                            0.3333333333333333,
                            "#9c179e"
                          ],
                          [
                            0.4444444444444444,
                            "#bd3786"
                          ],
                          [
                            0.5555555555555556,
                            "#d8576b"
                          ],
                          [
                            0.6666666666666666,
                            "#ed7953"
                          ],
                          [
                            0.7777777777777778,
                            "#fb9f3a"
                          ],
                          [
                            0.8888888888888888,
                            "#fdca26"
                          ],
                          [
                            1,
                            "#f0f921"
                          ]
                        ],
                        "type": "histogram2d"
                      }
                    ],
                    "histogram2dcontour": [
                      {
                        "colorbar": {
                          "outlinewidth": 0,
                          "ticks": ""
                        },
                        "colorscale": [
                          [
                            0,
                            "#0d0887"
                          ],
                          [
                            0.1111111111111111,
                            "#46039f"
                          ],
                          [
                            0.2222222222222222,
                            "#7201a8"
                          ],
                          [
                            0.3333333333333333,
                            "#9c179e"
                          ],
                          [
                            0.4444444444444444,
                            "#bd3786"
                          ],
                          [
                            0.5555555555555556,
                            "#d8576b"
                          ],
                          [
                            0.6666666666666666,
                            "#ed7953"
                          ],
                          [
                            0.7777777777777778,
                            "#fb9f3a"
                          ],
                          [
                            0.8888888888888888,
                            "#fdca26"
                          ],
                          [
                            1,
                            "#f0f921"
                          ]
                        ],
                        "type": "histogram2dcontour"
                      }
                    ],
                    "mesh3d": [
                      {
                        "colorbar": {
                          "outlinewidth": 0,
                          "ticks": ""
                        },
                        "type": "mesh3d"
                      }
                    ],
                    "parcoords": [
                      {
                        "line": {
                          "colorbar": {
                            "outlinewidth": 0,
                            "ticks": ""
                          }
                        },
                        "type": "parcoords"
                      }
                    ],
                    "pie": [
                      {
                        "automargin": true,
                        "type": "pie"
                      }
                    ],
                    "scatter": [
                      {
                        "marker": {
                          "line": {
                            "color": "#283442"
                          }
                        },
                        "type": "scatter"
                      }
                    ],
                    "scatter3d": [
                      {
                        "line": {
                          "colorbar": {
                            "outlinewidth": 0,
                            "ticks": ""
                          }
                        },
                        "marker": {
                          "colorbar": {
                            "outlinewidth": 0,
                            "ticks": ""
                          }
                        },
                        "type": "scatter3d"
                      }
                    ],
                    "scattercarpet": [
                      {
                        "marker": {
                          "colorbar": {
                            "outlinewidth": 0,
                            "ticks": ""
                          }
                        },
                        "type": "scattercarpet"
                      }
                    ],
                    "scattergeo": [
                      {
                        "marker": {
                          "colorbar": {
                            "outlinewidth": 0,
                            "ticks": ""
                          }
                        },
                        "type": "scattergeo"
                      }
                    ],
                    "scattergl": [
                      {
                        "marker": {
                          "line": {
                            "color": "#283442"
                          }
                        },
                        "type": "scattergl"
                      }
                    ],
                    "scattermapbox": [
                      {
                        "marker": {
                          "colorbar": {
                            "outlinewidth": 0,
                            "ticks": ""
                          }
                        },
                        "type": "scattermapbox"
                      }
                    ],
                    "scatterpolar": [
                      {
                        "marker": {
                          "colorbar": {
                            "outlinewidth": 0,
                            "ticks": ""
                          }
                        },
                        "type": "scatterpolar"
                      }
                    ],
                    "scatterpolargl": [
                      {
                        "marker": {
                          "colorbar": {
                            "outlinewidth": 0,
                            "ticks": ""
                          }
                        },
                        "type": "scatterpolargl"
                      }
                    ],
                    "scatterternary": [
                      {
                        "marker": {
                          "colorbar": {
                            "outlinewidth": 0,
                            "ticks": ""
                          }
                        },
                        "type": "scatterternary"
                      }
                    ],
                    "surface": [
                      {
                        "colorbar": {
                          "outlinewidth": 0,
                          "ticks": ""
                        },
                        "colorscale": [
                          [
                            0,
                            "#0d0887"
                          ],
                          [
                            0.1111111111111111,
                            "#46039f"
                          ],
                          [
                            0.2222222222222222,
                            "#7201a8"
                          ],
                          [
                            0.3333333333333333,
                            "#9c179e"
                          ],
                          [
                            0.4444444444444444,
                            "#bd3786"
                          ],
                          [
                            0.5555555555555556,
                            "#d8576b"
                          ],
                          [
                            0.6666666666666666,
                            "#ed7953"
                          ],
                          [
                            0.7777777777777778,
                            "#fb9f3a"
                          ],
                          [
                            0.8888888888888888,
                            "#fdca26"
                          ],
                          [
                            1,
                            "#f0f921"
                          ]
                        ],
                        "type": "surface"
                      }
                    ],
                    "table": [
                      {
                        "cells": {
                          "fill": {
                            "color": "#506784"
                          },
                          "line": {
                            "color": "rgb(17,17,17)"
                          }
                        },
                        "header": {
                          "fill": {
                            "color": "#2a3f5f"
                          },
                          "line": {
                            "color": "rgb(17,17,17)"
                          }
                        },
                        "type": "table"
                      }
                    ]
                  },
                  "layout": {
                    "annotationdefaults": {
                      "arrowcolor": "#f2f5fa",
                      "arrowhead": 0,
                      "arrowwidth": 1
                    },
                    "autotypenumbers": "strict",
                    "coloraxis": {
                      "colorbar": {
                        "outlinewidth": 0,
                        "ticks": ""
                      }
                    },
                    "colorscale": {
                      "diverging": [
                        [
                          0,
                          "#8e0152"
                        ],
                        [
                          0.1,
                          "#c51b7d"
                        ],
                        [
                          0.2,
                          "#de77ae"
                        ],
                        [
                          0.3,
                          "#f1b6da"
                        ],
                        [
                          0.4,
                          "#fde0ef"
                        ],
                        [
                          0.5,
                          "#f7f7f7"
                        ],
                        [
                          0.6,
                          "#e6f5d0"
                        ],
                        [
                          0.7,
                          "#b8e186"
                        ],
                        [
                          0.8,
                          "#7fbc41"
                        ],
                        [
                          0.9,
                          "#4d9221"
                        ],
                        [
                          1,
                          "#276419"
                        ]
                      ],
                      "sequential": [
                        [
                          0,
                          "#0d0887"
                        ],
                        [
                          0.1111111111111111,
                          "#46039f"
                        ],
                        [
                          0.2222222222222222,
                          "#7201a8"
                        ],
                        [
                          0.3333333333333333,
                          "#9c179e"
                        ],
                        [
                          0.4444444444444444,
                          "#bd3786"
                        ],
                        [
                          0.5555555555555556,
                          "#d8576b"
                        ],
                        [
                          0.6666666666666666,
                          "#ed7953"
                        ],
                        [
                          0.7777777777777778,
                          "#fb9f3a"
                        ],
                        [
                          0.8888888888888888,
                          "#fdca26"
                        ],
                        [
                          1,
                          "#f0f921"
                        ]
                      ],
                      "sequentialminus": [
                        [
                          0,
                          "#0d0887"
                        ],
                        [
                          0.1111111111111111,
                          "#46039f"
                        ],
                        [
                          0.2222222222222222,
                          "#7201a8"
                        ],
                        [
                          0.3333333333333333,
                          "#9c179e"
                        ],
                        [
                          0.4444444444444444,
                          "#bd3786"
                        ],
                        [
                          0.5555555555555556,
                          "#d8576b"
                        ],
                        [
                          0.6666666666666666,
                          "#ed7953"
                        ],
                        [
                          0.7777777777777778,
                          "#fb9f3a"
                        ],
                        [
                          0.8888888888888888,
                          "#fdca26"
                        ],
                        [
                          1,
                          "#f0f921"
                        ]
                      ]
                    },
                    "colorway": [
                      "#636efa",
                      "#EF553B",
                      "#00cc96",
                      "#ab63fa",
                      "#FFA15A",
                      "#19d3f3",
                      "#FF6692",
                      "#B6E880",
                      "#FF97FF",
                      "#FECB52"
                    ],
                    "font": {
                      "color": "#f2f5fa"
                    },
                    "geo": {
                      "bgcolor": "rgb(17,17,17)",
                      "lakecolor": "rgb(17,17,17)",
                      "landcolor": "rgb(17,17,17)",
                      "showlakes": true,
                      "showland": true,
                      "subunitcolor": "#506784"
                    },
                    "hoverlabel": {
                      "align": "left"
                    },
                    "hovermode": "closest",
                    "mapbox": {
                      "style": "dark"
                    },
                    "paper_bgcolor": "rgb(17,17,17)",
                    "plot_bgcolor": "rgb(17,17,17)",
                    "polar": {
                      "angularaxis": {
                        "gridcolor": "#506784",
                        "linecolor": "#506784",
                        "ticks": ""
                      },
                      "bgcolor": "rgb(17,17,17)",
                      "radialaxis": {
                        "gridcolor": "#506784",
                        "linecolor": "#506784",
                        "ticks": ""
                      }
                    },
                    "scene": {
                      "xaxis": {
                        "backgroundcolor": "rgb(17,17,17)",
                        "gridcolor": "#506784",
                        "gridwidth": 2,
                        "linecolor": "#506784",
                        "showbackground": true,
                        "ticks": "",
                        "zerolinecolor": "#C8D4E3"
                      },
                      "yaxis": {
                        "backgroundcolor": "rgb(17,17,17)",
                        "gridcolor": "#506784",
                        "gridwidth": 2,
                        "linecolor": "#506784",
                        "showbackground": true,
                        "ticks": "",
                        "zerolinecolor": "#C8D4E3"
                      },
                      "zaxis": {
                        "backgroundcolor": "rgb(17,17,17)",
                        "gridcolor": "#506784",
                        "gridwidth": 2,
                        "linecolor": "#506784",
                        "showbackground": true,
                        "ticks": "",
                        "zerolinecolor": "#C8D4E3"
                      }
                    },
                    "shapedefaults": {
                      "line": {
                        "color": "#f2f5fa"
                      }
                    },
                    "sliderdefaults": {
                      "bgcolor": "#C8D4E3",
                      "bordercolor": "rgb(17,17,17)",
                      "borderwidth": 1,
                      "tickwidth": 0
                    },
                    "ternary": {
                      "aaxis": {
                        "gridcolor": "#506784",
                        "linecolor": "#506784",
                        "ticks": ""
                      },
                      "baxis": {
                        "gridcolor": "#506784",
                        "linecolor": "#506784",
                        "ticks": ""
                      },
                      "bgcolor": "rgb(17,17,17)",
                      "caxis": {
                        "gridcolor": "#506784",
                        "linecolor": "#506784",
                        "ticks": ""
                      }
                    },
                    "title": {
                      "x": 0.05
                    },
                    "updatemenudefaults": {
                      "bgcolor": "#506784",
                      "borderwidth": 0
                    },
                    "xaxis": {
                      "automargin": true,
                      "gridcolor": "#283442",
                      "linecolor": "#506784",
                      "ticks": "",
                      "title": {
                        "standoff": 15
                      },
                      "zerolinecolor": "#283442",
                      "zerolinewidth": 2
                    },
                    "yaxis": {
                      "automargin": true,
                      "gridcolor": "#283442",
                      "linecolor": "#506784",
                      "ticks": "",
                      "title": {
                        "standoff": 15
                      },
                      "zerolinecolor": "#283442",
                      "zerolinewidth": 2
                    }
                  }
                },
                "title": {
                  "text": "Country-Wise CO2 Emission for 2019"
                }
              }
            }
          },
          "metadata": {},
          "output_type": "display_data"
        }
      ],
      "source": [
        "px.pie(main_data, names=\"country\", values=\"co2\", template=\"plotly_dark\",title=\"Country-Wise CO2 Emission for 2019\", hole=.3)"
      ]
    },
    {
      "cell_type": "markdown",
      "metadata": {
        "id": "ytQvOOM6Gzuq"
      },
      "source": [
        "# CO2 Emission Breakup"
      ]
    },
    {
      "cell_type": "code",
      "execution_count": 57,
      "metadata": {
        "id": "ohy8DLURGxqa"
      },
      "outputs": [],
      "source": [
        "req_cols = ['iso_code', 'country', \"year\", \"co2\", \"trade_co2\", \"cement_co2\", \"coal_co2\", \"flaring_co2\", \"gas_co2\", \"oil_co2\", \"other_industry_co2\"]\n",
        "\n",
        "pie_breakup_df = co2_df[req_cols]\n",
        "pie_breakup_df\n",
        "\n",
        "pie_breakup_df = pie_breakup_df.dropna(subset=['iso_code', 'country', \"year\", \"co2\"])\n",
        "pie_breakup_df[\"year\"] = pie_breakup_df[\"year\"].astype(\"int\")"
      ]
    },
    {
      "cell_type": "code",
      "execution_count": 58,
      "metadata": {
        "id": "ddSX2jrrM6vS"
      },
      "outputs": [],
      "source": [
        "pie_breakup_ind_df = pie_breakup_df[(pie_breakup_df[\"iso_code\"] == \"IND\") & (pie_breakup_df[\"year\"] == 2019)][[\"trade_co2\", \"cement_co2\", \"coal_co2\", \"flaring_co2\", \"gas_co2\", \"oil_co2\", \"other_industry_co2\"]].melt()"
      ]
    },
    {
      "cell_type": "code",
      "execution_count": 59,
      "metadata": {
        "colab": {
          "base_uri": "https://localhost:8080/",
          "height": 542
        },
        "id": "PwxSIhac899l",
        "outputId": "d0193519-a6a2-424e-a439-8c6af7d72e4a"
      },
      "outputs": [
        {
          "data": {
            "application/vnd.plotly.v1+json": {
              "config": {
                "plotlyServerURL": "https://plot.ly"
              },
              "data": [
                {
                  "domain": {
                    "x": [
                      0,
                      1
                    ],
                    "y": [
                      0,
                      1
                    ]
                  },
                  "hole": 0.3,
                  "hovertemplate": "variable=%{label}<br>value=%{value}<extra></extra>",
                  "labels": [
                    "cement_co2",
                    "coal_co2",
                    "flaring_co2",
                    "gas_co2",
                    "oil_co2"
                  ],
                  "legendgroup": "",
                  "name": "",
                  "showlegend": true,
                  "type": "pie",
                  "values": [
                    143.664,
                    1677.934,
                    1.6780000000000002,
                    128.68,
                    674.0110000000001
                  ]
                }
              ],
              "layout": {
                "legend": {
                  "tracegroupgap": 0
                },
                "template": {
                  "data": {
                    "bar": [
                      {
                        "error_x": {
                          "color": "#f2f5fa"
                        },
                        "error_y": {
                          "color": "#f2f5fa"
                        },
                        "marker": {
                          "line": {
                            "color": "rgb(17,17,17)",
                            "width": 0.5
                          },
                          "pattern": {
                            "fillmode": "overlay",
                            "size": 10,
                            "solidity": 0.2
                          }
                        },
                        "type": "bar"
                      }
                    ],
                    "barpolar": [
                      {
                        "marker": {
                          "line": {
                            "color": "rgb(17,17,17)",
                            "width": 0.5
                          },
                          "pattern": {
                            "fillmode": "overlay",
                            "size": 10,
                            "solidity": 0.2
                          }
                        },
                        "type": "barpolar"
                      }
                    ],
                    "carpet": [
                      {
                        "aaxis": {
                          "endlinecolor": "#A2B1C6",
                          "gridcolor": "#506784",
                          "linecolor": "#506784",
                          "minorgridcolor": "#506784",
                          "startlinecolor": "#A2B1C6"
                        },
                        "baxis": {
                          "endlinecolor": "#A2B1C6",
                          "gridcolor": "#506784",
                          "linecolor": "#506784",
                          "minorgridcolor": "#506784",
                          "startlinecolor": "#A2B1C6"
                        },
                        "type": "carpet"
                      }
                    ],
                    "choropleth": [
                      {
                        "colorbar": {
                          "outlinewidth": 0,
                          "ticks": ""
                        },
                        "type": "choropleth"
                      }
                    ],
                    "contour": [
                      {
                        "colorbar": {
                          "outlinewidth": 0,
                          "ticks": ""
                        },
                        "colorscale": [
                          [
                            0,
                            "#0d0887"
                          ],
                          [
                            0.1111111111111111,
                            "#46039f"
                          ],
                          [
                            0.2222222222222222,
                            "#7201a8"
                          ],
                          [
                            0.3333333333333333,
                            "#9c179e"
                          ],
                          [
                            0.4444444444444444,
                            "#bd3786"
                          ],
                          [
                            0.5555555555555556,
                            "#d8576b"
                          ],
                          [
                            0.6666666666666666,
                            "#ed7953"
                          ],
                          [
                            0.7777777777777778,
                            "#fb9f3a"
                          ],
                          [
                            0.8888888888888888,
                            "#fdca26"
                          ],
                          [
                            1,
                            "#f0f921"
                          ]
                        ],
                        "type": "contour"
                      }
                    ],
                    "contourcarpet": [
                      {
                        "colorbar": {
                          "outlinewidth": 0,
                          "ticks": ""
                        },
                        "type": "contourcarpet"
                      }
                    ],
                    "heatmap": [
                      {
                        "colorbar": {
                          "outlinewidth": 0,
                          "ticks": ""
                        },
                        "colorscale": [
                          [
                            0,
                            "#0d0887"
                          ],
                          [
                            0.1111111111111111,
                            "#46039f"
                          ],
                          [
                            0.2222222222222222,
                            "#7201a8"
                          ],
                          [
                            0.3333333333333333,
                            "#9c179e"
                          ],
                          [
                            0.4444444444444444,
                            "#bd3786"
                          ],
                          [
                            0.5555555555555556,
                            "#d8576b"
                          ],
                          [
                            0.6666666666666666,
                            "#ed7953"
                          ],
                          [
                            0.7777777777777778,
                            "#fb9f3a"
                          ],
                          [
                            0.8888888888888888,
                            "#fdca26"
                          ],
                          [
                            1,
                            "#f0f921"
                          ]
                        ],
                        "type": "heatmap"
                      }
                    ],
                    "heatmapgl": [
                      {
                        "colorbar": {
                          "outlinewidth": 0,
                          "ticks": ""
                        },
                        "colorscale": [
                          [
                            0,
                            "#0d0887"
                          ],
                          [
                            0.1111111111111111,
                            "#46039f"
                          ],
                          [
                            0.2222222222222222,
                            "#7201a8"
                          ],
                          [
                            0.3333333333333333,
                            "#9c179e"
                          ],
                          [
                            0.4444444444444444,
                            "#bd3786"
                          ],
                          [
                            0.5555555555555556,
                            "#d8576b"
                          ],
                          [
                            0.6666666666666666,
                            "#ed7953"
                          ],
                          [
                            0.7777777777777778,
                            "#fb9f3a"
                          ],
                          [
                            0.8888888888888888,
                            "#fdca26"
                          ],
                          [
                            1,
                            "#f0f921"
                          ]
                        ],
                        "type": "heatmapgl"
                      }
                    ],
                    "histogram": [
                      {
                        "marker": {
                          "pattern": {
                            "fillmode": "overlay",
                            "size": 10,
                            "solidity": 0.2
                          }
                        },
                        "type": "histogram"
                      }
                    ],
                    "histogram2d": [
                      {
                        "colorbar": {
                          "outlinewidth": 0,
                          "ticks": ""
                        },
                        "colorscale": [
                          [
                            0,
                            "#0d0887"
                          ],
                          [
                            0.1111111111111111,
                            "#46039f"
                          ],
                          [
                            0.2222222222222222,
                            "#7201a8"
                          ],
                          [
                            0.3333333333333333,
                            "#9c179e"
                          ],
                          [
                            0.4444444444444444,
                            "#bd3786"
                          ],
                          [
                            0.5555555555555556,
                            "#d8576b"
                          ],
                          [
                            0.6666666666666666,
                            "#ed7953"
                          ],
                          [
                            0.7777777777777778,
                            "#fb9f3a"
                          ],
                          [
                            0.8888888888888888,
                            "#fdca26"
                          ],
                          [
                            1,
                            "#f0f921"
                          ]
                        ],
                        "type": "histogram2d"
                      }
                    ],
                    "histogram2dcontour": [
                      {
                        "colorbar": {
                          "outlinewidth": 0,
                          "ticks": ""
                        },
                        "colorscale": [
                          [
                            0,
                            "#0d0887"
                          ],
                          [
                            0.1111111111111111,
                            "#46039f"
                          ],
                          [
                            0.2222222222222222,
                            "#7201a8"
                          ],
                          [
                            0.3333333333333333,
                            "#9c179e"
                          ],
                          [
                            0.4444444444444444,
                            "#bd3786"
                          ],
                          [
                            0.5555555555555556,
                            "#d8576b"
                          ],
                          [
                            0.6666666666666666,
                            "#ed7953"
                          ],
                          [
                            0.7777777777777778,
                            "#fb9f3a"
                          ],
                          [
                            0.8888888888888888,
                            "#fdca26"
                          ],
                          [
                            1,
                            "#f0f921"
                          ]
                        ],
                        "type": "histogram2dcontour"
                      }
                    ],
                    "mesh3d": [
                      {
                        "colorbar": {
                          "outlinewidth": 0,
                          "ticks": ""
                        },
                        "type": "mesh3d"
                      }
                    ],
                    "parcoords": [
                      {
                        "line": {
                          "colorbar": {
                            "outlinewidth": 0,
                            "ticks": ""
                          }
                        },
                        "type": "parcoords"
                      }
                    ],
                    "pie": [
                      {
                        "automargin": true,
                        "type": "pie"
                      }
                    ],
                    "scatter": [
                      {
                        "marker": {
                          "line": {
                            "color": "#283442"
                          }
                        },
                        "type": "scatter"
                      }
                    ],
                    "scatter3d": [
                      {
                        "line": {
                          "colorbar": {
                            "outlinewidth": 0,
                            "ticks": ""
                          }
                        },
                        "marker": {
                          "colorbar": {
                            "outlinewidth": 0,
                            "ticks": ""
                          }
                        },
                        "type": "scatter3d"
                      }
                    ],
                    "scattercarpet": [
                      {
                        "marker": {
                          "colorbar": {
                            "outlinewidth": 0,
                            "ticks": ""
                          }
                        },
                        "type": "scattercarpet"
                      }
                    ],
                    "scattergeo": [
                      {
                        "marker": {
                          "colorbar": {
                            "outlinewidth": 0,
                            "ticks": ""
                          }
                        },
                        "type": "scattergeo"
                      }
                    ],
                    "scattergl": [
                      {
                        "marker": {
                          "line": {
                            "color": "#283442"
                          }
                        },
                        "type": "scattergl"
                      }
                    ],
                    "scattermapbox": [
                      {
                        "marker": {
                          "colorbar": {
                            "outlinewidth": 0,
                            "ticks": ""
                          }
                        },
                        "type": "scattermapbox"
                      }
                    ],
                    "scatterpolar": [
                      {
                        "marker": {
                          "colorbar": {
                            "outlinewidth": 0,
                            "ticks": ""
                          }
                        },
                        "type": "scatterpolar"
                      }
                    ],
                    "scatterpolargl": [
                      {
                        "marker": {
                          "colorbar": {
                            "outlinewidth": 0,
                            "ticks": ""
                          }
                        },
                        "type": "scatterpolargl"
                      }
                    ],
                    "scatterternary": [
                      {
                        "marker": {
                          "colorbar": {
                            "outlinewidth": 0,
                            "ticks": ""
                          }
                        },
                        "type": "scatterternary"
                      }
                    ],
                    "surface": [
                      {
                        "colorbar": {
                          "outlinewidth": 0,
                          "ticks": ""
                        },
                        "colorscale": [
                          [
                            0,
                            "#0d0887"
                          ],
                          [
                            0.1111111111111111,
                            "#46039f"
                          ],
                          [
                            0.2222222222222222,
                            "#7201a8"
                          ],
                          [
                            0.3333333333333333,
                            "#9c179e"
                          ],
                          [
                            0.4444444444444444,
                            "#bd3786"
                          ],
                          [
                            0.5555555555555556,
                            "#d8576b"
                          ],
                          [
                            0.6666666666666666,
                            "#ed7953"
                          ],
                          [
                            0.7777777777777778,
                            "#fb9f3a"
                          ],
                          [
                            0.8888888888888888,
                            "#fdca26"
                          ],
                          [
                            1,
                            "#f0f921"
                          ]
                        ],
                        "type": "surface"
                      }
                    ],
                    "table": [
                      {
                        "cells": {
                          "fill": {
                            "color": "#506784"
                          },
                          "line": {
                            "color": "rgb(17,17,17)"
                          }
                        },
                        "header": {
                          "fill": {
                            "color": "#2a3f5f"
                          },
                          "line": {
                            "color": "rgb(17,17,17)"
                          }
                        },
                        "type": "table"
                      }
                    ]
                  },
                  "layout": {
                    "annotationdefaults": {
                      "arrowcolor": "#f2f5fa",
                      "arrowhead": 0,
                      "arrowwidth": 1
                    },
                    "autotypenumbers": "strict",
                    "coloraxis": {
                      "colorbar": {
                        "outlinewidth": 0,
                        "ticks": ""
                      }
                    },
                    "colorscale": {
                      "diverging": [
                        [
                          0,
                          "#8e0152"
                        ],
                        [
                          0.1,
                          "#c51b7d"
                        ],
                        [
                          0.2,
                          "#de77ae"
                        ],
                        [
                          0.3,
                          "#f1b6da"
                        ],
                        [
                          0.4,
                          "#fde0ef"
                        ],
                        [
                          0.5,
                          "#f7f7f7"
                        ],
                        [
                          0.6,
                          "#e6f5d0"
                        ],
                        [
                          0.7,
                          "#b8e186"
                        ],
                        [
                          0.8,
                          "#7fbc41"
                        ],
                        [
                          0.9,
                          "#4d9221"
                        ],
                        [
                          1,
                          "#276419"
                        ]
                      ],
                      "sequential": [
                        [
                          0,
                          "#0d0887"
                        ],
                        [
                          0.1111111111111111,
                          "#46039f"
                        ],
                        [
                          0.2222222222222222,
                          "#7201a8"
                        ],
                        [
                          0.3333333333333333,
                          "#9c179e"
                        ],
                        [
                          0.4444444444444444,
                          "#bd3786"
                        ],
                        [
                          0.5555555555555556,
                          "#d8576b"
                        ],
                        [
                          0.6666666666666666,
                          "#ed7953"
                        ],
                        [
                          0.7777777777777778,
                          "#fb9f3a"
                        ],
                        [
                          0.8888888888888888,
                          "#fdca26"
                        ],
                        [
                          1,
                          "#f0f921"
                        ]
                      ],
                      "sequentialminus": [
                        [
                          0,
                          "#0d0887"
                        ],
                        [
                          0.1111111111111111,
                          "#46039f"
                        ],
                        [
                          0.2222222222222222,
                          "#7201a8"
                        ],
                        [
                          0.3333333333333333,
                          "#9c179e"
                        ],
                        [
                          0.4444444444444444,
                          "#bd3786"
                        ],
                        [
                          0.5555555555555556,
                          "#d8576b"
                        ],
                        [
                          0.6666666666666666,
                          "#ed7953"
                        ],
                        [
                          0.7777777777777778,
                          "#fb9f3a"
                        ],
                        [
                          0.8888888888888888,
                          "#fdca26"
                        ],
                        [
                          1,
                          "#f0f921"
                        ]
                      ]
                    },
                    "colorway": [
                      "#636efa",
                      "#EF553B",
                      "#00cc96",
                      "#ab63fa",
                      "#FFA15A",
                      "#19d3f3",
                      "#FF6692",
                      "#B6E880",
                      "#FF97FF",
                      "#FECB52"
                    ],
                    "font": {
                      "color": "#f2f5fa"
                    },
                    "geo": {
                      "bgcolor": "rgb(17,17,17)",
                      "lakecolor": "rgb(17,17,17)",
                      "landcolor": "rgb(17,17,17)",
                      "showlakes": true,
                      "showland": true,
                      "subunitcolor": "#506784"
                    },
                    "hoverlabel": {
                      "align": "left"
                    },
                    "hovermode": "closest",
                    "mapbox": {
                      "style": "dark"
                    },
                    "paper_bgcolor": "rgb(17,17,17)",
                    "plot_bgcolor": "rgb(17,17,17)",
                    "polar": {
                      "angularaxis": {
                        "gridcolor": "#506784",
                        "linecolor": "#506784",
                        "ticks": ""
                      },
                      "bgcolor": "rgb(17,17,17)",
                      "radialaxis": {
                        "gridcolor": "#506784",
                        "linecolor": "#506784",
                        "ticks": ""
                      }
                    },
                    "scene": {
                      "xaxis": {
                        "backgroundcolor": "rgb(17,17,17)",
                        "gridcolor": "#506784",
                        "gridwidth": 2,
                        "linecolor": "#506784",
                        "showbackground": true,
                        "ticks": "",
                        "zerolinecolor": "#C8D4E3"
                      },
                      "yaxis": {
                        "backgroundcolor": "rgb(17,17,17)",
                        "gridcolor": "#506784",
                        "gridwidth": 2,
                        "linecolor": "#506784",
                        "showbackground": true,
                        "ticks": "",
                        "zerolinecolor": "#C8D4E3"
                      },
                      "zaxis": {
                        "backgroundcolor": "rgb(17,17,17)",
                        "gridcolor": "#506784",
                        "gridwidth": 2,
                        "linecolor": "#506784",
                        "showbackground": true,
                        "ticks": "",
                        "zerolinecolor": "#C8D4E3"
                      }
                    },
                    "shapedefaults": {
                      "line": {
                        "color": "#f2f5fa"
                      }
                    },
                    "sliderdefaults": {
                      "bgcolor": "#C8D4E3",
                      "bordercolor": "rgb(17,17,17)",
                      "borderwidth": 1,
                      "tickwidth": 0
                    },
                    "ternary": {
                      "aaxis": {
                        "gridcolor": "#506784",
                        "linecolor": "#506784",
                        "ticks": ""
                      },
                      "baxis": {
                        "gridcolor": "#506784",
                        "linecolor": "#506784",
                        "ticks": ""
                      },
                      "bgcolor": "rgb(17,17,17)",
                      "caxis": {
                        "gridcolor": "#506784",
                        "linecolor": "#506784",
                        "ticks": ""
                      }
                    },
                    "title": {
                      "x": 0.05
                    },
                    "updatemenudefaults": {
                      "bgcolor": "#506784",
                      "borderwidth": 0
                    },
                    "xaxis": {
                      "automargin": true,
                      "gridcolor": "#283442",
                      "linecolor": "#506784",
                      "ticks": "",
                      "title": {
                        "standoff": 15
                      },
                      "zerolinecolor": "#283442",
                      "zerolinewidth": 2
                    },
                    "yaxis": {
                      "automargin": true,
                      "gridcolor": "#283442",
                      "linecolor": "#506784",
                      "ticks": "",
                      "title": {
                        "standoff": 15
                      },
                      "zerolinecolor": "#283442",
                      "zerolinewidth": 2
                    }
                  }
                },
                "title": {
                  "text": "Breakup of CO2 Emission of India for 2019"
                }
              }
            }
          },
          "metadata": {},
          "output_type": "display_data"
        }
      ],
      "source": [
        "px.pie(pie_breakup_ind_df[pie_breakup_ind_df[\"value\"] > 0], names=\"variable\", values=\"value\", template=\"plotly_dark\",title=\"Breakup of CO2 Emission of India for 2019\", hole=.3)"
      ]
    },
    {
      "cell_type": "code",
      "execution_count": 60,
      "metadata": {
        "id": "nObG0t7hAqS4"
      },
      "outputs": [],
      "source": [
        "pie_breakup_usa_df = pie_breakup_df[(pie_breakup_df[\"iso_code\"] == \"USA\") & (pie_breakup_df[\"year\"] == 2019)][[\"trade_co2\", \"cement_co2\", \"coal_co2\", \"flaring_co2\", \"gas_co2\", \"oil_co2\", \"other_industry_co2\"]].melt()"
      ]
    },
    {
      "cell_type": "code",
      "execution_count": 61,
      "metadata": {
        "colab": {
          "base_uri": "https://localhost:8080/",
          "height": 542
        },
        "id": "I91rZzLe895-",
        "outputId": "28b45e95-e46b-4d70-9a8a-7ed4e684fd94"
      },
      "outputs": [
        {
          "data": {
            "application/vnd.plotly.v1+json": {
              "config": {
                "plotlyServerURL": "https://plot.ly"
              },
              "data": [
                {
                  "domain": {
                    "x": [
                      0,
                      1
                    ],
                    "y": [
                      0,
                      1
                    ]
                  },
                  "hole": 0.3,
                  "hovertemplate": "variable=%{label}<br>value=%{value}<extra></extra>",
                  "labels": [
                    "cement_co2",
                    "coal_co2",
                    "flaring_co2",
                    "gas_co2",
                    "oil_co2"
                  ],
                  "legendgroup": "",
                  "name": "",
                  "showlegend": true,
                  "type": "pie",
                  "values": [
                    40.896,
                    1098.854,
                    84.51,
                    1694.894,
                    2313.3720000000003
                  ]
                }
              ],
              "layout": {
                "legend": {
                  "tracegroupgap": 0
                },
                "template": {
                  "data": {
                    "bar": [
                      {
                        "error_x": {
                          "color": "#f2f5fa"
                        },
                        "error_y": {
                          "color": "#f2f5fa"
                        },
                        "marker": {
                          "line": {
                            "color": "rgb(17,17,17)",
                            "width": 0.5
                          },
                          "pattern": {
                            "fillmode": "overlay",
                            "size": 10,
                            "solidity": 0.2
                          }
                        },
                        "type": "bar"
                      }
                    ],
                    "barpolar": [
                      {
                        "marker": {
                          "line": {
                            "color": "rgb(17,17,17)",
                            "width": 0.5
                          },
                          "pattern": {
                            "fillmode": "overlay",
                            "size": 10,
                            "solidity": 0.2
                          }
                        },
                        "type": "barpolar"
                      }
                    ],
                    "carpet": [
                      {
                        "aaxis": {
                          "endlinecolor": "#A2B1C6",
                          "gridcolor": "#506784",
                          "linecolor": "#506784",
                          "minorgridcolor": "#506784",
                          "startlinecolor": "#A2B1C6"
                        },
                        "baxis": {
                          "endlinecolor": "#A2B1C6",
                          "gridcolor": "#506784",
                          "linecolor": "#506784",
                          "minorgridcolor": "#506784",
                          "startlinecolor": "#A2B1C6"
                        },
                        "type": "carpet"
                      }
                    ],
                    "choropleth": [
                      {
                        "colorbar": {
                          "outlinewidth": 0,
                          "ticks": ""
                        },
                        "type": "choropleth"
                      }
                    ],
                    "contour": [
                      {
                        "colorbar": {
                          "outlinewidth": 0,
                          "ticks": ""
                        },
                        "colorscale": [
                          [
                            0,
                            "#0d0887"
                          ],
                          [
                            0.1111111111111111,
                            "#46039f"
                          ],
                          [
                            0.2222222222222222,
                            "#7201a8"
                          ],
                          [
                            0.3333333333333333,
                            "#9c179e"
                          ],
                          [
                            0.4444444444444444,
                            "#bd3786"
                          ],
                          [
                            0.5555555555555556,
                            "#d8576b"
                          ],
                          [
                            0.6666666666666666,
                            "#ed7953"
                          ],
                          [
                            0.7777777777777778,
                            "#fb9f3a"
                          ],
                          [
                            0.8888888888888888,
                            "#fdca26"
                          ],
                          [
                            1,
                            "#f0f921"
                          ]
                        ],
                        "type": "contour"
                      }
                    ],
                    "contourcarpet": [
                      {
                        "colorbar": {
                          "outlinewidth": 0,
                          "ticks": ""
                        },
                        "type": "contourcarpet"
                      }
                    ],
                    "heatmap": [
                      {
                        "colorbar": {
                          "outlinewidth": 0,
                          "ticks": ""
                        },
                        "colorscale": [
                          [
                            0,
                            "#0d0887"
                          ],
                          [
                            0.1111111111111111,
                            "#46039f"
                          ],
                          [
                            0.2222222222222222,
                            "#7201a8"
                          ],
                          [
                            0.3333333333333333,
                            "#9c179e"
                          ],
                          [
                            0.4444444444444444,
                            "#bd3786"
                          ],
                          [
                            0.5555555555555556,
                            "#d8576b"
                          ],
                          [
                            0.6666666666666666,
                            "#ed7953"
                          ],
                          [
                            0.7777777777777778,
                            "#fb9f3a"
                          ],
                          [
                            0.8888888888888888,
                            "#fdca26"
                          ],
                          [
                            1,
                            "#f0f921"
                          ]
                        ],
                        "type": "heatmap"
                      }
                    ],
                    "heatmapgl": [
                      {
                        "colorbar": {
                          "outlinewidth": 0,
                          "ticks": ""
                        },
                        "colorscale": [
                          [
                            0,
                            "#0d0887"
                          ],
                          [
                            0.1111111111111111,
                            "#46039f"
                          ],
                          [
                            0.2222222222222222,
                            "#7201a8"
                          ],
                          [
                            0.3333333333333333,
                            "#9c179e"
                          ],
                          [
                            0.4444444444444444,
                            "#bd3786"
                          ],
                          [
                            0.5555555555555556,
                            "#d8576b"
                          ],
                          [
                            0.6666666666666666,
                            "#ed7953"
                          ],
                          [
                            0.7777777777777778,
                            "#fb9f3a"
                          ],
                          [
                            0.8888888888888888,
                            "#fdca26"
                          ],
                          [
                            1,
                            "#f0f921"
                          ]
                        ],
                        "type": "heatmapgl"
                      }
                    ],
                    "histogram": [
                      {
                        "marker": {
                          "pattern": {
                            "fillmode": "overlay",
                            "size": 10,
                            "solidity": 0.2
                          }
                        },
                        "type": "histogram"
                      }
                    ],
                    "histogram2d": [
                      {
                        "colorbar": {
                          "outlinewidth": 0,
                          "ticks": ""
                        },
                        "colorscale": [
                          [
                            0,
                            "#0d0887"
                          ],
                          [
                            0.1111111111111111,
                            "#46039f"
                          ],
                          [
                            0.2222222222222222,
                            "#7201a8"
                          ],
                          [
                            0.3333333333333333,
                            "#9c179e"
                          ],
                          [
                            0.4444444444444444,
                            "#bd3786"
                          ],
                          [
                            0.5555555555555556,
                            "#d8576b"
                          ],
                          [
                            0.6666666666666666,
                            "#ed7953"
                          ],
                          [
                            0.7777777777777778,
                            "#fb9f3a"
                          ],
                          [
                            0.8888888888888888,
                            "#fdca26"
                          ],
                          [
                            1,
                            "#f0f921"
                          ]
                        ],
                        "type": "histogram2d"
                      }
                    ],
                    "histogram2dcontour": [
                      {
                        "colorbar": {
                          "outlinewidth": 0,
                          "ticks": ""
                        },
                        "colorscale": [
                          [
                            0,
                            "#0d0887"
                          ],
                          [
                            0.1111111111111111,
                            "#46039f"
                          ],
                          [
                            0.2222222222222222,
                            "#7201a8"
                          ],
                          [
                            0.3333333333333333,
                            "#9c179e"
                          ],
                          [
                            0.4444444444444444,
                            "#bd3786"
                          ],
                          [
                            0.5555555555555556,
                            "#d8576b"
                          ],
                          [
                            0.6666666666666666,
                            "#ed7953"
                          ],
                          [
                            0.7777777777777778,
                            "#fb9f3a"
                          ],
                          [
                            0.8888888888888888,
                            "#fdca26"
                          ],
                          [
                            1,
                            "#f0f921"
                          ]
                        ],
                        "type": "histogram2dcontour"
                      }
                    ],
                    "mesh3d": [
                      {
                        "colorbar": {
                          "outlinewidth": 0,
                          "ticks": ""
                        },
                        "type": "mesh3d"
                      }
                    ],
                    "parcoords": [
                      {
                        "line": {
                          "colorbar": {
                            "outlinewidth": 0,
                            "ticks": ""
                          }
                        },
                        "type": "parcoords"
                      }
                    ],
                    "pie": [
                      {
                        "automargin": true,
                        "type": "pie"
                      }
                    ],
                    "scatter": [
                      {
                        "marker": {
                          "line": {
                            "color": "#283442"
                          }
                        },
                        "type": "scatter"
                      }
                    ],
                    "scatter3d": [
                      {
                        "line": {
                          "colorbar": {
                            "outlinewidth": 0,
                            "ticks": ""
                          }
                        },
                        "marker": {
                          "colorbar": {
                            "outlinewidth": 0,
                            "ticks": ""
                          }
                        },
                        "type": "scatter3d"
                      }
                    ],
                    "scattercarpet": [
                      {
                        "marker": {
                          "colorbar": {
                            "outlinewidth": 0,
                            "ticks": ""
                          }
                        },
                        "type": "scattercarpet"
                      }
                    ],
                    "scattergeo": [
                      {
                        "marker": {
                          "colorbar": {
                            "outlinewidth": 0,
                            "ticks": ""
                          }
                        },
                        "type": "scattergeo"
                      }
                    ],
                    "scattergl": [
                      {
                        "marker": {
                          "line": {
                            "color": "#283442"
                          }
                        },
                        "type": "scattergl"
                      }
                    ],
                    "scattermapbox": [
                      {
                        "marker": {
                          "colorbar": {
                            "outlinewidth": 0,
                            "ticks": ""
                          }
                        },
                        "type": "scattermapbox"
                      }
                    ],
                    "scatterpolar": [
                      {
                        "marker": {
                          "colorbar": {
                            "outlinewidth": 0,
                            "ticks": ""
                          }
                        },
                        "type": "scatterpolar"
                      }
                    ],
                    "scatterpolargl": [
                      {
                        "marker": {
                          "colorbar": {
                            "outlinewidth": 0,
                            "ticks": ""
                          }
                        },
                        "type": "scatterpolargl"
                      }
                    ],
                    "scatterternary": [
                      {
                        "marker": {
                          "colorbar": {
                            "outlinewidth": 0,
                            "ticks": ""
                          }
                        },
                        "type": "scatterternary"
                      }
                    ],
                    "surface": [
                      {
                        "colorbar": {
                          "outlinewidth": 0,
                          "ticks": ""
                        },
                        "colorscale": [
                          [
                            0,
                            "#0d0887"
                          ],
                          [
                            0.1111111111111111,
                            "#46039f"
                          ],
                          [
                            0.2222222222222222,
                            "#7201a8"
                          ],
                          [
                            0.3333333333333333,
                            "#9c179e"
                          ],
                          [
                            0.4444444444444444,
                            "#bd3786"
                          ],
                          [
                            0.5555555555555556,
                            "#d8576b"
                          ],
                          [
                            0.6666666666666666,
                            "#ed7953"
                          ],
                          [
                            0.7777777777777778,
                            "#fb9f3a"
                          ],
                          [
                            0.8888888888888888,
                            "#fdca26"
                          ],
                          [
                            1,
                            "#f0f921"
                          ]
                        ],
                        "type": "surface"
                      }
                    ],
                    "table": [
                      {
                        "cells": {
                          "fill": {
                            "color": "#506784"
                          },
                          "line": {
                            "color": "rgb(17,17,17)"
                          }
                        },
                        "header": {
                          "fill": {
                            "color": "#2a3f5f"
                          },
                          "line": {
                            "color": "rgb(17,17,17)"
                          }
                        },
                        "type": "table"
                      }
                    ]
                  },
                  "layout": {
                    "annotationdefaults": {
                      "arrowcolor": "#f2f5fa",
                      "arrowhead": 0,
                      "arrowwidth": 1
                    },
                    "autotypenumbers": "strict",
                    "coloraxis": {
                      "colorbar": {
                        "outlinewidth": 0,
                        "ticks": ""
                      }
                    },
                    "colorscale": {
                      "diverging": [
                        [
                          0,
                          "#8e0152"
                        ],
                        [
                          0.1,
                          "#c51b7d"
                        ],
                        [
                          0.2,
                          "#de77ae"
                        ],
                        [
                          0.3,
                          "#f1b6da"
                        ],
                        [
                          0.4,
                          "#fde0ef"
                        ],
                        [
                          0.5,
                          "#f7f7f7"
                        ],
                        [
                          0.6,
                          "#e6f5d0"
                        ],
                        [
                          0.7,
                          "#b8e186"
                        ],
                        [
                          0.8,
                          "#7fbc41"
                        ],
                        [
                          0.9,
                          "#4d9221"
                        ],
                        [
                          1,
                          "#276419"
                        ]
                      ],
                      "sequential": [
                        [
                          0,
                          "#0d0887"
                        ],
                        [
                          0.1111111111111111,
                          "#46039f"
                        ],
                        [
                          0.2222222222222222,
                          "#7201a8"
                        ],
                        [
                          0.3333333333333333,
                          "#9c179e"
                        ],
                        [
                          0.4444444444444444,
                          "#bd3786"
                        ],
                        [
                          0.5555555555555556,
                          "#d8576b"
                        ],
                        [
                          0.6666666666666666,
                          "#ed7953"
                        ],
                        [
                          0.7777777777777778,
                          "#fb9f3a"
                        ],
                        [
                          0.8888888888888888,
                          "#fdca26"
                        ],
                        [
                          1,
                          "#f0f921"
                        ]
                      ],
                      "sequentialminus": [
                        [
                          0,
                          "#0d0887"
                        ],
                        [
                          0.1111111111111111,
                          "#46039f"
                        ],
                        [
                          0.2222222222222222,
                          "#7201a8"
                        ],
                        [
                          0.3333333333333333,
                          "#9c179e"
                        ],
                        [
                          0.4444444444444444,
                          "#bd3786"
                        ],
                        [
                          0.5555555555555556,
                          "#d8576b"
                        ],
                        [
                          0.6666666666666666,
                          "#ed7953"
                        ],
                        [
                          0.7777777777777778,
                          "#fb9f3a"
                        ],
                        [
                          0.8888888888888888,
                          "#fdca26"
                        ],
                        [
                          1,
                          "#f0f921"
                        ]
                      ]
                    },
                    "colorway": [
                      "#636efa",
                      "#EF553B",
                      "#00cc96",
                      "#ab63fa",
                      "#FFA15A",
                      "#19d3f3",
                      "#FF6692",
                      "#B6E880",
                      "#FF97FF",
                      "#FECB52"
                    ],
                    "font": {
                      "color": "#f2f5fa"
                    },
                    "geo": {
                      "bgcolor": "rgb(17,17,17)",
                      "lakecolor": "rgb(17,17,17)",
                      "landcolor": "rgb(17,17,17)",
                      "showlakes": true,
                      "showland": true,
                      "subunitcolor": "#506784"
                    },
                    "hoverlabel": {
                      "align": "left"
                    },
                    "hovermode": "closest",
                    "mapbox": {
                      "style": "dark"
                    },
                    "paper_bgcolor": "rgb(17,17,17)",
                    "plot_bgcolor": "rgb(17,17,17)",
                    "polar": {
                      "angularaxis": {
                        "gridcolor": "#506784",
                        "linecolor": "#506784",
                        "ticks": ""
                      },
                      "bgcolor": "rgb(17,17,17)",
                      "radialaxis": {
                        "gridcolor": "#506784",
                        "linecolor": "#506784",
                        "ticks": ""
                      }
                    },
                    "scene": {
                      "xaxis": {
                        "backgroundcolor": "rgb(17,17,17)",
                        "gridcolor": "#506784",
                        "gridwidth": 2,
                        "linecolor": "#506784",
                        "showbackground": true,
                        "ticks": "",
                        "zerolinecolor": "#C8D4E3"
                      },
                      "yaxis": {
                        "backgroundcolor": "rgb(17,17,17)",
                        "gridcolor": "#506784",
                        "gridwidth": 2,
                        "linecolor": "#506784",
                        "showbackground": true,
                        "ticks": "",
                        "zerolinecolor": "#C8D4E3"
                      },
                      "zaxis": {
                        "backgroundcolor": "rgb(17,17,17)",
                        "gridcolor": "#506784",
                        "gridwidth": 2,
                        "linecolor": "#506784",
                        "showbackground": true,
                        "ticks": "",
                        "zerolinecolor": "#C8D4E3"
                      }
                    },
                    "shapedefaults": {
                      "line": {
                        "color": "#f2f5fa"
                      }
                    },
                    "sliderdefaults": {
                      "bgcolor": "#C8D4E3",
                      "bordercolor": "rgb(17,17,17)",
                      "borderwidth": 1,
                      "tickwidth": 0
                    },
                    "ternary": {
                      "aaxis": {
                        "gridcolor": "#506784",
                        "linecolor": "#506784",
                        "ticks": ""
                      },
                      "baxis": {
                        "gridcolor": "#506784",
                        "linecolor": "#506784",
                        "ticks": ""
                      },
                      "bgcolor": "rgb(17,17,17)",
                      "caxis": {
                        "gridcolor": "#506784",
                        "linecolor": "#506784",
                        "ticks": ""
                      }
                    },
                    "title": {
                      "x": 0.05
                    },
                    "updatemenudefaults": {
                      "bgcolor": "#506784",
                      "borderwidth": 0
                    },
                    "xaxis": {
                      "automargin": true,
                      "gridcolor": "#283442",
                      "linecolor": "#506784",
                      "ticks": "",
                      "title": {
                        "standoff": 15
                      },
                      "zerolinecolor": "#283442",
                      "zerolinewidth": 2
                    },
                    "yaxis": {
                      "automargin": true,
                      "gridcolor": "#283442",
                      "linecolor": "#506784",
                      "ticks": "",
                      "title": {
                        "standoff": 15
                      },
                      "zerolinecolor": "#283442",
                      "zerolinewidth": 2
                    }
                  }
                },
                "title": {
                  "text": "Breakup of CO2 Emission of USA for 2019"
                }
              }
            }
          },
          "metadata": {},
          "output_type": "display_data"
        }
      ],
      "source": [
        "px.pie(pie_breakup_usa_df[pie_breakup_ind_df[\"value\"] > 0], names=\"variable\", values=\"value\", template=\"plotly_dark\",title=\"Breakup of CO2 Emission of USA for 2019\", hole=.3)"
      ]
    },
    {
      "cell_type": "code",
      "execution_count": 62,
      "metadata": {
        "id": "0_TNeec9KmFq"
      },
      "outputs": [],
      "source": [
        "pie_breakup_world = pie_breakup_df[(pie_breakup_df[\"year\"] == 2019)][[\"trade_co2\", \"cement_co2\", \"coal_co2\", \"flaring_co2\", \"gas_co2\", \"oil_co2\", \"other_industry_co2\"]].sum()\n",
        "pie_breakup_world_df = pd.DataFrame({\"variable\": pie_breakup_world.index, \"value\": pie_breakup_world.values})"
      ]
    },
    {
      "cell_type": "code",
      "execution_count": 63,
      "metadata": {
        "colab": {
          "base_uri": "https://localhost:8080/",
          "height": 269
        },
        "id": "XlbkOTsELDsj",
        "outputId": "220ef938-a41b-4539-9ae4-3260236de6eb"
      },
      "outputs": [
        {
          "data": {
            "text/html": [
              "<div>\n",
              "<style scoped>\n",
              "    .dataframe tbody tr th:only-of-type {\n",
              "        vertical-align: middle;\n",
              "    }\n",
              "\n",
              "    .dataframe tbody tr th {\n",
              "        vertical-align: top;\n",
              "    }\n",
              "\n",
              "    .dataframe thead th {\n",
              "        text-align: right;\n",
              "    }\n",
              "</style>\n",
              "<table border=\"1\" class=\"dataframe\">\n",
              "  <thead>\n",
              "    <tr style=\"text-align: right;\">\n",
              "      <th></th>\n",
              "      <th>variable</th>\n",
              "      <th>value</th>\n",
              "    </tr>\n",
              "  </thead>\n",
              "  <tbody>\n",
              "    <tr>\n",
              "      <th>0</th>\n",
              "      <td>trade_co2</td>\n",
              "      <td>-4.110</td>\n",
              "    </tr>\n",
              "    <tr>\n",
              "      <th>1</th>\n",
              "      <td>cement_co2</td>\n",
              "      <td>3216.941</td>\n",
              "    </tr>\n",
              "    <tr>\n",
              "      <th>2</th>\n",
              "      <td>coal_co2</td>\n",
              "      <td>29144.329</td>\n",
              "    </tr>\n",
              "    <tr>\n",
              "      <th>3</th>\n",
              "      <td>flaring_co2</td>\n",
              "      <td>869.191</td>\n",
              "    </tr>\n",
              "    <tr>\n",
              "      <th>4</th>\n",
              "      <td>gas_co2</td>\n",
              "      <td>15106.597</td>\n",
              "    </tr>\n",
              "    <tr>\n",
              "      <th>5</th>\n",
              "      <td>oil_co2</td>\n",
              "      <td>23197.790</td>\n",
              "    </tr>\n",
              "    <tr>\n",
              "      <th>6</th>\n",
              "      <td>other_industry_co2</td>\n",
              "      <td>606.362</td>\n",
              "    </tr>\n",
              "  </tbody>\n",
              "</table>\n",
              "</div>"
            ],
            "text/plain": [
              "             variable      value\n",
              "0           trade_co2     -4.110\n",
              "1          cement_co2   3216.941\n",
              "2            coal_co2  29144.329\n",
              "3         flaring_co2    869.191\n",
              "4             gas_co2  15106.597\n",
              "5             oil_co2  23197.790\n",
              "6  other_industry_co2    606.362"
            ]
          },
          "execution_count": 63,
          "metadata": {},
          "output_type": "execute_result"
        }
      ],
      "source": [
        "pie_breakup_world_df"
      ]
    },
    {
      "cell_type": "code",
      "execution_count": 64,
      "metadata": {
        "colab": {
          "base_uri": "https://localhost:8080/",
          "height": 542
        },
        "id": "MydZHw9jKmDI",
        "outputId": "a5de5417-180a-4090-af55-3e701b177c6a"
      },
      "outputs": [
        {
          "data": {
            "application/vnd.plotly.v1+json": {
              "config": {
                "plotlyServerURL": "https://plot.ly"
              },
              "data": [
                {
                  "domain": {
                    "x": [
                      0,
                      1
                    ],
                    "y": [
                      0,
                      1
                    ]
                  },
                  "hole": 0.3,
                  "hovertemplate": "variable=%{label}<br>value=%{value}<extra></extra>",
                  "labels": [
                    "cement_co2",
                    "coal_co2",
                    "flaring_co2",
                    "gas_co2",
                    "oil_co2",
                    "other_industry_co2"
                  ],
                  "legendgroup": "",
                  "name": "",
                  "showlegend": true,
                  "type": "pie",
                  "values": [
                    3216.941,
                    29144.328999999994,
                    869.191,
                    15106.597000000002,
                    23197.78999999999,
                    606.3620000000001
                  ]
                }
              ],
              "layout": {
                "legend": {
                  "tracegroupgap": 0
                },
                "template": {
                  "data": {
                    "bar": [
                      {
                        "error_x": {
                          "color": "#f2f5fa"
                        },
                        "error_y": {
                          "color": "#f2f5fa"
                        },
                        "marker": {
                          "line": {
                            "color": "rgb(17,17,17)",
                            "width": 0.5
                          },
                          "pattern": {
                            "fillmode": "overlay",
                            "size": 10,
                            "solidity": 0.2
                          }
                        },
                        "type": "bar"
                      }
                    ],
                    "barpolar": [
                      {
                        "marker": {
                          "line": {
                            "color": "rgb(17,17,17)",
                            "width": 0.5
                          },
                          "pattern": {
                            "fillmode": "overlay",
                            "size": 10,
                            "solidity": 0.2
                          }
                        },
                        "type": "barpolar"
                      }
                    ],
                    "carpet": [
                      {
                        "aaxis": {
                          "endlinecolor": "#A2B1C6",
                          "gridcolor": "#506784",
                          "linecolor": "#506784",
                          "minorgridcolor": "#506784",
                          "startlinecolor": "#A2B1C6"
                        },
                        "baxis": {
                          "endlinecolor": "#A2B1C6",
                          "gridcolor": "#506784",
                          "linecolor": "#506784",
                          "minorgridcolor": "#506784",
                          "startlinecolor": "#A2B1C6"
                        },
                        "type": "carpet"
                      }
                    ],
                    "choropleth": [
                      {
                        "colorbar": {
                          "outlinewidth": 0,
                          "ticks": ""
                        },
                        "type": "choropleth"
                      }
                    ],
                    "contour": [
                      {
                        "colorbar": {
                          "outlinewidth": 0,
                          "ticks": ""
                        },
                        "colorscale": [
                          [
                            0,
                            "#0d0887"
                          ],
                          [
                            0.1111111111111111,
                            "#46039f"
                          ],
                          [
                            0.2222222222222222,
                            "#7201a8"
                          ],
                          [
                            0.3333333333333333,
                            "#9c179e"
                          ],
                          [
                            0.4444444444444444,
                            "#bd3786"
                          ],
                          [
                            0.5555555555555556,
                            "#d8576b"
                          ],
                          [
                            0.6666666666666666,
                            "#ed7953"
                          ],
                          [
                            0.7777777777777778,
                            "#fb9f3a"
                          ],
                          [
                            0.8888888888888888,
                            "#fdca26"
                          ],
                          [
                            1,
                            "#f0f921"
                          ]
                        ],
                        "type": "contour"
                      }
                    ],
                    "contourcarpet": [
                      {
                        "colorbar": {
                          "outlinewidth": 0,
                          "ticks": ""
                        },
                        "type": "contourcarpet"
                      }
                    ],
                    "heatmap": [
                      {
                        "colorbar": {
                          "outlinewidth": 0,
                          "ticks": ""
                        },
                        "colorscale": [
                          [
                            0,
                            "#0d0887"
                          ],
                          [
                            0.1111111111111111,
                            "#46039f"
                          ],
                          [
                            0.2222222222222222,
                            "#7201a8"
                          ],
                          [
                            0.3333333333333333,
                            "#9c179e"
                          ],
                          [
                            0.4444444444444444,
                            "#bd3786"
                          ],
                          [
                            0.5555555555555556,
                            "#d8576b"
                          ],
                          [
                            0.6666666666666666,
                            "#ed7953"
                          ],
                          [
                            0.7777777777777778,
                            "#fb9f3a"
                          ],
                          [
                            0.8888888888888888,
                            "#fdca26"
                          ],
                          [
                            1,
                            "#f0f921"
                          ]
                        ],
                        "type": "heatmap"
                      }
                    ],
                    "heatmapgl": [
                      {
                        "colorbar": {
                          "outlinewidth": 0,
                          "ticks": ""
                        },
                        "colorscale": [
                          [
                            0,
                            "#0d0887"
                          ],
                          [
                            0.1111111111111111,
                            "#46039f"
                          ],
                          [
                            0.2222222222222222,
                            "#7201a8"
                          ],
                          [
                            0.3333333333333333,
                            "#9c179e"
                          ],
                          [
                            0.4444444444444444,
                            "#bd3786"
                          ],
                          [
                            0.5555555555555556,
                            "#d8576b"
                          ],
                          [
                            0.6666666666666666,
                            "#ed7953"
                          ],
                          [
                            0.7777777777777778,
                            "#fb9f3a"
                          ],
                          [
                            0.8888888888888888,
                            "#fdca26"
                          ],
                          [
                            1,
                            "#f0f921"
                          ]
                        ],
                        "type": "heatmapgl"
                      }
                    ],
                    "histogram": [
                      {
                        "marker": {
                          "pattern": {
                            "fillmode": "overlay",
                            "size": 10,
                            "solidity": 0.2
                          }
                        },
                        "type": "histogram"
                      }
                    ],
                    "histogram2d": [
                      {
                        "colorbar": {
                          "outlinewidth": 0,
                          "ticks": ""
                        },
                        "colorscale": [
                          [
                            0,
                            "#0d0887"
                          ],
                          [
                            0.1111111111111111,
                            "#46039f"
                          ],
                          [
                            0.2222222222222222,
                            "#7201a8"
                          ],
                          [
                            0.3333333333333333,
                            "#9c179e"
                          ],
                          [
                            0.4444444444444444,
                            "#bd3786"
                          ],
                          [
                            0.5555555555555556,
                            "#d8576b"
                          ],
                          [
                            0.6666666666666666,
                            "#ed7953"
                          ],
                          [
                            0.7777777777777778,
                            "#fb9f3a"
                          ],
                          [
                            0.8888888888888888,
                            "#fdca26"
                          ],
                          [
                            1,
                            "#f0f921"
                          ]
                        ],
                        "type": "histogram2d"
                      }
                    ],
                    "histogram2dcontour": [
                      {
                        "colorbar": {
                          "outlinewidth": 0,
                          "ticks": ""
                        },
                        "colorscale": [
                          [
                            0,
                            "#0d0887"
                          ],
                          [
                            0.1111111111111111,
                            "#46039f"
                          ],
                          [
                            0.2222222222222222,
                            "#7201a8"
                          ],
                          [
                            0.3333333333333333,
                            "#9c179e"
                          ],
                          [
                            0.4444444444444444,
                            "#bd3786"
                          ],
                          [
                            0.5555555555555556,
                            "#d8576b"
                          ],
                          [
                            0.6666666666666666,
                            "#ed7953"
                          ],
                          [
                            0.7777777777777778,
                            "#fb9f3a"
                          ],
                          [
                            0.8888888888888888,
                            "#fdca26"
                          ],
                          [
                            1,
                            "#f0f921"
                          ]
                        ],
                        "type": "histogram2dcontour"
                      }
                    ],
                    "mesh3d": [
                      {
                        "colorbar": {
                          "outlinewidth": 0,
                          "ticks": ""
                        },
                        "type": "mesh3d"
                      }
                    ],
                    "parcoords": [
                      {
                        "line": {
                          "colorbar": {
                            "outlinewidth": 0,
                            "ticks": ""
                          }
                        },
                        "type": "parcoords"
                      }
                    ],
                    "pie": [
                      {
                        "automargin": true,
                        "type": "pie"
                      }
                    ],
                    "scatter": [
                      {
                        "marker": {
                          "line": {
                            "color": "#283442"
                          }
                        },
                        "type": "scatter"
                      }
                    ],
                    "scatter3d": [
                      {
                        "line": {
                          "colorbar": {
                            "outlinewidth": 0,
                            "ticks": ""
                          }
                        },
                        "marker": {
                          "colorbar": {
                            "outlinewidth": 0,
                            "ticks": ""
                          }
                        },
                        "type": "scatter3d"
                      }
                    ],
                    "scattercarpet": [
                      {
                        "marker": {
                          "colorbar": {
                            "outlinewidth": 0,
                            "ticks": ""
                          }
                        },
                        "type": "scattercarpet"
                      }
                    ],
                    "scattergeo": [
                      {
                        "marker": {
                          "colorbar": {
                            "outlinewidth": 0,
                            "ticks": ""
                          }
                        },
                        "type": "scattergeo"
                      }
                    ],
                    "scattergl": [
                      {
                        "marker": {
                          "line": {
                            "color": "#283442"
                          }
                        },
                        "type": "scattergl"
                      }
                    ],
                    "scattermapbox": [
                      {
                        "marker": {
                          "colorbar": {
                            "outlinewidth": 0,
                            "ticks": ""
                          }
                        },
                        "type": "scattermapbox"
                      }
                    ],
                    "scatterpolar": [
                      {
                        "marker": {
                          "colorbar": {
                            "outlinewidth": 0,
                            "ticks": ""
                          }
                        },
                        "type": "scatterpolar"
                      }
                    ],
                    "scatterpolargl": [
                      {
                        "marker": {
                          "colorbar": {
                            "outlinewidth": 0,
                            "ticks": ""
                          }
                        },
                        "type": "scatterpolargl"
                      }
                    ],
                    "scatterternary": [
                      {
                        "marker": {
                          "colorbar": {
                            "outlinewidth": 0,
                            "ticks": ""
                          }
                        },
                        "type": "scatterternary"
                      }
                    ],
                    "surface": [
                      {
                        "colorbar": {
                          "outlinewidth": 0,
                          "ticks": ""
                        },
                        "colorscale": [
                          [
                            0,
                            "#0d0887"
                          ],
                          [
                            0.1111111111111111,
                            "#46039f"
                          ],
                          [
                            0.2222222222222222,
                            "#7201a8"
                          ],
                          [
                            0.3333333333333333,
                            "#9c179e"
                          ],
                          [
                            0.4444444444444444,
                            "#bd3786"
                          ],
                          [
                            0.5555555555555556,
                            "#d8576b"
                          ],
                          [
                            0.6666666666666666,
                            "#ed7953"
                          ],
                          [
                            0.7777777777777778,
                            "#fb9f3a"
                          ],
                          [
                            0.8888888888888888,
                            "#fdca26"
                          ],
                          [
                            1,
                            "#f0f921"
                          ]
                        ],
                        "type": "surface"
                      }
                    ],
                    "table": [
                      {
                        "cells": {
                          "fill": {
                            "color": "#506784"
                          },
                          "line": {
                            "color": "rgb(17,17,17)"
                          }
                        },
                        "header": {
                          "fill": {
                            "color": "#2a3f5f"
                          },
                          "line": {
                            "color": "rgb(17,17,17)"
                          }
                        },
                        "type": "table"
                      }
                    ]
                  },
                  "layout": {
                    "annotationdefaults": {
                      "arrowcolor": "#f2f5fa",
                      "arrowhead": 0,
                      "arrowwidth": 1
                    },
                    "autotypenumbers": "strict",
                    "coloraxis": {
                      "colorbar": {
                        "outlinewidth": 0,
                        "ticks": ""
                      }
                    },
                    "colorscale": {
                      "diverging": [
                        [
                          0,
                          "#8e0152"
                        ],
                        [
                          0.1,
                          "#c51b7d"
                        ],
                        [
                          0.2,
                          "#de77ae"
                        ],
                        [
                          0.3,
                          "#f1b6da"
                        ],
                        [
                          0.4,
                          "#fde0ef"
                        ],
                        [
                          0.5,
                          "#f7f7f7"
                        ],
                        [
                          0.6,
                          "#e6f5d0"
                        ],
                        [
                          0.7,
                          "#b8e186"
                        ],
                        [
                          0.8,
                          "#7fbc41"
                        ],
                        [
                          0.9,
                          "#4d9221"
                        ],
                        [
                          1,
                          "#276419"
                        ]
                      ],
                      "sequential": [
                        [
                          0,
                          "#0d0887"
                        ],
                        [
                          0.1111111111111111,
                          "#46039f"
                        ],
                        [
                          0.2222222222222222,
                          "#7201a8"
                        ],
                        [
                          0.3333333333333333,
                          "#9c179e"
                        ],
                        [
                          0.4444444444444444,
                          "#bd3786"
                        ],
                        [
                          0.5555555555555556,
                          "#d8576b"
                        ],
                        [
                          0.6666666666666666,
                          "#ed7953"
                        ],
                        [
                          0.7777777777777778,
                          "#fb9f3a"
                        ],
                        [
                          0.8888888888888888,
                          "#fdca26"
                        ],
                        [
                          1,
                          "#f0f921"
                        ]
                      ],
                      "sequentialminus": [
                        [
                          0,
                          "#0d0887"
                        ],
                        [
                          0.1111111111111111,
                          "#46039f"
                        ],
                        [
                          0.2222222222222222,
                          "#7201a8"
                        ],
                        [
                          0.3333333333333333,
                          "#9c179e"
                        ],
                        [
                          0.4444444444444444,
                          "#bd3786"
                        ],
                        [
                          0.5555555555555556,
                          "#d8576b"
                        ],
                        [
                          0.6666666666666666,
                          "#ed7953"
                        ],
                        [
                          0.7777777777777778,
                          "#fb9f3a"
                        ],
                        [
                          0.8888888888888888,
                          "#fdca26"
                        ],
                        [
                          1,
                          "#f0f921"
                        ]
                      ]
                    },
                    "colorway": [
                      "#636efa",
                      "#EF553B",
                      "#00cc96",
                      "#ab63fa",
                      "#FFA15A",
                      "#19d3f3",
                      "#FF6692",
                      "#B6E880",
                      "#FF97FF",
                      "#FECB52"
                    ],
                    "font": {
                      "color": "#f2f5fa"
                    },
                    "geo": {
                      "bgcolor": "rgb(17,17,17)",
                      "lakecolor": "rgb(17,17,17)",
                      "landcolor": "rgb(17,17,17)",
                      "showlakes": true,
                      "showland": true,
                      "subunitcolor": "#506784"
                    },
                    "hoverlabel": {
                      "align": "left"
                    },
                    "hovermode": "closest",
                    "mapbox": {
                      "style": "dark"
                    },
                    "paper_bgcolor": "rgb(17,17,17)",
                    "plot_bgcolor": "rgb(17,17,17)",
                    "polar": {
                      "angularaxis": {
                        "gridcolor": "#506784",
                        "linecolor": "#506784",
                        "ticks": ""
                      },
                      "bgcolor": "rgb(17,17,17)",
                      "radialaxis": {
                        "gridcolor": "#506784",
                        "linecolor": "#506784",
                        "ticks": ""
                      }
                    },
                    "scene": {
                      "xaxis": {
                        "backgroundcolor": "rgb(17,17,17)",
                        "gridcolor": "#506784",
                        "gridwidth": 2,
                        "linecolor": "#506784",
                        "showbackground": true,
                        "ticks": "",
                        "zerolinecolor": "#C8D4E3"
                      },
                      "yaxis": {
                        "backgroundcolor": "rgb(17,17,17)",
                        "gridcolor": "#506784",
                        "gridwidth": 2,
                        "linecolor": "#506784",
                        "showbackground": true,
                        "ticks": "",
                        "zerolinecolor": "#C8D4E3"
                      },
                      "zaxis": {
                        "backgroundcolor": "rgb(17,17,17)",
                        "gridcolor": "#506784",
                        "gridwidth": 2,
                        "linecolor": "#506784",
                        "showbackground": true,
                        "ticks": "",
                        "zerolinecolor": "#C8D4E3"
                      }
                    },
                    "shapedefaults": {
                      "line": {
                        "color": "#f2f5fa"
                      }
                    },
                    "sliderdefaults": {
                      "bgcolor": "#C8D4E3",
                      "bordercolor": "rgb(17,17,17)",
                      "borderwidth": 1,
                      "tickwidth": 0
                    },
                    "ternary": {
                      "aaxis": {
                        "gridcolor": "#506784",
                        "linecolor": "#506784",
                        "ticks": ""
                      },
                      "baxis": {
                        "gridcolor": "#506784",
                        "linecolor": "#506784",
                        "ticks": ""
                      },
                      "bgcolor": "rgb(17,17,17)",
                      "caxis": {
                        "gridcolor": "#506784",
                        "linecolor": "#506784",
                        "ticks": ""
                      }
                    },
                    "title": {
                      "x": 0.05
                    },
                    "updatemenudefaults": {
                      "bgcolor": "#506784",
                      "borderwidth": 0
                    },
                    "xaxis": {
                      "automargin": true,
                      "gridcolor": "#283442",
                      "linecolor": "#506784",
                      "ticks": "",
                      "title": {
                        "standoff": 15
                      },
                      "zerolinecolor": "#283442",
                      "zerolinewidth": 2
                    },
                    "yaxis": {
                      "automargin": true,
                      "gridcolor": "#283442",
                      "linecolor": "#506784",
                      "ticks": "",
                      "title": {
                        "standoff": 15
                      },
                      "zerolinecolor": "#283442",
                      "zerolinewidth": 2
                    }
                  }
                },
                "title": {
                  "text": "Breakup of CO2 Emission of World for 2019"
                }
              }
            }
          },
          "metadata": {},
          "output_type": "display_data"
        }
      ],
      "source": [
        "px.pie(pie_breakup_world_df[pie_breakup_world_df[\"value\"] > 0], names=\"variable\", values=\"value\", template=\"plotly_dark\",title=\"Breakup of CO2 Emission of World for 2019\", hole=.3)"
      ]
    },
    {
      "cell_type": "code",
      "execution_count": 65,
      "metadata": {
        "colab": {
          "base_uri": "https://localhost:8080/",
          "height": 677
        },
        "id": "WRpYjEVSM6rr",
        "outputId": "30e9cb04-182b-4c46-baf2-29caa7d1b3af"
      },
      "outputs": [
        {
          "data": {
            "text/html": [
              "<div>\n",
              "<style scoped>\n",
              "    .dataframe tbody tr th:only-of-type {\n",
              "        vertical-align: middle;\n",
              "    }\n",
              "\n",
              "    .dataframe tbody tr th {\n",
              "        vertical-align: top;\n",
              "    }\n",
              "\n",
              "    .dataframe thead th {\n",
              "        text-align: right;\n",
              "    }\n",
              "</style>\n",
              "<table border=\"1\" class=\"dataframe\">\n",
              "  <thead>\n",
              "    <tr style=\"text-align: right;\">\n",
              "      <th></th>\n",
              "      <th>iso_code</th>\n",
              "      <th>country</th>\n",
              "      <th>co2_per_capita</th>\n",
              "      <th>year</th>\n",
              "      <th>co2</th>\n",
              "      <th>continent</th>\n",
              "    </tr>\n",
              "  </thead>\n",
              "  <tbody>\n",
              "    <tr>\n",
              "      <th>18564</th>\n",
              "      <td>QAT</td>\n",
              "      <td>Qatar</td>\n",
              "      <td>40.619</td>\n",
              "      <td>2019</td>\n",
              "      <td>115.037</td>\n",
              "      <td>Asia</td>\n",
              "    </tr>\n",
              "    <tr>\n",
              "      <th>15735</th>\n",
              "      <td>NCL</td>\n",
              "      <td>New Caledonia</td>\n",
              "      <td>30.791</td>\n",
              "      <td>2019</td>\n",
              "      <td>8.706</td>\n",
              "      <td>Oceania</td>\n",
              "    </tr>\n",
              "    <tr>\n",
              "      <th>22723</th>\n",
              "      <td>TTO</td>\n",
              "      <td>Trinidad and Tobago</td>\n",
              "      <td>28.946</td>\n",
              "      <td>2019</td>\n",
              "      <td>40.378</td>\n",
              "      <td>North America</td>\n",
              "    </tr>\n",
              "    <tr>\n",
              "      <th>14855</th>\n",
              "      <td>MNG</td>\n",
              "      <td>Mongolia</td>\n",
              "      <td>27.500</td>\n",
              "      <td>2019</td>\n",
              "      <td>88.691</td>\n",
              "      <td>Asia</td>\n",
              "    </tr>\n",
              "    <tr>\n",
              "      <th>5494</th>\n",
              "      <td>CUW</td>\n",
              "      <td>Curacao</td>\n",
              "      <td>23.014</td>\n",
              "      <td>2019</td>\n",
              "      <td>3.761</td>\n",
              "      <td>North America</td>\n",
              "    </tr>\n",
              "    <tr>\n",
              "      <th>3632</th>\n",
              "      <td>BRN</td>\n",
              "      <td>Brunei</td>\n",
              "      <td>22.982</td>\n",
              "      <td>2019</td>\n",
              "      <td>9.958</td>\n",
              "      <td>Asia</td>\n",
              "    </tr>\n",
              "    <tr>\n",
              "      <th>12516</th>\n",
              "      <td>KWT</td>\n",
              "      <td>Kuwait</td>\n",
              "      <td>22.974</td>\n",
              "      <td>2019</td>\n",
              "      <td>96.651</td>\n",
              "      <td>Asia</td>\n",
              "    </tr>\n",
              "    <tr>\n",
              "      <th>2158</th>\n",
              "      <td>BHR</td>\n",
              "      <td>Bahrain</td>\n",
              "      <td>20.984</td>\n",
              "      <td>2019</td>\n",
              "      <td>34.439</td>\n",
              "      <td>Asia</td>\n",
              "    </tr>\n",
              "    <tr>\n",
              "      <th>19661</th>\n",
              "      <td>SAU</td>\n",
              "      <td>Saudi Arabia</td>\n",
              "      <td>18.163</td>\n",
              "      <td>2019</td>\n",
              "      <td>622.413</td>\n",
              "      <td>Asia</td>\n",
              "    </tr>\n",
              "    <tr>\n",
              "      <th>20155</th>\n",
              "      <td>SXM</td>\n",
              "      <td>Sint Maarten (Dutch part)</td>\n",
              "      <td>16.620</td>\n",
              "      <td>2019</td>\n",
              "      <td>0.705</td>\n",
              "      <td>North America</td>\n",
              "    </tr>\n",
              "    <tr>\n",
              "      <th>1594</th>\n",
              "      <td>AUS</td>\n",
              "      <td>Australia</td>\n",
              "      <td>16.447</td>\n",
              "      <td>2019</td>\n",
              "      <td>414.517</td>\n",
              "      <td>Oceania</td>\n",
              "    </tr>\n",
              "    <tr>\n",
              "      <th>24053</th>\n",
              "      <td>USA</td>\n",
              "      <td>United States</td>\n",
              "      <td>15.972</td>\n",
              "      <td>2019</td>\n",
              "      <td>5255.816</td>\n",
              "      <td>North America</td>\n",
              "    </tr>\n",
              "    <tr>\n",
              "      <th>12297</th>\n",
              "      <td>KAZ</td>\n",
              "      <td>Kazakhstan</td>\n",
              "      <td>15.949</td>\n",
              "      <td>2019</td>\n",
              "      <td>295.869</td>\n",
              "      <td>Asia</td>\n",
              "    </tr>\n",
              "    <tr>\n",
              "      <th>13626</th>\n",
              "      <td>LUX</td>\n",
              "      <td>Luxembourg</td>\n",
              "      <td>15.838</td>\n",
              "      <td>2019</td>\n",
              "      <td>9.752</td>\n",
              "      <td>Europe</td>\n",
              "    </tr>\n",
              "    <tr>\n",
              "      <th>23561</th>\n",
              "      <td>ARE</td>\n",
              "      <td>United Arab Emirates</td>\n",
              "      <td>15.781</td>\n",
              "      <td>2019</td>\n",
              "      <td>154.186</td>\n",
              "      <td>Asia</td>\n",
              "    </tr>\n",
              "    <tr>\n",
              "      <th>4279</th>\n",
              "      <td>CAN</td>\n",
              "      <td>Canada</td>\n",
              "      <td>15.567</td>\n",
              "      <td>2019</td>\n",
              "      <td>582.390</td>\n",
              "      <td>North America</td>\n",
              "    </tr>\n",
              "    <tr>\n",
              "      <th>8305</th>\n",
              "      <td>FRO</td>\n",
              "      <td>Faeroe Islands</td>\n",
              "      <td>15.121</td>\n",
              "      <td>2019</td>\n",
              "      <td>0.736</td>\n",
              "      <td>Europe</td>\n",
              "    </tr>\n",
              "    <tr>\n",
              "      <th>3180</th>\n",
              "      <td>BES</td>\n",
              "      <td>Bonaire Sint Eustatius and Saba</td>\n",
              "      <td>13.076</td>\n",
              "      <td>2019</td>\n",
              "      <td>0.340</td>\n",
              "      <td>North America</td>\n",
              "    </tr>\n",
              "    <tr>\n",
              "      <th>23175</th>\n",
              "      <td>TKM</td>\n",
              "      <td>Turkmenistan</td>\n",
              "      <td>12.844</td>\n",
              "      <td>2019</td>\n",
              "      <td>76.319</td>\n",
              "      <td>Asia</td>\n",
              "    </tr>\n",
              "    <tr>\n",
              "      <th>20982</th>\n",
              "      <td>KOR</td>\n",
              "      <td>South Korea</td>\n",
              "      <td>12.650</td>\n",
              "      <td>2019</td>\n",
              "      <td>648.025</td>\n",
              "      <td>Asia</td>\n",
              "    </tr>\n",
              "  </tbody>\n",
              "</table>\n",
              "</div>"
            ],
            "text/plain": [
              "      iso_code                          country  co2_per_capita  year  \\\n",
              "18564      QAT                            Qatar          40.619  2019   \n",
              "15735      NCL                    New Caledonia          30.791  2019   \n",
              "22723      TTO              Trinidad and Tobago          28.946  2019   \n",
              "14855      MNG                         Mongolia          27.500  2019   \n",
              "5494       CUW                          Curacao          23.014  2019   \n",
              "3632       BRN                           Brunei          22.982  2019   \n",
              "12516      KWT                           Kuwait          22.974  2019   \n",
              "2158       BHR                          Bahrain          20.984  2019   \n",
              "19661      SAU                     Saudi Arabia          18.163  2019   \n",
              "20155      SXM        Sint Maarten (Dutch part)          16.620  2019   \n",
              "1594       AUS                        Australia          16.447  2019   \n",
              "24053      USA                    United States          15.972  2019   \n",
              "12297      KAZ                       Kazakhstan          15.949  2019   \n",
              "13626      LUX                       Luxembourg          15.838  2019   \n",
              "23561      ARE             United Arab Emirates          15.781  2019   \n",
              "4279       CAN                           Canada          15.567  2019   \n",
              "8305       FRO                   Faeroe Islands          15.121  2019   \n",
              "3180       BES  Bonaire Sint Eustatius and Saba          13.076  2019   \n",
              "23175      TKM                     Turkmenistan          12.844  2019   \n",
              "20982      KOR                      South Korea          12.650  2019   \n",
              "\n",
              "            co2      continent  \n",
              "18564   115.037           Asia  \n",
              "15735     8.706        Oceania  \n",
              "22723    40.378  North America  \n",
              "14855    88.691           Asia  \n",
              "5494      3.761  North America  \n",
              "3632      9.958           Asia  \n",
              "12516    96.651           Asia  \n",
              "2158     34.439           Asia  \n",
              "19661   622.413           Asia  \n",
              "20155     0.705  North America  \n",
              "1594    414.517        Oceania  \n",
              "24053  5255.816  North America  \n",
              "12297   295.869           Asia  \n",
              "13626     9.752         Europe  \n",
              "23561   154.186           Asia  \n",
              "4279    582.390  North America  \n",
              "8305      0.736         Europe  \n",
              "3180      0.340  North America  \n",
              "23175    76.319           Asia  \n",
              "20982   648.025           Asia  "
            ]
          },
          "execution_count": 65,
          "metadata": {},
          "output_type": "execute_result"
        }
      ],
      "source": [
        "globe_df_2019.sort_values(\"co2_per_capita\", ascending=False).head(20)"
      ]
    },
    {
      "cell_type": "markdown",
      "metadata": {
        "id": "HlsbmoVOO-_7"
      },
      "source": [
        "### Country-Wise CO2 Emission\n",
        "\n",
        "China emits the highest amount of carbon dioxide, around 30 % of the global carbon dioxide emission followed by the US and India contributing 15 % and 7% respectively. Combined, these three countries account for over half the global emissions. Even though China is a huge contributor to carbon dioxide emissions, its per capita emissions stand at a modest 7.3 tonnes/person which is half of the US per capita emissions which stand at 15.9 tonnes/person per year. \n",
        "\n",
        "The main sources of carbon emissions globally are coal, oil, and gas respectively. Emission due to the burning of coal is at a staggering 40%. \n",
        "\n",
        "In India, as coal is the main source of power generation, the disparity is even higher. Emission from coal accounts for 64% followed by oil which stands at 25%. However, if we consider the US which is the highest oil producing country we get a very different distribution which is expected. Emissions due to oil account for 44% whereas gas and coal contribute to 32% and 21% emissions respectively. \n"
      ]
    },
    {
      "cell_type": "markdown",
      "metadata": {
        "id": "CpwGWpec1lu6"
      },
      "source": [
        "# CO2 Per Unit Energy"
      ]
    },
    {
      "cell_type": "code",
      "execution_count": 66,
      "metadata": {
        "colab": {
          "base_uri": "https://localhost:8080/",
          "height": 0
        },
        "id": "-KhMVgGtvvXA",
        "outputId": "e67e776b-8624-4482-93c8-ead8e8310569"
      },
      "outputs": [
        {
          "data": {
            "application/vnd.plotly.v1+json": {
              "config": {
                "plotlyServerURL": "https://plot.ly"
              },
              "data": [
                {
                  "hovertemplate": "country=United Arab Emirates<br>year=%{x}<br>co2_per_unit_energy=%{y}<extra></extra>",
                  "legendgroup": "United Arab Emirates",
                  "line": {
                    "color": "#636efa",
                    "dash": "solid"
                  },
                  "marker": {
                    "symbol": "circle"
                  },
                  "mode": "lines",
                  "name": "United Arab Emirates",
                  "orientation": "v",
                  "showlegend": true,
                  "type": "scatter",
                  "x": [
                    1961,
                    1962,
                    1963,
                    1964,
                    1965,
                    1966,
                    1967,
                    1968,
                    1969,
                    1970,
                    1971,
                    1972,
                    1973,
                    1974,
                    1975,
                    1976,
                    1977,
                    1978,
                    1979,
                    1980,
                    1981,
                    1982,
                    1983,
                    1984,
                    1985,
                    1986,
                    1987,
                    1988,
                    1989,
                    1990,
                    1991,
                    1992,
                    1993,
                    1994,
                    1995,
                    1996,
                    1997,
                    1998,
                    1999,
                    2000,
                    2001,
                    2002,
                    2003,
                    2004,
                    2005,
                    2006,
                    2007,
                    2008,
                    2009,
                    2010,
                    2011,
                    2012,
                    2013,
                    2014,
                    2015,
                    2016,
                    2017,
                    2018,
                    2019,
                    2020
                  ],
                  "xaxis": "x",
                  "y": [
                    null,
                    null,
                    null,
                    null,
                    0.026000000000000002,
                    0.027999999999999997,
                    0.16899999999999998,
                    0.179,
                    2.943,
                    1.5859999999999999,
                    1.446,
                    1.4969999999999999,
                    1.508,
                    1.4040000000000001,
                    1.301,
                    1.3119999999999998,
                    0.7809999999999999,
                    0.7809999999999999,
                    0.542,
                    0.34,
                    0.29,
                    0.268,
                    0.268,
                    0.281,
                    0.244,
                    0.191,
                    0.172,
                    0.158,
                    0.158,
                    0.149,
                    0.134,
                    0.141,
                    0.154,
                    0.156,
                    0.14400000000000002,
                    0.145,
                    0.139,
                    0.15,
                    0.14300000000000002,
                    0.207,
                    0.185,
                    0.141,
                    0.166,
                    0.165,
                    0.162,
                    0.163,
                    0.162,
                    0.16399999999999998,
                    0.17800000000000002,
                    0.185,
                    0.188,
                    0.187,
                    0.18100000000000002,
                    0.17800000000000002,
                    0.174,
                    0.166,
                    0.129,
                    0.11599999999999999,
                    0.115,
                    null
                  ],
                  "yaxis": "y"
                },
                {
                  "hovertemplate": "country=United Kingdom<br>year=%{x}<br>co2_per_unit_energy=%{y}<extra></extra>",
                  "legendgroup": "United Kingdom",
                  "line": {
                    "color": "#EF553B",
                    "dash": "solid"
                  },
                  "marker": {
                    "symbol": "circle"
                  },
                  "mode": "lines",
                  "name": "United Kingdom",
                  "orientation": "v",
                  "showlegend": true,
                  "type": "scatter",
                  "x": [
                    1961,
                    1962,
                    1963,
                    1964,
                    1965,
                    1966,
                    1967,
                    1968,
                    1969,
                    1970,
                    1971,
                    1972,
                    1973,
                    1974,
                    1975,
                    1976,
                    1977,
                    1978,
                    1979,
                    1980,
                    1981,
                    1982,
                    1983,
                    1984,
                    1985,
                    1986,
                    1987,
                    1988,
                    1989,
                    1990,
                    1991,
                    1992,
                    1993,
                    1994,
                    1995,
                    1996,
                    1997,
                    1998,
                    1999,
                    2000,
                    2001,
                    2002,
                    2003,
                    2004,
                    2005,
                    2006,
                    2007,
                    2008,
                    2009,
                    2010,
                    2011,
                    2012,
                    2013,
                    2014,
                    2015,
                    2016,
                    2017,
                    2018,
                    2019,
                    2020
                  ],
                  "xaxis": "x",
                  "y": [
                    null,
                    null,
                    null,
                    null,
                    0.26899999999999996,
                    0.266,
                    0.254,
                    0.252,
                    0.252,
                    0.256,
                    0.264,
                    0.255,
                    0.248,
                    0.244,
                    0.253,
                    0.24600000000000002,
                    0.244,
                    0.242,
                    0.247,
                    0.244,
                    0.242,
                    0.24,
                    0.23800000000000002,
                    0.231,
                    0.23399999999999999,
                    0.23199999999999998,
                    0.233,
                    0.23,
                    0.23399999999999999,
                    0.24,
                    0.23800000000000002,
                    0.23399999999999999,
                    0.225,
                    0.226,
                    0.223,
                    0.22,
                    0.214,
                    0.214,
                    0.213,
                    0.213,
                    0.214,
                    0.213,
                    0.214,
                    0.214,
                    0.21,
                    0.212,
                    0.215,
                    0.214,
                    0.204,
                    0.20600000000000002,
                    0.2,
                    0.205,
                    0.20199999999999999,
                    0.19699999999999998,
                    0.188,
                    0.179,
                    0.175,
                    0.17300000000000001,
                    0.16899999999999998,
                    null
                  ],
                  "yaxis": "y"
                },
                {
                  "hovertemplate": "country=China<br>year=%{x}<br>co2_per_unit_energy=%{y}<extra></extra>",
                  "legendgroup": "China",
                  "line": {
                    "color": "#00cc96",
                    "dash": "solid"
                  },
                  "marker": {
                    "symbol": "circle"
                  },
                  "mode": "lines",
                  "name": "China",
                  "orientation": "v",
                  "showlegend": true,
                  "type": "scatter",
                  "x": [
                    1961,
                    1962,
                    1963,
                    1964,
                    1965,
                    1966,
                    1967,
                    1968,
                    1969,
                    1970,
                    1971,
                    1972,
                    1973,
                    1974,
                    1975,
                    1976,
                    1977,
                    1978,
                    1979,
                    1980,
                    1981,
                    1982,
                    1983,
                    1984,
                    1985,
                    1986,
                    1987,
                    1988,
                    1989,
                    1990,
                    1991,
                    1992,
                    1993,
                    1994,
                    1995,
                    1996,
                    1997,
                    1998,
                    1999,
                    2000,
                    2001,
                    2002,
                    2003,
                    2004,
                    2005,
                    2006,
                    2007,
                    2008,
                    2009,
                    2010,
                    2011,
                    2012,
                    2013,
                    2014,
                    2015,
                    2016,
                    2017,
                    2018,
                    2019,
                    2020
                  ],
                  "xaxis": "x",
                  "y": [
                    null,
                    null,
                    null,
                    null,
                    0.326,
                    0.33,
                    0.307,
                    0.32799999999999996,
                    0.33,
                    0.34299999999999997,
                    0.325,
                    0.322,
                    0.317,
                    0.314,
                    0.322,
                    0.317,
                    0.318,
                    0.32299999999999995,
                    0.32,
                    0.308,
                    0.308,
                    0.321,
                    0.318,
                    0.32299999999999995,
                    0.32299999999999995,
                    0.325,
                    0.32299999999999995,
                    0.32299999999999995,
                    0.313,
                    0.312,
                    0.311,
                    0.31,
                    0.308,
                    0.308,
                    0.32299999999999995,
                    0.32,
                    0.319,
                    0.305,
                    0.294,
                    0.292,
                    0.282,
                    0.285,
                    0.28800000000000003,
                    0.28300000000000003,
                    0.28,
                    0.282,
                    0.27899999999999997,
                    0.289,
                    0.29100000000000004,
                    0.298,
                    0.305,
                    0.301,
                    0.295,
                    0.289,
                    0.28300000000000003,
                    0.276,
                    0.273,
                    0.273,
                    0.266,
                    null
                  ],
                  "yaxis": "y"
                },
                {
                  "hovertemplate": "country=Europe (excl. EU-28)<br>year=%{x}<br>co2_per_unit_energy=%{y}<extra></extra>",
                  "legendgroup": "Europe (excl. EU-28)",
                  "line": {
                    "color": "#ab63fa",
                    "dash": "solid"
                  },
                  "marker": {
                    "symbol": "circle"
                  },
                  "mode": "lines",
                  "name": "Europe (excl. EU-28)",
                  "orientation": "v",
                  "showlegend": true,
                  "type": "scatter",
                  "x": [
                    1961,
                    1962,
                    1963,
                    1964,
                    1965,
                    1966,
                    1967,
                    1968,
                    1969,
                    1970,
                    1971,
                    1972,
                    1973,
                    1974,
                    1975,
                    1976,
                    1977,
                    1978,
                    1979,
                    1980,
                    1981,
                    1982,
                    1983,
                    1984,
                    1985,
                    1986,
                    1987,
                    1988,
                    1989,
                    1990,
                    1991,
                    1992,
                    1993,
                    1994,
                    1995,
                    1996,
                    1997,
                    1998,
                    1999,
                    2000,
                    2001,
                    2002,
                    2003,
                    2004,
                    2005,
                    2006,
                    2007,
                    2008,
                    2009,
                    2010,
                    2011,
                    2012,
                    2013,
                    2014,
                    2015,
                    2016,
                    2017,
                    2018,
                    2019,
                    2020
                  ],
                  "xaxis": "x",
                  "y": [
                    null,
                    null,
                    null,
                    null,
                    4.319,
                    4.355,
                    4.253,
                    4.034,
                    4.127,
                    4.0760000000000005,
                    4.158,
                    4.249,
                    4.104,
                    4.313,
                    4.427,
                    4.512,
                    4.644,
                    4.546,
                    4.426,
                    0.21600000000000003,
                    0.21,
                    0.205,
                    0.203,
                    0.195,
                    0.252,
                    0.249,
                    0.24100000000000002,
                    0.243,
                    0.239,
                    0.244,
                    0.23399999999999999,
                    0.20600000000000002,
                    0.20800000000000002,
                    0.201,
                    0.205,
                    0.20600000000000002,
                    0.203,
                    0.201,
                    0.198,
                    0.192,
                    0.19699999999999998,
                    0.195,
                    0.198,
                    0.198,
                    0.198,
                    0.2,
                    0.19899999999999998,
                    0.201,
                    0.19699999999999998,
                    0.2,
                    0.201,
                    0.2,
                    0.198,
                    0.196,
                    0.2,
                    0.19699999999999998,
                    0.207,
                    0.205,
                    0.20600000000000002,
                    null
                  ],
                  "yaxis": "y"
                },
                {
                  "hovertemplate": "country=India<br>year=%{x}<br>co2_per_unit_energy=%{y}<extra></extra>",
                  "legendgroup": "India",
                  "line": {
                    "color": "#FFA15A",
                    "dash": "solid"
                  },
                  "marker": {
                    "symbol": "circle"
                  },
                  "mode": "lines",
                  "name": "India",
                  "orientation": "v",
                  "showlegend": true,
                  "type": "scatter",
                  "x": [
                    1961,
                    1962,
                    1963,
                    1964,
                    1965,
                    1966,
                    1967,
                    1968,
                    1969,
                    1970,
                    1971,
                    1972,
                    1973,
                    1974,
                    1975,
                    1976,
                    1977,
                    1978,
                    1979,
                    1980,
                    1981,
                    1982,
                    1983,
                    1984,
                    1985,
                    1986,
                    1987,
                    1988,
                    1989,
                    1990,
                    1991,
                    1992,
                    1993,
                    1994,
                    1995,
                    1996,
                    1997,
                    1998,
                    1999,
                    2000,
                    2001,
                    2002,
                    2003,
                    2004,
                    2005,
                    2006,
                    2007,
                    2008,
                    2009,
                    2010,
                    2011,
                    2012,
                    2013,
                    2014,
                    2015,
                    2016,
                    2017,
                    2018,
                    2019,
                    2020
                  ],
                  "xaxis": "x",
                  "y": [
                    null,
                    null,
                    null,
                    null,
                    0.25,
                    0.251,
                    0.244,
                    0.249,
                    0.22899999999999998,
                    0.24,
                    0.244,
                    0.245,
                    0.247,
                    0.24100000000000002,
                    0.243,
                    0.242,
                    0.242,
                    0.237,
                    0.23600000000000002,
                    0.242,
                    0.23600000000000002,
                    0.245,
                    0.252,
                    0.243,
                    0.253,
                    0.253,
                    0.254,
                    0.252,
                    0.254,
                    0.253,
                    0.255,
                    0.258,
                    0.261,
                    0.262,
                    0.259,
                    0.27,
                    0.266,
                    0.256,
                    0.27,
                    0.264,
                    0.266,
                    0.262,
                    0.262,
                    0.259,
                    0.258,
                    0.26,
                    0.258,
                    0.263,
                    0.27,
                    0.268,
                    0.268,
                    0.282,
                    0.281,
                    0.282,
                    0.284,
                    0.285,
                    0.28,
                    0.281,
                    0.278,
                    null
                  ],
                  "yaxis": "y"
                },
                {
                  "hovertemplate": "country=Qatar<br>year=%{x}<br>co2_per_unit_energy=%{y}<extra></extra>",
                  "legendgroup": "Qatar",
                  "line": {
                    "color": "#19d3f3",
                    "dash": "solid"
                  },
                  "marker": {
                    "symbol": "circle"
                  },
                  "mode": "lines",
                  "name": "Qatar",
                  "orientation": "v",
                  "showlegend": true,
                  "type": "scatter",
                  "x": [
                    1961,
                    1962,
                    1963,
                    1964,
                    1965,
                    1966,
                    1967,
                    1968,
                    1969,
                    1970,
                    1971,
                    1972,
                    1973,
                    1974,
                    1975,
                    1976,
                    1977,
                    1978,
                    1979,
                    1980,
                    1981,
                    1982,
                    1983,
                    1984,
                    1985,
                    1986,
                    1987,
                    1988,
                    1989,
                    1990,
                    1991,
                    1992,
                    1993,
                    1994,
                    1995,
                    1996,
                    1997,
                    1998,
                    1999,
                    2000,
                    2001,
                    2002,
                    2003,
                    2004,
                    2005,
                    2006,
                    2007,
                    2008,
                    2009,
                    2010,
                    2011,
                    2012,
                    2013,
                    2014,
                    2015,
                    2016,
                    2017,
                    2018,
                    2019,
                    2020
                  ],
                  "xaxis": "x",
                  "y": [
                    null,
                    null,
                    null,
                    null,
                    4.456,
                    4.414,
                    3.284,
                    1.099,
                    0.708,
                    0.6559999999999999,
                    0.7959999999999999,
                    0.848,
                    0.691,
                    0.667,
                    0.467,
                    0.6890000000000001,
                    0.473,
                    0.523,
                    0.285,
                    0.22699999999999998,
                    0.23800000000000002,
                    0.18899999999999997,
                    0.16399999999999998,
                    0.159,
                    0.157,
                    0.154,
                    0.134,
                    0.15,
                    0.16899999999999998,
                    0.132,
                    0.179,
                    0.179,
                    0.193,
                    0.18899999999999997,
                    0.19399999999999998,
                    0.264,
                    0.287,
                    0.23199999999999998,
                    0.201,
                    0.253,
                    0.315,
                    0.275,
                    0.248,
                    0.21899999999999997,
                    0.226,
                    0.267,
                    0.243,
                    0.225,
                    0.23800000000000002,
                    0.214,
                    0.205,
                    0.209,
                    0.174,
                    0.177,
                    0.158,
                    0.16,
                    0.187,
                    0.193,
                    0.205,
                    null
                  ],
                  "yaxis": "y"
                },
                {
                  "hovertemplate": "country=World<br>year=%{x}<br>co2_per_unit_energy=%{y}<extra></extra>",
                  "legendgroup": "World",
                  "line": {
                    "color": "#FF6692",
                    "dash": "solid"
                  },
                  "marker": {
                    "symbol": "circle"
                  },
                  "mode": "lines",
                  "name": "World",
                  "orientation": "v",
                  "showlegend": true,
                  "type": "scatter",
                  "x": [
                    1961,
                    1962,
                    1963,
                    1964,
                    1965,
                    1966,
                    1967,
                    1968,
                    1969,
                    1970,
                    1971,
                    1972,
                    1973,
                    1974,
                    1975,
                    1976,
                    1977,
                    1978,
                    1979,
                    1980,
                    1981,
                    1982,
                    1983,
                    1984,
                    1985,
                    1986,
                    1987,
                    1988,
                    1989,
                    1990,
                    1991,
                    1992,
                    1993,
                    1994,
                    1995,
                    1996,
                    1997,
                    1998,
                    1999,
                    2000,
                    2001,
                    2002,
                    2003,
                    2004,
                    2005,
                    2006,
                    2007,
                    2008,
                    2009,
                    2010,
                    2011,
                    2012,
                    2013,
                    2014,
                    2015,
                    2016,
                    2017,
                    2018,
                    2019,
                    2020
                  ],
                  "xaxis": "x",
                  "y": [
                    null,
                    null,
                    null,
                    null,
                    0.262,
                    0.26,
                    0.259,
                    0.257,
                    0.257,
                    0.262,
                    0.262,
                    0.26,
                    0.258,
                    0.256,
                    0.255,
                    0.255,
                    0.253,
                    0.252,
                    0.251,
                    0.251,
                    0.24600000000000002,
                    0.24600000000000002,
                    0.243,
                    0.24,
                    0.242,
                    0.24,
                    0.24,
                    0.24,
                    0.23800000000000002,
                    0.239,
                    0.243,
                    0.23399999999999999,
                    0.235,
                    0.23399999999999999,
                    0.23399999999999999,
                    0.23399999999999999,
                    0.233,
                    0.23,
                    0.22899999999999998,
                    0.23,
                    0.23,
                    0.23,
                    0.23399999999999999,
                    0.233,
                    0.233,
                    0.23399999999999999,
                    0.23399999999999999,
                    0.23600000000000002,
                    0.23600000000000002,
                    0.237,
                    0.239,
                    0.24,
                    0.23800000000000002,
                    0.237,
                    0.235,
                    0.23199999999999998,
                    0.231,
                    0.22899999999999998,
                    0.226,
                    null
                  ],
                  "yaxis": "y"
                },
                {
                  "hovertemplate": "country=Africa<br>year=%{x}<br>co2_per_unit_energy=%{y}<extra></extra>",
                  "legendgroup": "Africa",
                  "line": {
                    "color": "#B6E880",
                    "dash": "solid"
                  },
                  "marker": {
                    "symbol": "circle"
                  },
                  "mode": "lines",
                  "name": "Africa",
                  "orientation": "v",
                  "showlegend": true,
                  "type": "scatter",
                  "x": [
                    1961,
                    1962,
                    1963,
                    1964,
                    1965,
                    1966,
                    1967,
                    1968,
                    1969,
                    1970,
                    1971,
                    1972,
                    1973,
                    1974,
                    1975,
                    1976,
                    1977,
                    1978,
                    1979,
                    1980,
                    1981,
                    1982,
                    1983,
                    1984,
                    1985,
                    1986,
                    1987,
                    1988,
                    1989,
                    1990,
                    1991,
                    1992,
                    1993,
                    1994,
                    1995,
                    1996,
                    1997,
                    1998,
                    1999,
                    2000,
                    2001,
                    2002,
                    2003,
                    2004,
                    2005,
                    2006,
                    2007,
                    2008,
                    2009,
                    2010,
                    2011,
                    2012,
                    2013,
                    2014,
                    2015,
                    2016,
                    2017,
                    2018,
                    2019,
                    2020
                  ],
                  "xaxis": "x",
                  "y": [
                    null,
                    null,
                    null,
                    null,
                    0.43799999999999994,
                    0.43799999999999994,
                    0.469,
                    0.48,
                    0.517,
                    0.523,
                    0.537,
                    0.541,
                    0.546,
                    0.5329999999999999,
                    0.49200000000000005,
                    0.494,
                    0.486,
                    0.503,
                    0.501,
                    0.308,
                    0.28800000000000003,
                    0.28300000000000003,
                    0.284,
                    0.297,
                    0.294,
                    0.297,
                    0.29,
                    0.285,
                    0.272,
                    0.249,
                    0.259,
                    0.24600000000000002,
                    0.262,
                    0.26,
                    0.268,
                    0.265,
                    0.27,
                    0.27699999999999997,
                    0.265,
                    0.275,
                    0.264,
                    0.264,
                    0.272,
                    0.275,
                    0.275,
                    0.27899999999999997,
                    0.282,
                    0.27399999999999997,
                    0.27699999999999997,
                    0.27,
                    0.27399999999999997,
                    0.262,
                    0.258,
                    0.268,
                    0.258,
                    0.253,
                    0.409,
                    0.39899999999999997,
                    0.397,
                    null
                  ],
                  "yaxis": "y"
                },
                {
                  "hovertemplate": "country=Russia<br>year=%{x}<br>co2_per_unit_energy=%{y}<extra></extra>",
                  "legendgroup": "Russia",
                  "line": {
                    "color": "#FF97FF",
                    "dash": "solid"
                  },
                  "marker": {
                    "symbol": "circle"
                  },
                  "mode": "lines",
                  "name": "Russia",
                  "orientation": "v",
                  "showlegend": true,
                  "type": "scatter",
                  "x": [
                    1961,
                    1962,
                    1963,
                    1964,
                    1965,
                    1966,
                    1967,
                    1968,
                    1969,
                    1970,
                    1971,
                    1972,
                    1973,
                    1974,
                    1975,
                    1976,
                    1977,
                    1978,
                    1979,
                    1980,
                    1981,
                    1982,
                    1983,
                    1984,
                    1985,
                    1986,
                    1987,
                    1988,
                    1989,
                    1990,
                    1991,
                    1992,
                    1993,
                    1994,
                    1995,
                    1996,
                    1997,
                    1998,
                    1999,
                    2000,
                    2001,
                    2002,
                    2003,
                    2004,
                    2005,
                    2006,
                    2007,
                    2008,
                    2009,
                    2010,
                    2011,
                    2012,
                    2013,
                    2014,
                    2015,
                    2016,
                    2017,
                    2018,
                    2019,
                    2020
                  ],
                  "xaxis": "x",
                  "y": [
                    null,
                    null,
                    null,
                    null,
                    null,
                    null,
                    null,
                    null,
                    null,
                    null,
                    null,
                    null,
                    null,
                    null,
                    null,
                    null,
                    null,
                    null,
                    null,
                    0.156,
                    0.151,
                    0.14800000000000002,
                    0.146,
                    0.139,
                    0.24600000000000002,
                    0.242,
                    0.235,
                    0.239,
                    0.235,
                    0.252,
                    0.242,
                    0.20600000000000002,
                    0.209,
                    0.203,
                    0.21,
                    0.214,
                    0.212,
                    0.209,
                    0.21100000000000002,
                    0.205,
                    0.207,
                    0.20600000000000002,
                    0.20600000000000002,
                    0.205,
                    0.207,
                    0.20600000000000002,
                    0.205,
                    0.20800000000000002,
                    0.204,
                    0.207,
                    0.207,
                    0.209,
                    0.204,
                    0.204,
                    0.20800000000000002,
                    0.203,
                    0.205,
                    0.203,
                    0.203,
                    null
                  ],
                  "yaxis": "y"
                },
                {
                  "hovertemplate": "country=United States<br>year=%{x}<br>co2_per_unit_energy=%{y}<extra></extra>",
                  "legendgroup": "United States",
                  "line": {
                    "color": "#FECB52",
                    "dash": "solid"
                  },
                  "marker": {
                    "symbol": "circle"
                  },
                  "mode": "lines",
                  "name": "United States",
                  "orientation": "v",
                  "showlegend": true,
                  "type": "scatter",
                  "x": [
                    1961,
                    1962,
                    1963,
                    1964,
                    1965,
                    1966,
                    1967,
                    1968,
                    1969,
                    1970,
                    1971,
                    1972,
                    1973,
                    1974,
                    1975,
                    1976,
                    1977,
                    1978,
                    1979,
                    1980,
                    1981,
                    1982,
                    1983,
                    1984,
                    1985,
                    1986,
                    1987,
                    1988,
                    1989,
                    1990,
                    1991,
                    1992,
                    1993,
                    1994,
                    1995,
                    1996,
                    1997,
                    1998,
                    1999,
                    2000,
                    2001,
                    2002,
                    2003,
                    2004,
                    2005,
                    2006,
                    2007,
                    2008,
                    2009,
                    2010,
                    2011,
                    2012,
                    2013,
                    2014,
                    2015,
                    2016,
                    2017,
                    2018,
                    2019,
                    2020
                  ],
                  "xaxis": "x",
                  "y": [
                    null,
                    null,
                    null,
                    null,
                    0.233,
                    0.23199999999999998,
                    0.233,
                    0.22699999999999998,
                    0.22699999999999998,
                    0.23600000000000002,
                    0.23199999999999998,
                    0.23199999999999998,
                    0.233,
                    0.231,
                    0.22899999999999998,
                    0.23,
                    0.231,
                    0.233,
                    0.233,
                    0.23199999999999998,
                    0.233,
                    0.231,
                    0.231,
                    0.231,
                    0.231,
                    0.23,
                    0.23,
                    0.23,
                    0.22899999999999998,
                    0.22699999999999998,
                    0.225,
                    0.22699999999999998,
                    0.226,
                    0.226,
                    0.22399999999999998,
                    0.22399999999999998,
                    0.225,
                    0.226,
                    0.225,
                    0.22699999999999998,
                    0.22899999999999998,
                    0.22699999999999998,
                    0.22899999999999998,
                    0.228,
                    0.22899999999999998,
                    0.228,
                    0.228,
                    0.225,
                    0.21899999999999997,
                    0.22,
                    0.217,
                    0.214,
                    0.214,
                    0.214,
                    0.21,
                    0.205,
                    0.203,
                    0.20199999999999999,
                    0.2,
                    null
                  ],
                  "yaxis": "y"
                },
                {
                  "hovertemplate": "country=Iraq<br>year=%{x}<br>co2_per_unit_energy=%{y}<extra></extra>",
                  "legendgroup": "Iraq",
                  "line": {
                    "color": "#636efa",
                    "dash": "solid"
                  },
                  "marker": {
                    "symbol": "circle"
                  },
                  "mode": "lines",
                  "name": "Iraq",
                  "orientation": "v",
                  "showlegend": true,
                  "type": "scatter",
                  "x": [
                    1961,
                    1962,
                    1963,
                    1964,
                    1965,
                    1966,
                    1967,
                    1968,
                    1969,
                    1970,
                    1971,
                    1972,
                    1973,
                    1974,
                    1975,
                    1976,
                    1977,
                    1978,
                    1979,
                    1980,
                    1981,
                    1982,
                    1983,
                    1984,
                    1985,
                    1986,
                    1987,
                    1988,
                    1989,
                    1990,
                    1991,
                    1992,
                    1993,
                    1994,
                    1995,
                    1996,
                    1997,
                    1998,
                    1999,
                    2000,
                    2001,
                    2002,
                    2003,
                    2004,
                    2005,
                    2006,
                    2007,
                    2008,
                    2009,
                    2010,
                    2011,
                    2012,
                    2013,
                    2014,
                    2015,
                    2016,
                    2017,
                    2018,
                    2019,
                    2020
                  ],
                  "xaxis": "x",
                  "y": [
                    null,
                    null,
                    null,
                    null,
                    0.948,
                    1.218,
                    0.8,
                    0.802,
                    0.785,
                    0.654,
                    0.72,
                    0.622,
                    0.6609999999999999,
                    0.677,
                    0.66,
                    0.76,
                    0.66,
                    0.6629999999999999,
                    0.662,
                    0.47700000000000004,
                    0.33799999999999997,
                    0.308,
                    0.35200000000000004,
                    0.332,
                    0.312,
                    0.301,
                    0.27699999999999997,
                    0.305,
                    0.293,
                    0.215,
                    0.295,
                    0.244,
                    0.193,
                    0.19,
                    0.201,
                    0.18100000000000002,
                    0.152,
                    0.23,
                    0.304,
                    0.239,
                    0.25,
                    0.27,
                    0.307,
                    0.36,
                    0.373,
                    0.317,
                    0.187,
                    0.27,
                    0.272,
                    0.273,
                    0.317,
                    0.337,
                    0.335,
                    0.353,
                    0.355,
                    0.361,
                    0.39799999999999996,
                    0.38,
                    0.36,
                    null
                  ],
                  "yaxis": "y"
                }
              ],
              "layout": {
                "legend": {
                  "title": {
                    "text": "Countries"
                  },
                  "tracegroupgap": 0
                },
                "template": {
                  "data": {
                    "bar": [
                      {
                        "error_x": {
                          "color": "#f2f5fa"
                        },
                        "error_y": {
                          "color": "#f2f5fa"
                        },
                        "marker": {
                          "line": {
                            "color": "rgb(17,17,17)",
                            "width": 0.5
                          },
                          "pattern": {
                            "fillmode": "overlay",
                            "size": 10,
                            "solidity": 0.2
                          }
                        },
                        "type": "bar"
                      }
                    ],
                    "barpolar": [
                      {
                        "marker": {
                          "line": {
                            "color": "rgb(17,17,17)",
                            "width": 0.5
                          },
                          "pattern": {
                            "fillmode": "overlay",
                            "size": 10,
                            "solidity": 0.2
                          }
                        },
                        "type": "barpolar"
                      }
                    ],
                    "carpet": [
                      {
                        "aaxis": {
                          "endlinecolor": "#A2B1C6",
                          "gridcolor": "#506784",
                          "linecolor": "#506784",
                          "minorgridcolor": "#506784",
                          "startlinecolor": "#A2B1C6"
                        },
                        "baxis": {
                          "endlinecolor": "#A2B1C6",
                          "gridcolor": "#506784",
                          "linecolor": "#506784",
                          "minorgridcolor": "#506784",
                          "startlinecolor": "#A2B1C6"
                        },
                        "type": "carpet"
                      }
                    ],
                    "choropleth": [
                      {
                        "colorbar": {
                          "outlinewidth": 0,
                          "ticks": ""
                        },
                        "type": "choropleth"
                      }
                    ],
                    "contour": [
                      {
                        "colorbar": {
                          "outlinewidth": 0,
                          "ticks": ""
                        },
                        "colorscale": [
                          [
                            0,
                            "#0d0887"
                          ],
                          [
                            0.1111111111111111,
                            "#46039f"
                          ],
                          [
                            0.2222222222222222,
                            "#7201a8"
                          ],
                          [
                            0.3333333333333333,
                            "#9c179e"
                          ],
                          [
                            0.4444444444444444,
                            "#bd3786"
                          ],
                          [
                            0.5555555555555556,
                            "#d8576b"
                          ],
                          [
                            0.6666666666666666,
                            "#ed7953"
                          ],
                          [
                            0.7777777777777778,
                            "#fb9f3a"
                          ],
                          [
                            0.8888888888888888,
                            "#fdca26"
                          ],
                          [
                            1,
                            "#f0f921"
                          ]
                        ],
                        "type": "contour"
                      }
                    ],
                    "contourcarpet": [
                      {
                        "colorbar": {
                          "outlinewidth": 0,
                          "ticks": ""
                        },
                        "type": "contourcarpet"
                      }
                    ],
                    "heatmap": [
                      {
                        "colorbar": {
                          "outlinewidth": 0,
                          "ticks": ""
                        },
                        "colorscale": [
                          [
                            0,
                            "#0d0887"
                          ],
                          [
                            0.1111111111111111,
                            "#46039f"
                          ],
                          [
                            0.2222222222222222,
                            "#7201a8"
                          ],
                          [
                            0.3333333333333333,
                            "#9c179e"
                          ],
                          [
                            0.4444444444444444,
                            "#bd3786"
                          ],
                          [
                            0.5555555555555556,
                            "#d8576b"
                          ],
                          [
                            0.6666666666666666,
                            "#ed7953"
                          ],
                          [
                            0.7777777777777778,
                            "#fb9f3a"
                          ],
                          [
                            0.8888888888888888,
                            "#fdca26"
                          ],
                          [
                            1,
                            "#f0f921"
                          ]
                        ],
                        "type": "heatmap"
                      }
                    ],
                    "heatmapgl": [
                      {
                        "colorbar": {
                          "outlinewidth": 0,
                          "ticks": ""
                        },
                        "colorscale": [
                          [
                            0,
                            "#0d0887"
                          ],
                          [
                            0.1111111111111111,
                            "#46039f"
                          ],
                          [
                            0.2222222222222222,
                            "#7201a8"
                          ],
                          [
                            0.3333333333333333,
                            "#9c179e"
                          ],
                          [
                            0.4444444444444444,
                            "#bd3786"
                          ],
                          [
                            0.5555555555555556,
                            "#d8576b"
                          ],
                          [
                            0.6666666666666666,
                            "#ed7953"
                          ],
                          [
                            0.7777777777777778,
                            "#fb9f3a"
                          ],
                          [
                            0.8888888888888888,
                            "#fdca26"
                          ],
                          [
                            1,
                            "#f0f921"
                          ]
                        ],
                        "type": "heatmapgl"
                      }
                    ],
                    "histogram": [
                      {
                        "marker": {
                          "pattern": {
                            "fillmode": "overlay",
                            "size": 10,
                            "solidity": 0.2
                          }
                        },
                        "type": "histogram"
                      }
                    ],
                    "histogram2d": [
                      {
                        "colorbar": {
                          "outlinewidth": 0,
                          "ticks": ""
                        },
                        "colorscale": [
                          [
                            0,
                            "#0d0887"
                          ],
                          [
                            0.1111111111111111,
                            "#46039f"
                          ],
                          [
                            0.2222222222222222,
                            "#7201a8"
                          ],
                          [
                            0.3333333333333333,
                            "#9c179e"
                          ],
                          [
                            0.4444444444444444,
                            "#bd3786"
                          ],
                          [
                            0.5555555555555556,
                            "#d8576b"
                          ],
                          [
                            0.6666666666666666,
                            "#ed7953"
                          ],
                          [
                            0.7777777777777778,
                            "#fb9f3a"
                          ],
                          [
                            0.8888888888888888,
                            "#fdca26"
                          ],
                          [
                            1,
                            "#f0f921"
                          ]
                        ],
                        "type": "histogram2d"
                      }
                    ],
                    "histogram2dcontour": [
                      {
                        "colorbar": {
                          "outlinewidth": 0,
                          "ticks": ""
                        },
                        "colorscale": [
                          [
                            0,
                            "#0d0887"
                          ],
                          [
                            0.1111111111111111,
                            "#46039f"
                          ],
                          [
                            0.2222222222222222,
                            "#7201a8"
                          ],
                          [
                            0.3333333333333333,
                            "#9c179e"
                          ],
                          [
                            0.4444444444444444,
                            "#bd3786"
                          ],
                          [
                            0.5555555555555556,
                            "#d8576b"
                          ],
                          [
                            0.6666666666666666,
                            "#ed7953"
                          ],
                          [
                            0.7777777777777778,
                            "#fb9f3a"
                          ],
                          [
                            0.8888888888888888,
                            "#fdca26"
                          ],
                          [
                            1,
                            "#f0f921"
                          ]
                        ],
                        "type": "histogram2dcontour"
                      }
                    ],
                    "mesh3d": [
                      {
                        "colorbar": {
                          "outlinewidth": 0,
                          "ticks": ""
                        },
                        "type": "mesh3d"
                      }
                    ],
                    "parcoords": [
                      {
                        "line": {
                          "colorbar": {
                            "outlinewidth": 0,
                            "ticks": ""
                          }
                        },
                        "type": "parcoords"
                      }
                    ],
                    "pie": [
                      {
                        "automargin": true,
                        "type": "pie"
                      }
                    ],
                    "scatter": [
                      {
                        "marker": {
                          "line": {
                            "color": "#283442"
                          }
                        },
                        "type": "scatter"
                      }
                    ],
                    "scatter3d": [
                      {
                        "line": {
                          "colorbar": {
                            "outlinewidth": 0,
                            "ticks": ""
                          }
                        },
                        "marker": {
                          "colorbar": {
                            "outlinewidth": 0,
                            "ticks": ""
                          }
                        },
                        "type": "scatter3d"
                      }
                    ],
                    "scattercarpet": [
                      {
                        "marker": {
                          "colorbar": {
                            "outlinewidth": 0,
                            "ticks": ""
                          }
                        },
                        "type": "scattercarpet"
                      }
                    ],
                    "scattergeo": [
                      {
                        "marker": {
                          "colorbar": {
                            "outlinewidth": 0,
                            "ticks": ""
                          }
                        },
                        "type": "scattergeo"
                      }
                    ],
                    "scattergl": [
                      {
                        "marker": {
                          "line": {
                            "color": "#283442"
                          }
                        },
                        "type": "scattergl"
                      }
                    ],
                    "scattermapbox": [
                      {
                        "marker": {
                          "colorbar": {
                            "outlinewidth": 0,
                            "ticks": ""
                          }
                        },
                        "type": "scattermapbox"
                      }
                    ],
                    "scatterpolar": [
                      {
                        "marker": {
                          "colorbar": {
                            "outlinewidth": 0,
                            "ticks": ""
                          }
                        },
                        "type": "scatterpolar"
                      }
                    ],
                    "scatterpolargl": [
                      {
                        "marker": {
                          "colorbar": {
                            "outlinewidth": 0,
                            "ticks": ""
                          }
                        },
                        "type": "scatterpolargl"
                      }
                    ],
                    "scatterternary": [
                      {
                        "marker": {
                          "colorbar": {
                            "outlinewidth": 0,
                            "ticks": ""
                          }
                        },
                        "type": "scatterternary"
                      }
                    ],
                    "surface": [
                      {
                        "colorbar": {
                          "outlinewidth": 0,
                          "ticks": ""
                        },
                        "colorscale": [
                          [
                            0,
                            "#0d0887"
                          ],
                          [
                            0.1111111111111111,
                            "#46039f"
                          ],
                          [
                            0.2222222222222222,
                            "#7201a8"
                          ],
                          [
                            0.3333333333333333,
                            "#9c179e"
                          ],
                          [
                            0.4444444444444444,
                            "#bd3786"
                          ],
                          [
                            0.5555555555555556,
                            "#d8576b"
                          ],
                          [
                            0.6666666666666666,
                            "#ed7953"
                          ],
                          [
                            0.7777777777777778,
                            "#fb9f3a"
                          ],
                          [
                            0.8888888888888888,
                            "#fdca26"
                          ],
                          [
                            1,
                            "#f0f921"
                          ]
                        ],
                        "type": "surface"
                      }
                    ],
                    "table": [
                      {
                        "cells": {
                          "fill": {
                            "color": "#506784"
                          },
                          "line": {
                            "color": "rgb(17,17,17)"
                          }
                        },
                        "header": {
                          "fill": {
                            "color": "#2a3f5f"
                          },
                          "line": {
                            "color": "rgb(17,17,17)"
                          }
                        },
                        "type": "table"
                      }
                    ]
                  },
                  "layout": {
                    "annotationdefaults": {
                      "arrowcolor": "#f2f5fa",
                      "arrowhead": 0,
                      "arrowwidth": 1
                    },
                    "autotypenumbers": "strict",
                    "coloraxis": {
                      "colorbar": {
                        "outlinewidth": 0,
                        "ticks": ""
                      }
                    },
                    "colorscale": {
                      "diverging": [
                        [
                          0,
                          "#8e0152"
                        ],
                        [
                          0.1,
                          "#c51b7d"
                        ],
                        [
                          0.2,
                          "#de77ae"
                        ],
                        [
                          0.3,
                          "#f1b6da"
                        ],
                        [
                          0.4,
                          "#fde0ef"
                        ],
                        [
                          0.5,
                          "#f7f7f7"
                        ],
                        [
                          0.6,
                          "#e6f5d0"
                        ],
                        [
                          0.7,
                          "#b8e186"
                        ],
                        [
                          0.8,
                          "#7fbc41"
                        ],
                        [
                          0.9,
                          "#4d9221"
                        ],
                        [
                          1,
                          "#276419"
                        ]
                      ],
                      "sequential": [
                        [
                          0,
                          "#0d0887"
                        ],
                        [
                          0.1111111111111111,
                          "#46039f"
                        ],
                        [
                          0.2222222222222222,
                          "#7201a8"
                        ],
                        [
                          0.3333333333333333,
                          "#9c179e"
                        ],
                        [
                          0.4444444444444444,
                          "#bd3786"
                        ],
                        [
                          0.5555555555555556,
                          "#d8576b"
                        ],
                        [
                          0.6666666666666666,
                          "#ed7953"
                        ],
                        [
                          0.7777777777777778,
                          "#fb9f3a"
                        ],
                        [
                          0.8888888888888888,
                          "#fdca26"
                        ],
                        [
                          1,
                          "#f0f921"
                        ]
                      ],
                      "sequentialminus": [
                        [
                          0,
                          "#0d0887"
                        ],
                        [
                          0.1111111111111111,
                          "#46039f"
                        ],
                        [
                          0.2222222222222222,
                          "#7201a8"
                        ],
                        [
                          0.3333333333333333,
                          "#9c179e"
                        ],
                        [
                          0.4444444444444444,
                          "#bd3786"
                        ],
                        [
                          0.5555555555555556,
                          "#d8576b"
                        ],
                        [
                          0.6666666666666666,
                          "#ed7953"
                        ],
                        [
                          0.7777777777777778,
                          "#fb9f3a"
                        ],
                        [
                          0.8888888888888888,
                          "#fdca26"
                        ],
                        [
                          1,
                          "#f0f921"
                        ]
                      ]
                    },
                    "colorway": [
                      "#636efa",
                      "#EF553B",
                      "#00cc96",
                      "#ab63fa",
                      "#FFA15A",
                      "#19d3f3",
                      "#FF6692",
                      "#B6E880",
                      "#FF97FF",
                      "#FECB52"
                    ],
                    "font": {
                      "color": "#f2f5fa"
                    },
                    "geo": {
                      "bgcolor": "rgb(17,17,17)",
                      "lakecolor": "rgb(17,17,17)",
                      "landcolor": "rgb(17,17,17)",
                      "showlakes": true,
                      "showland": true,
                      "subunitcolor": "#506784"
                    },
                    "hoverlabel": {
                      "align": "left"
                    },
                    "hovermode": "closest",
                    "mapbox": {
                      "style": "dark"
                    },
                    "paper_bgcolor": "rgb(17,17,17)",
                    "plot_bgcolor": "rgb(17,17,17)",
                    "polar": {
                      "angularaxis": {
                        "gridcolor": "#506784",
                        "linecolor": "#506784",
                        "ticks": ""
                      },
                      "bgcolor": "rgb(17,17,17)",
                      "radialaxis": {
                        "gridcolor": "#506784",
                        "linecolor": "#506784",
                        "ticks": ""
                      }
                    },
                    "scene": {
                      "xaxis": {
                        "backgroundcolor": "rgb(17,17,17)",
                        "gridcolor": "#506784",
                        "gridwidth": 2,
                        "linecolor": "#506784",
                        "showbackground": true,
                        "ticks": "",
                        "zerolinecolor": "#C8D4E3"
                      },
                      "yaxis": {
                        "backgroundcolor": "rgb(17,17,17)",
                        "gridcolor": "#506784",
                        "gridwidth": 2,
                        "linecolor": "#506784",
                        "showbackground": true,
                        "ticks": "",
                        "zerolinecolor": "#C8D4E3"
                      },
                      "zaxis": {
                        "backgroundcolor": "rgb(17,17,17)",
                        "gridcolor": "#506784",
                        "gridwidth": 2,
                        "linecolor": "#506784",
                        "showbackground": true,
                        "ticks": "",
                        "zerolinecolor": "#C8D4E3"
                      }
                    },
                    "shapedefaults": {
                      "line": {
                        "color": "#f2f5fa"
                      }
                    },
                    "sliderdefaults": {
                      "bgcolor": "#C8D4E3",
                      "bordercolor": "rgb(17,17,17)",
                      "borderwidth": 1,
                      "tickwidth": 0
                    },
                    "ternary": {
                      "aaxis": {
                        "gridcolor": "#506784",
                        "linecolor": "#506784",
                        "ticks": ""
                      },
                      "baxis": {
                        "gridcolor": "#506784",
                        "linecolor": "#506784",
                        "ticks": ""
                      },
                      "bgcolor": "rgb(17,17,17)",
                      "caxis": {
                        "gridcolor": "#506784",
                        "linecolor": "#506784",
                        "ticks": ""
                      }
                    },
                    "title": {
                      "x": 0.05
                    },
                    "updatemenudefaults": {
                      "bgcolor": "#506784",
                      "borderwidth": 0
                    },
                    "xaxis": {
                      "automargin": true,
                      "gridcolor": "#283442",
                      "linecolor": "#506784",
                      "ticks": "",
                      "title": {
                        "standoff": 15
                      },
                      "zerolinecolor": "#283442",
                      "zerolinewidth": 2
                    },
                    "yaxis": {
                      "automargin": true,
                      "gridcolor": "#283442",
                      "linecolor": "#506784",
                      "ticks": "",
                      "title": {
                        "standoff": 15
                      },
                      "zerolinecolor": "#283442",
                      "zerolinewidth": 2
                    }
                  }
                },
                "title": {
                  "text": "CO2 Emissions  Per unit energy vs Time"
                },
                "xaxis": {
                  "anchor": "y",
                  "domain": [
                    0,
                    1
                  ],
                  "title": {
                    "text": "Year"
                  }
                },
                "yaxis": {
                  "anchor": "x",
                  "domain": [
                    0,
                    1
                  ],
                  "title": {
                    "text": "CO2 Per unit energy"
                  }
                }
              }
            }
          },
          "metadata": {},
          "output_type": "display_data"
        }
      ],
      "source": [
        "time_df = co2_df[co2_df['country'].isin(['Europe (excl. EU-28)','Qatar','Africa','Iraq','United Arab Emirates','','United Kingdom', 'United States', 'China', 'India', 'Russia','World'])]\n",
        "\n",
        "\n",
        "time_df = time_df[['co2_per_unit_energy', 'year', 'country']]\n",
        "\n",
        "\n",
        "\n",
        "time_df = time_df.sort_values(\"year\")\n",
        "time_df = time_df[time_df['year'] > 1960]\n",
        "\n",
        "#time_df\n",
        "fig = px.line(time_df, x='year', y = 'co2_per_unit_energy', color='country', title='CO2 Emissions  Per unit energy vs Time')\n",
        "fig.update_layout(xaxis_title=\"Year\", template=\"plotly_dark\",yaxis_title=\"CO2 Per unit energy\", legend_title='Countries')\n",
        "fig.show()"
      ]
    },
    {
      "cell_type": "code",
      "execution_count": 67,
      "metadata": {
        "colab": {
          "base_uri": "https://localhost:8080/",
          "height": 0
        },
        "id": "8QfW8Qvm21LA",
        "outputId": "ce4a3d67-548d-4851-c0b7-b8def2c20036"
      },
      "outputs": [
        {
          "data": {
            "application/vnd.plotly.v1+json": {
              "config": {
                "plotlyServerURL": "https://plot.ly"
              },
              "data": [
                {
                  "hovertemplate": "country=United Kingdom<br>year=%{x}<br>co2_per_unit_energy=%{y}<extra></extra>",
                  "legendgroup": "United Kingdom",
                  "line": {
                    "color": "#636efa",
                    "dash": "solid"
                  },
                  "marker": {
                    "symbol": "circle"
                  },
                  "mode": "lines",
                  "name": "United Kingdom",
                  "orientation": "v",
                  "showlegend": true,
                  "type": "scatter",
                  "x": [
                    2001,
                    2002,
                    2003,
                    2004,
                    2005,
                    2006,
                    2007,
                    2008,
                    2009,
                    2010,
                    2011,
                    2012,
                    2013,
                    2014,
                    2015,
                    2016,
                    2017,
                    2018,
                    2019,
                    2020
                  ],
                  "xaxis": "x",
                  "y": [
                    0.214,
                    0.213,
                    0.214,
                    0.214,
                    0.21,
                    0.212,
                    0.215,
                    0.214,
                    0.204,
                    0.20600000000000002,
                    0.2,
                    0.205,
                    0.20199999999999999,
                    0.19699999999999998,
                    0.188,
                    0.179,
                    0.175,
                    0.17300000000000001,
                    0.16899999999999998,
                    null
                  ],
                  "yaxis": "y"
                },
                {
                  "hovertemplate": "country=United States<br>year=%{x}<br>co2_per_unit_energy=%{y}<extra></extra>",
                  "legendgroup": "United States",
                  "line": {
                    "color": "#EF553B",
                    "dash": "solid"
                  },
                  "marker": {
                    "symbol": "circle"
                  },
                  "mode": "lines",
                  "name": "United States",
                  "orientation": "v",
                  "showlegend": true,
                  "type": "scatter",
                  "x": [
                    2001,
                    2002,
                    2003,
                    2004,
                    2005,
                    2006,
                    2007,
                    2008,
                    2009,
                    2010,
                    2011,
                    2012,
                    2013,
                    2014,
                    2015,
                    2016,
                    2017,
                    2018,
                    2019,
                    2020
                  ],
                  "xaxis": "x",
                  "y": [
                    0.22899999999999998,
                    0.22699999999999998,
                    0.22899999999999998,
                    0.228,
                    0.22899999999999998,
                    0.228,
                    0.228,
                    0.225,
                    0.21899999999999997,
                    0.22,
                    0.217,
                    0.214,
                    0.214,
                    0.214,
                    0.21,
                    0.205,
                    0.203,
                    0.20199999999999999,
                    0.2,
                    null
                  ],
                  "yaxis": "y"
                },
                {
                  "hovertemplate": "country=Iraq<br>year=%{x}<br>co2_per_unit_energy=%{y}<extra></extra>",
                  "legendgroup": "Iraq",
                  "line": {
                    "color": "#00cc96",
                    "dash": "solid"
                  },
                  "marker": {
                    "symbol": "circle"
                  },
                  "mode": "lines",
                  "name": "Iraq",
                  "orientation": "v",
                  "showlegend": true,
                  "type": "scatter",
                  "x": [
                    2001,
                    2002,
                    2003,
                    2004,
                    2005,
                    2006,
                    2007,
                    2008,
                    2009,
                    2010,
                    2011,
                    2012,
                    2013,
                    2014,
                    2015,
                    2016,
                    2017,
                    2018,
                    2019,
                    2020
                  ],
                  "xaxis": "x",
                  "y": [
                    0.25,
                    0.27,
                    0.307,
                    0.36,
                    0.373,
                    0.317,
                    0.187,
                    0.27,
                    0.272,
                    0.273,
                    0.317,
                    0.337,
                    0.335,
                    0.353,
                    0.355,
                    0.361,
                    0.39799999999999996,
                    0.38,
                    0.36,
                    null
                  ],
                  "yaxis": "y"
                },
                {
                  "hovertemplate": "country=Africa<br>year=%{x}<br>co2_per_unit_energy=%{y}<extra></extra>",
                  "legendgroup": "Africa",
                  "line": {
                    "color": "#ab63fa",
                    "dash": "solid"
                  },
                  "marker": {
                    "symbol": "circle"
                  },
                  "mode": "lines",
                  "name": "Africa",
                  "orientation": "v",
                  "showlegend": true,
                  "type": "scatter",
                  "x": [
                    2001,
                    2002,
                    2003,
                    2004,
                    2005,
                    2006,
                    2007,
                    2008,
                    2009,
                    2010,
                    2011,
                    2012,
                    2013,
                    2014,
                    2015,
                    2016,
                    2017,
                    2018,
                    2019,
                    2020
                  ],
                  "xaxis": "x",
                  "y": [
                    0.264,
                    0.264,
                    0.272,
                    0.275,
                    0.275,
                    0.27899999999999997,
                    0.282,
                    0.27399999999999997,
                    0.27699999999999997,
                    0.27,
                    0.27399999999999997,
                    0.262,
                    0.258,
                    0.268,
                    0.258,
                    0.253,
                    0.409,
                    0.39899999999999997,
                    0.397,
                    null
                  ],
                  "yaxis": "y"
                },
                {
                  "hovertemplate": "country=Qatar<br>year=%{x}<br>co2_per_unit_energy=%{y}<extra></extra>",
                  "legendgroup": "Qatar",
                  "line": {
                    "color": "#FFA15A",
                    "dash": "solid"
                  },
                  "marker": {
                    "symbol": "circle"
                  },
                  "mode": "lines",
                  "name": "Qatar",
                  "orientation": "v",
                  "showlegend": true,
                  "type": "scatter",
                  "x": [
                    2001,
                    2002,
                    2003,
                    2004,
                    2005,
                    2006,
                    2007,
                    2008,
                    2009,
                    2010,
                    2011,
                    2012,
                    2013,
                    2014,
                    2015,
                    2016,
                    2017,
                    2018,
                    2019,
                    2020
                  ],
                  "xaxis": "x",
                  "y": [
                    0.315,
                    0.275,
                    0.248,
                    0.21899999999999997,
                    0.226,
                    0.267,
                    0.243,
                    0.225,
                    0.23800000000000002,
                    0.214,
                    0.205,
                    0.209,
                    0.174,
                    0.177,
                    0.158,
                    0.16,
                    0.187,
                    0.193,
                    0.205,
                    null
                  ],
                  "yaxis": "y"
                },
                {
                  "hovertemplate": "country=China<br>year=%{x}<br>co2_per_unit_energy=%{y}<extra></extra>",
                  "legendgroup": "China",
                  "line": {
                    "color": "#19d3f3",
                    "dash": "solid"
                  },
                  "marker": {
                    "symbol": "circle"
                  },
                  "mode": "lines",
                  "name": "China",
                  "orientation": "v",
                  "showlegend": true,
                  "type": "scatter",
                  "x": [
                    2001,
                    2002,
                    2003,
                    2004,
                    2005,
                    2006,
                    2007,
                    2008,
                    2009,
                    2010,
                    2011,
                    2012,
                    2013,
                    2014,
                    2015,
                    2016,
                    2017,
                    2018,
                    2019,
                    2020
                  ],
                  "xaxis": "x",
                  "y": [
                    0.282,
                    0.285,
                    0.28800000000000003,
                    0.28300000000000003,
                    0.28,
                    0.282,
                    0.27899999999999997,
                    0.289,
                    0.29100000000000004,
                    0.298,
                    0.305,
                    0.301,
                    0.295,
                    0.289,
                    0.28300000000000003,
                    0.276,
                    0.273,
                    0.273,
                    0.266,
                    null
                  ],
                  "yaxis": "y"
                },
                {
                  "hovertemplate": "country=Russia<br>year=%{x}<br>co2_per_unit_energy=%{y}<extra></extra>",
                  "legendgroup": "Russia",
                  "line": {
                    "color": "#FF6692",
                    "dash": "solid"
                  },
                  "marker": {
                    "symbol": "circle"
                  },
                  "mode": "lines",
                  "name": "Russia",
                  "orientation": "v",
                  "showlegend": true,
                  "type": "scatter",
                  "x": [
                    2001,
                    2002,
                    2003,
                    2004,
                    2005,
                    2006,
                    2007,
                    2008,
                    2009,
                    2010,
                    2011,
                    2012,
                    2013,
                    2014,
                    2015,
                    2016,
                    2017,
                    2018,
                    2019,
                    2020
                  ],
                  "xaxis": "x",
                  "y": [
                    0.207,
                    0.20600000000000002,
                    0.20600000000000002,
                    0.205,
                    0.207,
                    0.20600000000000002,
                    0.205,
                    0.20800000000000002,
                    0.204,
                    0.207,
                    0.207,
                    0.209,
                    0.204,
                    0.204,
                    0.20800000000000002,
                    0.203,
                    0.205,
                    0.203,
                    0.203,
                    null
                  ],
                  "yaxis": "y"
                },
                {
                  "hovertemplate": "country=United Arab Emirates<br>year=%{x}<br>co2_per_unit_energy=%{y}<extra></extra>",
                  "legendgroup": "United Arab Emirates",
                  "line": {
                    "color": "#B6E880",
                    "dash": "solid"
                  },
                  "marker": {
                    "symbol": "circle"
                  },
                  "mode": "lines",
                  "name": "United Arab Emirates",
                  "orientation": "v",
                  "showlegend": true,
                  "type": "scatter",
                  "x": [
                    2001,
                    2002,
                    2003,
                    2004,
                    2005,
                    2006,
                    2007,
                    2008,
                    2009,
                    2010,
                    2011,
                    2012,
                    2013,
                    2014,
                    2015,
                    2016,
                    2017,
                    2018,
                    2019,
                    2020
                  ],
                  "xaxis": "x",
                  "y": [
                    0.185,
                    0.141,
                    0.166,
                    0.165,
                    0.162,
                    0.163,
                    0.162,
                    0.16399999999999998,
                    0.17800000000000002,
                    0.185,
                    0.188,
                    0.187,
                    0.18100000000000002,
                    0.17800000000000002,
                    0.174,
                    0.166,
                    0.129,
                    0.11599999999999999,
                    0.115,
                    null
                  ],
                  "yaxis": "y"
                },
                {
                  "hovertemplate": "country=Europe (excl. EU-28)<br>year=%{x}<br>co2_per_unit_energy=%{y}<extra></extra>",
                  "legendgroup": "Europe (excl. EU-28)",
                  "line": {
                    "color": "#FF97FF",
                    "dash": "solid"
                  },
                  "marker": {
                    "symbol": "circle"
                  },
                  "mode": "lines",
                  "name": "Europe (excl. EU-28)",
                  "orientation": "v",
                  "showlegend": true,
                  "type": "scatter",
                  "x": [
                    2001,
                    2002,
                    2003,
                    2004,
                    2005,
                    2006,
                    2007,
                    2008,
                    2009,
                    2010,
                    2011,
                    2012,
                    2013,
                    2014,
                    2015,
                    2016,
                    2017,
                    2018,
                    2019,
                    2020
                  ],
                  "xaxis": "x",
                  "y": [
                    0.19699999999999998,
                    0.195,
                    0.198,
                    0.198,
                    0.198,
                    0.2,
                    0.19899999999999998,
                    0.201,
                    0.19699999999999998,
                    0.2,
                    0.201,
                    0.2,
                    0.198,
                    0.196,
                    0.2,
                    0.19699999999999998,
                    0.207,
                    0.205,
                    0.20600000000000002,
                    null
                  ],
                  "yaxis": "y"
                },
                {
                  "hovertemplate": "country=India<br>year=%{x}<br>co2_per_unit_energy=%{y}<extra></extra>",
                  "legendgroup": "India",
                  "line": {
                    "color": "#FECB52",
                    "dash": "solid"
                  },
                  "marker": {
                    "symbol": "circle"
                  },
                  "mode": "lines",
                  "name": "India",
                  "orientation": "v",
                  "showlegend": true,
                  "type": "scatter",
                  "x": [
                    2001,
                    2002,
                    2003,
                    2004,
                    2005,
                    2006,
                    2007,
                    2008,
                    2009,
                    2010,
                    2011,
                    2012,
                    2013,
                    2014,
                    2015,
                    2016,
                    2017,
                    2018,
                    2019,
                    2020
                  ],
                  "xaxis": "x",
                  "y": [
                    0.266,
                    0.262,
                    0.262,
                    0.259,
                    0.258,
                    0.26,
                    0.258,
                    0.263,
                    0.27,
                    0.268,
                    0.268,
                    0.282,
                    0.281,
                    0.282,
                    0.284,
                    0.285,
                    0.28,
                    0.281,
                    0.278,
                    null
                  ],
                  "yaxis": "y"
                },
                {
                  "hovertemplate": "country=World<br>year=%{x}<br>co2_per_unit_energy=%{y}<extra></extra>",
                  "legendgroup": "World",
                  "line": {
                    "color": "#636efa",
                    "dash": "solid"
                  },
                  "marker": {
                    "symbol": "circle"
                  },
                  "mode": "lines",
                  "name": "World",
                  "orientation": "v",
                  "showlegend": true,
                  "type": "scatter",
                  "x": [
                    2001,
                    2002,
                    2003,
                    2004,
                    2005,
                    2006,
                    2007,
                    2008,
                    2009,
                    2010,
                    2011,
                    2012,
                    2013,
                    2014,
                    2015,
                    2016,
                    2017,
                    2018,
                    2019,
                    2020
                  ],
                  "xaxis": "x",
                  "y": [
                    0.23,
                    0.23,
                    0.23399999999999999,
                    0.233,
                    0.233,
                    0.23399999999999999,
                    0.23399999999999999,
                    0.23600000000000002,
                    0.23600000000000002,
                    0.237,
                    0.239,
                    0.24,
                    0.23800000000000002,
                    0.237,
                    0.235,
                    0.23199999999999998,
                    0.231,
                    0.22899999999999998,
                    0.226,
                    null
                  ],
                  "yaxis": "y"
                }
              ],
              "layout": {
                "legend": {
                  "title": {
                    "text": "Countries"
                  },
                  "tracegroupgap": 0
                },
                "template": {
                  "data": {
                    "bar": [
                      {
                        "error_x": {
                          "color": "#f2f5fa"
                        },
                        "error_y": {
                          "color": "#f2f5fa"
                        },
                        "marker": {
                          "line": {
                            "color": "rgb(17,17,17)",
                            "width": 0.5
                          },
                          "pattern": {
                            "fillmode": "overlay",
                            "size": 10,
                            "solidity": 0.2
                          }
                        },
                        "type": "bar"
                      }
                    ],
                    "barpolar": [
                      {
                        "marker": {
                          "line": {
                            "color": "rgb(17,17,17)",
                            "width": 0.5
                          },
                          "pattern": {
                            "fillmode": "overlay",
                            "size": 10,
                            "solidity": 0.2
                          }
                        },
                        "type": "barpolar"
                      }
                    ],
                    "carpet": [
                      {
                        "aaxis": {
                          "endlinecolor": "#A2B1C6",
                          "gridcolor": "#506784",
                          "linecolor": "#506784",
                          "minorgridcolor": "#506784",
                          "startlinecolor": "#A2B1C6"
                        },
                        "baxis": {
                          "endlinecolor": "#A2B1C6",
                          "gridcolor": "#506784",
                          "linecolor": "#506784",
                          "minorgridcolor": "#506784",
                          "startlinecolor": "#A2B1C6"
                        },
                        "type": "carpet"
                      }
                    ],
                    "choropleth": [
                      {
                        "colorbar": {
                          "outlinewidth": 0,
                          "ticks": ""
                        },
                        "type": "choropleth"
                      }
                    ],
                    "contour": [
                      {
                        "colorbar": {
                          "outlinewidth": 0,
                          "ticks": ""
                        },
                        "colorscale": [
                          [
                            0,
                            "#0d0887"
                          ],
                          [
                            0.1111111111111111,
                            "#46039f"
                          ],
                          [
                            0.2222222222222222,
                            "#7201a8"
                          ],
                          [
                            0.3333333333333333,
                            "#9c179e"
                          ],
                          [
                            0.4444444444444444,
                            "#bd3786"
                          ],
                          [
                            0.5555555555555556,
                            "#d8576b"
                          ],
                          [
                            0.6666666666666666,
                            "#ed7953"
                          ],
                          [
                            0.7777777777777778,
                            "#fb9f3a"
                          ],
                          [
                            0.8888888888888888,
                            "#fdca26"
                          ],
                          [
                            1,
                            "#f0f921"
                          ]
                        ],
                        "type": "contour"
                      }
                    ],
                    "contourcarpet": [
                      {
                        "colorbar": {
                          "outlinewidth": 0,
                          "ticks": ""
                        },
                        "type": "contourcarpet"
                      }
                    ],
                    "heatmap": [
                      {
                        "colorbar": {
                          "outlinewidth": 0,
                          "ticks": ""
                        },
                        "colorscale": [
                          [
                            0,
                            "#0d0887"
                          ],
                          [
                            0.1111111111111111,
                            "#46039f"
                          ],
                          [
                            0.2222222222222222,
                            "#7201a8"
                          ],
                          [
                            0.3333333333333333,
                            "#9c179e"
                          ],
                          [
                            0.4444444444444444,
                            "#bd3786"
                          ],
                          [
                            0.5555555555555556,
                            "#d8576b"
                          ],
                          [
                            0.6666666666666666,
                            "#ed7953"
                          ],
                          [
                            0.7777777777777778,
                            "#fb9f3a"
                          ],
                          [
                            0.8888888888888888,
                            "#fdca26"
                          ],
                          [
                            1,
                            "#f0f921"
                          ]
                        ],
                        "type": "heatmap"
                      }
                    ],
                    "heatmapgl": [
                      {
                        "colorbar": {
                          "outlinewidth": 0,
                          "ticks": ""
                        },
                        "colorscale": [
                          [
                            0,
                            "#0d0887"
                          ],
                          [
                            0.1111111111111111,
                            "#46039f"
                          ],
                          [
                            0.2222222222222222,
                            "#7201a8"
                          ],
                          [
                            0.3333333333333333,
                            "#9c179e"
                          ],
                          [
                            0.4444444444444444,
                            "#bd3786"
                          ],
                          [
                            0.5555555555555556,
                            "#d8576b"
                          ],
                          [
                            0.6666666666666666,
                            "#ed7953"
                          ],
                          [
                            0.7777777777777778,
                            "#fb9f3a"
                          ],
                          [
                            0.8888888888888888,
                            "#fdca26"
                          ],
                          [
                            1,
                            "#f0f921"
                          ]
                        ],
                        "type": "heatmapgl"
                      }
                    ],
                    "histogram": [
                      {
                        "marker": {
                          "pattern": {
                            "fillmode": "overlay",
                            "size": 10,
                            "solidity": 0.2
                          }
                        },
                        "type": "histogram"
                      }
                    ],
                    "histogram2d": [
                      {
                        "colorbar": {
                          "outlinewidth": 0,
                          "ticks": ""
                        },
                        "colorscale": [
                          [
                            0,
                            "#0d0887"
                          ],
                          [
                            0.1111111111111111,
                            "#46039f"
                          ],
                          [
                            0.2222222222222222,
                            "#7201a8"
                          ],
                          [
                            0.3333333333333333,
                            "#9c179e"
                          ],
                          [
                            0.4444444444444444,
                            "#bd3786"
                          ],
                          [
                            0.5555555555555556,
                            "#d8576b"
                          ],
                          [
                            0.6666666666666666,
                            "#ed7953"
                          ],
                          [
                            0.7777777777777778,
                            "#fb9f3a"
                          ],
                          [
                            0.8888888888888888,
                            "#fdca26"
                          ],
                          [
                            1,
                            "#f0f921"
                          ]
                        ],
                        "type": "histogram2d"
                      }
                    ],
                    "histogram2dcontour": [
                      {
                        "colorbar": {
                          "outlinewidth": 0,
                          "ticks": ""
                        },
                        "colorscale": [
                          [
                            0,
                            "#0d0887"
                          ],
                          [
                            0.1111111111111111,
                            "#46039f"
                          ],
                          [
                            0.2222222222222222,
                            "#7201a8"
                          ],
                          [
                            0.3333333333333333,
                            "#9c179e"
                          ],
                          [
                            0.4444444444444444,
                            "#bd3786"
                          ],
                          [
                            0.5555555555555556,
                            "#d8576b"
                          ],
                          [
                            0.6666666666666666,
                            "#ed7953"
                          ],
                          [
                            0.7777777777777778,
                            "#fb9f3a"
                          ],
                          [
                            0.8888888888888888,
                            "#fdca26"
                          ],
                          [
                            1,
                            "#f0f921"
                          ]
                        ],
                        "type": "histogram2dcontour"
                      }
                    ],
                    "mesh3d": [
                      {
                        "colorbar": {
                          "outlinewidth": 0,
                          "ticks": ""
                        },
                        "type": "mesh3d"
                      }
                    ],
                    "parcoords": [
                      {
                        "line": {
                          "colorbar": {
                            "outlinewidth": 0,
                            "ticks": ""
                          }
                        },
                        "type": "parcoords"
                      }
                    ],
                    "pie": [
                      {
                        "automargin": true,
                        "type": "pie"
                      }
                    ],
                    "scatter": [
                      {
                        "marker": {
                          "line": {
                            "color": "#283442"
                          }
                        },
                        "type": "scatter"
                      }
                    ],
                    "scatter3d": [
                      {
                        "line": {
                          "colorbar": {
                            "outlinewidth": 0,
                            "ticks": ""
                          }
                        },
                        "marker": {
                          "colorbar": {
                            "outlinewidth": 0,
                            "ticks": ""
                          }
                        },
                        "type": "scatter3d"
                      }
                    ],
                    "scattercarpet": [
                      {
                        "marker": {
                          "colorbar": {
                            "outlinewidth": 0,
                            "ticks": ""
                          }
                        },
                        "type": "scattercarpet"
                      }
                    ],
                    "scattergeo": [
                      {
                        "marker": {
                          "colorbar": {
                            "outlinewidth": 0,
                            "ticks": ""
                          }
                        },
                        "type": "scattergeo"
                      }
                    ],
                    "scattergl": [
                      {
                        "marker": {
                          "line": {
                            "color": "#283442"
                          }
                        },
                        "type": "scattergl"
                      }
                    ],
                    "scattermapbox": [
                      {
                        "marker": {
                          "colorbar": {
                            "outlinewidth": 0,
                            "ticks": ""
                          }
                        },
                        "type": "scattermapbox"
                      }
                    ],
                    "scatterpolar": [
                      {
                        "marker": {
                          "colorbar": {
                            "outlinewidth": 0,
                            "ticks": ""
                          }
                        },
                        "type": "scatterpolar"
                      }
                    ],
                    "scatterpolargl": [
                      {
                        "marker": {
                          "colorbar": {
                            "outlinewidth": 0,
                            "ticks": ""
                          }
                        },
                        "type": "scatterpolargl"
                      }
                    ],
                    "scatterternary": [
                      {
                        "marker": {
                          "colorbar": {
                            "outlinewidth": 0,
                            "ticks": ""
                          }
                        },
                        "type": "scatterternary"
                      }
                    ],
                    "surface": [
                      {
                        "colorbar": {
                          "outlinewidth": 0,
                          "ticks": ""
                        },
                        "colorscale": [
                          [
                            0,
                            "#0d0887"
                          ],
                          [
                            0.1111111111111111,
                            "#46039f"
                          ],
                          [
                            0.2222222222222222,
                            "#7201a8"
                          ],
                          [
                            0.3333333333333333,
                            "#9c179e"
                          ],
                          [
                            0.4444444444444444,
                            "#bd3786"
                          ],
                          [
                            0.5555555555555556,
                            "#d8576b"
                          ],
                          [
                            0.6666666666666666,
                            "#ed7953"
                          ],
                          [
                            0.7777777777777778,
                            "#fb9f3a"
                          ],
                          [
                            0.8888888888888888,
                            "#fdca26"
                          ],
                          [
                            1,
                            "#f0f921"
                          ]
                        ],
                        "type": "surface"
                      }
                    ],
                    "table": [
                      {
                        "cells": {
                          "fill": {
                            "color": "#506784"
                          },
                          "line": {
                            "color": "rgb(17,17,17)"
                          }
                        },
                        "header": {
                          "fill": {
                            "color": "#2a3f5f"
                          },
                          "line": {
                            "color": "rgb(17,17,17)"
                          }
                        },
                        "type": "table"
                      }
                    ]
                  },
                  "layout": {
                    "annotationdefaults": {
                      "arrowcolor": "#f2f5fa",
                      "arrowhead": 0,
                      "arrowwidth": 1
                    },
                    "autotypenumbers": "strict",
                    "coloraxis": {
                      "colorbar": {
                        "outlinewidth": 0,
                        "ticks": ""
                      }
                    },
                    "colorscale": {
                      "diverging": [
                        [
                          0,
                          "#8e0152"
                        ],
                        [
                          0.1,
                          "#c51b7d"
                        ],
                        [
                          0.2,
                          "#de77ae"
                        ],
                        [
                          0.3,
                          "#f1b6da"
                        ],
                        [
                          0.4,
                          "#fde0ef"
                        ],
                        [
                          0.5,
                          "#f7f7f7"
                        ],
                        [
                          0.6,
                          "#e6f5d0"
                        ],
                        [
                          0.7,
                          "#b8e186"
                        ],
                        [
                          0.8,
                          "#7fbc41"
                        ],
                        [
                          0.9,
                          "#4d9221"
                        ],
                        [
                          1,
                          "#276419"
                        ]
                      ],
                      "sequential": [
                        [
                          0,
                          "#0d0887"
                        ],
                        [
                          0.1111111111111111,
                          "#46039f"
                        ],
                        [
                          0.2222222222222222,
                          "#7201a8"
                        ],
                        [
                          0.3333333333333333,
                          "#9c179e"
                        ],
                        [
                          0.4444444444444444,
                          "#bd3786"
                        ],
                        [
                          0.5555555555555556,
                          "#d8576b"
                        ],
                        [
                          0.6666666666666666,
                          "#ed7953"
                        ],
                        [
                          0.7777777777777778,
                          "#fb9f3a"
                        ],
                        [
                          0.8888888888888888,
                          "#fdca26"
                        ],
                        [
                          1,
                          "#f0f921"
                        ]
                      ],
                      "sequentialminus": [
                        [
                          0,
                          "#0d0887"
                        ],
                        [
                          0.1111111111111111,
                          "#46039f"
                        ],
                        [
                          0.2222222222222222,
                          "#7201a8"
                        ],
                        [
                          0.3333333333333333,
                          "#9c179e"
                        ],
                        [
                          0.4444444444444444,
                          "#bd3786"
                        ],
                        [
                          0.5555555555555556,
                          "#d8576b"
                        ],
                        [
                          0.6666666666666666,
                          "#ed7953"
                        ],
                        [
                          0.7777777777777778,
                          "#fb9f3a"
                        ],
                        [
                          0.8888888888888888,
                          "#fdca26"
                        ],
                        [
                          1,
                          "#f0f921"
                        ]
                      ]
                    },
                    "colorway": [
                      "#636efa",
                      "#EF553B",
                      "#00cc96",
                      "#ab63fa",
                      "#FFA15A",
                      "#19d3f3",
                      "#FF6692",
                      "#B6E880",
                      "#FF97FF",
                      "#FECB52"
                    ],
                    "font": {
                      "color": "#f2f5fa"
                    },
                    "geo": {
                      "bgcolor": "rgb(17,17,17)",
                      "lakecolor": "rgb(17,17,17)",
                      "landcolor": "rgb(17,17,17)",
                      "showlakes": true,
                      "showland": true,
                      "subunitcolor": "#506784"
                    },
                    "hoverlabel": {
                      "align": "left"
                    },
                    "hovermode": "closest",
                    "mapbox": {
                      "style": "dark"
                    },
                    "paper_bgcolor": "rgb(17,17,17)",
                    "plot_bgcolor": "rgb(17,17,17)",
                    "polar": {
                      "angularaxis": {
                        "gridcolor": "#506784",
                        "linecolor": "#506784",
                        "ticks": ""
                      },
                      "bgcolor": "rgb(17,17,17)",
                      "radialaxis": {
                        "gridcolor": "#506784",
                        "linecolor": "#506784",
                        "ticks": ""
                      }
                    },
                    "scene": {
                      "xaxis": {
                        "backgroundcolor": "rgb(17,17,17)",
                        "gridcolor": "#506784",
                        "gridwidth": 2,
                        "linecolor": "#506784",
                        "showbackground": true,
                        "ticks": "",
                        "zerolinecolor": "#C8D4E3"
                      },
                      "yaxis": {
                        "backgroundcolor": "rgb(17,17,17)",
                        "gridcolor": "#506784",
                        "gridwidth": 2,
                        "linecolor": "#506784",
                        "showbackground": true,
                        "ticks": "",
                        "zerolinecolor": "#C8D4E3"
                      },
                      "zaxis": {
                        "backgroundcolor": "rgb(17,17,17)",
                        "gridcolor": "#506784",
                        "gridwidth": 2,
                        "linecolor": "#506784",
                        "showbackground": true,
                        "ticks": "",
                        "zerolinecolor": "#C8D4E3"
                      }
                    },
                    "shapedefaults": {
                      "line": {
                        "color": "#f2f5fa"
                      }
                    },
                    "sliderdefaults": {
                      "bgcolor": "#C8D4E3",
                      "bordercolor": "rgb(17,17,17)",
                      "borderwidth": 1,
                      "tickwidth": 0
                    },
                    "ternary": {
                      "aaxis": {
                        "gridcolor": "#506784",
                        "linecolor": "#506784",
                        "ticks": ""
                      },
                      "baxis": {
                        "gridcolor": "#506784",
                        "linecolor": "#506784",
                        "ticks": ""
                      },
                      "bgcolor": "rgb(17,17,17)",
                      "caxis": {
                        "gridcolor": "#506784",
                        "linecolor": "#506784",
                        "ticks": ""
                      }
                    },
                    "title": {
                      "x": 0.05
                    },
                    "updatemenudefaults": {
                      "bgcolor": "#506784",
                      "borderwidth": 0
                    },
                    "xaxis": {
                      "automargin": true,
                      "gridcolor": "#283442",
                      "linecolor": "#506784",
                      "ticks": "",
                      "title": {
                        "standoff": 15
                      },
                      "zerolinecolor": "#283442",
                      "zerolinewidth": 2
                    },
                    "yaxis": {
                      "automargin": true,
                      "gridcolor": "#283442",
                      "linecolor": "#506784",
                      "ticks": "",
                      "title": {
                        "standoff": 15
                      },
                      "zerolinecolor": "#283442",
                      "zerolinewidth": 2
                    }
                  }
                },
                "title": {
                  "text": "CO2 Emissions  Per unit energy vs Time"
                },
                "xaxis": {
                  "anchor": "y",
                  "domain": [
                    0,
                    1
                  ],
                  "title": {
                    "text": "Year"
                  }
                },
                "yaxis": {
                  "anchor": "x",
                  "domain": [
                    0,
                    1
                  ],
                  "title": {
                    "text": "CO2 Per unit energy"
                  }
                }
              }
            }
          },
          "metadata": {},
          "output_type": "display_data"
        }
      ],
      "source": [
        "time_df = co2_df[co2_df['country'].isin(['Europe (excl. EU-28)','Qatar','Africa','Iraq','United Arab Emirates','','United Kingdom', 'United States', 'China', 'India', 'Russia','World'])]\n",
        "\n",
        "\n",
        "time_df = time_df[['co2_per_unit_energy', 'year', 'country']]\n",
        "\n",
        "\n",
        "\n",
        "time_df = time_df.sort_values(\"year\")\n",
        "time_df = time_df[time_df['year'] > 2000]\n",
        "\n",
        "#time_df\n",
        "fig = px.line(time_df, x='year', y = 'co2_per_unit_energy', color='country', title='CO2 Emissions  Per unit energy vs Time')\n",
        "fig.update_layout(xaxis_title=\"Year\", template=\"plotly_dark\",yaxis_title=\"CO2 Per unit energy\", legend_title='Countries')\n",
        "fig.show()"
      ]
    },
    {
      "cell_type": "markdown",
      "metadata": {},
      "source": [
        "CO2 emissions per unit of energy are annual production-based emissions of CO2, measured in kilograms per kilowatt-hour of primary production. It shows the efficient use of CO2, low being the most efficient system. With the advancement in technology, the CO2 emissions per unit of energy have shown a significant decrease, as we can see in the below visualization. We can also say that more advanced countries like the United States, the UK, and other countries, had significantly fewer emissions per energy than the UAE, Qatar, and Iraq. With more technological ideas shared over the world, most countries could reduce their emissions per energy. In recent times, most countries have had emissions per unit of energy between 0.1 to 0.4. India and Chain have been around 0.25 emissions per unit of energy, whereas UAE reduced it to about 0.1. "
      ]
    }
  ],
  "metadata": {
    "colab": {
      "collapsed_sections": [],
      "name": "writing-assignment.ipynb",
      "provenance": []
    },
    "interpreter": {
      "hash": "3aaf0fd759c7a6fc0e2c9c222dfd9646bd89054fb3e16e8b223af67337ce571a"
    },
    "kernelspec": {
      "display_name": "Python 3.8.2 ('DataScience')",
      "language": "python",
      "name": "python3"
    },
    "language_info": {
      "codemirror_mode": {
        "name": "ipython",
        "version": 3
      },
      "file_extension": ".py",
      "mimetype": "text/x-python",
      "name": "python",
      "nbconvert_exporter": "python",
      "pygments_lexer": "ipython3",
      "version": "3.8.2"
    },
    "orig_nbformat": 4
  },
  "nbformat": 4,
  "nbformat_minor": 0
}
