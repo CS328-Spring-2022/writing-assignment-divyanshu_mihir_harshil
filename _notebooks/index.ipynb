{
  "cells": [
    {
      "cell_type": "markdown",
      "metadata": {
        "id": "_eAGZifHBFMk"
      },
      "source": [
        "<h1><center>Insight into CO2 Emissions</center></h1>\n",
        "<h4><center>\n",
        "<a style=\"text-decoration:none\" href=\"https://author1.github.io/\">Harshil Purohit</a>, IIT Gandhinagar, <a style=\"text-decoration:none\" href=\"mailto:harshil.p>@iitgn.ac.in\">harshil.p@iitgn.ac.in</a>\n",
        "<br><br>\n",
        "<a style=\"text-decoration:none\" href=\"https://author2.github.io/\">Mihir Chauhan</a>, IIT Gandhinagar, <a style=\"text-decoration:none\" href=\"mailto:mihir.hc@iitgn.ac.in\">mihir.hc@iitgn.ac.in</a>\n",
        "<br><br>\n",
        "<a style=\"text-decoration:none\" href=\"https://divyanshu0x16.github.io/\">Divyanshu Meena</a>, IIT Gandhinagar, <a style=\"text-decoration:none\" href=\"mailto:divyanshu.m@iitgn.ac.in\">divyanshu.m@iitgn.ac.in</a>\n",
        "</center></h4>"
      ]
    },
    {
      "cell_type": "markdown",
      "metadata": {
        "id": "yhMkpG1-BFMt"
      },
      "source": [
        "## CO2 Emissions Dataset"
      ]
    },
    {
      "cell_type": "code",
      "execution_count": 3,
      "metadata": {
        "id": "CoOq71PGBFMu"
      },
      "outputs": [],
      "source": [
        "# Common imports\n",
        "import pandas as pd\n",
        "import numpy as np\n",
        "import matplotlib.pyplot as plt\n",
        "\n",
        "import plotly.express as px"
      ]
    },
    {
      "cell_type": "markdown",
      "metadata": {
        "id": "2Qxrbn2XBFMx"
      },
      "source": [
        "Adding mapping between country code and continents"
      ]
    },
    {
      "cell_type": "code",
      "execution_count": 4,
      "metadata": {
        "id": "MYJOl-iIBFMy"
      },
      "outputs": [],
      "source": [
        "iso_continents_df = pd.read_csv(\"./data/country-and-continent-codes-list.csv.gz\", compression=\"gzip\")\n",
        "iso_continents_df.rename(columns = {'5ecdb312191a3559cde51177f4fb3b35.csv': 'Continent'}, inplace=True)\n",
        "required_columns = ['Three_Letter_Country_Code', 'Continent']\n",
        "iso_continents_df = iso_continents_df[required_columns]\n",
        "iso_continents = dict(iso_continents_df.values)\n"
      ]
    },
    {
      "cell_type": "code",
      "execution_count": 5,
      "metadata": {
        "colab": {
          "base_uri": "https://localhost:8080/",
          "height": 334
        },
        "id": "CHOD3bCBBFMz",
        "outputId": "d16335de-a42e-4f8a-e698-03fdfa758325"
      },
      "outputs": [
        {
          "data": {
            "text/html": [
              "<div>\n",
              "<style scoped>\n",
              "    .dataframe tbody tr th:only-of-type {\n",
              "        vertical-align: middle;\n",
              "    }\n",
              "\n",
              "    .dataframe tbody tr th {\n",
              "        vertical-align: top;\n",
              "    }\n",
              "\n",
              "    .dataframe thead th {\n",
              "        text-align: right;\n",
              "    }\n",
              "</style>\n",
              "<table border=\"1\" class=\"dataframe\">\n",
              "  <thead>\n",
              "    <tr style=\"text-align: right;\">\n",
              "      <th></th>\n",
              "      <th>iso_code</th>\n",
              "      <th>country</th>\n",
              "      <th>year</th>\n",
              "      <th>co2</th>\n",
              "      <th>co2_per_capita</th>\n",
              "      <th>trade_co2</th>\n",
              "      <th>cement_co2</th>\n",
              "      <th>cement_co2_per_capita</th>\n",
              "      <th>coal_co2</th>\n",
              "      <th>coal_co2_per_capita</th>\n",
              "      <th>...</th>\n",
              "      <th>ghg_excluding_lucf_per_capita</th>\n",
              "      <th>methane</th>\n",
              "      <th>methane_per_capita</th>\n",
              "      <th>nitrous_oxide</th>\n",
              "      <th>nitrous_oxide_per_capita</th>\n",
              "      <th>population</th>\n",
              "      <th>gdp</th>\n",
              "      <th>primary_energy_consumption</th>\n",
              "      <th>energy_per_capita</th>\n",
              "      <th>energy_per_gdp</th>\n",
              "    </tr>\n",
              "  </thead>\n",
              "  <tbody>\n",
              "    <tr>\n",
              "      <th>13310</th>\n",
              "      <td>LBY</td>\n",
              "      <td>Libya</td>\n",
              "      <td>2001.0</td>\n",
              "      <td>48.463</td>\n",
              "      <td>8.903</td>\n",
              "      <td>NaN</td>\n",
              "      <td>1.208</td>\n",
              "      <td>0.222</td>\n",
              "      <td>NaN</td>\n",
              "      <td>NaN</td>\n",
              "      <td>...</td>\n",
              "      <td>21.195</td>\n",
              "      <td>71.86</td>\n",
              "      <td>13.202</td>\n",
              "      <td>1.35</td>\n",
              "      <td>0.248</td>\n",
              "      <td>5443249.0</td>\n",
              "      <td>5.422566e+10</td>\n",
              "      <td>214.833</td>\n",
              "      <td>39469.530</td>\n",
              "      <td>1.918</td>\n",
              "    </tr>\n",
              "    <tr>\n",
              "      <th>23640</th>\n",
              "      <td>GBR</td>\n",
              "      <td>United Kingdom</td>\n",
              "      <td>1827.0</td>\n",
              "      <td>52.230</td>\n",
              "      <td>2.248</td>\n",
              "      <td>NaN</td>\n",
              "      <td>NaN</td>\n",
              "      <td>NaN</td>\n",
              "      <td>52.23</td>\n",
              "      <td>2.248</td>\n",
              "      <td>...</td>\n",
              "      <td>NaN</td>\n",
              "      <td>NaN</td>\n",
              "      <td>NaN</td>\n",
              "      <td>NaN</td>\n",
              "      <td>NaN</td>\n",
              "      <td>23233511.0</td>\n",
              "      <td>8.143922e+10</td>\n",
              "      <td>NaN</td>\n",
              "      <td>NaN</td>\n",
              "      <td>NaN</td>\n",
              "    </tr>\n",
              "    <tr>\n",
              "      <th>603</th>\n",
              "      <td>ATG</td>\n",
              "      <td>Antigua and Barbuda</td>\n",
              "      <td>1991.0</td>\n",
              "      <td>0.213</td>\n",
              "      <td>3.354</td>\n",
              "      <td>NaN</td>\n",
              "      <td>NaN</td>\n",
              "      <td>NaN</td>\n",
              "      <td>NaN</td>\n",
              "      <td>NaN</td>\n",
              "      <td>...</td>\n",
              "      <td>5.839</td>\n",
              "      <td>0.13</td>\n",
              "      <td>2.052</td>\n",
              "      <td>0.02</td>\n",
              "      <td>0.316</td>\n",
              "      <td>63363.0</td>\n",
              "      <td>NaN</td>\n",
              "      <td>1.745</td>\n",
              "      <td>27692.549</td>\n",
              "      <td>NaN</td>\n",
              "    </tr>\n",
              "    <tr>\n",
              "      <th>14257</th>\n",
              "      <td>MTQ</td>\n",
              "      <td>Martinique</td>\n",
              "      <td>2008.0</td>\n",
              "      <td>2.159</td>\n",
              "      <td>5.429</td>\n",
              "      <td>NaN</td>\n",
              "      <td>NaN</td>\n",
              "      <td>NaN</td>\n",
              "      <td>NaN</td>\n",
              "      <td>NaN</td>\n",
              "      <td>...</td>\n",
              "      <td>NaN</td>\n",
              "      <td>NaN</td>\n",
              "      <td>NaN</td>\n",
              "      <td>NaN</td>\n",
              "      <td>NaN</td>\n",
              "      <td>397664.0</td>\n",
              "      <td>NaN</td>\n",
              "      <td>9.896</td>\n",
              "      <td>24863.328</td>\n",
              "      <td>NaN</td>\n",
              "    </tr>\n",
              "    <tr>\n",
              "      <th>8975</th>\n",
              "      <td>NaN</td>\n",
              "      <td>French West Africa</td>\n",
              "      <td>1958.0</td>\n",
              "      <td>NaN</td>\n",
              "      <td>NaN</td>\n",
              "      <td>NaN</td>\n",
              "      <td>NaN</td>\n",
              "      <td>NaN</td>\n",
              "      <td>NaN</td>\n",
              "      <td>NaN</td>\n",
              "      <td>...</td>\n",
              "      <td>NaN</td>\n",
              "      <td>NaN</td>\n",
              "      <td>NaN</td>\n",
              "      <td>NaN</td>\n",
              "      <td>NaN</td>\n",
              "      <td>NaN</td>\n",
              "      <td>NaN</td>\n",
              "      <td>NaN</td>\n",
              "      <td>NaN</td>\n",
              "      <td>NaN</td>\n",
              "    </tr>\n",
              "  </tbody>\n",
              "</table>\n",
              "<p>5 rows × 60 columns</p>\n",
              "</div>"
            ],
            "text/plain": [
              "      iso_code              country    year     co2  co2_per_capita  \\\n",
              "13310      LBY                Libya  2001.0  48.463           8.903   \n",
              "23640      GBR       United Kingdom  1827.0  52.230           2.248   \n",
              "603        ATG  Antigua and Barbuda  1991.0   0.213           3.354   \n",
              "14257      MTQ           Martinique  2008.0   2.159           5.429   \n",
              "8975       NaN   French West Africa  1958.0     NaN             NaN   \n",
              "\n",
              "       trade_co2  cement_co2  cement_co2_per_capita  coal_co2  \\\n",
              "13310        NaN       1.208                  0.222       NaN   \n",
              "23640        NaN         NaN                    NaN     52.23   \n",
              "603          NaN         NaN                    NaN       NaN   \n",
              "14257        NaN         NaN                    NaN       NaN   \n",
              "8975         NaN         NaN                    NaN       NaN   \n",
              "\n",
              "       coal_co2_per_capita  ...  ghg_excluding_lucf_per_capita  methane  \\\n",
              "13310                  NaN  ...                         21.195    71.86   \n",
              "23640                2.248  ...                            NaN      NaN   \n",
              "603                    NaN  ...                          5.839     0.13   \n",
              "14257                  NaN  ...                            NaN      NaN   \n",
              "8975                   NaN  ...                            NaN      NaN   \n",
              "\n",
              "       methane_per_capita  nitrous_oxide  nitrous_oxide_per_capita  \\\n",
              "13310              13.202           1.35                     0.248   \n",
              "23640                 NaN            NaN                       NaN   \n",
              "603                 2.052           0.02                     0.316   \n",
              "14257                 NaN            NaN                       NaN   \n",
              "8975                  NaN            NaN                       NaN   \n",
              "\n",
              "       population           gdp  primary_energy_consumption  \\\n",
              "13310   5443249.0  5.422566e+10                     214.833   \n",
              "23640  23233511.0  8.143922e+10                         NaN   \n",
              "603       63363.0           NaN                       1.745   \n",
              "14257    397664.0           NaN                       9.896   \n",
              "8975          NaN           NaN                         NaN   \n",
              "\n",
              "       energy_per_capita  energy_per_gdp  \n",
              "13310          39469.530           1.918  \n",
              "23640                NaN             NaN  \n",
              "603            27692.549             NaN  \n",
              "14257          24863.328             NaN  \n",
              "8975                 NaN             NaN  \n",
              "\n",
              "[5 rows x 60 columns]"
            ]
          },
          "execution_count": 5,
          "metadata": {},
          "output_type": "execute_result"
        }
      ],
      "source": [
        "co2_df = pd.read_csv(\"./data/owid-co2-data.csv.gz\", compression=\"gzip\")\n",
        "co2_df.rename(columns = {'286b262ed4f75089c2a23c4ed4782e1f.csv': 'iso_code'}, inplace=True)\n",
        "co2_df.sample(5)"
      ]
    },
    {
      "cell_type": "code",
      "execution_count": 6,
      "metadata": {
        "colab": {
          "base_uri": "https://localhost:8080/",
          "height": 35
        },
        "id": "2mQaM-j_BFM1",
        "outputId": "0bb11e1f-17c1-426d-d969-cdef8fc4bf12"
      },
      "outputs": [
        {
          "data": {
            "text/plain": [
              "'AFG'"
            ]
          },
          "execution_count": 6,
          "metadata": {},
          "output_type": "execute_result"
        }
      ],
      "source": [
        "co2_df.iloc[5][\"iso_code\"]"
      ]
    },
    {
      "cell_type": "code",
      "execution_count": 7,
      "metadata": {
        "colab": {
          "base_uri": "https://localhost:8080/",
          "height": 35
        },
        "id": "ZxZAQYjrBFM2",
        "outputId": "ca7561cd-fb9e-4b99-b06d-a0684bfe7343"
      },
      "outputs": [
        {
          "data": {
            "text/plain": [
              "'AFG'"
            ]
          },
          "execution_count": 7,
          "metadata": {},
          "output_type": "execute_result"
        }
      ],
      "source": [
        "required_columns = [\"iso_code\", \"country\", \"year\", \"co2_per_capita\", \"co2\"]\n",
        "globe_df = co2_df.dropna(subset = required_columns)\n",
        "globe_df.iloc[5][\"iso_code\"]\n"
      ]
    },
    {
      "cell_type": "code",
      "execution_count": 8,
      "metadata": {
        "id": "VzsKnjdNBFM4"
      },
      "outputs": [],
      "source": [
        "required_columns = ['iso_code', 'country', 'co2_per_capita', \"year\", \"co2\"]\n",
        "globe_df = co2_df[required_columns]\n",
        "\n",
        "globe_df = globe_df.dropna()\n",
        "globe_df[\"year\"] = globe_df[\"year\"].astype(\"int\")\n",
        "# globe_df.sample(5)"
      ]
    },
    {
      "cell_type": "code",
      "execution_count": 9,
      "metadata": {
        "id": "kJcgWFDxBFM5"
      },
      "outputs": [],
      "source": [
        "globe_df['continent'] = globe_df['iso_code'].map(iso_continents)\n",
        "globe_df_curr = globe_df[globe_df.year == 2019]\n",
        "globe_df = globe_df.iloc[np.where(globe_df['continent'].notnull())[0]] #Remove values where continent is NaN\n",
        "globe_df_curr = globe_df_curr.iloc[np.where(globe_df_curr['continent'].notnull())[0]]"
      ]
    },
    {
      "cell_type": "code",
      "execution_count": 10,
      "metadata": {
        "colab": {
          "base_uri": "https://localhost:8080/",
          "height": 206
        },
        "id": "k7fWms1tCHJL",
        "outputId": "96430711-3105-43b9-8097-73fab92553ab"
      },
      "outputs": [
        {
          "data": {
            "text/html": [
              "<div>\n",
              "<style scoped>\n",
              "    .dataframe tbody tr th:only-of-type {\n",
              "        vertical-align: middle;\n",
              "    }\n",
              "\n",
              "    .dataframe tbody tr th {\n",
              "        vertical-align: top;\n",
              "    }\n",
              "\n",
              "    .dataframe thead th {\n",
              "        text-align: right;\n",
              "    }\n",
              "</style>\n",
              "<table border=\"1\" class=\"dataframe\">\n",
              "  <thead>\n",
              "    <tr style=\"text-align: right;\">\n",
              "      <th></th>\n",
              "      <th>iso_code</th>\n",
              "      <th>country</th>\n",
              "      <th>co2_per_capita</th>\n",
              "      <th>year</th>\n",
              "      <th>co2</th>\n",
              "      <th>continent</th>\n",
              "    </tr>\n",
              "  </thead>\n",
              "  <tbody>\n",
              "    <tr>\n",
              "      <th>3121</th>\n",
              "      <td>BES</td>\n",
              "      <td>Bonaire Sint Eustatius and Saba</td>\n",
              "      <td>58.957</td>\n",
              "      <td>1960</td>\n",
              "      <td>0.476</td>\n",
              "      <td>North America</td>\n",
              "    </tr>\n",
              "    <tr>\n",
              "      <th>23382</th>\n",
              "      <td>UKR</td>\n",
              "      <td>Ukraine</td>\n",
              "      <td>0.604</td>\n",
              "      <td>1902</td>\n",
              "      <td>14.441</td>\n",
              "      <td>Europe</td>\n",
              "    </tr>\n",
              "    <tr>\n",
              "      <th>12607</th>\n",
              "      <td>KGZ</td>\n",
              "      <td>Kyrgyzstan</td>\n",
              "      <td>0.142</td>\n",
              "      <td>1889</td>\n",
              "      <td>0.140</td>\n",
              "      <td>Asia</td>\n",
              "    </tr>\n",
              "    <tr>\n",
              "      <th>13583</th>\n",
              "      <td>LUX</td>\n",
              "      <td>Luxembourg</td>\n",
              "      <td>33.267</td>\n",
              "      <td>1976</td>\n",
              "      <td>11.862</td>\n",
              "      <td>Europe</td>\n",
              "    </tr>\n",
              "    <tr>\n",
              "      <th>242</th>\n",
              "      <td>ALB</td>\n",
              "      <td>Albania</td>\n",
              "      <td>1.309</td>\n",
              "      <td>1966</td>\n",
              "      <td>2.550</td>\n",
              "      <td>Europe</td>\n",
              "    </tr>\n",
              "  </tbody>\n",
              "</table>\n",
              "</div>"
            ],
            "text/plain": [
              "      iso_code                          country  co2_per_capita  year     co2  \\\n",
              "3121       BES  Bonaire Sint Eustatius and Saba          58.957  1960   0.476   \n",
              "23382      UKR                          Ukraine           0.604  1902  14.441   \n",
              "12607      KGZ                       Kyrgyzstan           0.142  1889   0.140   \n",
              "13583      LUX                       Luxembourg          33.267  1976  11.862   \n",
              "242        ALB                          Albania           1.309  1966   2.550   \n",
              "\n",
              "           continent  \n",
              "3121   North America  \n",
              "23382         Europe  \n",
              "12607           Asia  \n",
              "13583         Europe  \n",
              "242           Europe  "
            ]
          },
          "execution_count": 10,
          "metadata": {},
          "output_type": "execute_result"
        }
      ],
      "source": [
        "globe_df = globe_df.sort_values('year')\n",
        "globe_df.sample(5)"
      ]
    },
    {
      "cell_type": "code",
      "execution_count": 11,
      "metadata": {
        "colab": {
          "base_uri": "https://localhost:8080/",
          "height": 424
        },
        "id": "V_WlGCdfEXf6",
        "outputId": "fc3afc54-071f-4166-8298-c3ca20a8d511"
      },
      "outputs": [
        {
          "data": {
            "text/html": [
              "<div>\n",
              "<style scoped>\n",
              "    .dataframe tbody tr th:only-of-type {\n",
              "        vertical-align: middle;\n",
              "    }\n",
              "\n",
              "    .dataframe tbody tr th {\n",
              "        vertical-align: top;\n",
              "    }\n",
              "\n",
              "    .dataframe thead th {\n",
              "        text-align: right;\n",
              "    }\n",
              "</style>\n",
              "<table border=\"1\" class=\"dataframe\">\n",
              "  <thead>\n",
              "    <tr style=\"text-align: right;\">\n",
              "      <th></th>\n",
              "      <th>iso_code</th>\n",
              "      <th>country</th>\n",
              "      <th>co2_per_capita</th>\n",
              "      <th>year</th>\n",
              "      <th>co2</th>\n",
              "      <th>continent</th>\n",
              "    </tr>\n",
              "  </thead>\n",
              "  <tbody>\n",
              "    <tr>\n",
              "      <th>23563</th>\n",
              "      <td>GBR</td>\n",
              "      <td>United Kingdom</td>\n",
              "      <td>1.007</td>\n",
              "      <td>1750</td>\n",
              "      <td>9.351</td>\n",
              "      <td>Europe</td>\n",
              "    </tr>\n",
              "    <tr>\n",
              "      <th>23573</th>\n",
              "      <td>GBR</td>\n",
              "      <td>United Kingdom</td>\n",
              "      <td>1.020</td>\n",
              "      <td>1760</td>\n",
              "      <td>10.017</td>\n",
              "      <td>Europe</td>\n",
              "    </tr>\n",
              "    <tr>\n",
              "      <th>23583</th>\n",
              "      <td>GBR</td>\n",
              "      <td>United Kingdom</td>\n",
              "      <td>1.184</td>\n",
              "      <td>1770</td>\n",
              "      <td>12.274</td>\n",
              "      <td>Europe</td>\n",
              "    </tr>\n",
              "    <tr>\n",
              "      <th>23593</th>\n",
              "      <td>GBR</td>\n",
              "      <td>United Kingdom</td>\n",
              "      <td>1.377</td>\n",
              "      <td>1780</td>\n",
              "      <td>15.055</td>\n",
              "      <td>Europe</td>\n",
              "    </tr>\n",
              "    <tr>\n",
              "      <th>23603</th>\n",
              "      <td>GBR</td>\n",
              "      <td>United Kingdom</td>\n",
              "      <td>1.665</td>\n",
              "      <td>1790</td>\n",
              "      <td>19.174</td>\n",
              "      <td>Europe</td>\n",
              "    </tr>\n",
              "    <tr>\n",
              "      <th>...</th>\n",
              "      <td>...</td>\n",
              "      <td>...</td>\n",
              "      <td>...</td>\n",
              "      <td>...</td>\n",
              "      <td>...</td>\n",
              "      <td>...</td>\n",
              "    </tr>\n",
              "    <tr>\n",
              "      <th>17769</th>\n",
              "      <td>PRY</td>\n",
              "      <td>Paraguay</td>\n",
              "      <td>1.061</td>\n",
              "      <td>2020</td>\n",
              "      <td>7.570</td>\n",
              "      <td>South America</td>\n",
              "    </tr>\n",
              "    <tr>\n",
              "      <th>3907</th>\n",
              "      <td>BDI</td>\n",
              "      <td>Burundi</td>\n",
              "      <td>0.051</td>\n",
              "      <td>2020</td>\n",
              "      <td>0.602</td>\n",
              "      <td>Africa</td>\n",
              "    </tr>\n",
              "    <tr>\n",
              "      <th>17906</th>\n",
              "      <td>PER</td>\n",
              "      <td>Peru</td>\n",
              "      <td>1.356</td>\n",
              "      <td>2020</td>\n",
              "      <td>44.706</td>\n",
              "      <td>South America</td>\n",
              "    </tr>\n",
              "    <tr>\n",
              "      <th>17483</th>\n",
              "      <td>PSE</td>\n",
              "      <td>Palestine</td>\n",
              "      <td>0.568</td>\n",
              "      <td>2020</td>\n",
              "      <td>2.899</td>\n",
              "      <td>Asia</td>\n",
              "    </tr>\n",
              "    <tr>\n",
              "      <th>25190</th>\n",
              "      <td>ZWE</td>\n",
              "      <td>Zimbabwe</td>\n",
              "      <td>0.709</td>\n",
              "      <td>2020</td>\n",
              "      <td>10.531</td>\n",
              "      <td>Africa</td>\n",
              "    </tr>\n",
              "  </tbody>\n",
              "</table>\n",
              "<p>20636 rows × 6 columns</p>\n",
              "</div>"
            ],
            "text/plain": [
              "      iso_code         country  co2_per_capita  year     co2      continent\n",
              "23563      GBR  United Kingdom           1.007  1750   9.351         Europe\n",
              "23573      GBR  United Kingdom           1.020  1760  10.017         Europe\n",
              "23583      GBR  United Kingdom           1.184  1770  12.274         Europe\n",
              "23593      GBR  United Kingdom           1.377  1780  15.055         Europe\n",
              "23603      GBR  United Kingdom           1.665  1790  19.174         Europe\n",
              "...        ...             ...             ...   ...     ...            ...\n",
              "17769      PRY        Paraguay           1.061  2020   7.570  South America\n",
              "3907       BDI         Burundi           0.051  2020   0.602         Africa\n",
              "17906      PER            Peru           1.356  2020  44.706  South America\n",
              "17483      PSE       Palestine           0.568  2020   2.899           Asia\n",
              "25190      ZWE        Zimbabwe           0.709  2020  10.531         Africa\n",
              "\n",
              "[20636 rows x 6 columns]"
            ]
          },
          "execution_count": 11,
          "metadata": {},
          "output_type": "execute_result"
        }
      ],
      "source": [
        "globe_df"
      ]
    },
    {
      "cell_type": "code",
      "execution_count": 12,
      "metadata": {
        "colab": {
          "base_uri": "https://localhost:8080/",
          "height": 542
        },
        "id": "0rESoYSXEbWd",
        "outputId": "16601245-7cf0-477d-f8d8-4e50bd18fffa"
      },
      "outputs": [
        {
          "data": {
            "application/vnd.plotly.v1+json": {
              "config": {
                "plotlyServerURL": "https://plot.ly"
              },
              "data": [
                {
                  "geo": "geo",
                  "hovertemplate": "<b>%{hovertext}</b><br><br>continent=Asia<br>co2_per_capita=%{marker.size}<br>iso_code=%{location}<extra></extra>",
                  "hovertext": [
                    "Afghanistan",
                    "Armenia",
                    "Azerbaijan",
                    "Bahrain",
                    "Bangladesh",
                    "Bhutan",
                    "Brunei",
                    "Cambodia",
                    "China",
                    "Cyprus",
                    "Georgia",
                    "Hong Kong",
                    "India",
                    "Indonesia",
                    "Iran",
                    "Iraq",
                    "Israel",
                    "Japan",
                    "Jordan",
                    "Kazakhstan",
                    "Kuwait",
                    "Kyrgyzstan",
                    "Laos",
                    "Lebanon",
                    "Malaysia",
                    "Maldives",
                    "Mongolia",
                    "Myanmar",
                    "Nepal",
                    "North Korea",
                    "Oman",
                    "Pakistan",
                    "Palestine",
                    "Philippines",
                    "Qatar",
                    "Russia",
                    "Saudi Arabia",
                    "Singapore",
                    "South Korea",
                    "Sri Lanka",
                    "Syria",
                    "Taiwan",
                    "Tajikistan",
                    "Thailand",
                    "Timor",
                    "Turkey",
                    "Turkmenistan",
                    "United Arab Emirates",
                    "Uzbekistan",
                    "Vietnam",
                    "Yemen"
                  ],
                  "legendgroup": "Asia",
                  "locations": [
                    "AFG",
                    "ARM",
                    "AZE",
                    "BHR",
                    "BGD",
                    "BTN",
                    "BRN",
                    "KHM",
                    "CHN",
                    "CYP",
                    "GEO",
                    "HKG",
                    "IND",
                    "IDN",
                    "IRN",
                    "IRQ",
                    "ISR",
                    "JPN",
                    "JOR",
                    "KAZ",
                    "KWT",
                    "KGZ",
                    "LAO",
                    "LBN",
                    "MYS",
                    "MDV",
                    "MNG",
                    "MMR",
                    "NPL",
                    "PRK",
                    "OMN",
                    "PAK",
                    "PSE",
                    "PHL",
                    "QAT",
                    "RUS",
                    "SAU",
                    "SGP",
                    "KOR",
                    "LKA",
                    "SYR",
                    "TWN",
                    "TJK",
                    "THA",
                    "TLS",
                    "TUR",
                    "TKM",
                    "ARE",
                    "UZB",
                    "VNM",
                    "YEM"
                  ],
                  "marker": {
                    "color": "#636efa",
                    "size": [
                      0.319,
                      1.869,
                      3.8539999999999996,
                      20.984,
                      0.578,
                      2.526,
                      22.982,
                      0.93,
                      7.316,
                      6.124,
                      2.622,
                      5.62,
                      1.922,
                      2.441,
                      8.845,
                      5.672999999999999,
                      7.324,
                      8.718,
                      2.549,
                      15.949000000000002,
                      22.974,
                      1.7169999999999999,
                      4.7330000000000005,
                      3.888,
                      8.722000000000001,
                      3.3789999999999996,
                      27.5,
                      0.667,
                      0.593,
                      1.145,
                      12.212,
                      1.082,
                      0.599,
                      1.3559999999999999,
                      40.619,
                      11.513,
                      18.163,
                      7.874,
                      12.65,
                      1.07,
                      1.8159999999999998,
                      11.581,
                      0.9259999999999999,
                      3.9010000000000002,
                      0.406,
                      4.787,
                      12.844000000000001,
                      15.780999999999999,
                      3.4619999999999997,
                      2.699,
                      0.344
                    ],
                    "sizemode": "area",
                    "sizeref": 0.1015475,
                    "symbol": "circle"
                  },
                  "mode": "markers",
                  "name": "Asia",
                  "showlegend": true,
                  "type": "scattergeo"
                },
                {
                  "geo": "geo",
                  "hovertemplate": "<b>%{hovertext}</b><br><br>continent=Europe<br>co2_per_capita=%{marker.size}<br>iso_code=%{location}<extra></extra>",
                  "hovertext": [
                    "Albania",
                    "Andorra",
                    "Austria",
                    "Belarus",
                    "Belgium",
                    "Bosnia and Herzegovina",
                    "Bulgaria",
                    "Croatia",
                    "Czechia",
                    "Denmark",
                    "Estonia",
                    "Faeroe Islands",
                    "Finland",
                    "France",
                    "Germany",
                    "Greece",
                    "Hungary",
                    "Iceland",
                    "Ireland",
                    "Italy",
                    "Latvia",
                    "Liechtenstein",
                    "Lithuania",
                    "Luxembourg",
                    "Malta",
                    "Moldova",
                    "Montenegro",
                    "Netherlands",
                    "North Macedonia",
                    "Norway",
                    "Poland",
                    "Portugal",
                    "Romania",
                    "Serbia",
                    "Slovakia",
                    "Slovenia",
                    "Spain",
                    "Sweden",
                    "Switzerland",
                    "Ukraine",
                    "United Kingdom"
                  ],
                  "legendgroup": "Europe",
                  "locations": [
                    "ALB",
                    "AND",
                    "AUT",
                    "BLR",
                    "BEL",
                    "BIH",
                    "BGR",
                    "HRV",
                    "CZE",
                    "DNK",
                    "EST",
                    "FRO",
                    "FIN",
                    "FRA",
                    "DEU",
                    "GRC",
                    "HUN",
                    "ISL",
                    "IRL",
                    "ITA",
                    "LVA",
                    "LIE",
                    "LTU",
                    "LUX",
                    "MLT",
                    "MDA",
                    "MNE",
                    "NLD",
                    "MKD",
                    "NOR",
                    "POL",
                    "PRT",
                    "ROU",
                    "SRB",
                    "SVK",
                    "SVN",
                    "ESP",
                    "SWE",
                    "CHE",
                    "UKR",
                    "GBR"
                  ],
                  "marker": {
                    "color": "#EF553B",
                    "size": [
                      1.6880000000000002,
                      6.505,
                      7.5889999999999995,
                      6.456,
                      8.644,
                      7.527,
                      6.032,
                      4.303999999999999,
                      9.431000000000001,
                      5.353,
                      9.339,
                      15.120999999999999,
                      7.691,
                      4.851,
                      8.517999999999999,
                      6.276,
                      5.0680000000000005,
                      10.472999999999999,
                      7.6339999999999995,
                      5.611000000000001,
                      4.011,
                      3.903,
                      5.045,
                      15.838,
                      3.79,
                      1.275,
                      4.212,
                      8.984,
                      3.8280000000000003,
                      7.968999999999999,
                      8.433,
                      4.658,
                      3.865,
                      5.624,
                      6.189,
                      6.7379999999999995,
                      5.381,
                      4.079,
                      4.277,
                      5.059,
                      5.4639999999999995
                    ],
                    "sizemode": "area",
                    "sizeref": 0.1015475,
                    "symbol": "circle"
                  },
                  "mode": "markers",
                  "name": "Europe",
                  "showlegend": true,
                  "type": "scattergeo"
                },
                {
                  "geo": "geo",
                  "hovertemplate": "<b>%{hovertext}</b><br><br>continent=Africa<br>co2_per_capita=%{marker.size}<br>iso_code=%{location}<extra></extra>",
                  "hovertext": [
                    "Algeria",
                    "Angola",
                    "Benin",
                    "Botswana",
                    "Burkina Faso",
                    "Burundi",
                    "Cameroon",
                    "Cape Verde",
                    "Central African Republic",
                    "Chad",
                    "Comoros",
                    "Congo",
                    "Cote d'Ivoire",
                    "Democratic Republic of Congo",
                    "Djibouti",
                    "Egypt",
                    "Equatorial Guinea",
                    "Eritrea",
                    "Eswatini",
                    "Ethiopia",
                    "Gabon",
                    "Gambia",
                    "Ghana",
                    "Guinea",
                    "Guinea-Bissau",
                    "Kenya",
                    "Lesotho",
                    "Liberia",
                    "Libya",
                    "Madagascar",
                    "Malawi",
                    "Mali",
                    "Mauritania",
                    "Mauritius",
                    "Mayotte",
                    "Morocco",
                    "Mozambique",
                    "Namibia",
                    "Niger",
                    "Nigeria",
                    "Rwanda",
                    "Saint Helena",
                    "Sao Tome and Principe",
                    "Senegal",
                    "Seychelles",
                    "Sierra Leone",
                    "Somalia",
                    "South Africa",
                    "South Sudan",
                    "Sudan",
                    "Tanzania",
                    "Togo",
                    "Tunisia",
                    "Uganda",
                    "Zambia",
                    "Zimbabwe"
                  ],
                  "legendgroup": "Africa",
                  "locations": [
                    "DZA",
                    "AGO",
                    "BEN",
                    "BWA",
                    "BFA",
                    "BDI",
                    "CMR",
                    "CPV",
                    "CAF",
                    "TCD",
                    "COM",
                    "COG",
                    "CIV",
                    "COD",
                    "DJI",
                    "EGY",
                    "GNQ",
                    "ERI",
                    "SWZ",
                    "ETH",
                    "GAB",
                    "GMB",
                    "GHA",
                    "GIN",
                    "GNB",
                    "KEN",
                    "LSO",
                    "LBR",
                    "LBY",
                    "MDG",
                    "MWI",
                    "MLI",
                    "MRT",
                    "MUS",
                    "MYT",
                    "MAR",
                    "MOZ",
                    "NAM",
                    "NER",
                    "NGA",
                    "RWA",
                    "SHN",
                    "STP",
                    "SEN",
                    "SYC",
                    "SLE",
                    "SOM",
                    "ZAF",
                    "SSD",
                    "SDN",
                    "TZA",
                    "TGO",
                    "TUN",
                    "UGA",
                    "ZMB",
                    "ZWE"
                  ],
                  "marker": {
                    "color": "#00cc96",
                    "size": [
                      3.8710000000000004,
                      0.738,
                      0.62,
                      3.0060000000000002,
                      0.213,
                      0.061,
                      0.28600000000000003,
                      1.095,
                      0.044000000000000004,
                      0.063,
                      0.359,
                      0.612,
                      0.408,
                      0.031,
                      0.413,
                      2.25,
                      7.574,
                      0.239,
                      0.882,
                      0.146,
                      2.066,
                      0.233,
                      0.556,
                      0.29100000000000004,
                      0.16399999999999998,
                      0.349,
                      1.092,
                      0.222,
                      8.043,
                      0.15,
                      0.085,
                      0.188,
                      0.8170000000000001,
                      3.448,
                      1.148,
                      1.87,
                      0.24,
                      1.636,
                      0.08,
                      0.647,
                      0.094,
                      1.77,
                      0.5870000000000001,
                      0.691,
                      5.945,
                      0.12300000000000001,
                      0.043,
                      8.127,
                      0.126,
                      0.515,
                      0.20800000000000002,
                      0.285,
                      2.5660000000000003,
                      0.129,
                      0.395,
                      0.748
                    ],
                    "sizemode": "area",
                    "sizeref": 0.1015475,
                    "symbol": "circle"
                  },
                  "mode": "markers",
                  "name": "Africa",
                  "showlegend": true,
                  "type": "scattergeo"
                },
                {
                  "geo": "geo",
                  "hovertemplate": "<b>%{hovertext}</b><br><br>continent=North America<br>co2_per_capita=%{marker.size}<br>iso_code=%{location}<extra></extra>",
                  "hovertext": [
                    "Anguilla",
                    "Antigua and Barbuda",
                    "Aruba",
                    "Bahamas",
                    "Barbados",
                    "Belize",
                    "Bermuda",
                    "Bonaire Sint Eustatius and Saba",
                    "British Virgin Islands",
                    "Canada",
                    "Costa Rica",
                    "Cuba",
                    "Curacao",
                    "Dominica",
                    "Dominican Republic",
                    "El Salvador",
                    "Greenland",
                    "Grenada",
                    "Guadeloupe",
                    "Guatemala",
                    "Haiti",
                    "Honduras",
                    "Jamaica",
                    "Martinique",
                    "Mexico",
                    "Montserrat",
                    "Nicaragua",
                    "Panama",
                    "Saint Kitts and Nevis",
                    "Saint Lucia",
                    "Saint Pierre and Miquelon",
                    "Saint Vincent and the Grenadines",
                    "Sint Maarten (Dutch part)",
                    "Trinidad and Tobago",
                    "Turks and Caicos Islands",
                    "United States"
                  ],
                  "legendgroup": "North America",
                  "locations": [
                    "AIA",
                    "ATG",
                    "ABW",
                    "BHS",
                    "BRB",
                    "BLZ",
                    "BMU",
                    "BES",
                    "VGB",
                    "CAN",
                    "CRI",
                    "CUB",
                    "CUW",
                    "DMA",
                    "DOM",
                    "SLV",
                    "GRL",
                    "GRD",
                    "GLP",
                    "GTM",
                    "HTI",
                    "HND",
                    "JAM",
                    "MTQ",
                    "MEX",
                    "MSR",
                    "NIC",
                    "PAN",
                    "KNA",
                    "LCA",
                    "SPM",
                    "VCT",
                    "SXM",
                    "TTO",
                    "TCA",
                    "USA"
                  ],
                  "marker": {
                    "color": "#ab63fa",
                    "size": [
                      9.378,
                      5.008,
                      8.006,
                      6.772,
                      4.234,
                      1.6869999999999998,
                      11.165999999999999,
                      13.075999999999999,
                      5.239,
                      15.567,
                      1.7469999999999999,
                      1.9869999999999999,
                      23.014,
                      2.191,
                      2.563,
                      1.062,
                      9.771,
                      2.967,
                      6.404,
                      1.248,
                      0.292,
                      1.107,
                      2.7289999999999996,
                      6.252999999999999,
                      3.4139999999999997,
                      5.732,
                      0.867,
                      2.895,
                      4.535,
                      2.72,
                      9.83,
                      2.134,
                      16.62,
                      28.945999999999998,
                      5.992999999999999,
                      15.972000000000001
                    ],
                    "sizemode": "area",
                    "sizeref": 0.1015475,
                    "symbol": "circle"
                  },
                  "mode": "markers",
                  "name": "North America",
                  "showlegend": true,
                  "type": "scattergeo"
                },
                {
                  "geo": "geo",
                  "hovertemplate": "<b>%{hovertext}</b><br><br>continent=South America<br>co2_per_capita=%{marker.size}<br>iso_code=%{location}<extra></extra>",
                  "hovertext": [
                    "Argentina",
                    "Bolivia",
                    "Brazil",
                    "Chile",
                    "Colombia",
                    "Ecuador",
                    "French Guiana",
                    "Guyana",
                    "Paraguay",
                    "Peru",
                    "Suriname",
                    "Uruguay",
                    "Venezuela"
                  ],
                  "legendgroup": "South America",
                  "locations": [
                    "ARG",
                    "BOL",
                    "BRA",
                    "CHL",
                    "COL",
                    "ECU",
                    "GUF",
                    "GUY",
                    "PRY",
                    "PER",
                    "SUR",
                    "URY",
                    "VEN"
                  ],
                  "marker": {
                    "color": "#FFA15A",
                    "size": [
                      3.742,
                      2.0709999999999997,
                      2.302,
                      4.545,
                      1.796,
                      2.116,
                      2.504,
                      3.177,
                      1.21,
                      1.6909999999999998,
                      4.335,
                      1.902,
                      3.478
                    ],
                    "sizemode": "area",
                    "sizeref": 0.1015475,
                    "symbol": "circle"
                  },
                  "mode": "markers",
                  "name": "South America",
                  "showlegend": true,
                  "type": "scattergeo"
                },
                {
                  "geo": "geo",
                  "hovertemplate": "<b>%{hovertext}</b><br><br>continent=Oceania<br>co2_per_capita=%{marker.size}<br>iso_code=%{location}<extra></extra>",
                  "hovertext": [
                    "Australia",
                    "Cook Islands",
                    "Fiji",
                    "French Polynesia",
                    "Kiribati",
                    "Marshall Islands",
                    "Nauru",
                    "New Caledonia",
                    "New Zealand",
                    "Niue",
                    "Palau",
                    "Papua New Guinea",
                    "Samoa",
                    "Solomon Islands",
                    "Tonga",
                    "Tuvalu",
                    "Vanuatu"
                  ],
                  "legendgroup": "Oceania",
                  "locations": [
                    "AUS",
                    "COK",
                    "FJI",
                    "PYF",
                    "KIR",
                    "MHL",
                    "NRU",
                    "NCL",
                    "NZL",
                    "NIU",
                    "PLW",
                    "PNG",
                    "WSM",
                    "SLB",
                    "TON",
                    "TUV",
                    "VUT"
                  ],
                  "marker": {
                    "color": "#19d3f3",
                    "size": [
                      16.447,
                      4.52,
                      1.564,
                      2.9619999999999997,
                      0.578,
                      2.57,
                      5.263,
                      30.791,
                      7.8389999999999995,
                      7.02,
                      12.169,
                      0.754,
                      1.246,
                      0.445,
                      1.3730000000000002,
                      0.648,
                      0.604
                    ],
                    "sizemode": "area",
                    "sizeref": 0.1015475,
                    "symbol": "circle"
                  },
                  "mode": "markers",
                  "name": "Oceania",
                  "showlegend": true,
                  "type": "scattergeo"
                }
              ],
              "layout": {
                "geo": {
                  "center": {},
                  "domain": {
                    "x": [
                      0,
                      1
                    ],
                    "y": [
                      0,
                      1
                    ]
                  },
                  "projection": {
                    "type": "natural earth"
                  }
                },
                "legend": {
                  "itemsizing": "constant",
                  "title": {
                    "text": "continent"
                  },
                  "tracegroupgap": 0
                },
                "margin": {
                  "t": 60
                },
                "template": {
                  "data": {
                    "bar": [
                      {
                        "error_x": {
                          "color": "#f2f5fa"
                        },
                        "error_y": {
                          "color": "#f2f5fa"
                        },
                        "marker": {
                          "line": {
                            "color": "rgb(17,17,17)",
                            "width": 0.5
                          },
                          "pattern": {
                            "fillmode": "overlay",
                            "size": 10,
                            "solidity": 0.2
                          }
                        },
                        "type": "bar"
                      }
                    ],
                    "barpolar": [
                      {
                        "marker": {
                          "line": {
                            "color": "rgb(17,17,17)",
                            "width": 0.5
                          },
                          "pattern": {
                            "fillmode": "overlay",
                            "size": 10,
                            "solidity": 0.2
                          }
                        },
                        "type": "barpolar"
                      }
                    ],
                    "carpet": [
                      {
                        "aaxis": {
                          "endlinecolor": "#A2B1C6",
                          "gridcolor": "#506784",
                          "linecolor": "#506784",
                          "minorgridcolor": "#506784",
                          "startlinecolor": "#A2B1C6"
                        },
                        "baxis": {
                          "endlinecolor": "#A2B1C6",
                          "gridcolor": "#506784",
                          "linecolor": "#506784",
                          "minorgridcolor": "#506784",
                          "startlinecolor": "#A2B1C6"
                        },
                        "type": "carpet"
                      }
                    ],
                    "choropleth": [
                      {
                        "colorbar": {
                          "outlinewidth": 0,
                          "ticks": ""
                        },
                        "type": "choropleth"
                      }
                    ],
                    "contour": [
                      {
                        "colorbar": {
                          "outlinewidth": 0,
                          "ticks": ""
                        },
                        "colorscale": [
                          [
                            0,
                            "#0d0887"
                          ],
                          [
                            0.1111111111111111,
                            "#46039f"
                          ],
                          [
                            0.2222222222222222,
                            "#7201a8"
                          ],
                          [
                            0.3333333333333333,
                            "#9c179e"
                          ],
                          [
                            0.4444444444444444,
                            "#bd3786"
                          ],
                          [
                            0.5555555555555556,
                            "#d8576b"
                          ],
                          [
                            0.6666666666666666,
                            "#ed7953"
                          ],
                          [
                            0.7777777777777778,
                            "#fb9f3a"
                          ],
                          [
                            0.8888888888888888,
                            "#fdca26"
                          ],
                          [
                            1,
                            "#f0f921"
                          ]
                        ],
                        "type": "contour"
                      }
                    ],
                    "contourcarpet": [
                      {
                        "colorbar": {
                          "outlinewidth": 0,
                          "ticks": ""
                        },
                        "type": "contourcarpet"
                      }
                    ],
                    "heatmap": [
                      {
                        "colorbar": {
                          "outlinewidth": 0,
                          "ticks": ""
                        },
                        "colorscale": [
                          [
                            0,
                            "#0d0887"
                          ],
                          [
                            0.1111111111111111,
                            "#46039f"
                          ],
                          [
                            0.2222222222222222,
                            "#7201a8"
                          ],
                          [
                            0.3333333333333333,
                            "#9c179e"
                          ],
                          [
                            0.4444444444444444,
                            "#bd3786"
                          ],
                          [
                            0.5555555555555556,
                            "#d8576b"
                          ],
                          [
                            0.6666666666666666,
                            "#ed7953"
                          ],
                          [
                            0.7777777777777778,
                            "#fb9f3a"
                          ],
                          [
                            0.8888888888888888,
                            "#fdca26"
                          ],
                          [
                            1,
                            "#f0f921"
                          ]
                        ],
                        "type": "heatmap"
                      }
                    ],
                    "heatmapgl": [
                      {
                        "colorbar": {
                          "outlinewidth": 0,
                          "ticks": ""
                        },
                        "colorscale": [
                          [
                            0,
                            "#0d0887"
                          ],
                          [
                            0.1111111111111111,
                            "#46039f"
                          ],
                          [
                            0.2222222222222222,
                            "#7201a8"
                          ],
                          [
                            0.3333333333333333,
                            "#9c179e"
                          ],
                          [
                            0.4444444444444444,
                            "#bd3786"
                          ],
                          [
                            0.5555555555555556,
                            "#d8576b"
                          ],
                          [
                            0.6666666666666666,
                            "#ed7953"
                          ],
                          [
                            0.7777777777777778,
                            "#fb9f3a"
                          ],
                          [
                            0.8888888888888888,
                            "#fdca26"
                          ],
                          [
                            1,
                            "#f0f921"
                          ]
                        ],
                        "type": "heatmapgl"
                      }
                    ],
                    "histogram": [
                      {
                        "marker": {
                          "pattern": {
                            "fillmode": "overlay",
                            "size": 10,
                            "solidity": 0.2
                          }
                        },
                        "type": "histogram"
                      }
                    ],
                    "histogram2d": [
                      {
                        "colorbar": {
                          "outlinewidth": 0,
                          "ticks": ""
                        },
                        "colorscale": [
                          [
                            0,
                            "#0d0887"
                          ],
                          [
                            0.1111111111111111,
                            "#46039f"
                          ],
                          [
                            0.2222222222222222,
                            "#7201a8"
                          ],
                          [
                            0.3333333333333333,
                            "#9c179e"
                          ],
                          [
                            0.4444444444444444,
                            "#bd3786"
                          ],
                          [
                            0.5555555555555556,
                            "#d8576b"
                          ],
                          [
                            0.6666666666666666,
                            "#ed7953"
                          ],
                          [
                            0.7777777777777778,
                            "#fb9f3a"
                          ],
                          [
                            0.8888888888888888,
                            "#fdca26"
                          ],
                          [
                            1,
                            "#f0f921"
                          ]
                        ],
                        "type": "histogram2d"
                      }
                    ],
                    "histogram2dcontour": [
                      {
                        "colorbar": {
                          "outlinewidth": 0,
                          "ticks": ""
                        },
                        "colorscale": [
                          [
                            0,
                            "#0d0887"
                          ],
                          [
                            0.1111111111111111,
                            "#46039f"
                          ],
                          [
                            0.2222222222222222,
                            "#7201a8"
                          ],
                          [
                            0.3333333333333333,
                            "#9c179e"
                          ],
                          [
                            0.4444444444444444,
                            "#bd3786"
                          ],
                          [
                            0.5555555555555556,
                            "#d8576b"
                          ],
                          [
                            0.6666666666666666,
                            "#ed7953"
                          ],
                          [
                            0.7777777777777778,
                            "#fb9f3a"
                          ],
                          [
                            0.8888888888888888,
                            "#fdca26"
                          ],
                          [
                            1,
                            "#f0f921"
                          ]
                        ],
                        "type": "histogram2dcontour"
                      }
                    ],
                    "mesh3d": [
                      {
                        "colorbar": {
                          "outlinewidth": 0,
                          "ticks": ""
                        },
                        "type": "mesh3d"
                      }
                    ],
                    "parcoords": [
                      {
                        "line": {
                          "colorbar": {
                            "outlinewidth": 0,
                            "ticks": ""
                          }
                        },
                        "type": "parcoords"
                      }
                    ],
                    "pie": [
                      {
                        "automargin": true,
                        "type": "pie"
                      }
                    ],
                    "scatter": [
                      {
                        "marker": {
                          "line": {
                            "color": "#283442"
                          }
                        },
                        "type": "scatter"
                      }
                    ],
                    "scatter3d": [
                      {
                        "line": {
                          "colorbar": {
                            "outlinewidth": 0,
                            "ticks": ""
                          }
                        },
                        "marker": {
                          "colorbar": {
                            "outlinewidth": 0,
                            "ticks": ""
                          }
                        },
                        "type": "scatter3d"
                      }
                    ],
                    "scattercarpet": [
                      {
                        "marker": {
                          "colorbar": {
                            "outlinewidth": 0,
                            "ticks": ""
                          }
                        },
                        "type": "scattercarpet"
                      }
                    ],
                    "scattergeo": [
                      {
                        "marker": {
                          "colorbar": {
                            "outlinewidth": 0,
                            "ticks": ""
                          }
                        },
                        "type": "scattergeo"
                      }
                    ],
                    "scattergl": [
                      {
                        "marker": {
                          "line": {
                            "color": "#283442"
                          }
                        },
                        "type": "scattergl"
                      }
                    ],
                    "scattermapbox": [
                      {
                        "marker": {
                          "colorbar": {
                            "outlinewidth": 0,
                            "ticks": ""
                          }
                        },
                        "type": "scattermapbox"
                      }
                    ],
                    "scatterpolar": [
                      {
                        "marker": {
                          "colorbar": {
                            "outlinewidth": 0,
                            "ticks": ""
                          }
                        },
                        "type": "scatterpolar"
                      }
                    ],
                    "scatterpolargl": [
                      {
                        "marker": {
                          "colorbar": {
                            "outlinewidth": 0,
                            "ticks": ""
                          }
                        },
                        "type": "scatterpolargl"
                      }
                    ],
                    "scatterternary": [
                      {
                        "marker": {
                          "colorbar": {
                            "outlinewidth": 0,
                            "ticks": ""
                          }
                        },
                        "type": "scatterternary"
                      }
                    ],
                    "surface": [
                      {
                        "colorbar": {
                          "outlinewidth": 0,
                          "ticks": ""
                        },
                        "colorscale": [
                          [
                            0,
                            "#0d0887"
                          ],
                          [
                            0.1111111111111111,
                            "#46039f"
                          ],
                          [
                            0.2222222222222222,
                            "#7201a8"
                          ],
                          [
                            0.3333333333333333,
                            "#9c179e"
                          ],
                          [
                            0.4444444444444444,
                            "#bd3786"
                          ],
                          [
                            0.5555555555555556,
                            "#d8576b"
                          ],
                          [
                            0.6666666666666666,
                            "#ed7953"
                          ],
                          [
                            0.7777777777777778,
                            "#fb9f3a"
                          ],
                          [
                            0.8888888888888888,
                            "#fdca26"
                          ],
                          [
                            1,
                            "#f0f921"
                          ]
                        ],
                        "type": "surface"
                      }
                    ],
                    "table": [
                      {
                        "cells": {
                          "fill": {
                            "color": "#506784"
                          },
                          "line": {
                            "color": "rgb(17,17,17)"
                          }
                        },
                        "header": {
                          "fill": {
                            "color": "#2a3f5f"
                          },
                          "line": {
                            "color": "rgb(17,17,17)"
                          }
                        },
                        "type": "table"
                      }
                    ]
                  },
                  "layout": {
                    "annotationdefaults": {
                      "arrowcolor": "#f2f5fa",
                      "arrowhead": 0,
                      "arrowwidth": 1
                    },
                    "autotypenumbers": "strict",
                    "coloraxis": {
                      "colorbar": {
                        "outlinewidth": 0,
                        "ticks": ""
                      }
                    },
                    "colorscale": {
                      "diverging": [
                        [
                          0,
                          "#8e0152"
                        ],
                        [
                          0.1,
                          "#c51b7d"
                        ],
                        [
                          0.2,
                          "#de77ae"
                        ],
                        [
                          0.3,
                          "#f1b6da"
                        ],
                        [
                          0.4,
                          "#fde0ef"
                        ],
                        [
                          0.5,
                          "#f7f7f7"
                        ],
                        [
                          0.6,
                          "#e6f5d0"
                        ],
                        [
                          0.7,
                          "#b8e186"
                        ],
                        [
                          0.8,
                          "#7fbc41"
                        ],
                        [
                          0.9,
                          "#4d9221"
                        ],
                        [
                          1,
                          "#276419"
                        ]
                      ],
                      "sequential": [
                        [
                          0,
                          "#0d0887"
                        ],
                        [
                          0.1111111111111111,
                          "#46039f"
                        ],
                        [
                          0.2222222222222222,
                          "#7201a8"
                        ],
                        [
                          0.3333333333333333,
                          "#9c179e"
                        ],
                        [
                          0.4444444444444444,
                          "#bd3786"
                        ],
                        [
                          0.5555555555555556,
                          "#d8576b"
                        ],
                        [
                          0.6666666666666666,
                          "#ed7953"
                        ],
                        [
                          0.7777777777777778,
                          "#fb9f3a"
                        ],
                        [
                          0.8888888888888888,
                          "#fdca26"
                        ],
                        [
                          1,
                          "#f0f921"
                        ]
                      ],
                      "sequentialminus": [
                        [
                          0,
                          "#0d0887"
                        ],
                        [
                          0.1111111111111111,
                          "#46039f"
                        ],
                        [
                          0.2222222222222222,
                          "#7201a8"
                        ],
                        [
                          0.3333333333333333,
                          "#9c179e"
                        ],
                        [
                          0.4444444444444444,
                          "#bd3786"
                        ],
                        [
                          0.5555555555555556,
                          "#d8576b"
                        ],
                        [
                          0.6666666666666666,
                          "#ed7953"
                        ],
                        [
                          0.7777777777777778,
                          "#fb9f3a"
                        ],
                        [
                          0.8888888888888888,
                          "#fdca26"
                        ],
                        [
                          1,
                          "#f0f921"
                        ]
                      ]
                    },
                    "colorway": [
                      "#636efa",
                      "#EF553B",
                      "#00cc96",
                      "#ab63fa",
                      "#FFA15A",
                      "#19d3f3",
                      "#FF6692",
                      "#B6E880",
                      "#FF97FF",
                      "#FECB52"
                    ],
                    "font": {
                      "color": "#f2f5fa"
                    },
                    "geo": {
                      "bgcolor": "rgb(17,17,17)",
                      "lakecolor": "rgb(17,17,17)",
                      "landcolor": "rgb(17,17,17)",
                      "showlakes": true,
                      "showland": true,
                      "subunitcolor": "#506784"
                    },
                    "hoverlabel": {
                      "align": "left"
                    },
                    "hovermode": "closest",
                    "mapbox": {
                      "style": "dark"
                    },
                    "paper_bgcolor": "rgb(17,17,17)",
                    "plot_bgcolor": "rgb(17,17,17)",
                    "polar": {
                      "angularaxis": {
                        "gridcolor": "#506784",
                        "linecolor": "#506784",
                        "ticks": ""
                      },
                      "bgcolor": "rgb(17,17,17)",
                      "radialaxis": {
                        "gridcolor": "#506784",
                        "linecolor": "#506784",
                        "ticks": ""
                      }
                    },
                    "scene": {
                      "xaxis": {
                        "backgroundcolor": "rgb(17,17,17)",
                        "gridcolor": "#506784",
                        "gridwidth": 2,
                        "linecolor": "#506784",
                        "showbackground": true,
                        "ticks": "",
                        "zerolinecolor": "#C8D4E3"
                      },
                      "yaxis": {
                        "backgroundcolor": "rgb(17,17,17)",
                        "gridcolor": "#506784",
                        "gridwidth": 2,
                        "linecolor": "#506784",
                        "showbackground": true,
                        "ticks": "",
                        "zerolinecolor": "#C8D4E3"
                      },
                      "zaxis": {
                        "backgroundcolor": "rgb(17,17,17)",
                        "gridcolor": "#506784",
                        "gridwidth": 2,
                        "linecolor": "#506784",
                        "showbackground": true,
                        "ticks": "",
                        "zerolinecolor": "#C8D4E3"
                      }
                    },
                    "shapedefaults": {
                      "line": {
                        "color": "#f2f5fa"
                      }
                    },
                    "sliderdefaults": {
                      "bgcolor": "#C8D4E3",
                      "bordercolor": "rgb(17,17,17)",
                      "borderwidth": 1,
                      "tickwidth": 0
                    },
                    "ternary": {
                      "aaxis": {
                        "gridcolor": "#506784",
                        "linecolor": "#506784",
                        "ticks": ""
                      },
                      "baxis": {
                        "gridcolor": "#506784",
                        "linecolor": "#506784",
                        "ticks": ""
                      },
                      "bgcolor": "rgb(17,17,17)",
                      "caxis": {
                        "gridcolor": "#506784",
                        "linecolor": "#506784",
                        "ticks": ""
                      }
                    },
                    "title": {
                      "x": 0.05
                    },
                    "updatemenudefaults": {
                      "bgcolor": "#506784",
                      "borderwidth": 0
                    },
                    "xaxis": {
                      "automargin": true,
                      "gridcolor": "#283442",
                      "linecolor": "#506784",
                      "ticks": "",
                      "title": {
                        "standoff": 15
                      },
                      "zerolinecolor": "#283442",
                      "zerolinewidth": 2
                    },
                    "yaxis": {
                      "automargin": true,
                      "gridcolor": "#283442",
                      "linecolor": "#506784",
                      "ticks": "",
                      "title": {
                        "standoff": 15
                      },
                      "zerolinecolor": "#283442",
                      "zerolinewidth": 2
                    }
                  }
                }
              }
            }
          },
          "metadata": {},
          "output_type": "display_data"
        }
      ],
      "source": [
        "fig = px.scatter_geo(globe_df_curr, locations=\"iso_code\", color=\"continent\",\n",
        "                     hover_name=\"country\", size=\"co2_per_capita\",\n",
        "                     projection=\"natural earth\", template=\"plotly_dark\")\n",
        "\n",
        "fig.show()"
      ]
    },
    {
      "cell_type": "code",
      "execution_count": 13,
      "metadata": {
        "colab": {
          "base_uri": "https://localhost:8080/",
          "height": 542
        },
        "id": "_-VxAeZXKKBj",
        "outputId": "cefb8489-0290-4985-9d53-8caac381660a"
      },
      "outputs": [
        {
          "data": {
            "application/vnd.plotly.v1+json": {
              "config": {
                "plotlyServerURL": "https://plot.ly"
              },
              "data": [
                {
                  "geo": "geo",
                  "hovertemplate": "<b>%{hovertext}</b><br><br>continent=Asia<br>co2=%{marker.size}<br>iso_code=%{location}<extra></extra>",
                  "hovertext": [
                    "Afghanistan",
                    "Armenia",
                    "Azerbaijan",
                    "Bahrain",
                    "Bangladesh",
                    "Bhutan",
                    "Brunei",
                    "Cambodia",
                    "China",
                    "Cyprus",
                    "Georgia",
                    "Hong Kong",
                    "India",
                    "Indonesia",
                    "Iran",
                    "Iraq",
                    "Israel",
                    "Japan",
                    "Jordan",
                    "Kazakhstan",
                    "Kuwait",
                    "Kyrgyzstan",
                    "Laos",
                    "Lebanon",
                    "Malaysia",
                    "Maldives",
                    "Mongolia",
                    "Myanmar",
                    "Nepal",
                    "North Korea",
                    "Oman",
                    "Pakistan",
                    "Palestine",
                    "Philippines",
                    "Qatar",
                    "Russia",
                    "Saudi Arabia",
                    "Singapore",
                    "South Korea",
                    "Sri Lanka",
                    "Syria",
                    "Taiwan",
                    "Tajikistan",
                    "Thailand",
                    "Timor",
                    "Turkey",
                    "Turkmenistan",
                    "United Arab Emirates",
                    "Uzbekistan",
                    "Vietnam",
                    "Yemen"
                  ],
                  "legendgroup": "Asia",
                  "locations": [
                    "AFG",
                    "ARM",
                    "AZE",
                    "BHR",
                    "BGD",
                    "BTN",
                    "BRN",
                    "KHM",
                    "CHN",
                    "CYP",
                    "GEO",
                    "HKG",
                    "IND",
                    "IDN",
                    "IRN",
                    "IRQ",
                    "ISR",
                    "JPN",
                    "JOR",
                    "KAZ",
                    "KWT",
                    "KGZ",
                    "LAO",
                    "LBN",
                    "MYS",
                    "MDV",
                    "MNG",
                    "MMR",
                    "NPL",
                    "PRK",
                    "OMN",
                    "PAK",
                    "PSE",
                    "PHL",
                    "QAT",
                    "RUS",
                    "SAU",
                    "SGP",
                    "KOR",
                    "LKA",
                    "SYR",
                    "TWN",
                    "TJK",
                    "THA",
                    "TLS",
                    "TUR",
                    "TKM",
                    "ARE",
                    "UZB",
                    "VNM",
                    "YEM"
                  ],
                  "marker": {
                    "color": "#636efa",
                    "size": [
                      12.147,
                      5.529,
                      38.725,
                      34.439,
                      94.215,
                      1.9269999999999998,
                      9.958,
                      15.329,
                      10489.989,
                      7.34,
                      10.48,
                      41.788999999999994,
                      2625.968,
                      660.5939999999999,
                      733.3660000000001,
                      222.99099999999999,
                      62.394,
                      1105.9289999999999,
                      25.745,
                      295.869,
                      96.65100000000001,
                      11.017999999999999,
                      33.931999999999995,
                      26.658,
                      278.659,
                      1.794,
                      88.691,
                      36.047,
                      16.967,
                      29.379,
                      60.757,
                      234.28900000000002,
                      2.986,
                      146.615,
                      115.037,
                      1679.4489999999998,
                      622.413,
                      45.705,
                      648.025,
                      22.825,
                      31.009,
                      275.33299999999997,
                      8.634,
                      271.625,
                      0.525,
                      399.345,
                      76.319,
                      154.186,
                      114.199,
                      260.312,
                      10.02
                    ],
                    "sizemode": "area",
                    "sizeref": 26.2249725,
                    "symbol": "circle"
                  },
                  "mode": "markers",
                  "name": "Asia",
                  "showlegend": true,
                  "type": "scattergeo"
                },
                {
                  "geo": "geo",
                  "hovertemplate": "<b>%{hovertext}</b><br><br>continent=Europe<br>co2=%{marker.size}<br>iso_code=%{location}<extra></extra>",
                  "hovertext": [
                    "Albania",
                    "Andorra",
                    "Austria",
                    "Belarus",
                    "Belgium",
                    "Bosnia and Herzegovina",
                    "Bulgaria",
                    "Croatia",
                    "Czechia",
                    "Denmark",
                    "Estonia",
                    "Faeroe Islands",
                    "Finland",
                    "France",
                    "Germany",
                    "Greece",
                    "Hungary",
                    "Iceland",
                    "Ireland",
                    "Italy",
                    "Latvia",
                    "Liechtenstein",
                    "Lithuania",
                    "Luxembourg",
                    "Malta",
                    "Moldova",
                    "Montenegro",
                    "Netherlands",
                    "North Macedonia",
                    "Norway",
                    "Poland",
                    "Portugal",
                    "Romania",
                    "Serbia",
                    "Slovakia",
                    "Slovenia",
                    "Spain",
                    "Sweden",
                    "Switzerland",
                    "Ukraine",
                    "United Kingdom"
                  ],
                  "legendgroup": "Europe",
                  "locations": [
                    "ALB",
                    "AND",
                    "AUT",
                    "BLR",
                    "BEL",
                    "BIH",
                    "BGR",
                    "HRV",
                    "CZE",
                    "DNK",
                    "EST",
                    "FRO",
                    "FIN",
                    "FRA",
                    "DEU",
                    "GRC",
                    "HUN",
                    "ISL",
                    "IRL",
                    "ITA",
                    "LVA",
                    "LIE",
                    "LTU",
                    "LUX",
                    "MLT",
                    "MDA",
                    "MNE",
                    "NLD",
                    "MKD",
                    "NOR",
                    "POL",
                    "PRT",
                    "ROU",
                    "SRB",
                    "SVK",
                    "SVN",
                    "ESP",
                    "SWE",
                    "CHE",
                    "UKR",
                    "GBR"
                  ],
                  "marker": {
                    "color": "#EF553B",
                    "size": [
                      4.863,
                      0.502,
                      67.962,
                      61.022,
                      99.74600000000001,
                      24.846999999999998,
                      42.223,
                      17.779,
                      100.81200000000001,
                      30.897,
                      12.38,
                      0.736,
                      42.54600000000001,
                      315.931,
                      711.428,
                      65.736,
                      49.08,
                      3.551,
                      37.275,
                      339.772,
                      7.648,
                      0.14800000000000002,
                      13.923,
                      9.752,
                      1.669,
                      5.156000000000001,
                      2.645,
                      153.6,
                      7.975,
                      42.865,
                      319.52099999999996,
                      47.629,
                      74.846,
                      49.338,
                      33.773,
                      14.005999999999998,
                      251.498,
                      40.937,
                      36.742,
                      222.579,
                      369.01
                    ],
                    "sizemode": "area",
                    "sizeref": 26.2249725,
                    "symbol": "circle"
                  },
                  "mode": "markers",
                  "name": "Europe",
                  "showlegend": true,
                  "type": "scattergeo"
                },
                {
                  "geo": "geo",
                  "hovertemplate": "<b>%{hovertext}</b><br><br>continent=Africa<br>co2=%{marker.size}<br>iso_code=%{location}<extra></extra>",
                  "hovertext": [
                    "Algeria",
                    "Angola",
                    "Benin",
                    "Botswana",
                    "Burkina Faso",
                    "Burundi",
                    "Cameroon",
                    "Cape Verde",
                    "Central African Republic",
                    "Chad",
                    "Comoros",
                    "Congo",
                    "Cote d'Ivoire",
                    "Democratic Republic of Congo",
                    "Djibouti",
                    "Egypt",
                    "Equatorial Guinea",
                    "Eritrea",
                    "Eswatini",
                    "Ethiopia",
                    "Gabon",
                    "Gambia",
                    "Ghana",
                    "Guinea",
                    "Guinea-Bissau",
                    "Kenya",
                    "Lesotho",
                    "Liberia",
                    "Libya",
                    "Madagascar",
                    "Malawi",
                    "Mali",
                    "Mauritania",
                    "Mauritius",
                    "Mayotte",
                    "Morocco",
                    "Mozambique",
                    "Namibia",
                    "Niger",
                    "Nigeria",
                    "Rwanda",
                    "Saint Helena",
                    "Sao Tome and Principe",
                    "Senegal",
                    "Seychelles",
                    "Sierra Leone",
                    "Somalia",
                    "South Africa",
                    "South Sudan",
                    "Sudan",
                    "Tanzania",
                    "Togo",
                    "Tunisia",
                    "Uganda",
                    "Zambia",
                    "Zimbabwe"
                  ],
                  "legendgroup": "Africa",
                  "locations": [
                    "DZA",
                    "AGO",
                    "BEN",
                    "BWA",
                    "BFA",
                    "BDI",
                    "CMR",
                    "CPV",
                    "CAF",
                    "TCD",
                    "COM",
                    "COG",
                    "CIV",
                    "COD",
                    "DJI",
                    "EGY",
                    "GNQ",
                    "ERI",
                    "SWZ",
                    "ETH",
                    "GAB",
                    "GMB",
                    "GHA",
                    "GIN",
                    "GNB",
                    "KEN",
                    "LSO",
                    "LBR",
                    "LBY",
                    "MDG",
                    "MWI",
                    "MLI",
                    "MRT",
                    "MUS",
                    "MYT",
                    "MAR",
                    "MOZ",
                    "NAM",
                    "NER",
                    "NGA",
                    "RWA",
                    "SHN",
                    "STP",
                    "SEN",
                    "SYC",
                    "SLE",
                    "SOM",
                    "ZAF",
                    "SSD",
                    "SDN",
                    "TZA",
                    "TGO",
                    "TUN",
                    "UGA",
                    "ZMB",
                    "ZWE"
                  ],
                  "marker": {
                    "color": "#00cc96",
                    "size": [
                      166.642,
                      23.487,
                      7.315,
                      6.925,
                      4.336,
                      0.7040000000000001,
                      7.398,
                      0.602,
                      0.21,
                      1.005,
                      0.306,
                      3.2910000000000004,
                      10.48,
                      2.6889999999999996,
                      0.402,
                      225.882,
                      10.27,
                      0.835,
                      1.013,
                      16.371,
                      4.488,
                      0.547,
                      16.918,
                      3.717,
                      0.314,
                      18.347,
                      2.3209999999999997,
                      1.093,
                      54.50899999999999,
                      4.05,
                      1.588,
                      3.688,
                      3.698,
                      4.378,
                      0.306,
                      68.217,
                      7.287999999999999,
                      4.082,
                      1.8530000000000002,
                      130.10399999999998,
                      1.187,
                      0.011000000000000001,
                      0.126,
                      11.265999999999998,
                      0.581,
                      0.961,
                      0.665,
                      475.923,
                      1.395,
                      22.031,
                      12.043,
                      2.305,
                      30.011,
                      5.721,
                      7.047000000000001,
                      10.949000000000002
                    ],
                    "sizemode": "area",
                    "sizeref": 26.2249725,
                    "symbol": "circle"
                  },
                  "mode": "markers",
                  "name": "Africa",
                  "showlegend": true,
                  "type": "scattergeo"
                },
                {
                  "geo": "geo",
                  "hovertemplate": "<b>%{hovertext}</b><br><br>continent=North America<br>co2=%{marker.size}<br>iso_code=%{location}<extra></extra>",
                  "hovertext": [
                    "Anguilla",
                    "Antigua and Barbuda",
                    "Aruba",
                    "Bahamas",
                    "Barbados",
                    "Belize",
                    "Bermuda",
                    "Bonaire Sint Eustatius and Saba",
                    "British Virgin Islands",
                    "Canada",
                    "Costa Rica",
                    "Cuba",
                    "Curacao",
                    "Dominica",
                    "Dominican Republic",
                    "El Salvador",
                    "Greenland",
                    "Grenada",
                    "Guadeloupe",
                    "Guatemala",
                    "Haiti",
                    "Honduras",
                    "Jamaica",
                    "Martinique",
                    "Mexico",
                    "Montserrat",
                    "Nicaragua",
                    "Panama",
                    "Saint Kitts and Nevis",
                    "Saint Lucia",
                    "Saint Pierre and Miquelon",
                    "Saint Vincent and the Grenadines",
                    "Sint Maarten (Dutch part)",
                    "Trinidad and Tobago",
                    "Turks and Caicos Islands",
                    "United States"
                  ],
                  "legendgroup": "North America",
                  "locations": [
                    "AIA",
                    "ATG",
                    "ABW",
                    "BHS",
                    "BRB",
                    "BLZ",
                    "BMU",
                    "BES",
                    "VGB",
                    "CAN",
                    "CRI",
                    "CUB",
                    "CUW",
                    "DMA",
                    "DOM",
                    "SLV",
                    "GRL",
                    "GRD",
                    "GLP",
                    "GTM",
                    "HTI",
                    "HND",
                    "JAM",
                    "MTQ",
                    "MEX",
                    "MSR",
                    "NIC",
                    "PAN",
                    "KNA",
                    "LCA",
                    "SPM",
                    "VCT",
                    "SXM",
                    "TTO",
                    "TCA",
                    "USA"
                  ],
                  "marker": {
                    "color": "#ab63fa",
                    "size": [
                      0.139,
                      0.486,
                      0.851,
                      2.638,
                      1.215,
                      0.6579999999999999,
                      0.698,
                      0.34,
                      0.157,
                      582.39,
                      8.818,
                      22.525,
                      3.761,
                      0.157,
                      27.52,
                      6.853,
                      0.5539999999999999,
                      0.332,
                      2.562,
                      21.934,
                      3.2889999999999997,
                      10.789000000000001,
                      8.045,
                      2.3480000000000003,
                      435.51199999999994,
                      0.028999999999999998,
                      5.672999999999999,
                      12.294,
                      0.24,
                      0.49700000000000005,
                      0.057,
                      0.23600000000000002,
                      0.705,
                      40.378,
                      0.22899999999999998,
                      5255.816
                    ],
                    "sizemode": "area",
                    "sizeref": 26.2249725,
                    "symbol": "circle"
                  },
                  "mode": "markers",
                  "name": "North America",
                  "showlegend": true,
                  "type": "scattergeo"
                },
                {
                  "geo": "geo",
                  "hovertemplate": "<b>%{hovertext}</b><br><br>continent=South America<br>co2=%{marker.size}<br>iso_code=%{location}<extra></extra>",
                  "hovertext": [
                    "Argentina",
                    "Bolivia",
                    "Brazil",
                    "Chile",
                    "Colombia",
                    "Ecuador",
                    "French Guiana",
                    "Guyana",
                    "Paraguay",
                    "Peru",
                    "Suriname",
                    "Uruguay",
                    "Venezuela"
                  ],
                  "legendgroup": "South America",
                  "locations": [
                    "ARG",
                    "BOL",
                    "BRA",
                    "CHL",
                    "COL",
                    "ECU",
                    "GUF",
                    "GUY",
                    "PRY",
                    "PER",
                    "SUR",
                    "URY",
                    "VEN"
                  ],
                  "marker": {
                    "color": "#FFA15A",
                    "size": [
                      167.56599999999997,
                      23.848000000000003,
                      485.793,
                      86.12899999999999,
                      90.419,
                      36.758,
                      0.728,
                      2.487,
                      8.525,
                      54.978,
                      2.52,
                      6.584,
                      99.175
                    ],
                    "sizemode": "area",
                    "sizeref": 26.2249725,
                    "symbol": "circle"
                  },
                  "mode": "markers",
                  "name": "South America",
                  "showlegend": true,
                  "type": "scattergeo"
                },
                {
                  "geo": "geo",
                  "hovertemplate": "<b>%{hovertext}</b><br><br>continent=Oceania<br>co2=%{marker.size}<br>iso_code=%{location}<extra></extra>",
                  "hovertext": [
                    "Australia",
                    "Cook Islands",
                    "Fiji",
                    "French Polynesia",
                    "Kiribati",
                    "Marshall Islands",
                    "Nauru",
                    "New Caledonia",
                    "New Zealand",
                    "Niue",
                    "Palau",
                    "Papua New Guinea",
                    "Samoa",
                    "Solomon Islands",
                    "Tonga",
                    "Tuvalu",
                    "Vanuatu"
                  ],
                  "legendgroup": "Oceania",
                  "locations": [
                    "AUS",
                    "COK",
                    "FJI",
                    "PYF",
                    "KIR",
                    "MHL",
                    "NRU",
                    "NCL",
                    "NZL",
                    "NIU",
                    "PLW",
                    "PNG",
                    "WSM",
                    "SLB",
                    "TON",
                    "TUV",
                    "VUT"
                  ],
                  "marker": {
                    "color": "#19d3f3",
                    "size": [
                      414.517,
                      0.079,
                      1.392,
                      0.8270000000000001,
                      0.068,
                      0.151,
                      0.057,
                      8.706,
                      37.495,
                      0.011000000000000001,
                      0.21899999999999997,
                      6.617999999999999,
                      0.245,
                      0.298,
                      0.14400000000000002,
                      0.008,
                      0.18100000000000002
                    ],
                    "sizemode": "area",
                    "sizeref": 26.2249725,
                    "symbol": "circle"
                  },
                  "mode": "markers",
                  "name": "Oceania",
                  "showlegend": true,
                  "type": "scattergeo"
                }
              ],
              "layout": {
                "geo": {
                  "center": {},
                  "domain": {
                    "x": [
                      0,
                      1
                    ],
                    "y": [
                      0,
                      1
                    ]
                  },
                  "projection": {
                    "type": "natural earth"
                  }
                },
                "legend": {
                  "itemsizing": "constant",
                  "title": {
                    "text": "continent"
                  },
                  "tracegroupgap": 0
                },
                "margin": {
                  "t": 60
                },
                "template": {
                  "data": {
                    "bar": [
                      {
                        "error_x": {
                          "color": "#f2f5fa"
                        },
                        "error_y": {
                          "color": "#f2f5fa"
                        },
                        "marker": {
                          "line": {
                            "color": "rgb(17,17,17)",
                            "width": 0.5
                          },
                          "pattern": {
                            "fillmode": "overlay",
                            "size": 10,
                            "solidity": 0.2
                          }
                        },
                        "type": "bar"
                      }
                    ],
                    "barpolar": [
                      {
                        "marker": {
                          "line": {
                            "color": "rgb(17,17,17)",
                            "width": 0.5
                          },
                          "pattern": {
                            "fillmode": "overlay",
                            "size": 10,
                            "solidity": 0.2
                          }
                        },
                        "type": "barpolar"
                      }
                    ],
                    "carpet": [
                      {
                        "aaxis": {
                          "endlinecolor": "#A2B1C6",
                          "gridcolor": "#506784",
                          "linecolor": "#506784",
                          "minorgridcolor": "#506784",
                          "startlinecolor": "#A2B1C6"
                        },
                        "baxis": {
                          "endlinecolor": "#A2B1C6",
                          "gridcolor": "#506784",
                          "linecolor": "#506784",
                          "minorgridcolor": "#506784",
                          "startlinecolor": "#A2B1C6"
                        },
                        "type": "carpet"
                      }
                    ],
                    "choropleth": [
                      {
                        "colorbar": {
                          "outlinewidth": 0,
                          "ticks": ""
                        },
                        "type": "choropleth"
                      }
                    ],
                    "contour": [
                      {
                        "colorbar": {
                          "outlinewidth": 0,
                          "ticks": ""
                        },
                        "colorscale": [
                          [
                            0,
                            "#0d0887"
                          ],
                          [
                            0.1111111111111111,
                            "#46039f"
                          ],
                          [
                            0.2222222222222222,
                            "#7201a8"
                          ],
                          [
                            0.3333333333333333,
                            "#9c179e"
                          ],
                          [
                            0.4444444444444444,
                            "#bd3786"
                          ],
                          [
                            0.5555555555555556,
                            "#d8576b"
                          ],
                          [
                            0.6666666666666666,
                            "#ed7953"
                          ],
                          [
                            0.7777777777777778,
                            "#fb9f3a"
                          ],
                          [
                            0.8888888888888888,
                            "#fdca26"
                          ],
                          [
                            1,
                            "#f0f921"
                          ]
                        ],
                        "type": "contour"
                      }
                    ],
                    "contourcarpet": [
                      {
                        "colorbar": {
                          "outlinewidth": 0,
                          "ticks": ""
                        },
                        "type": "contourcarpet"
                      }
                    ],
                    "heatmap": [
                      {
                        "colorbar": {
                          "outlinewidth": 0,
                          "ticks": ""
                        },
                        "colorscale": [
                          [
                            0,
                            "#0d0887"
                          ],
                          [
                            0.1111111111111111,
                            "#46039f"
                          ],
                          [
                            0.2222222222222222,
                            "#7201a8"
                          ],
                          [
                            0.3333333333333333,
                            "#9c179e"
                          ],
                          [
                            0.4444444444444444,
                            "#bd3786"
                          ],
                          [
                            0.5555555555555556,
                            "#d8576b"
                          ],
                          [
                            0.6666666666666666,
                            "#ed7953"
                          ],
                          [
                            0.7777777777777778,
                            "#fb9f3a"
                          ],
                          [
                            0.8888888888888888,
                            "#fdca26"
                          ],
                          [
                            1,
                            "#f0f921"
                          ]
                        ],
                        "type": "heatmap"
                      }
                    ],
                    "heatmapgl": [
                      {
                        "colorbar": {
                          "outlinewidth": 0,
                          "ticks": ""
                        },
                        "colorscale": [
                          [
                            0,
                            "#0d0887"
                          ],
                          [
                            0.1111111111111111,
                            "#46039f"
                          ],
                          [
                            0.2222222222222222,
                            "#7201a8"
                          ],
                          [
                            0.3333333333333333,
                            "#9c179e"
                          ],
                          [
                            0.4444444444444444,
                            "#bd3786"
                          ],
                          [
                            0.5555555555555556,
                            "#d8576b"
                          ],
                          [
                            0.6666666666666666,
                            "#ed7953"
                          ],
                          [
                            0.7777777777777778,
                            "#fb9f3a"
                          ],
                          [
                            0.8888888888888888,
                            "#fdca26"
                          ],
                          [
                            1,
                            "#f0f921"
                          ]
                        ],
                        "type": "heatmapgl"
                      }
                    ],
                    "histogram": [
                      {
                        "marker": {
                          "pattern": {
                            "fillmode": "overlay",
                            "size": 10,
                            "solidity": 0.2
                          }
                        },
                        "type": "histogram"
                      }
                    ],
                    "histogram2d": [
                      {
                        "colorbar": {
                          "outlinewidth": 0,
                          "ticks": ""
                        },
                        "colorscale": [
                          [
                            0,
                            "#0d0887"
                          ],
                          [
                            0.1111111111111111,
                            "#46039f"
                          ],
                          [
                            0.2222222222222222,
                            "#7201a8"
                          ],
                          [
                            0.3333333333333333,
                            "#9c179e"
                          ],
                          [
                            0.4444444444444444,
                            "#bd3786"
                          ],
                          [
                            0.5555555555555556,
                            "#d8576b"
                          ],
                          [
                            0.6666666666666666,
                            "#ed7953"
                          ],
                          [
                            0.7777777777777778,
                            "#fb9f3a"
                          ],
                          [
                            0.8888888888888888,
                            "#fdca26"
                          ],
                          [
                            1,
                            "#f0f921"
                          ]
                        ],
                        "type": "histogram2d"
                      }
                    ],
                    "histogram2dcontour": [
                      {
                        "colorbar": {
                          "outlinewidth": 0,
                          "ticks": ""
                        },
                        "colorscale": [
                          [
                            0,
                            "#0d0887"
                          ],
                          [
                            0.1111111111111111,
                            "#46039f"
                          ],
                          [
                            0.2222222222222222,
                            "#7201a8"
                          ],
                          [
                            0.3333333333333333,
                            "#9c179e"
                          ],
                          [
                            0.4444444444444444,
                            "#bd3786"
                          ],
                          [
                            0.5555555555555556,
                            "#d8576b"
                          ],
                          [
                            0.6666666666666666,
                            "#ed7953"
                          ],
                          [
                            0.7777777777777778,
                            "#fb9f3a"
                          ],
                          [
                            0.8888888888888888,
                            "#fdca26"
                          ],
                          [
                            1,
                            "#f0f921"
                          ]
                        ],
                        "type": "histogram2dcontour"
                      }
                    ],
                    "mesh3d": [
                      {
                        "colorbar": {
                          "outlinewidth": 0,
                          "ticks": ""
                        },
                        "type": "mesh3d"
                      }
                    ],
                    "parcoords": [
                      {
                        "line": {
                          "colorbar": {
                            "outlinewidth": 0,
                            "ticks": ""
                          }
                        },
                        "type": "parcoords"
                      }
                    ],
                    "pie": [
                      {
                        "automargin": true,
                        "type": "pie"
                      }
                    ],
                    "scatter": [
                      {
                        "marker": {
                          "line": {
                            "color": "#283442"
                          }
                        },
                        "type": "scatter"
                      }
                    ],
                    "scatter3d": [
                      {
                        "line": {
                          "colorbar": {
                            "outlinewidth": 0,
                            "ticks": ""
                          }
                        },
                        "marker": {
                          "colorbar": {
                            "outlinewidth": 0,
                            "ticks": ""
                          }
                        },
                        "type": "scatter3d"
                      }
                    ],
                    "scattercarpet": [
                      {
                        "marker": {
                          "colorbar": {
                            "outlinewidth": 0,
                            "ticks": ""
                          }
                        },
                        "type": "scattercarpet"
                      }
                    ],
                    "scattergeo": [
                      {
                        "marker": {
                          "colorbar": {
                            "outlinewidth": 0,
                            "ticks": ""
                          }
                        },
                        "type": "scattergeo"
                      }
                    ],
                    "scattergl": [
                      {
                        "marker": {
                          "line": {
                            "color": "#283442"
                          }
                        },
                        "type": "scattergl"
                      }
                    ],
                    "scattermapbox": [
                      {
                        "marker": {
                          "colorbar": {
                            "outlinewidth": 0,
                            "ticks": ""
                          }
                        },
                        "type": "scattermapbox"
                      }
                    ],
                    "scatterpolar": [
                      {
                        "marker": {
                          "colorbar": {
                            "outlinewidth": 0,
                            "ticks": ""
                          }
                        },
                        "type": "scatterpolar"
                      }
                    ],
                    "scatterpolargl": [
                      {
                        "marker": {
                          "colorbar": {
                            "outlinewidth": 0,
                            "ticks": ""
                          }
                        },
                        "type": "scatterpolargl"
                      }
                    ],
                    "scatterternary": [
                      {
                        "marker": {
                          "colorbar": {
                            "outlinewidth": 0,
                            "ticks": ""
                          }
                        },
                        "type": "scatterternary"
                      }
                    ],
                    "surface": [
                      {
                        "colorbar": {
                          "outlinewidth": 0,
                          "ticks": ""
                        },
                        "colorscale": [
                          [
                            0,
                            "#0d0887"
                          ],
                          [
                            0.1111111111111111,
                            "#46039f"
                          ],
                          [
                            0.2222222222222222,
                            "#7201a8"
                          ],
                          [
                            0.3333333333333333,
                            "#9c179e"
                          ],
                          [
                            0.4444444444444444,
                            "#bd3786"
                          ],
                          [
                            0.5555555555555556,
                            "#d8576b"
                          ],
                          [
                            0.6666666666666666,
                            "#ed7953"
                          ],
                          [
                            0.7777777777777778,
                            "#fb9f3a"
                          ],
                          [
                            0.8888888888888888,
                            "#fdca26"
                          ],
                          [
                            1,
                            "#f0f921"
                          ]
                        ],
                        "type": "surface"
                      }
                    ],
                    "table": [
                      {
                        "cells": {
                          "fill": {
                            "color": "#506784"
                          },
                          "line": {
                            "color": "rgb(17,17,17)"
                          }
                        },
                        "header": {
                          "fill": {
                            "color": "#2a3f5f"
                          },
                          "line": {
                            "color": "rgb(17,17,17)"
                          }
                        },
                        "type": "table"
                      }
                    ]
                  },
                  "layout": {
                    "annotationdefaults": {
                      "arrowcolor": "#f2f5fa",
                      "arrowhead": 0,
                      "arrowwidth": 1
                    },
                    "autotypenumbers": "strict",
                    "coloraxis": {
                      "colorbar": {
                        "outlinewidth": 0,
                        "ticks": ""
                      }
                    },
                    "colorscale": {
                      "diverging": [
                        [
                          0,
                          "#8e0152"
                        ],
                        [
                          0.1,
                          "#c51b7d"
                        ],
                        [
                          0.2,
                          "#de77ae"
                        ],
                        [
                          0.3,
                          "#f1b6da"
                        ],
                        [
                          0.4,
                          "#fde0ef"
                        ],
                        [
                          0.5,
                          "#f7f7f7"
                        ],
                        [
                          0.6,
                          "#e6f5d0"
                        ],
                        [
                          0.7,
                          "#b8e186"
                        ],
                        [
                          0.8,
                          "#7fbc41"
                        ],
                        [
                          0.9,
                          "#4d9221"
                        ],
                        [
                          1,
                          "#276419"
                        ]
                      ],
                      "sequential": [
                        [
                          0,
                          "#0d0887"
                        ],
                        [
                          0.1111111111111111,
                          "#46039f"
                        ],
                        [
                          0.2222222222222222,
                          "#7201a8"
                        ],
                        [
                          0.3333333333333333,
                          "#9c179e"
                        ],
                        [
                          0.4444444444444444,
                          "#bd3786"
                        ],
                        [
                          0.5555555555555556,
                          "#d8576b"
                        ],
                        [
                          0.6666666666666666,
                          "#ed7953"
                        ],
                        [
                          0.7777777777777778,
                          "#fb9f3a"
                        ],
                        [
                          0.8888888888888888,
                          "#fdca26"
                        ],
                        [
                          1,
                          "#f0f921"
                        ]
                      ],
                      "sequentialminus": [
                        [
                          0,
                          "#0d0887"
                        ],
                        [
                          0.1111111111111111,
                          "#46039f"
                        ],
                        [
                          0.2222222222222222,
                          "#7201a8"
                        ],
                        [
                          0.3333333333333333,
                          "#9c179e"
                        ],
                        [
                          0.4444444444444444,
                          "#bd3786"
                        ],
                        [
                          0.5555555555555556,
                          "#d8576b"
                        ],
                        [
                          0.6666666666666666,
                          "#ed7953"
                        ],
                        [
                          0.7777777777777778,
                          "#fb9f3a"
                        ],
                        [
                          0.8888888888888888,
                          "#fdca26"
                        ],
                        [
                          1,
                          "#f0f921"
                        ]
                      ]
                    },
                    "colorway": [
                      "#636efa",
                      "#EF553B",
                      "#00cc96",
                      "#ab63fa",
                      "#FFA15A",
                      "#19d3f3",
                      "#FF6692",
                      "#B6E880",
                      "#FF97FF",
                      "#FECB52"
                    ],
                    "font": {
                      "color": "#f2f5fa"
                    },
                    "geo": {
                      "bgcolor": "rgb(17,17,17)",
                      "lakecolor": "rgb(17,17,17)",
                      "landcolor": "rgb(17,17,17)",
                      "showlakes": true,
                      "showland": true,
                      "subunitcolor": "#506784"
                    },
                    "hoverlabel": {
                      "align": "left"
                    },
                    "hovermode": "closest",
                    "mapbox": {
                      "style": "dark"
                    },
                    "paper_bgcolor": "rgb(17,17,17)",
                    "plot_bgcolor": "rgb(17,17,17)",
                    "polar": {
                      "angularaxis": {
                        "gridcolor": "#506784",
                        "linecolor": "#506784",
                        "ticks": ""
                      },
                      "bgcolor": "rgb(17,17,17)",
                      "radialaxis": {
                        "gridcolor": "#506784",
                        "linecolor": "#506784",
                        "ticks": ""
                      }
                    },
                    "scene": {
                      "xaxis": {
                        "backgroundcolor": "rgb(17,17,17)",
                        "gridcolor": "#506784",
                        "gridwidth": 2,
                        "linecolor": "#506784",
                        "showbackground": true,
                        "ticks": "",
                        "zerolinecolor": "#C8D4E3"
                      },
                      "yaxis": {
                        "backgroundcolor": "rgb(17,17,17)",
                        "gridcolor": "#506784",
                        "gridwidth": 2,
                        "linecolor": "#506784",
                        "showbackground": true,
                        "ticks": "",
                        "zerolinecolor": "#C8D4E3"
                      },
                      "zaxis": {
                        "backgroundcolor": "rgb(17,17,17)",
                        "gridcolor": "#506784",
                        "gridwidth": 2,
                        "linecolor": "#506784",
                        "showbackground": true,
                        "ticks": "",
                        "zerolinecolor": "#C8D4E3"
                      }
                    },
                    "shapedefaults": {
                      "line": {
                        "color": "#f2f5fa"
                      }
                    },
                    "sliderdefaults": {
                      "bgcolor": "#C8D4E3",
                      "bordercolor": "rgb(17,17,17)",
                      "borderwidth": 1,
                      "tickwidth": 0
                    },
                    "ternary": {
                      "aaxis": {
                        "gridcolor": "#506784",
                        "linecolor": "#506784",
                        "ticks": ""
                      },
                      "baxis": {
                        "gridcolor": "#506784",
                        "linecolor": "#506784",
                        "ticks": ""
                      },
                      "bgcolor": "rgb(17,17,17)",
                      "caxis": {
                        "gridcolor": "#506784",
                        "linecolor": "#506784",
                        "ticks": ""
                      }
                    },
                    "title": {
                      "x": 0.05
                    },
                    "updatemenudefaults": {
                      "bgcolor": "#506784",
                      "borderwidth": 0
                    },
                    "xaxis": {
                      "automargin": true,
                      "gridcolor": "#283442",
                      "linecolor": "#506784",
                      "ticks": "",
                      "title": {
                        "standoff": 15
                      },
                      "zerolinecolor": "#283442",
                      "zerolinewidth": 2
                    },
                    "yaxis": {
                      "automargin": true,
                      "gridcolor": "#283442",
                      "linecolor": "#506784",
                      "ticks": "",
                      "title": {
                        "standoff": 15
                      },
                      "zerolinecolor": "#283442",
                      "zerolinewidth": 2
                    }
                  }
                }
              }
            }
          },
          "metadata": {},
          "output_type": "display_data"
        }
      ],
      "source": [
        "fig = px.scatter_geo(globe_df_curr, locations=\"iso_code\", color=\"continent\",\n",
        "                     hover_name=\"country\", size=\"co2\",\n",
        "                     projection=\"natural earth\", template=\"plotly_dark\")\n",
        "\n",
        "fig.show()"
      ]
    },
    {
      "cell_type": "markdown",
      "metadata": {
        "id": "bcWt82BTBFM8"
      },
      "source": [
        "[![Repo](https://img.shields.io/badge/GitHub-WritingAssignment-brightgreen)](https://github.com/CS328-Spring-2022/writing-assignment-divyanshu_mihir_harshil)"
      ]
    }
  ],
  "metadata": {
    "colab": {
      "collapsed_sections": [],
      "name": "writing-assignment.ipynb",
      "provenance": []
    },
    "interpreter": {
      "hash": "3aaf0fd759c7a6fc0e2c9c222dfd9646bd89054fb3e16e8b223af67337ce571a"
    },
    "kernelspec": {
      "display_name": "Python 3.8.2 ('DataScience')",
      "language": "python",
      "name": "python3"
    },
    "language_info": {
      "codemirror_mode": {
        "name": "ipython",
        "version": 3
      },
      "file_extension": ".py",
      "mimetype": "text/x-python",
      "name": "python",
      "nbconvert_exporter": "python",
      "pygments_lexer": "ipython3",
      "version": "3.8.2"
    },
    "orig_nbformat": 4
  },
  "nbformat": 4,
  "nbformat_minor": 0
}
