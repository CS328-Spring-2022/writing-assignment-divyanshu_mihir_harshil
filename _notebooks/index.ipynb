{
 "cells": [
  {
   "cell_type": "markdown",
   "metadata": {},
   "source": [
    "<h1><center>Insight into CO2 Emissions</center></h1>\n",
    "<h4><center>\n",
    "<a style=\"text-decoration:none\" href=\"https://author1.github.io/\">Harshil Purohit</a>, IIT Gandhinagar, <a style=\"text-decoration:none\" href=\"mailto:harshil.p>@iitgn.ac.in\">harshil.p@iitgn.ac.in</a>\n",
    "<br><br>\n",
    "<a style=\"text-decoration:none\" href=\"https://author2.github.io/\">Mihir Chauhan</a>, IIT Gandhinagar, <a style=\"text-decoration:none\" href=\"mailto:mihir.hc@iitgn.ac.in\">mihir.hc@iitgn.ac.in</a>\n",
    "<br><br>\n",
    "<a style=\"text-decoration:none\" href=\"https://divyanshu0x16.github.io/\">Divyanshu Meena</a>, IIT Gandhinagar, <a style=\"text-decoration:none\" href=\"mailto:divyanshu.m@iitgn.ac.in\">divyanshu.m@iitgn.ac.in</a>\n",
    "</center></h4>"
   ]
  },
  {
   "cell_type": "markdown",
   "metadata": {},
   "source": [
    "[![Repo](https://img.shields.io/badge/GitHub-<repo_name>-brightgreen)](https://github.com/<repo_user>/<repo_name>)"
   ]
  }
 ],
 "metadata": {
  "language_info": {
   "name": "python"
  },
  "orig_nbformat": 4
 },
 "nbformat": 4,
 "nbformat_minor": 2
}
